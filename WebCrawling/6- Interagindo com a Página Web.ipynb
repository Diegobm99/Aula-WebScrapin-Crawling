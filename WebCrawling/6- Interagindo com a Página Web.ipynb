{
 "cells": [
  {
   "cell_type": "markdown",
   "metadata": {},
   "source": [
    "<h1 id='parte-3'>6. Interagindo com a Página Web</h1>"
   ]
  },
  {
   "cell_type": "markdown",
   "metadata": {},
   "source": [
    "<h2 id='parte-3a' style=\"color:blue;\">a. Fazendo uma pesquisa no google pelo Selenium - preenchendo campos e apertando um botão/tecla</h2>"
   ]
  },
  {
   "cell_type": "markdown",
   "metadata": {},
   "source": [
    "<p>Um exemplo básico do uso do Selenium é fazer uma pesquisa no google preenchendo o campo de pesquisa e clicando no botão pesquisar. Nesse exemplo não usaremos a opção <b>\"--headless\"</b>, pois é importante vermos o que acontece na página</p>"
   ]
  },
  {
   "cell_type": "markdown",
   "metadata": {},
   "source": [
    "<ul><li>Abrindo o driver:</ul></li>"
   ]
  },
  {
   "cell_type": "code",
   "execution_count": 204,
   "metadata": {},
   "outputs": [],
   "source": [
    "driver = webdriver.Chrome('./driver/chromedriver.exe')"
   ]
  },
  {
   "cell_type": "markdown",
   "metadata": {},
   "source": [
    "<p>Veja que um navegador do Chrome foi aberto em uma página em branco. Um detalhe importante é o tamanho da página, em que, dependendo de como deixamos ela(fullscrean ou outro tamanho) poderá interfirir em como os elementos da página estão distribuidos. Por esse motivo é sempre aconselhável deixar ou em fullscrean ou em algum tamanho padronizado, para não correr o risco de algum botão, por exemplo, sumir ou mudar de lugar. Podemos rodar os scripts com o navegador minimizado também, só temos que nos atentar com o tamanho dele.</p>"
   ]
  },
  {
   "cell_type": "markdown",
   "metadata": {},
   "source": [
    "<p>Nesse exemplo podemos deixar o Jupyter Notebook em uma metade da tela e o navegador na outra, para podermos acompanhar com mais clareza o que cada parte do código faz.</p>"
   ]
  },
  {
   "cell_type": "markdown",
   "metadata": {},
   "source": [
    "<ul><li>Acessando o google:</ul></li>"
   ]
  },
  {
   "cell_type": "code",
   "execution_count": 206,
   "metadata": {},
   "outputs": [],
   "source": [
    "url = 'https://www.google.com.br/'\n",
    "driver.get(url)"
   ]
  },
  {
   "cell_type": "markdown",
   "metadata": {},
   "source": [
    "<p>Veja que a página do nosso <b>url</b> foi carregada no nosso Chrome. Agora podemos explorar e interagir com os elementos contidas no driver.</p> "
   ]
  },
  {
   "cell_type": "markdown",
   "metadata": {},
   "source": [
    "<ul><li>Ir e voltar no navegador:</ul></li>"
   ]
  },
  {
   "cell_type": "code",
   "execution_count": 207,
   "metadata": {},
   "outputs": [],
   "source": [
    "# Voltando para a página anterior\n",
    "driver.back()"
   ]
  },
  {
   "cell_type": "code",
   "execution_count": 208,
   "metadata": {},
   "outputs": [],
   "source": [
    "# Retornando à página original\n",
    "driver.forward()"
   ]
  },
  {
   "cell_type": "markdown",
   "metadata": {},
   "source": [
    "<ul><li>Selecionando o campo de pesquisa(formulário) e colocando uma string:</ul></li>"
   ]
  },
  {
   "cell_type": "markdown",
   "metadata": {},
   "source": [
    "<p>Nessa parte usaremos o <b>XPath</b>, como explicado anteriormente. Primeiro procuramos o formulário dentro da página usando o método <b>.find_element_by_xpath()</b>:</p>"
   ]
  },
  {
   "cell_type": "markdown",
   "metadata": {},
   "source": [
    "<p><b>XPath</b> do campo de busca: <b style=\"color:blue;\">'//*[@id=\"tsf\"]/div[2]/div[1]/div[1]/div/div[2]/input'</b></p>"
   ]
  },
  {
   "cell_type": "code",
   "execution_count": 209,
   "metadata": {},
   "outputs": [],
   "source": [
    "form = driver.find_element_by_xpath('//*[@id=\"tsf\"]/div[2]/div[1]/div[1]/div/div[2]/input')"
   ]
  },
  {
   "cell_type": "markdown",
   "metadata": {},
   "source": [
    "<p>Em seguida iremos usar em <b>'form'</b> o método <b>.clear()</b> para limpar o campo e evitar que nossa nova string se misture com algo que já esteja lá, em seguida usaremos <b>.send_keys()</b> para colocar nossa string dentro do campo de busca:</p>"
   ]
  },
  {
   "cell_type": "code",
   "execution_count": 210,
   "metadata": {},
   "outputs": [],
   "source": [
    "string_busca = 'InfoMoney \"itaú\"'\n",
    "form.clear()\n",
    "form.send_keys(string_busca)"
   ]
  },
  {
   "cell_type": "markdown",
   "metadata": {},
   "source": [
    "<ul><li>Fazendo a pesquisa apertando o botão/enter:</ul></li>"
   ]
  },
  {
   "cell_type": "markdown",
   "metadata": {},
   "source": [
    "<p>Podemos fazer a pesquisa de duas formas: Apertando o botão usando <b>.click()</b> ou apertando a tecla <b>'enter'</b>. Os dois jeitos são válidos nesse nosso exemplo e usaremos os dois para mostrar o processo:</p>"
   ]
  },
  {
   "cell_type": "markdown",
   "metadata": {},
   "source": [
    "<p><b>1-</b>  Vamos apertar o botão procurando pelo elemento e usando o método <b>.click()</b>. Mas se atente a algo importante: Quando colocamos nossa string no campo de busca, sugestões de busca apareceram abaixo do campo, fazendo com que o botão mude de lugar, mudando partes do código <b>HTML</b>, por isso é importante entender como a página funciona e tratar todos os possíveis casos em que essas mudanças podem acontecer. Devemos então tentar apertar o botão quando a sugestão aparece ou não no google. Procurando pelo <b>XPath</b>:"
   ]
  },
  {
   "cell_type": "markdown",
   "metadata": {},
   "source": [
    "<p><b>XPath</b> do botão de busca sem sugestão: <b style=\"color:blue;\">'//*[@id=\"tsf\"]/div[2]/div[1]/div[3]/center/input[1]'</b></p>"
   ]
  },
  {
   "cell_type": "markdown",
   "metadata": {},
   "source": [
    "<p><b>XPath</b> do botão de busca com sugestão: <b style=\"color:blue;\">'//*[@id=\"tsf\"]/div[2]/div[1]/div[2]/div[2]/div[2]/center/input[1]'</b></p>"
   ]
  },
  {
   "cell_type": "code",
   "execution_count": 211,
   "metadata": {},
   "outputs": [],
   "source": [
    "try:\n",
    "    botao1 = driver.find_element_by_xpath('//*[@id=\"tsf\"]/div[2]/div[1]/div[3]/center/input[1]')\n",
    "    botao1.click()\n",
    "except:\n",
    "    botao2 = driver.find_element_by_xpath('//*[@id=\"tsf\"]/div[2]/div[1]/div[2]/div[2]/div[2]/center/input[1]')\n",
    "    botao2.click()"
   ]
  },
  {
   "cell_type": "markdown",
   "metadata": {},
   "source": [
    "<p><b>2-</b>  Agora usando a tecla <b>'enter'</b>, apenas iremos chamar <b style=\"color:green;\">Keys.ENTER</b> em <b>form.send_keys()</b>:"
   ]
  },
  {
   "cell_type": "code",
   "execution_count": 212,
   "metadata": {},
   "outputs": [],
   "source": [
    "# Voltando a página\n",
    "driver.back()"
   ]
  },
  {
   "cell_type": "code",
   "execution_count": 213,
   "metadata": {
    "scrolled": true
   },
   "outputs": [],
   "source": [
    "form = driver.find_element_by_xpath('//*[@id=\"tsf\"]/div[2]/div[1]/div[1]/div/div[2]/input')\n",
    "\n",
    "string_busca = 'InfoMoney \"itaú\"'\n",
    "form.clear()\n",
    "form.send_keys(string_busca)\n",
    "\n",
    "form.send_keys(Keys.ENTER)"
   ]
  },
  {
   "cell_type": "markdown",
   "metadata": {},
   "source": [
    "<ul><li>Fechando o navegador no fim do processo:</ul></li>"
   ]
  },
  {
   "cell_type": "code",
   "execution_count": 214,
   "metadata": {},
   "outputs": [],
   "source": [
    "driver.close()"
   ]
  },
  {
   "cell_type": "markdown",
   "metadata": {},
   "source": [
    "<p>Apenas foi mostrado uma forma de achar o campo de busca e duas formas de ativar a busca(apertando o botão usando o XPath ou apertando a tecla enter), mas existem inúmeras maneiras de procurar e interagir com os elementos de uma página, como mostrado na seção <b style=\"color:blue;\">5.a.</b>, cabendo ao programador escolher a forma que mais lhe agrade e/ou que seja a mais otimizada possível.</p>"
   ]
  },
  {
   "cell_type": "markdown",
   "metadata": {},
   "source": [
    "<p>_______________________________________________________________________________________________________________________</p>"
   ]
  },
  {
   "cell_type": "markdown",
   "metadata": {},
   "source": [
    "<p>_______________________________________________________________________________________________________________________</p>"
   ]
  },
  {
   "cell_type": "markdown",
   "metadata": {},
   "source": [
    "<h2 id='parte-3a' style=\"color:blue;\">b. Selecionando listas</h2>"
   ]
  },
  {
   "cell_type": "markdown",
   "metadata": {},
   "source": [
    "<p>Muitas vezes queremos selecionar um elemento dentro de uma lista de tag <b>&lt;select&gt;...&lt;/select&gt;</b>. Podemos fazer isso procurando e selecionando exatamente o que queremos com as ferramentas que vimos em <b style=\"color:green;\">c.1.</b>, mas também podemos utilizar o método <b>Select()</b> do Selenium para saber o que existe dentro da lista e selecionar ou não um elemento dela.</p>"
   ]
  },
  {
   "cell_type": "code",
   "execution_count": 2,
   "metadata": {},
   "outputs": [],
   "source": [
    "from selenium.webdriver.support.ui import Select"
   ]
  },
  {
   "cell_type": "code",
   "execution_count": 3,
   "metadata": {},
   "outputs": [],
   "source": [
    "driver = webdriver.Chrome('./driver/chromedriver.exe')\n",
    "\n",
    "url = 'https://economia.uol.com.br/cotacoes/bolsas/bvsp-bovespa/'\n",
    "driver.get(url)"
   ]
  },
  {
   "cell_type": "code",
   "execution_count": 174,
   "metadata": {},
   "outputs": [],
   "source": [
    "ifrm = driver.find_element_by_name('iframeResult')\n",
    "\n",
    "driver.switch_to.frame(ifrm)"
   ]
  },
  {
   "cell_type": "markdown",
   "metadata": {},
   "source": [
    "<p>Procurando pelo <b>&lt;select&gt;...&lt;/select&gt;</b> dentro da página:</p>"
   ]
  },
  {
   "cell_type": "code",
   "execution_count": 25,
   "metadata": {},
   "outputs": [],
   "source": [
    "lista = driver.find_element_by_xpath('/html/body/div[5]/div/div[2]/div/div/div/div/div/div/header/div[2]/form/div/div/select')"
   ]
  },
  {
   "cell_type": "markdown",
   "metadata": {},
   "source": [
    "<p>Usando o método <b>Select()</b> para organizar a nossa lista:</p>"
   ]
  },
  {
   "cell_type": "code",
   "execution_count": 26,
   "metadata": {},
   "outputs": [],
   "source": [
    "select = Select(lista)"
   ]
  },
  {
   "cell_type": "markdown",
   "metadata": {},
   "source": [
    "<p>Poderemos selecionar determinado elemento da lista usando os seguintes métodos:</p>"
   ]
  },
  {
   "cell_type": "markdown",
   "metadata": {},
   "source": [
    "<ul>\n",
    "    <li><b>.select_by_visible_index()</b></li>\n",
    "    <li><b>.select_by_visible_value()</b></li>\n",
    "    <li><b>.select_by_visible_text()</b></li>\n",
    "</ul>"
   ]
  },
  {
   "cell_type": "markdown",
   "metadata": {},
   "source": [
    "<p>Vamos fazer seleções dentro da lista usando os 3 métodos:</p>"
   ]
  },
  {
   "cell_type": "code",
   "execution_count": 27,
   "metadata": {},
   "outputs": [],
   "source": [
    "# Selecionando Bovespa\n",
    "select.select_by_index(1)"
   ]
  },
  {
   "cell_type": "code",
   "execution_count": 28,
   "metadata": {},
   "outputs": [],
   "source": [
    "# Selecionando IBX50 - BOVESPA\n",
    "lista = driver.find_element_by_xpath('/html/body/div[5]/div/div[2]/div/div/div/div/div/div/header/div[2]/form/div/div/select')\n",
    "select = Select(lista)\n",
    "select.select_by_value('/cotacoes/bolsas/ibx50-bovespa/')"
   ]
  },
  {
   "cell_type": "code",
   "execution_count": 29,
   "metadata": {},
   "outputs": [],
   "source": [
    "# Selecionando INDX - BOVESPA\n",
    "lista = driver.find_element_by_xpath('/html/body/div[5]/div/div[2]/div/div/div/div/div/div/header/div[2]/form/div/div/select')\n",
    "select = Select(lista)\n",
    "select.select_by_visible_text('INDX - Bovespa')"
   ]
  },
  {
   "cell_type": "markdown",
   "metadata": {},
   "source": [
    "<p>_______________________________________________________________________________________________________________________</p>"
   ]
  },
  {
   "cell_type": "markdown",
   "metadata": {},
   "source": [
    "<p>_______________________________________________________________________________________________________________________</p>"
   ]
  },
  {
   "cell_type": "markdown",
   "metadata": {},
   "source": [
    "<h2 id='parte-3a' style=\"color:blue;\">c. Acessando iframes</h2>"
   ]
  },
  {
   "cell_type": "markdown",
   "metadata": {},
   "source": [
    "<p>A tag <b>&lt;iframe&gt;...&lt;/iframe&gt;</b> serve para criar uma página dentro de uma outra página. Caso cairmos em uma página com essa funcionalidade, não podemos procurar de forma simples pelos elementos dentro de <b>&lt;iframe&gt;...&lt;/iframe&gt;</b>, precisamos primeiro mudar o foco do nosso driver para ele. Como exemplo usaremos a página do <b>w3schools</b> onde a tag é explicada de forma mais detalhada:</p>"
   ]
  },
  {
   "cell_type": "markdown",
   "metadata": {},
   "source": [
    "<ul><li><b>url</b> = <b style=\"color:blue;\">https://www.w3schools.com/html/tryit.asp?filename=tryhtml_iframe_frameborder</b></li></ul>"
   ]
  },
  {
   "cell_type": "markdown",
   "metadata": {},
   "source": [
    "<p>Primeiro abrindo o driver e acessando a página:</p>"
   ]
  },
  {
   "cell_type": "code",
   "execution_count": 30,
   "metadata": {},
   "outputs": [],
   "source": [
    "driver = webdriver.Chrome('./driver/chromedriver.exe')\n",
    "\n",
    "url = 'http://www.b3.com.br/pt_br/market-data-e-indices/servicos-de-dados/market-data/cotacoes/acoes.htm'\n",
    "driver.get(url)"
   ]
  },
  {
   "cell_type": "markdown",
   "metadata": {},
   "source": [
    "<p>Olhando o código fonte, vemos que o quadro abaixo que contém o gráfico e as cotações está dentro de um <b>&lt;iframe&gt;...&lt;/iframe&gt;</b>. Vamos primeiro procurar pelo Volume negociado, abaixo do quadro e que está fora do <b>&lt;iframe&gt;...&lt;/iframe&gt;</b> e depois procurar pela tag <b>&lt;span&gt;...&lt;/span&gt;</b> que só existe dentro dela:</p>"
   ]
  },
  {
   "cell_type": "code",
   "execution_count": 76,
   "metadata": {},
   "outputs": [],
   "source": [
    "def fora_iframe(driver):\n",
    "    # Selecionando o botão verde 'Run >>' fora do iframe\n",
    "    try:\n",
    "        fora = driver.find_element_by_xpath('//*[@id=\"x-volume-pregao\"]')\n",
    "        print('Elemento encontrado fora do iframe: ', fora.text)\n",
    "    except:\n",
    "        print('Elemento não encontrado fora do iframe')\n",
    "        \n",
    "def dentro_iframe(driver):\n",
    "    # Selecionando a tag <h2>...</h2> que só existe dentro do iframe\n",
    "    try:\n",
    "        dentro = driver.find_element_by_xpath('//*[@id=\"widget-container\"]/div[1]/div[4]/div/div[1]/div[1]/div/div[2]/div[2]/div/div[1]/div[1]/div[3]/span[1]')\n",
    "        print('Elemento encontrado dentro do iframe: ', dentro.text)\n",
    "    except:\n",
    "        print('Elemento não encontrado dentro do iframe')"
   ]
  },
  {
   "cell_type": "code",
   "execution_count": 77,
   "metadata": {},
   "outputs": [
    {
     "name": "stdout",
     "output_type": "stream",
     "text": [
      "Elemento encontrado fora do iframe:  R$ 27.162.054.238\n"
     ]
    }
   ],
   "source": [
    "fora_iframe(driver)"
   ]
  },
  {
   "cell_type": "code",
   "execution_count": 78,
   "metadata": {},
   "outputs": [
    {
     "name": "stdout",
     "output_type": "stream",
     "text": [
      "Elemento não encontrado dentro do iframe\n"
     ]
    }
   ],
   "source": [
    "dentro_iframe(driver)"
   ]
  },
  {
   "cell_type": "markdown",
   "metadata": {},
   "source": [
    "<p>Para conseguir acessar o que está dentro do <b>&lt;iframe&gt;...&lt;/iframe&gt;</b> com <b>'name=iframeResult'</b>, devemos primeiro procurá-lo na página e depois trocar o driver para ele usando o método <b>.switch_to.frame()</b> em <b style=\"color:red;\">driver</b>:</p>"
   ]
  },
  {
   "cell_type": "code",
   "execution_count": 69,
   "metadata": {
    "scrolled": true
   },
   "outputs": [],
   "source": [
    "#xpath = //iframe[matches(@id,'tradingview_')]\n",
    "\n",
    "ifrm = driver.find_element_by_xpath(\"//iframe[starts-with(@id, 'tradingview_')]\")\n",
    "\n",
    "driver.switch_to.frame(ifrm)"
   ]
  },
  {
   "cell_type": "markdown",
   "metadata": {},
   "source": [
    "<p>Fazendo o mesmo teste anterior, podemos ver que nosso driver mudou para dentro do <b>&lt;iframe&gt;...&lt;/iframe&gt;</b>:</p>"
   ]
  },
  {
   "cell_type": "code",
   "execution_count": 70,
   "metadata": {},
   "outputs": [
    {
     "name": "stdout",
     "output_type": "stream",
     "text": [
      "Elemento não encontrado\n"
     ]
    }
   ],
   "source": [
    "fora_iframe(driver)"
   ]
  },
  {
   "cell_type": "code",
   "execution_count": 73,
   "metadata": {},
   "outputs": [
    {
     "name": "stdout",
     "output_type": "stream",
     "text": [
      "Elemento encontrado:  112695.24\n"
     ]
    }
   ],
   "source": [
    "dentro_iframe(driver)"
   ]
  },
  {
   "cell_type": "markdown",
   "metadata": {},
   "source": [
    "<p>Para sair do <b>&lt;iframe&gt;...&lt;/iframe&gt;</b>, usamos apenas <b>.switch_to.default_content()</b> em <b style=\"color:red;\">driver</b>:</p>"
   ]
  },
  {
   "cell_type": "code",
   "execution_count": 74,
   "metadata": {},
   "outputs": [],
   "source": [
    "driver.switch_to.default_content()"
   ]
  },
  {
   "cell_type": "code",
   "execution_count": 75,
   "metadata": {},
   "outputs": [
    {
     "name": "stdout",
     "output_type": "stream",
     "text": [
      "Elemento encontrado:  R$ 27.162.054.238\n"
     ]
    }
   ],
   "source": [
    "fora_iframe(driver)"
   ]
  },
  {
   "cell_type": "code",
   "execution_count": 79,
   "metadata": {},
   "outputs": [],
   "source": [
    "driver.close()"
   ]
  },
  {
   "cell_type": "code",
   "execution_count": null,
   "metadata": {},
   "outputs": [],
   "source": []
  }
 ],
 "metadata": {
  "kernelspec": {
   "display_name": "Python 3",
   "language": "python",
   "name": "python3"
  },
  "language_info": {
   "codemirror_mode": {
    "name": "ipython",
    "version": 3
   },
   "file_extension": ".py",
   "mimetype": "text/x-python",
   "name": "python",
   "nbconvert_exporter": "python",
   "pygments_lexer": "ipython3",
   "version": "3.6.6"
  }
 },
 "nbformat": 4,
 "nbformat_minor": 2
}
