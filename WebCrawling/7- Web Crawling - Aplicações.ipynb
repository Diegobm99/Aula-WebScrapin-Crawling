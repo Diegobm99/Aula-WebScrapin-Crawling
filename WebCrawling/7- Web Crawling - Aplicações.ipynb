{
 "cells": [
  {
   "cell_type": "markdown",
   "metadata": {
    "slideshow": {
     "slide_type": "-"
    }
   },
   "source": [
    "<h1 id='parte-3'>7. Web Crawling - Aplicações</h1>"
   ]
  },
  {
   "cell_type": "markdown",
   "metadata": {},
   "source": [
    "<p>Aprendemos o básico de como interagir com uma página de forma básica, como apertar um botão, preencher um formulário, ativar um <b>script</b>, entrar num <b>iframe</b> ou selecionar um elemento de uma lista. Com essas funcionalidades podemos fazer aplicações mais elaboradas e complexas, de forma a otimizar processos criando um robô/bot.</p>"
   ]
  },
  {
   "cell_type": "markdown",
   "metadata": {},
   "source": [
    "<p>É importante sempre estar atento a todos os detalhes, principalmente naqueles que podem fazer nosso código quebrar. Problemas com uma mudança repentina no código fonte da página ou com internet são comuns, então devemos nos certificar que todo o processo vai conseguir continuar independente disso ou estar ciente que nosso robô precisa de mudanças no código para continuar. Devemos fazer bastante o uso do <b>try</b>.</p>"
   ]
  },
  {
   "cell_type": "code",
   "execution_count": null,
   "metadata": {},
   "outputs": [],
   "source": []
  },
  {
   "cell_type": "code",
   "execution_count": 2,
   "metadata": {},
   "outputs": [],
   "source": [
    "from selenium import webdriver\n",
    "from selenium.webdriver.common.keys import Keys\n",
    "from selenium.webdriver.chrome.options import Options \n",
    "from selenium.webdriver.support.ui import Select\n",
    "\n",
    "from bs4 import BeautifulSoup\n",
    "import numpy as np\n",
    "import pandas as pd\n",
    "\n",
    "import time"
   ]
  },
  {
   "cell_type": "markdown",
   "metadata": {},
   "source": [
    "<h2 id='parte-3a' style=\"color:blue;\">a. Atualizando uma tabela de valores</h2>"
   ]
  },
  {
   "cell_type": "markdown",
   "metadata": {},
   "source": [
    "<p>Como primeiro case, o mais simples possível, vamos coletar de tempos em tempos uma tabela de valores na seção de cotações do site da <b>B3</b>, mais especificamente a tabela de <b>Maiores Altas</b>.</p>"
   ]
  },
  {
   "cell_type": "code",
   "execution_count": 3,
   "metadata": {},
   "outputs": [],
   "source": [
    "driver = webdriver.Chrome('./driver/chromedriver.exe')\n",
    "\n",
    "url = 'http://www.b3.com.br/pt_br/market-data-e-indices/servicos-de-dados/market-data/cotacoes/acoes.htm'\n",
    "driver.get(url)"
   ]
  },
  {
   "cell_type": "markdown",
   "metadata": {},
   "source": [
    "<p>Analisando o que queremos coletar, é possível ver que ele está dentro de um <b>&lt;iframe&gt;...&lt;/iframe&gt;</b>. Ao mudarmos nosso driver para o <b>iframe</b>, queremos pegar o <b>&lt;table&gt;...&lt;/table&gt;</b> para organizar numa tabela com o <b>Pandas</b>"
   ]
  },
  {
   "cell_type": "markdown",
   "metadata": {},
   "source": [
    "<p>Primeiro procuramos pelo <b>&lt;div&gt;...&lt;/div&gt;</b> que contém o <b>&lt;iframe&gt;...&lt;/iframe&gt;</b>:</p>"
   ]
  },
  {
   "cell_type": "code",
   "execution_count": 4,
   "metadata": {},
   "outputs": [],
   "source": [
    "div = driver.find_element_by_id('tv-small-widget-altas')"
   ]
  },
  {
   "cell_type": "markdown",
   "metadata": {},
   "source": [
    "<p>Agora selecionamos o <b>&lt;iframe&gt;...&lt;/iframe&gt;</b> dentro e mudamos nosso <b>driver</b> para ele:</p>"
   ]
  },
  {
   "cell_type": "code",
   "execution_count": 5,
   "metadata": {},
   "outputs": [],
   "source": [
    "ifrm = div.find_element_by_tag_name('iframe')\n",
    "driver.switch_to.frame(ifrm)"
   ]
  },
  {
   "cell_type": "markdown",
   "metadata": {},
   "source": [
    "<p>Pegamos o código fonte e depois com o <b>BeautifulSoup</b> extraimos <b>&lt;table&gt;...&lt;/table&gt;</b>:</p>"
   ]
  },
  {
   "cell_type": "code",
   "execution_count": 6,
   "metadata": {},
   "outputs": [],
   "source": [
    "pags = driver.page_source\n",
    "html = BeautifulSoup(pags, \"html.parser\")\n",
    "table = html.findAll('table')"
   ]
  },
  {
   "cell_type": "markdown",
   "metadata": {},
   "source": [
    "<p>Por fim, usando o <b>Pandas</b>, transformamos nosso <b>&lt;table&gt;...&lt;/table&gt;</b> em um <b>DataFrame</b>:</p>"
   ]
  },
  {
   "cell_type": "code",
   "execution_count": 7,
   "metadata": {
    "scrolled": true
   },
   "outputs": [
    {
     "data": {
      "text/html": [
       "<div>\n",
       "<style scoped>\n",
       "    .dataframe tbody tr th:only-of-type {\n",
       "        vertical-align: middle;\n",
       "    }\n",
       "\n",
       "    .dataframe tbody tr th {\n",
       "        vertical-align: top;\n",
       "    }\n",
       "\n",
       "    .dataframe thead th {\n",
       "        text-align: right;\n",
       "    }\n",
       "</style>\n",
       "<table border=\"1\" class=\"dataframe\">\n",
       "  <thead>\n",
       "    <tr style=\"text-align: right;\">\n",
       "      <th></th>\n",
       "      <th>Symbol</th>\n",
       "      <th>Last</th>\n",
       "      <th>Change</th>\n",
       "      <th>(%)</th>\n",
       "    </tr>\n",
       "  </thead>\n",
       "  <tbody>\n",
       "    <tr>\n",
       "      <th>1</th>\n",
       "      <td>GERDAU PN N1</td>\n",
       "      <td>19.15</td>\n",
       "      <td>0.88</td>\n",
       "      <td>(+4.82%)</td>\n",
       "    </tr>\n",
       "    <tr>\n",
       "      <th>2</th>\n",
       "      <td>TIM PART S/AON NM</td>\n",
       "      <td>15.28</td>\n",
       "      <td>0.58</td>\n",
       "      <td>(+3.95%)</td>\n",
       "    </tr>\n",
       "    <tr>\n",
       "      <th>3</th>\n",
       "      <td>GERDAU MET PN N1</td>\n",
       "      <td>8.93</td>\n",
       "      <td>0.23</td>\n",
       "      <td>(+2.64%)</td>\n",
       "    </tr>\n",
       "    <tr>\n",
       "      <th>4</th>\n",
       "      <td>EMBRAER ON NM</td>\n",
       "      <td>19.65</td>\n",
       "      <td>0.36</td>\n",
       "      <td>(+1.87%)</td>\n",
       "    </tr>\n",
       "    <tr>\n",
       "      <th>5</th>\n",
       "      <td>IRBBRASIL REON NM</td>\n",
       "      <td>38.95</td>\n",
       "      <td>0.70</td>\n",
       "      <td>(+1.83%)</td>\n",
       "    </tr>\n",
       "  </tbody>\n",
       "</table>\n",
       "</div>"
      ],
      "text/plain": [
       "              Symbol   Last  Change       (%)\n",
       "1       GERDAU PN N1  19.15    0.88  (+4.82%)\n",
       "2  TIM PART S/AON NM  15.28    0.58  (+3.95%)\n",
       "3   GERDAU MET PN N1   8.93    0.23  (+2.64%)\n",
       "4      EMBRAER ON NM  19.65    0.36  (+1.87%)\n",
       "5  IRBBRASIL REON NM  38.95    0.70  (+1.83%)"
      ]
     },
     "execution_count": 7,
     "metadata": {},
     "output_type": "execute_result"
    }
   ],
   "source": [
    "df = pd.read_html(str(table[0]))[0]\n",
    "\n",
    "df = df.drop(0)\n",
    "\n",
    "df"
   ]
  },
  {
   "cell_type": "code",
   "execution_count": null,
   "metadata": {},
   "outputs": [],
   "source": []
  },
  {
   "cell_type": "markdown",
   "metadata": {},
   "source": [
    "<p>É recomendável que o código final seja usado em um script <b>.py</b> e não num <b>Jupyter Notebook</b>, pois caso precisemos parar o script para modificar algo, não teremos tantos problemas.</p>"
   ]
  },
  {
   "cell_type": "markdown",
   "metadata": {},
   "source": [
    "<p>Código final:</p>"
   ]
  },
  {
   "cell_type": "code",
   "execution_count": 8,
   "metadata": {},
   "outputs": [],
   "source": [
    "from IPython.display import clear_output"
   ]
  },
  {
   "cell_type": "code",
   "execution_count": 9,
   "metadata": {},
   "outputs": [
    {
     "name": "stdout",
     "output_type": "stream",
     "text": [
      "              Symbol   Last  Change       (%)\n",
      "1       GERDAU PN N1  19.15    0.88  (+4.82%)\n",
      "2  TIM PART S/AON NM  15.28    0.58  (+3.95%)\n",
      "3   GERDAU MET PN N1   8.93    0.23  (+2.64%)\n",
      "4      EMBRAER ON NM  19.65    0.36  (+1.87%)\n",
      "5  IRBBRASIL REON NM  38.95    0.70  (+1.83%)\n"
     ]
    },
    {
     "ename": "KeyboardInterrupt",
     "evalue": "",
     "output_type": "error",
     "traceback": [
      "\u001b[1;31m---------------------------------------------------------------------------\u001b[0m",
      "\u001b[1;31mKeyboardInterrupt\u001b[0m                         Traceback (most recent call last)",
      "\u001b[1;32m<ipython-input-9-1c7f3d5d6b02>\u001b[0m in \u001b[0;36m<module>\u001b[1;34m\u001b[0m\n\u001b[0;32m     19\u001b[0m     \u001b[0mprint\u001b[0m\u001b[1;33m(\u001b[0m\u001b[0mdf\u001b[0m\u001b[1;33m)\u001b[0m\u001b[1;33m\u001b[0m\u001b[0m\n\u001b[0;32m     20\u001b[0m \u001b[1;33m\u001b[0m\u001b[0m\n\u001b[1;32m---> 21\u001b[1;33m     \u001b[0mtime\u001b[0m\u001b[1;33m.\u001b[0m\u001b[0msleep\u001b[0m\u001b[1;33m(\u001b[0m\u001b[1;36m5\u001b[0m\u001b[1;33m)\u001b[0m\u001b[1;33m\u001b[0m\u001b[0m\n\u001b[0m",
      "\u001b[1;31mKeyboardInterrupt\u001b[0m: "
     ]
    }
   ],
   "source": [
    "driver = webdriver.Chrome('./driver/chromedriver.exe')\n",
    "\n",
    "url = 'http://www.b3.com.br/pt_br/market-data-e-indices/servicos-de-dados/market-data/cotacoes/acoes.htm'\n",
    "driver.get(url)\n",
    "\n",
    "div = driver.find_element_by_id('tv-small-widget-altas')\n",
    "ifrm = div.find_element_by_tag_name('iframe')\n",
    "driver.switch_to.frame(ifrm)\n",
    "\n",
    "while 1:\n",
    "    pags = driver.page_source\n",
    "    html = BeautifulSoup(pags, \"html.parser\")\n",
    "    table = html.findAll('table')\n",
    "\n",
    "    df = pd.read_html(str(table[0]))[0]\n",
    "    df = df.drop(0)\n",
    "    \n",
    "    clear_output()\n",
    "    print(df)\n",
    "    \n",
    "    time.sleep(5)"
   ]
  },
  {
   "cell_type": "code",
   "execution_count": null,
   "metadata": {},
   "outputs": [],
   "source": []
  },
  {
   "cell_type": "code",
   "execution_count": null,
   "metadata": {},
   "outputs": [],
   "source": []
  },
  {
   "cell_type": "code",
   "execution_count": null,
   "metadata": {},
   "outputs": [],
   "source": []
  }
 ],
 "metadata": {
  "celltoolbar": "Raw Cell Format",
  "kernelspec": {
   "display_name": "Python 3",
   "language": "python",
   "name": "python3"
  },
  "language_info": {
   "codemirror_mode": {
    "name": "ipython",
    "version": 3
   },
   "file_extension": ".py",
   "mimetype": "text/x-python",
   "name": "python",
   "nbconvert_exporter": "python",
   "pygments_lexer": "ipython3",
   "version": "3.6.6"
  }
 },
 "nbformat": 4,
 "nbformat_minor": 2
}
