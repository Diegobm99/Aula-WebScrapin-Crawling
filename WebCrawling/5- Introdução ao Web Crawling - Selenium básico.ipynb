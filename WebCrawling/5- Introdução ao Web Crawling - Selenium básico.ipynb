{
 "cells": [
  {
   "cell_type": "markdown",
   "metadata": {},
   "source": [
    "<h1 id='parte-3'>5. Introdução ao Web Crawling - Selenium básico</h1>"
   ]
  },
  {
   "cell_type": "markdown",
   "metadata": {},
   "source": [
    "<p>Com Web Scraping aprendemos formas de extrair e coletar informações da web por meio de um request na página desejada, através do método GET. Mas vimos que existem limitações nesse tipo de processo, como interagir com partes da página e com scripts. Para resolver isso podemos usar o Web Crawling e suas ferramentas. A mais importante das ferramentas, o Selenium, irá servir para interagirmos com a página de forma dinâmica.</p>"
   ]
  },
  {
   "cell_type": "markdown",
   "metadata": {},
   "source": [
    "<h2 id='parte-3a' style=\"color:blue;\">a. Selenium e suas funcionalidades</h2>"
   ]
  },
  {
   "cell_type": "markdown",
   "metadata": {},
   "source": [
    "<p>O Selenium é uma ferramenta desenvolvida em Java capaz de 'emular' um navegador através de um driver. De forma programática(por código), poderemos interagir com a página, seja clicando um botão, preenchendo um formulário ou acionando um <b>script</b> ou <b>iframe</b>.</p>"
   ]
  },
  {
   "cell_type": "markdown",
   "metadata": {},
   "source": [
    "<p>_______________________________________________________________________________________________________________________</p>"
   ]
  },
  {
   "cell_type": "markdown",
   "metadata": {},
   "source": [
    "<h3 id='parte-1a1' style=\"color:green;\">a.1. Encontrando o XPath</h3>"
   ]
  },
  {
   "cell_type": "markdown",
   "metadata": {},
   "source": [
    "<p>Além de procurar elementos pela tag ou por algum atributo(class, id, etc...), também temos uma outra opção no Selenium. Não conseguimos usá-lo no <b>bs4</b> por alguma escolha dos desenvolvedores da biblioteca. Seu uso no Selenium, porém, torna muitas vezes o trabalho mais fácil.</p>"
   ]
  },
  {
   "cell_type": "markdown",
   "metadata": {},
   "source": [
    "<p>Para achar o <b>XPath</b>, basta inspecionar o que queremos encontrar na página, clicar com o mouse direito no código fonte desejado, selecionar <b>Copy</b> e em seguida <b>Copy XPath</b>. Voltando ao nosso exemplo do começo com <b>exemplo2.html</b>:</p>"
   ]
  },
  {
   "cell_type": "markdown",
   "metadata": {},
   "source": [
    "<img src=\"./imagens/xpath-titulo.png\" />"
   ]
  },
  {
   "cell_type": "markdown",
   "metadata": {},
   "source": [
    "<p><b>XPath</b> selecionado da imagem: <b style=\"color:blue;\">/html/body/div[1]</b></p>"
   ]
  },
  {
   "cell_type": "markdown",
   "metadata": {},
   "source": [
    "<p>O XPath copiado na imagem indica que nosso elemento está no primeiro <b>&lt;div&gt;...&lt;/div&gt; (div[1])</b>, dentro de  <b>&lt;html&gt;&lt;body&gt;...&lt;/body&gt;&lt;/html&gt; (/html/body/)</b>. Caso queiramos extrair o XPath do título com <b>id='titulo-1'</b>, poderemos ver que o caminho será muito mais simples, já que o id é único no código:</p>"
   ]
  },
  {
   "cell_type": "markdown",
   "metadata": {},
   "source": [
    "<p><b>XPath</b> selecionado do título: <b style=\"color:blue;\">//*[@id=\"titulo-1\"]</b></p>"
   ]
  },
  {
   "cell_type": "markdown",
   "metadata": {},
   "source": [
    "<p>Pegando o <b>XPath</b> de <b>&lt;ul&gt;...&lt;/ul&gt;</b> dentro do segundo <b>&lt;div&gt;...&lt;/div&gt;</b>, teremos o caminho até ele, assim como no primeiro exemplo:</p>"
   ]
  },
  {
   "cell_type": "markdown",
   "metadata": {},
   "source": [
    "<p><b>XPath</b> selecionando a lista: <b style=\"color:blue;\">/html/body/div[2]/ul</b></p>"
   ]
  },
  {
   "cell_type": "markdown",
   "metadata": {},
   "source": [
    "<p>_______________________________________________________________________________________________________________________</p>"
   ]
  },
  {
   "cell_type": "markdown",
   "metadata": {},
   "source": [
    "<h3 id='parte-1a1' style=\"color:green;\">a.2. Webdriver</h3>"
   ]
  },
  {
   "cell_type": "markdown",
   "metadata": {},
   "source": [
    "<p>Para ter acesso ao navegador, precisamos rodar o <b>Webdriver</b> do <b>Selenium</b>. Devemos primeiro baixar o driver de um navegador nos seguintes links:</p>"
   ]
  },
  {
   "cell_type": "markdown",
   "metadata": {},
   "source": [
    "<ul>\n",
    "    <li>Chrome: <a href='https://sites.google.com/a/chromium.org/chromedriver/downloads'>https://sites.google.com/a/chromium.org/chromedriver/downloads</a></li>\n",
    "    <li>Firefox: <a href='https://github.com/mozilla/geckodriver/releases'>https://github.com/mozilla/geckodriver/releases</a></li>\n",
    "</ul>"
   ]
  },
  {
   "cell_type": "markdown",
   "metadata": {},
   "source": [
    "<p>Para usar o <b>Webdriver</b>, devemos importar e chamar os seguintes métodos, com os respectivos endereços para o driver baixado como argumento:</p>"
   ]
  },
  {
   "cell_type": "code",
   "execution_count": 1,
   "metadata": {},
   "outputs": [],
   "source": [
    "from selenium import webdriver"
   ]
  },
  {
   "cell_type": "markdown",
   "metadata": {},
   "source": [
    "<ul>\n",
    "    <li><b style=\"color:red;\">driver</b> = webdriver.Chrome(<b style=\"color:brown;\">'path para o driver'</b>)</li>\n",
    "    <li><b style=\"color:red;\">driver</b> = webdriver.Firefox(<b style=\"color:brown;\">'path para o driver'</b>)</li>\n",
    "</ul>"
   ]
  },
  {
   "cell_type": "markdown",
   "metadata": {},
   "source": [
    "<p>Podemos ainda usar um método <b>Options()</b> e depois adicionar argumentos a ele, para definir certos parâmetros que queremos ter no navegador. Mais a frente serão mostrados exemplos:</p>"
   ]
  },
  {
   "cell_type": "code",
   "execution_count": 2,
   "metadata": {},
   "outputs": [],
   "source": [
    "from selenium.webdriver.chrome.options import Options  "
   ]
  },
  {
   "cell_type": "markdown",
   "metadata": {},
   "source": [
    "<ol>\n",
    "    <li><b style=\"color:blue;\">opt</b> = Options()</li>\n",
    "    <li><b style=\"color:blue;\">opt</b>.add_argument(...) </li>\n",
    "    <li><b style=\"color:red;\">driver</b> = webdriver.Chrome(<b style=\"color:brown;\">'path'</b>, options=<b style=\"color:blue;\">opt</b>)</li>\n",
    "</ol>"
   ]
  },
  {
   "cell_type": "markdown",
   "metadata": {},
   "source": [
    "<p>Algumas funcionalidades de <b style=\"color:red;\">driver</b>:</p>"
   ]
  },
  {
   "cell_type": "markdown",
   "metadata": {},
   "source": [
    "<ul>\n",
    "    <li>Pegar o código fonte: <b style=\"color:red;\">driver</b>.source_code()</li>\n",
    "    <li>Maximizar o navegador: <b style=\"color:red;\">driver</b>.fullscreen_window()</li>\n",
    "    <li>Recarregar a página: <b style=\"color:red;\">driver</b>.refresh()</li>\n",
    "    <li>Voltar uma página: <b style=\"color:red;\">driver</b>.back()</li>\n",
    "    <li>Avançar uma página: <b style=\"color:red;\">driver</b>.forward()</li>\n",
    "    <li>Encerrar o driver: <b style=\"color:red;\">driver</b>.close()</li>\n",
    "</ul>"
   ]
  },
  {
   "cell_type": "markdown",
   "metadata": {},
   "source": [
    "<p>Outras funcionalidades de <b style=\"color:red;\">driver</b> são explicadas durante os exemplos dos capítulos seguintes.</p>"
   ]
  },
  {
   "cell_type": "markdown",
   "metadata": {},
   "source": [
    "<p>_______________________________________________________________________________________________________________________</p>"
   ]
  },
  {
   "cell_type": "markdown",
   "metadata": {},
   "source": [
    "<h3 id='parte-1a1' style=\"color:green;\">a.3. Buscando elementos</h3>"
   ]
  },
  {
   "cell_type": "markdown",
   "metadata": {},
   "source": [
    "<p>Temos diversas formas de procurar um elemento da página dentro do <b>Selenium</b>. Alguns dos métodos usados:</p>"
   ]
  },
  {
   "cell_type": "markdown",
   "metadata": {},
   "source": [
    "<ul>\n",
    "    <li>Pelo XPath: <b style=\"color:blue;\">elemento</b> = <b style=\"color:red;\">driver</b>.find_element_by_xpath(...)</li>\n",
    "    <li>Pelo id: <b style=\"color:blue;\">elemento</b> = <b style=\"color:red;\">driver</b>.find_element_by_id(...)</li>\n",
    "    <li>Pelo name:<b style=\"color:blue;\">elemento</b> = <b style=\"color:red;\">driver</b>.find_element_by_name(...)</li>\n",
    "    <li>Pelo class: <b style=\"color:blue;\">elemento</b> = <b style=\"color:red;\">driver</b>.find_element_by_class_name(...)</li>\n",
    "    <li>Pela tag: <b style=\"color:blue;\">elemento</b> = <b style=\"color:red;\">driver</b>.find_element_by_tag_name(...)</li>\n",
    "</ul>"
   ]
  },
  {
   "cell_type": "markdown",
   "metadata": {},
   "source": [
    "<p>Caso queiramos procurar por vários elementos, apenas colocamos <b>element</b> no plural dentro do método(<b>elements</b>).</p>"
   ]
  },
  {
   "cell_type": "markdown",
   "metadata": {},
   "source": [
    "<p>Ainda podemos selecionar elementos como <b>&lt;select&gt;...&lt;/select&gt;</b> ou <b>&lt;iframe&gt;...&lt;/iframe&gt;</b> usando métodos como <b>Select()</b> e <b>switch_to.frame</b>, que serão explicados melhor com exemplos nos capítulos seguintes.</p> "
   ]
  },
  {
   "cell_type": "markdown",
   "metadata": {},
   "source": [
    "<p>_______________________________________________________________________________________________________________________</p>"
   ]
  },
  {
   "cell_type": "markdown",
   "metadata": {},
   "source": [
    "<h3 id='parte-1a1' style=\"color:green;\">a.4. Interagindo com os elementos</h3>"
   ]
  },
  {
   "cell_type": "markdown",
   "metadata": {},
   "source": [
    "<p>Podemos fazer diversas interações com o elemento selecionado, seja preenchendo um campo ou apertando um botão. Segue alguns exemplos de métodos:</p>"
   ]
  },
  {
   "cell_type": "code",
   "execution_count": 3,
   "metadata": {},
   "outputs": [],
   "source": [
    "from selenium.webdriver.common.keys import Keys"
   ]
  },
  {
   "cell_type": "markdown",
   "metadata": {},
   "source": [
    "<ul>\n",
    "    <li>Clicar: <b style=\"color:blue;\">elemento</b>.click()</li>\n",
    "    <li>Limpar um campo: <b style=\"color:blue;\">elemento</b>.clear()</li>\n",
    "    <li>Preencher um campo: <b style=\"color:blue;\">elemento</b>.send_keys(<b style=\"color:brown;\">'string'</b>)</li>\n",
    "    <li>Apertar 'enter': <b style=\"color:blue;\">elemento</b>.send_keys(<b style=\"color:green;\">Keys.ENTER</b>)</li>\n",
    "    <li>Extrair texto: <b style=\"color:blue;\">elemento</b>.text()</li>\n",
    "</ul>"
   ]
  },
  {
   "cell_type": "markdown",
   "metadata": {},
   "source": [
    "<p>Dentro de <b>.send_keys()</b>, além de uma string, podemos usar diversas <b style=\"color:green;\">Keys.</b>(teclas) do teclado(setas, espaço, etc...) como parâmetro:</p>"
   ]
  },
  {
   "cell_type": "markdown",
   "metadata": {},
   "source": [
    "<ul>\n",
    "    <li>enter: <b style=\"color:green;\">Keys.ENTER</b>\n",
    "    <li>seta para cima: <b style=\"color:green;\">Keys.ARROU_UP</b>\n",
    "    <li>alt: <b style=\"color:green;\">Keys.ALT</b>\n",
    "    <li>espaço: <b style=\"color:green;\">Keys.SPACE</b>\n",
    "</ul>"
   ]
  },
  {
   "cell_type": "markdown",
   "metadata": {},
   "source": [
    "<p>_______________________________________________________________________________________________________________________</p>\n",
    "<p>_______________________________________________________________________________________________________________________</p>"
   ]
  },
  {
   "cell_type": "markdown",
   "metadata": {},
   "source": [
    "<h2 id='parte-3a' style=\"color:blue;\">b. Extraindo uma lista de links do google com Selenium e bs4</h2>"
   ]
  },
  {
   "cell_type": "markdown",
   "metadata": {},
   "source": [
    "<p>Como primeiro exemplo, faremos o mesmo processo da seção <b style=\"color:blue;\">4.a</b>, em que pegamos os links de uma busca no google.</p>"
   ]
  },
  {
   "cell_type": "markdown",
   "metadata": {},
   "source": [
    "<p>_______________________________________________________________________________________________________________________</p>"
   ]
  },
  {
   "cell_type": "markdown",
   "metadata": {},
   "source": [
    "<h3 id='parte-1a1' style=\"color:green;\">b.1. Importando as bibliotecas e lendo o driver</h3>"
   ]
  },
  {
   "cell_type": "markdown",
   "metadata": {},
   "source": [
    "<p>Iremos utilizar o driver do Chrome, que pode ser baixado <a href='https://sites.google.com/a/chromium.org/chromedriver/downloads'>aqui</a>.</p>"
   ]
  },
  {
   "cell_type": "markdown",
   "metadata": {},
   "source": [
    "<ul><li>Importando as bibliotecas necessárias:</ul></li>"
   ]
  },
  {
   "cell_type": "code",
   "execution_count": 4,
   "metadata": {},
   "outputs": [],
   "source": [
    "from selenium import webdriver\n",
    "from selenium.webdriver.common.keys import Keys\n",
    "from selenium.webdriver.chrome.options import Options  \n",
    "\n",
    "from bs4 import BeautifulSoup"
   ]
  },
  {
   "cell_type": "markdown",
   "metadata": {},
   "source": [
    "<ul><li>Lendo o driver:</ul></li>"
   ]
  },
  {
   "cell_type": "code",
   "execution_count": 6,
   "metadata": {},
   "outputs": [],
   "source": [
    "opt = Options()  \n",
    "opt.add_argument(\"--headless\") \n",
    "\n",
    "driver = webdriver.Chrome('./driver/chromedriver.exe', options=opt)"
   ]
  },
  {
   "cell_type": "markdown",
   "metadata": {},
   "source": [
    "<p>Colocamos como opção o argumento <b>\"--headless\"</b>, isso significa que o nosso navegador não irá abrir 'visualmente', mas estará rodando por 'baixo'. Isso é interessante quando, por exemplo, queremos fazer um Web Scraping na página e não precisamos ver o que está acontecendo nela.</p>"
   ]
  },
  {
   "cell_type": "markdown",
   "metadata": {},
   "source": [
    "<p>_______________________________________________________________________________________________________________________</p>"
   ]
  },
  {
   "cell_type": "markdown",
   "metadata": {},
   "source": [
    "<h3 id='parte-1a1' style=\"color:green;\">b.2. Acessando a página e extraindo o código fonte.</h3>"
   ]
  },
  {
   "cell_type": "markdown",
   "metadata": {},
   "source": [
    "<p>Iremos acessar a página de pesquisa do google de notícias do <b>InfoMoney</b> através de uma busca do google na área <b>news</b>, usando como filtros o assunto <b>'itaú'</b> e um intervalo de tempo <b>[01/09/2019, 01/11/2019]</b>:</p>"
   ]
  },
  {
   "cell_type": "markdown",
   "metadata": {},
   "source": [
    "<ul><li><b>url</b> = <b style=\"color:blue;\">https://www.google.com.br/search?q=<b style=\"color:red;\">%22ita%C3%BA%22+infomoney</b>&tbs=cdr:1,<b style=\"color:red;\">cd_min:9/1/2019,cd_max:11/1/2019</b>&tbm=nws&ei=aj_YXeiwGcbZ5gLut4noDw&<b style=\"color:red;\">start=0</b>&sa=N&ved=0ahUKEwjojZbtzv7lAhXGrFkKHe5bAv0Q8tMDCFM&biw=1920&bih=944&dpr=1</b></li></ul>"
   ]
  },
  {
   "cell_type": "markdown",
   "metadata": {},
   "source": [
    "<p>Agora precisamos acessar a url pelo Selenium usando o método <b>'.get()'</b>:</p>"
   ]
  },
  {
   "cell_type": "code",
   "execution_count": 7,
   "metadata": {},
   "outputs": [],
   "source": [
    "url = 'https://www.google.com.br/search?q=%22ita%C3%BA%22+infomoney&tbs=cdr:1,cd_min:9/1/2019,cd_max:11/1/2019&tbm=nws&ei=aj_YXeiwGcbZ5gLut4noDw&start=0&sa=N&ved=0ahUKEwjojZbtzv7lAhXGrFkKHe5bAv0Q8tMDCFM&biw=1920&bih=944&dpr=1'\n",
    "driver.get(url)"
   ]
  },
  {
   "cell_type": "markdown",
   "metadata": {},
   "source": [
    "<p>Em seguida, utilizando o método <b>'.page_source'</b>, conseguimos extrair o código fonte da página, para assim usarmos o <b>BeautifulSoup</b> para extrairmos o que desejamos.</p>"
   ]
  },
  {
   "cell_type": "code",
   "execution_count": 8,
   "metadata": {},
   "outputs": [],
   "source": [
    "html_text = driver.page_source\n",
    "\n",
    "driver.close()"
   ]
  },
  {
   "cell_type": "code",
   "execution_count": 9,
   "metadata": {},
   "outputs": [
    {
     "data": {
      "text/plain": [
       "[<div class=\"bkWMgd\"><!--m--><div class=\"g\"><div class=\"ts Pg8zWb hqn4Zb C1Iii FddHQd tsUanb\"><a class=\"top NQHJEb dfhHve\" href=\"https://www.infomoney.com.br/negocios/cade-investiga-itau-e-rede-por-pratica-anticompetitiva-no-mercado-de-meios-de-pagamento/\" onmousedown=\"return rwt(this,'','','','1','AOvVaw3pmw5Aya3qncNQqpcYCFX5','','0ahUKEwjHsZ-C3cnmAhWGJLkGHXoVBQ0QvIgBCCYwAA','','',event)\"><img alt='Imagem da história para \"itaú\" infomoney de InfoMoney' class=\"th BbeB2d\" data-atf=\"1\" data-iml=\"1577033881343\" onload=\"typeof google==='object'&amp;&amp;google.aft&amp;&amp;google.aft(this)\" src=\"https://encrypted-tbn0.gstatic.com/images?q=tbn:ANd9GcQC_Q_g1z-p8BafqmPvodJ4R9BLXFi4jDfK5Xcp3-NJXrfo6HhBV-PpCPLJNvDHOm0kd5OX2tc&amp;s\"/></a><div class=\"gG0TJc\"><h3 class=\"r dO0Ag\"><a class=\"l lLrAF\" href=\"https://www.infomoney.com.br/negocios/cade-investiga-itau-e-rede-por-pratica-anticompetitiva-no-mercado-de-meios-de-pagamento/\" onmousedown=\"return rwt(this,'','','','1','AOvVaw3pmw5Aya3qncNQqpcYCFX5','','0ahUKEwjHsZ-C3cnmAhWGJLkGHXoVBQ0QqQIIJygAMAA','','',event)\">Cade investiga <em>Itaú</em> e Rede por prática anticompetitiva no ...</a></h3><div class=\"slp\"><span class=\"xQ82C e8fRJf\">InfoMoney</span><span class=\"v0c3xd\">-</span><span class=\"f nsa fwzPFf\">25 de out. de 2019</span></div><div class=\"st\">Cade investiga <em>Itaú</em> e Rede por prática anticompetitiva no mercado de meios de ... Procurados pelo <em>InfoMoney</em>, a Rede e o <em>Itaú</em> afirmaram, em nota conjunta, ...</div></div></div></div><div class=\"g\"><div class=\"ts Pg8zWb hqn4Zb C1Iii FddHQd tsUanb\"><a class=\"top NQHJEb dfhHve\" href=\"https://www.infomoney.com.br/minhas-financas/itau-unibanco-anuncia-reducao-nos-juros-do-credito-imobiliario/\" onmousedown=\"return rwt(this,'','','','2','AOvVaw3sRNQsotpkELTREsWwxWJ5','','0ahUKEwjHsZ-C3cnmAhWGJLkGHXoVBQ0QvIgBCCowAQ','','',event)\"><img alt='Imagem da história para \"itaú\" infomoney de InfoMoney' class=\"th BbeB2d\" data-atf=\"1\" data-iml=\"1577033881344\" onload=\"typeof google==='object'&amp;&amp;google.aft&amp;&amp;google.aft(this)\" src=\"https://encrypted-tbn0.gstatic.com/images?q=tbn:ANd9GcQC_Q_g1z-p8BafqmPvodJ4R9BLXFi4jDfK5Xcp3-NJXrfo6HhBV-PpCPLJNvDHOm0kd5OX2tc&amp;s\"/></a><div class=\"gG0TJc\"><h3 class=\"r dO0Ag\"><a class=\"l lLrAF\" href=\"https://www.infomoney.com.br/minhas-financas/itau-unibanco-anuncia-reducao-nos-juros-do-credito-imobiliario/\" onmousedown=\"return rwt(this,'','','','2','AOvVaw3sRNQsotpkELTREsWwxWJ5','','0ahUKEwjHsZ-C3cnmAhWGJLkGHXoVBQ0QqQIIKygAMAE','','',event)\"><em>Itaú</em> Unibanco anuncia redução nos juros do crédito imobiliário</a></h3><div class=\"slp\"><span class=\"xQ82C e8fRJf\">InfoMoney</span><span class=\"v0c3xd\">-</span><span class=\"f nsa fwzPFf\">27 de set. de 2019</span></div><div class=\"st\">O <em>Itaú</em> Unibanco anunciou nesta sexta-feira, 27, nova redução nos juros do crédito imobiliário. A taxa mínima passa de 8,1% ao ano mais taxa referencial (TR) ...</div></div></div></div><div class=\"g\"><div class=\"ts Pg8zWb hqn4Zb C1Iii FddHQd tsUanb\"><a class=\"top NQHJEb dfhHve\" href=\"https://www.infomoney.com.br/negocios/itau-adesao-ao-pdv-que-tem-7-mil-elegiveis-esta-acima-do-esperado/\" onmousedown=\"return rwt(this,'','','','3','AOvVaw3pUIadCVcyNL_wfSrAHmx_','','0ahUKEwjHsZ-C3cnmAhWGJLkGHXoVBQ0QvIgBCC4wAg','','',event)\"><img alt='Imagem da história para \"itaú\" infomoney de InfoMoney' class=\"th BbeB2d\" data-atf=\"1\" data-iml=\"1577033881344\" onload=\"typeof google==='object'&amp;&amp;google.aft&amp;&amp;google.aft(this)\" src=\"https://encrypted-tbn0.gstatic.com/images?q=tbn:ANd9GcTucqceeUjnbgBdtu12PT9IGZAqTKx3qnc2ykocufJmJYtnk_1_mRp7bz2n3MWQm7GnoAEE8lI&amp;s\"/></a><div class=\"gG0TJc\"><h3 class=\"r dO0Ag\"><a class=\"l lLrAF\" href=\"https://www.infomoney.com.br/negocios/itau-adesao-ao-pdv-que-tem-7-mil-elegiveis-esta-acima-do-esperado/\" onmousedown=\"return rwt(this,'','','','3','AOvVaw3pUIadCVcyNL_wfSrAHmx_','','0ahUKEwjHsZ-C3cnmAhWGJLkGHXoVBQ0QqQIILygAMAI','','',event)\"><em>Itaú</em>: adesão ao PDV, que tem 7 mil elegíveis, está acima do ...</a></h3><div class=\"slp\"><span class=\"xQ82C e8fRJf\">InfoMoney</span><span class=\"v0c3xd\">-</span><span class=\"f nsa fwzPFf\">3 de set. de 2019</span></div><div class=\"st\">O vice-presidente de finanças e risco do <em>Itaú</em> Unibanco, Milton Maluhy, afirmou que o programa de desligamento voluntário (PDV) do banco teve adesão acima ...</div></div></div></div><div class=\"g\"><div class=\"ts Pg8zWb hqn4Zb C1Iii FddHQd tsUanb\"><a class=\"top NQHJEb dfhHve\" href=\"https://www.infomoney.com.br/minhas-financas/bancos-disputam-credito-imobiliario-com-guerra-de-taxas-de-juros/\" onmousedown=\"return rwt(this,'','','','4','AOvVaw3nHm5Or8ZkG2Vw-KH7nClI','','0ahUKEwjHsZ-C3cnmAhWGJLkGHXoVBQ0QvIgBCDIwAw','','',event)\"><img alt='Imagem da história para \"itaú\" infomoney de InfoMoney' class=\"th BbeB2d\" data-atf=\"1\" id=\"news-thumbnail-image-52781151451197\" src=\"data:image/jpeg;base64,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\"/></a><div class=\"gG0TJc\"><h3 class=\"r dO0Ag\"><a class=\"l lLrAF\" href=\"https://www.infomoney.com.br/minhas-financas/bancos-disputam-credito-imobiliario-com-guerra-de-taxas-de-juros/\" onmousedown=\"return rwt(this,'','','','4','AOvVaw3nHm5Or8ZkG2Vw-KH7nClI','','0ahUKEwjHsZ-C3cnmAhWGJLkGHXoVBQ0QqQIIMygAMAM','','',event)\">Bancos disputam crédito imobiliário com guerra de taxas de ...</a></h3><div class=\"slp\"><span class=\"xQ82C e8fRJf\">InfoMoney</span><span class=\"v0c3xd\">-</span><span class=\"f nsa fwzPFf\">1 de out. de 2019</span></div><div class=\"st\">Após o <em>Itaú</em> ter anunciado, na sexta feira, uma queda na taxa mínima de 8,30% ao ano mais taxa referencial (TR) para 7,45%, ontem o Bradesco seguiu o ...</div></div></div></div><div class=\"g\"><div class=\"ts Pg8zWb hqn4Zb C1Iii FddHQd tsUanb\"><a class=\"top NQHJEb dfhHve\" href=\"https://www.infomoney.com.br/mercados/itau-unibanco-e-bank-of-america-fecham-acordo-com-cvm-para-evitar-processo/\" onmousedown=\"return rwt(this,'','','','5','AOvVaw0soyYIUtuyvVmJjvB_azpx','','0ahUKEwjHsZ-C3cnmAhWGJLkGHXoVBQ0QvIgBCDYwBA','','',event)\"><img alt='Imagem da história para \"itaú\" infomoney de InfoMoney' class=\"th BbeB2d\" data-atf=\"3\" id=\"news-thumbnail-image-52781170518475\" src=\"data:image/jpeg;base64,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\"/></a><div class=\"gG0TJc\"><h3 class=\"r dO0Ag\"><a class=\"l lLrAF\" href=\"https://www.infomoney.com.br/mercados/itau-unibanco-e-bank-of-america-fecham-acordo-com-cvm-para-evitar-processo/\" onmousedown=\"return rwt(this,'','','','5','AOvVaw0soyYIUtuyvVmJjvB_azpx','','0ahUKEwjHsZ-C3cnmAhWGJLkGHXoVBQ0QqQIINygAMAQ','','',event)\"><em>Itaú</em> Unibanco e Bank of America fecham acordo com CVM ...</a></h3><div class=\"slp\"><span class=\"xQ82C e8fRJf\">InfoMoney</span><span class=\"v0c3xd\">-</span><span class=\"f nsa fwzPFf\">16 de out. de 2019</span></div><div class=\"st\">O <em>Itaú</em> Unibanco e o Bank of America Merrill Lynch fecharam um acordo com a Comissão de Valores Mobiliários (CVM) para evitar a instauração de um ...</div></div></div></div><div class=\"g\"><div class=\"ts Pg8zWb hqn4Zb C1Iii FddHQd tsUanb\"><a class=\"top NQHJEb dfhHve\" href=\"https://www.infomoney.com.br/mercados/acoes-de-bancos-com-mais-de-us-100-bilhoes-em-ativos-cairam-no-mundo-todo-em-agosto/\" onmousedown=\"return rwt(this,'','','','6','AOvVaw3j6TkFxiVV2R9wbDor8tjk','','0ahUKEwjHsZ-C3cnmAhWGJLkGHXoVBQ0QvIgBCDowBQ','','',event)\"><img alt='Imagem da história para \"itaú\" infomoney de InfoMoney' class=\"th BbeB2d\" data-atf=\"3\" id=\"news-thumbnail-image-52781121424460\" src=\"data:image/jpeg;base64,/9j/4AAQSkZJRgABAQAAAQABAAD/2wCEAAkGBwgHBgkIBwgKCgkLDRYPDQwMDRsUFRAWIB0iIiAdHx8kKDQsJCYxJx8fLT0tMTU3Ojo6Iys/RD84QzQ5OjcBCgoKDQwNGg8PGjclHyU3Nzc3Nzc3Nzc3Nzc3Nzc3Nzc3Nzc3Nzc3Nzc3Nzc3Nzc3Nzc3Nzc3Nzc3Nzc3Nzc3N//AABEIAGQAZAMBEQACEQEDEQH/xAAcAAADAAMBAQEAAAAAAAAAAAAEBQYCAwcBAAj/xAA+EAACAQMCBAQDBQQIBwAAAAABAgMEBREAIQYSMUETIlFxFGGBMkKRodEHM7HBFRYjUmJysvAlQ1OCkuHx/8QAGgEAAgMBAQAAAAAAAAAAAAAAAwQBAgUABv/EADERAAEEAQMCAwcEAgMAAAAAAAEAAgMRBBIhMQVBEzJxFCJRYZGhwUKB4fCx0QZScv/aAAwDAQACEQMRAD8As6mqlu0xgpyVgB8z+uiFUaEXQ0SUcZUKM5641yJSBqrta7U7Gpr0DDOIweYqM5xhd/x0xHBLJ5QhulY3kpU/FktYxSy2mpqiekj+VP8Af4aabhBu8rgEu7KB2YLU/f7xxQlUKOST4V3j8Tw6bC4HTduv560MaDF06+fVLSTTE6eEhrrLdEpJa6ucJgdJZuaRunv69M507HkQlwjYPtsgujfWorotZaLfPYaO5xywUJkp45AxYRruoOvMvY8yuYNza0muaGgpRbuMII1ameRZGXYSAbH66sWuj2eEWNgk4UJ+0auqq+rpaul8UJCrKzoSMEkHS87tRCM+ExVfdJeF6es4gvkEFRNLLEnncFtsemlyqL9EWumWjpEjjUKAMahdaLLE9WOpXLzOuULnTcaz0tKsdtoEiXp40xLFvXYYA/E62o+nNv33fRJnKP6QlctZxDe2YPLUyIRzco8iH+A799MiPHh7BDLpXoSstU1FTeLNLEr5A8IMObPt37bj10Zkoe7SOFRzCBa6Yt7ttLbqeepqoYhJCr8ud9wD0Gsj2eV8ha0Xum2zRtYLKgOMb7T3G5wVNqaZDHEY2kZeUNvkY/36a1cZseNGWzkcoPgz5MmqFhUzK0k0hkmkZ3PVmPMT9Trn9WiZtE38LSx/+PzSG5X191kWaTl8RmfkHKvMSeUegz0GsuTqE77o16bL0WL0PDi3LdR+e6wcfeHUaSJJ3KeycRjme4KpN6ILU8N3FmTJWQDp/h1Rx3Xn+pHyD5flD/sbhJvc+VJLrge4/wDp1XsVlruS08pAyFQfM51Vcs1pl+87E/LbXKVn4MI6oPrqVy49WXO3zcOU1DHDL8WnKWcnyqQWzjfuCOw16NscgmLydlmlzSwNrdBPda9qVabxikSgBQg5SABjGRvjUOOPG7UeUzDiZU2zW7IBsddyfXQndQA2Y1aMXRDzK76LUxOlX5Uz9iVow4GNFu1u/wA1gd9LFaDfkvtQUdi+Ug9CNUKdYvT01CIqXhGlWezXONuhlH+nVHLyvWG6Zh6IXgaMWm/I/RVqMH2Ox/jqG8rHK7WzYOqqVzzinjGspLhUU0JMaxOUAG2cd89degxMGDwWyOFkpSSR+ogKRl4oukrlvFAz6jOng2McNQ6PdaSAvTb56wXzSP5K9pDhY0HkYFvqrbW00Kz1FNJHG2Mcwwd+hI6gaEFbxmuNA2gGGrKhdus4aKqqF5oKaaROcJzpGSvMTgDPQHOuVC9reSqL+pZ8ISS18MCLTozyMysvjEuOXOQMApjuc9tQSgDM3oNvf7I9rTZLWgmY039rFDJGlz5ld4wW8UhCow58oXY9yO+qFWbNPIaF7Xx9v5SLi66Ul0q4Go3M3hI4adoRGWBcsq8voqkL9NUWpgQSRNOva+1323P78pAxAGSQB6nXUTwnnPawW40FYcAyJNbriI2Df2oBI/y6iRjmVqC8t1bIinlBjddBLol8K7VCHbLZGhLKXWLfVfE2+nnPV4wT79/z1ztioCgONrL8Xfap1lWIGlFVuM8wUhX9sDfWnH1L2bFYC27dp9Lsj/SEYtb/ANlLcQW2G0XN6RKgTJyq6PjflIyM9AdvTbTXTc6TMxxKY6O4O/cf3uqSxtY6rTKxNTR3eles/drICM45c9i3yzrNI2Xrp9RYQ1NEuVak71NwoaOOk8blqA9OCZDjJGTkk7YznGpoJNzGVpaTfqvrdLQS2LxKuGmC08k4Ad/OuQrJyjPmy23TtqUKTxBJseaWU/FkNNJX/BrJI8kh+Gf7MaLheXykbcpHQYz311KBjF2m0lrOJ7nM2aeUUKcjKUpcoCGJY53J6kn666k2yCJvm39VOz10CE80hdvRd9FZjSP7UrP6pjQbXZ+SBluMjfulC/M7nTDMFg8xtZs3X5nbRDT9yg5JJJDmRi3vppsbGeULHlyZZjcjiV0b9lQ/4bcAe86/6RrM6j5x6IkHlRHENMaavWpAwG66zkZV3CNWJrW0YP7p8fQ7/wAc6k7gKBytXFlFX1EcFXaI4ZayASJ4UuyyRuvKw6j5HqOmpAjfG6KW6NGxyCDYK7cGxypBLDxtNBCHNvTw4xGq1BR3CjoCQjfx0VzMIvc4NO5s0SN/2K63UAlcyeHI6HqrEHR6XpA/U0FZtWzm3ihLj4dZPE5SB9r3+p/HXAILg3Vq7pXPW00OQ0nMw+6u+jtge7slZcyKPkpfPdXbIhjCj1Y50yzEA8xSEnVHfoFIGaaWb945b5dvw0w2NjPKFnyZEkvnNrBULMFUZZjgD1OrISd2/hG71skXNTGnhdgrTS4ATL8nTrnOdtCdMwfNSGoeWkgs/EUtLWkTQ08jIzBftbHlOD7g43+urXqZYXcFXX7Op4ZaKtFPAIlWVQSBjnPKMtjt7ZOsfONvCbiFNVDdaNa2mZCBnGkkVJeEauS3XiSiqM4lXA9xuPyzrjwu7roEcEso5lTY+u2oXLctA+PNIoPpjXUuXHKuqFzvTW20xRTVLMTLKrFlj9Se2floxlcjNyJQKBVlHwjZ6S3o92gkq2xhiXYZPspA1dkst00oM0znD3zstf8AVvhWRmFNY/HCtykq8mM/+Xp6aN4+R3clqjPAWbcE2iaNTDZqaBuc/bldvLtv9r3/AA1X2qUHdygsvgLanAHD/NGz0S+VQGVXcBjv8/n+XbXe3S1VongtO6Mh4Q4co4JIlttOFlUqzSEsxB9CTkfTGgS9Rc3d76+isyAcAJFxPTtRziqMlRV20gLUU6uykLjGQVwSMdQSc7nqTlKPrMRfpa+/2RjimrITK3cKcIXCkSopLRFKjgMGEsmDn/u1pnLmP6kDw2/BeVttpLC0cVppkpElBd1QluYjb72dAcdRsolmqQslfLGheSYKg6kgarSlIfjJL5cljsoVpoWy9VjaP9T8tcVyv7a9dSU6xz18k7gbsyIM/gBqAFW0Z8fU/wDV/IfpqVFqM/ZZw6lrssdRKmKmoAdyeoz0GopWKt5hDycswTlPUOBg6o+eOLdzgF2gu2AQ0tdCuykt7DSMvV8dp2N/34orcd/oh2uTE4SMD5nfSMvV3nyNpFbij9RWs1ksv/N+i7az5szJf5nEfZNMhjHAWA3OT19dZ7rJso1UNl5JGsiMrDIIxjXAkFQpyw1U9ivc1lDlaaYGWm/w7+ZR9d/rrakzZ3Yocx1VsUqImCTcJJ+1S+V1puVsemkOHifnVtw24030WR8kby82bQskAEUoe7cU1t7EVOT4EZwH5T11tE0LQGML3Bo5V7YL7TWe2w0FktFTUPy553HKHOMk7Z9DpczO7BaY6X3keAtt0vnFApZKmSOCiiTGQCpcnIHck9x6ao58ncpiHDwtQbZd/hWlPPLV0lPU0kcJjmiV/ON8kZ0433hYWFKzw3lh7LGmklSmjjDkKF6DbXiZ8/IlJt5r6LTbCwdll8z19dKg7q5Wo8ogeaaURouSSBjlA+Z0w0XIGMbZKXc8gWdkmF3wvjtQO9M/MYn8QMzAdyh7d9u2to9NF+H4lOFWKNegNf0pP2gncjZMLZOailhmaRZDImeZUKjY9gff8tIZsQjkcwCqPxtO4z9Tb+KOU6znJvsg6p7gZWWlSHkGPM+d9v1/l9HMduGGapyb+AS0hlshgUtxXS1dPPb7lPP5oqiNfKckBvK3oN856dhp+CfHe10UTex/2PihljwdTiqC8cOWy90ay10PivEjBCT0zj9NNdGe6Rjyex/CpknTQXGbFFJS8QSrT06TGCQqElXmXAPf8Nac8gY1H6binIlpWc1be6kEPWLToeixKBgegxuB269hrNOTa9QzpbByEMKFXkMk8sk0h3LO2STqvilGGO0bJlBX1lPCkEFVNHFGOVEVyABrhI/4oDsTHc4ksBV7H9hfbXlzyvPrLXBQUDd6aCpt9RHULUOgxJywZ5mPTGO/QddafT5pIp2OjIB434SWUwOab+ykVWNqWRw8KhI94GbB67R46+/9469Y8u8QAgmzz2/9Xx6fD1WWANP4/H+1VWpa1bfEbgymUMCFC4Kjpg42768xm+zmdwxxt/krVx9YaDJymKnOsxyeCy0Ncprj44seBjmM0eM+vMNaHTG6sgD1QZzTFU2eRTSvFKA7iDxAMdR316jHx48cEMHKQJdK4AlclkigXi+tmpkZIp15wG9e+lsqQSRhwXqOkYzsXIdE82aVJZbU9xeRzE7U8YId1+6SNv16H57aTghMlmtlq9QzG4zQL948flbqmzi0V/gV7RyCSIsjIwyu43KkjtnbPt00Z0XhO0uSceb7VGXw7Ud/4pDxw2blAnq5g42zGpIb57jXAR91Vz8om2tFKqtlQlVQwzIcqyA515mZhY8grDabFoo6GFK0VUQmiaNufldGRuRuU4PofppnHl8Nwd8Nxe6BMzW2lomp4maJjTwgxAeGSvMVx0wTplmQ8BwDjvz2H0QfBFjbhZbcpMrnl75bA/TVAST7gRgGgWSsxVwZAEit/lOdXb0/Jfw2vXZT7RGBzfos/HJ+yh+um4+jE+d30QnZX/UKV4nkkuN4ttqTBHiiWQD0X/3jWpi4MOOdTeUB8znilT08vwl9t4bZZEeI/XH8wNOte13BQaIUHxVb5rbfzUGKQU6ymMvjbBORv9dIujOlza4K9XFlM8aKXULcKKIp66qog3wlVLAH6hHxnWe2R8ezTS35ceGcXI0GvitiW65V0jSCnqJWbrJJkZ+rddFZHJJvVpKbMxMcVrA+Q/hGrwvWkZeSBG/u8xOPy00MSSllP65jXsCVjw3Xf0bVvaao4XJMDHuPTSHVcE6vFYFiY8orSVUtPEvVwT8t9ZUWDkyeVn12RnTRt5KQXLiWWGc09DbZZ5B952CqPntnWnH0VwoyvA9N0i/OtxaxtpRWXe9yDMjxUyE9I13/ABOtGHp+Iz5n5pV+RkO7Ugo6Ga4TKZ6mSVs/ecnTzXxR7RhU8GR+7yqmhXwcIftJtvor/eFq0Pu+6i7lcIqCkeeUgYGw9ToVIyC4St8rSy3evUieo+yh+4vYaBIGONOFojbrZG8RP4clLNHs0fmHuCNHia0N90UqOu903v1FBeLfyOMx1EQYH0Oi9lUEtNhIOGZYaRmt1TTxw1sIwHC4Mi9mB0NsTGnYJiXKnlAD3kj1Tmqp6qWRjFWeDEcADkBI65/lom6V2Q/9EQlmZqqrZmOSRKRn8NRSlSnEdPHLRtKciSMcyMpwQdceFZbeFq+eupA1QQxG2caouTKCNRcZNuo0DK8gURCpClvE0KCmBAx5/wCekhtujOAQlGfBqaUxgAs4zppgqihEqhq9qpiNjy9tO/oQh50nsyi8XiU13nWnIEafdHz99VA2RVbKoUAAbDVC0E2rgmkn4gHlh/yn+OiM4VSnFmcycP0TOclcqD8snUhUPKAv9BBVU7SuCs0W8ciHDKffVlKXcLXWprY2WoKMUblDY31VcmUlZMHYZGzEDb0J1NqKX//Z\"/></a><div class=\"gG0TJc\"><h3 class=\"r dO0Ag\"><a class=\"l lLrAF\" href=\"https://www.infomoney.com.br/mercados/acoes-de-bancos-com-mais-de-us-100-bilhoes-em-ativos-cairam-no-mundo-todo-em-agosto/\" onmousedown=\"return rwt(this,'','','','6','AOvVaw3j6TkFxiVV2R9wbDor8tjk','','0ahUKEwjHsZ-C3cnmAhWGJLkGHXoVBQ0QqQIIOygAMAU','','',event)\">Ações de bancos com mais de US$ 100 bilhões em ativos ...</a></h3><div class=\"slp\"><span class=\"xQ82C e8fRJf\">InfoMoney</span><span class=\"v0c3xd\">-</span><span class=\"f nsa fwzPFf\">4 de set. de 2019</span></div><div class=\"st\">Em termos nominais, o Bradesco teve a maior perda de valor de mercado entre os brasileiros, foram US$ 8,6 bilhões. Em seguida vem o <em>Itaú</em> Unibanco (ITUB4), ...</div></div></div></div><div class=\"g\"><div class=\"ts Pg8zWb hqn4Zb C1Iii FddHQd tsUanb\"><a class=\"top NQHJEb dfhHve\" href=\"https://www.infomoney.com.br/consumo/bancos-vao-dar-taxas-reduzidas-no-credito-na-semana-do-brasil/\" onmousedown=\"return rwt(this,'','','','7','AOvVaw2MwnRt3v8D1aZ05FJePKkQ','','0ahUKEwjHsZ-C3cnmAhWGJLkGHXoVBQ0QvIgBCD4wBg','','',event)\"><img alt='Imagem da história para \"itaú\" infomoney de InfoMoney' class=\"th BbeB2d\" data-atf=\"3\" id=\"news-thumbnail-image-52781125592301\" src=\"data:image/jpeg;base64,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\"/></a><div class=\"gG0TJc\"><h3 class=\"r dO0Ag\"><a class=\"l lLrAF\" href=\"https://www.infomoney.com.br/consumo/bancos-vao-dar-taxas-reduzidas-no-credito-na-semana-do-brasil/\" onmousedown=\"return rwt(this,'','','','7','AOvVaw2MwnRt3v8D1aZ05FJePKkQ','','0ahUKEwjHsZ-C3cnmAhWGJLkGHXoVBQ0QqQIIPygAMAY','','',event)\">Bancos vão dar taxas reduzidas no crédito na Semana do Brasil</a></h3><div class=\"slp\"><span class=\"xQ82C e8fRJf\">InfoMoney</span><span class=\"v0c3xd\">-</span><span class=\"f nsa fwzPFf\">5 de set. de 2019</span></div><div class=\"st\">Já o <em>Itaú</em> Unibanco optou por promover o <em>Itaú</em> Cinemas e o sistema de aluguel de bicicletas, dando desconto de 50% nos combos da bombonière da sua rede ...</div></div></div></div><div class=\"g\"><div class=\"ts Pg8zWb hqn4Zb C1Iii FddHQd tsUanb\"><a class=\"top NQHJEb dfhHve\" href=\"https://www.infomoney.com.br/onde-investir/itau-e-bradesco-avaliam-abrir-gestora-de-fortunas-em-portugal/\" onmousedown=\"return rwt(this,'','','','8','AOvVaw1lliPZrrbGIrlm0SPUcaF5','','0ahUKEwjHsZ-C3cnmAhWGJLkGHXoVBQ0QvIgBCEIwBw','','',event)\"><img alt='Imagem da história para \"itaú\" infomoney de InfoMoney' class=\"th BbeB2d\" data-atf=\"3\" id=\"news-thumbnail-image-52781167837243\" src=\"data:image/jpeg;base64,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\"/></a><div class=\"gG0TJc\"><h3 class=\"r dO0Ag\"><a class=\"l lLrAF\" href=\"https://www.infomoney.com.br/onde-investir/itau-e-bradesco-avaliam-abrir-gestora-de-fortunas-em-portugal/\" onmousedown=\"return rwt(this,'','','','8','AOvVaw1lliPZrrbGIrlm0SPUcaF5','','0ahUKEwjHsZ-C3cnmAhWGJLkGHXoVBQ0QqQIIQygAMAc','','',event)\"><em>Itaú</em> e Bradesco avaliam abrir gestora de fortunas em Portugal</a></h3><div class=\"slp\"><span class=\"xQ82C e8fRJf\">InfoMoney</span><span class=\"v0c3xd\">-</span><span class=\"f nsa fwzPFf\">15 de out. de 2019</span></div><div class=\"st\">(Bloomberg) — Bancos como o <em>Itaú</em> Unibanco e o Bradesco avaliam abrir escritórios de gestão de fortunas em Portugal em meio a uma onda de brasileiros ...</div></div></div></div><div class=\"g\"><div class=\"ts Pg8zWb hqn4Zb C1Iii FddHQd tsUanb\"><a class=\"top NQHJEb dfhHve\" href=\"https://www.infomoney.com.br/mercados/itau-conclui-compra-de-fatia-da-ticket-apos-aprovacao-do-bc-e-cade-petrobras-e-mais-noticias/\" onmousedown=\"return rwt(this,'','','','9','AOvVaw2ERwa5_DPqw_jcI4-_NUv5','','0ahUKEwjHsZ-C3cnmAhWGJLkGHXoVBQ0QvIgBCEYwCA','','',event)\"><img alt='Imagem da história para \"itaú\" infomoney de InfoMoney' class=\"th BbeB2d\" data-atf=\"3\" id=\"news-thumbnail-image-52781119004460\" src=\"data:image/jpeg;base64,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\"/></a><div class=\"gG0TJc\"><h3 class=\"r dO0Ag\"><a class=\"l lLrAF\" href=\"https://www.infomoney.com.br/mercados/itau-conclui-compra-de-fatia-da-ticket-apos-aprovacao-do-bc-e-cade-petrobras-e-mais-noticias/\" onmousedown=\"return rwt(this,'','','','9','AOvVaw2ERwa5_DPqw_jcI4-_NUv5','','0ahUKEwjHsZ-C3cnmAhWGJLkGHXoVBQ0QqQIIRygAMAg','','',event)\"><em>Itaú</em> conclui compra de fatia da Ticket após aprovação do BC ...</a></h3><div class=\"slp\"><span class=\"xQ82C e8fRJf\">InfoMoney</span><span class=\"v0c3xd\">-</span><span class=\"f nsa fwzPFf\">2 de set. de 2019</span></div><div class=\"st\">No Radar <em>InfoMoney</em> desta segunda-feira destaque à Petrobras que ampliou prazo para manifestação de interesse de empresas interessadas em seus ativos ...</div></div></div></div><div class=\"g\"><div class=\"ts Pg8zWb hqn4Zb C1Iii FddHQd tsUanb\"><a class=\"top NQHJEb dfhHve\" href=\"https://www.infomoney.com.br/minhas-financas/financiamento-imobiliario-as-taxas-de-juros-praticadas-pelos-bancos-no-brasil/\" onmousedown=\"return rwt(this,'','','','10','AOvVaw1_K5_jrdmxaIVIEYjNSes-','','0ahUKEwjHsZ-C3cnmAhWGJLkGHXoVBQ0QvIgBCEowCQ','','',event)\"><img alt='Imagem da história para \"itaú\" infomoney de InfoMoney' class=\"th BbeB2d\" data-atf=\"3\" id=\"news-thumbnail-image-52781152566041\" src=\"data:image/jpeg;base64,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\"/></a><div class=\"gG0TJc\"><h3 class=\"r dO0Ag\"><a class=\"l lLrAF\" href=\"https://www.infomoney.com.br/minhas-financas/financiamento-imobiliario-as-taxas-de-juros-praticadas-pelos-bancos-no-brasil/\" onmousedown=\"return rwt(this,'','','','10','AOvVaw1_K5_jrdmxaIVIEYjNSes-','','0ahUKEwjHsZ-C3cnmAhWGJLkGHXoVBQ0QqQIISygAMAk','','',event)\">Financiamento imobiliário: as taxas de juros praticadas pelos ...</a></h3><div class=\"slp\"><span class=\"xQ82C e8fRJf\">InfoMoney</span><span class=\"v0c3xd\">-</span><span class=\"f nsa fwzPFf\">2 de out. de 2019</span></div><div class=\"st\">Banco do Brasil e <em>Itaú</em> praticamente empatam no segundo lugar. Os juros estão próximos da mínima histórica brasileira para a modalidade, e abrem espaço ...</div></div></div></div><!--n--></div>]"
      ]
     },
     "execution_count": 9,
     "metadata": {},
     "output_type": "execute_result"
    }
   ],
   "source": [
    "html = BeautifulSoup(html_text, \"html.parser\")\n",
    "\n",
    "div_search = html.find_all('div', attrs={'class':'bkWMgd'})\n",
    "\n",
    "div_search"
   ]
  },
  {
   "cell_type": "markdown",
   "metadata": {},
   "source": [
    "<p>Veja que agora nossa busca por um <b>&lt;div&gt;...&lt;/div&gt;</b> com <b>'class=bkWMgd'</b> retornou o que queriamos, pois o script foi acionado pelo driver do Chrome logo após entrarmos na página. Fazendo uma nova busca pelos <b>&lt;a&gt;...&lt;/a&gt;</b> em <b>'div_search'</b>, conseguiremos extrair os links:</p>"
   ]
  },
  {
   "cell_type": "code",
   "execution_count": 10,
   "metadata": {},
   "outputs": [
    {
     "data": {
      "text/plain": [
       "[<a class=\"top NQHJEb dfhHve\" href=\"https://www.infomoney.com.br/negocios/cade-investiga-itau-e-rede-por-pratica-anticompetitiva-no-mercado-de-meios-de-pagamento/\" onmousedown=\"return rwt(this,'','','','1','AOvVaw3pmw5Aya3qncNQqpcYCFX5','','0ahUKEwjHsZ-C3cnmAhWGJLkGHXoVBQ0QvIgBCCYwAA','','',event)\"><img alt='Imagem da história para \"itaú\" infomoney de InfoMoney' class=\"th BbeB2d\" data-atf=\"1\" data-iml=\"1577033881343\" onload=\"typeof google==='object'&amp;&amp;google.aft&amp;&amp;google.aft(this)\" src=\"https://encrypted-tbn0.gstatic.com/images?q=tbn:ANd9GcQC_Q_g1z-p8BafqmPvodJ4R9BLXFi4jDfK5Xcp3-NJXrfo6HhBV-PpCPLJNvDHOm0kd5OX2tc&amp;s\"/></a>,\n",
       " <a class=\"l lLrAF\" href=\"https://www.infomoney.com.br/negocios/cade-investiga-itau-e-rede-por-pratica-anticompetitiva-no-mercado-de-meios-de-pagamento/\" onmousedown=\"return rwt(this,'','','','1','AOvVaw3pmw5Aya3qncNQqpcYCFX5','','0ahUKEwjHsZ-C3cnmAhWGJLkGHXoVBQ0QqQIIJygAMAA','','',event)\">Cade investiga <em>Itaú</em> e Rede por prática anticompetitiva no ...</a>,\n",
       " <a class=\"top NQHJEb dfhHve\" href=\"https://www.infomoney.com.br/minhas-financas/itau-unibanco-anuncia-reducao-nos-juros-do-credito-imobiliario/\" onmousedown=\"return rwt(this,'','','','2','AOvVaw3sRNQsotpkELTREsWwxWJ5','','0ahUKEwjHsZ-C3cnmAhWGJLkGHXoVBQ0QvIgBCCowAQ','','',event)\"><img alt='Imagem da história para \"itaú\" infomoney de InfoMoney' class=\"th BbeB2d\" data-atf=\"1\" data-iml=\"1577033881344\" onload=\"typeof google==='object'&amp;&amp;google.aft&amp;&amp;google.aft(this)\" src=\"https://encrypted-tbn0.gstatic.com/images?q=tbn:ANd9GcQC_Q_g1z-p8BafqmPvodJ4R9BLXFi4jDfK5Xcp3-NJXrfo6HhBV-PpCPLJNvDHOm0kd5OX2tc&amp;s\"/></a>,\n",
       " <a class=\"l lLrAF\" href=\"https://www.infomoney.com.br/minhas-financas/itau-unibanco-anuncia-reducao-nos-juros-do-credito-imobiliario/\" onmousedown=\"return rwt(this,'','','','2','AOvVaw3sRNQsotpkELTREsWwxWJ5','','0ahUKEwjHsZ-C3cnmAhWGJLkGHXoVBQ0QqQIIKygAMAE','','',event)\"><em>Itaú</em> Unibanco anuncia redução nos juros do crédito imobiliário</a>,\n",
       " <a class=\"top NQHJEb dfhHve\" href=\"https://www.infomoney.com.br/negocios/itau-adesao-ao-pdv-que-tem-7-mil-elegiveis-esta-acima-do-esperado/\" onmousedown=\"return rwt(this,'','','','3','AOvVaw3pUIadCVcyNL_wfSrAHmx_','','0ahUKEwjHsZ-C3cnmAhWGJLkGHXoVBQ0QvIgBCC4wAg','','',event)\"><img alt='Imagem da história para \"itaú\" infomoney de InfoMoney' class=\"th BbeB2d\" data-atf=\"1\" data-iml=\"1577033881344\" onload=\"typeof google==='object'&amp;&amp;google.aft&amp;&amp;google.aft(this)\" src=\"https://encrypted-tbn0.gstatic.com/images?q=tbn:ANd9GcTucqceeUjnbgBdtu12PT9IGZAqTKx3qnc2ykocufJmJYtnk_1_mRp7bz2n3MWQm7GnoAEE8lI&amp;s\"/></a>,\n",
       " <a class=\"l lLrAF\" href=\"https://www.infomoney.com.br/negocios/itau-adesao-ao-pdv-que-tem-7-mil-elegiveis-esta-acima-do-esperado/\" onmousedown=\"return rwt(this,'','','','3','AOvVaw3pUIadCVcyNL_wfSrAHmx_','','0ahUKEwjHsZ-C3cnmAhWGJLkGHXoVBQ0QqQIILygAMAI','','',event)\"><em>Itaú</em>: adesão ao PDV, que tem 7 mil elegíveis, está acima do ...</a>,\n",
       " <a class=\"top NQHJEb dfhHve\" href=\"https://www.infomoney.com.br/minhas-financas/bancos-disputam-credito-imobiliario-com-guerra-de-taxas-de-juros/\" onmousedown=\"return rwt(this,'','','','4','AOvVaw3nHm5Or8ZkG2Vw-KH7nClI','','0ahUKEwjHsZ-C3cnmAhWGJLkGHXoVBQ0QvIgBCDIwAw','','',event)\"><img alt='Imagem da história para \"itaú\" infomoney de InfoMoney' class=\"th BbeB2d\" data-atf=\"1\" id=\"news-thumbnail-image-52781151451197\" src=\"data:image/jpeg;base64,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\"/></a>,\n",
       " <a class=\"l lLrAF\" href=\"https://www.infomoney.com.br/minhas-financas/bancos-disputam-credito-imobiliario-com-guerra-de-taxas-de-juros/\" onmousedown=\"return rwt(this,'','','','4','AOvVaw3nHm5Or8ZkG2Vw-KH7nClI','','0ahUKEwjHsZ-C3cnmAhWGJLkGHXoVBQ0QqQIIMygAMAM','','',event)\">Bancos disputam crédito imobiliário com guerra de taxas de ...</a>,\n",
       " <a class=\"top NQHJEb dfhHve\" href=\"https://www.infomoney.com.br/mercados/itau-unibanco-e-bank-of-america-fecham-acordo-com-cvm-para-evitar-processo/\" onmousedown=\"return rwt(this,'','','','5','AOvVaw0soyYIUtuyvVmJjvB_azpx','','0ahUKEwjHsZ-C3cnmAhWGJLkGHXoVBQ0QvIgBCDYwBA','','',event)\"><img alt='Imagem da história para \"itaú\" infomoney de InfoMoney' class=\"th BbeB2d\" data-atf=\"3\" id=\"news-thumbnail-image-52781170518475\" src=\"data:image/jpeg;base64,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\"/></a>,\n",
       " <a class=\"l lLrAF\" href=\"https://www.infomoney.com.br/mercados/itau-unibanco-e-bank-of-america-fecham-acordo-com-cvm-para-evitar-processo/\" onmousedown=\"return rwt(this,'','','','5','AOvVaw0soyYIUtuyvVmJjvB_azpx','','0ahUKEwjHsZ-C3cnmAhWGJLkGHXoVBQ0QqQIINygAMAQ','','',event)\"><em>Itaú</em> Unibanco e Bank of America fecham acordo com CVM ...</a>,\n",
       " <a class=\"top NQHJEb dfhHve\" href=\"https://www.infomoney.com.br/mercados/acoes-de-bancos-com-mais-de-us-100-bilhoes-em-ativos-cairam-no-mundo-todo-em-agosto/\" onmousedown=\"return rwt(this,'','','','6','AOvVaw3j6TkFxiVV2R9wbDor8tjk','','0ahUKEwjHsZ-C3cnmAhWGJLkGHXoVBQ0QvIgBCDowBQ','','',event)\"><img alt='Imagem da história para \"itaú\" infomoney de InfoMoney' class=\"th BbeB2d\" data-atf=\"3\" id=\"news-thumbnail-image-52781121424460\" src=\"data:image/jpeg;base64,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\"/></a>,\n",
       " <a class=\"l lLrAF\" href=\"https://www.infomoney.com.br/mercados/acoes-de-bancos-com-mais-de-us-100-bilhoes-em-ativos-cairam-no-mundo-todo-em-agosto/\" onmousedown=\"return rwt(this,'','','','6','AOvVaw3j6TkFxiVV2R9wbDor8tjk','','0ahUKEwjHsZ-C3cnmAhWGJLkGHXoVBQ0QqQIIOygAMAU','','',event)\">Ações de bancos com mais de US$ 100 bilhões em ativos ...</a>,\n",
       " <a class=\"top NQHJEb dfhHve\" href=\"https://www.infomoney.com.br/consumo/bancos-vao-dar-taxas-reduzidas-no-credito-na-semana-do-brasil/\" onmousedown=\"return rwt(this,'','','','7','AOvVaw2MwnRt3v8D1aZ05FJePKkQ','','0ahUKEwjHsZ-C3cnmAhWGJLkGHXoVBQ0QvIgBCD4wBg','','',event)\"><img alt='Imagem da história para \"itaú\" infomoney de InfoMoney' class=\"th BbeB2d\" data-atf=\"3\" id=\"news-thumbnail-image-52781125592301\" src=\"data:image/jpeg;base64,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\"/></a>,\n",
       " <a class=\"l lLrAF\" href=\"https://www.infomoney.com.br/consumo/bancos-vao-dar-taxas-reduzidas-no-credito-na-semana-do-brasil/\" onmousedown=\"return rwt(this,'','','','7','AOvVaw2MwnRt3v8D1aZ05FJePKkQ','','0ahUKEwjHsZ-C3cnmAhWGJLkGHXoVBQ0QqQIIPygAMAY','','',event)\">Bancos vão dar taxas reduzidas no crédito na Semana do Brasil</a>,\n",
       " <a class=\"top NQHJEb dfhHve\" href=\"https://www.infomoney.com.br/onde-investir/itau-e-bradesco-avaliam-abrir-gestora-de-fortunas-em-portugal/\" onmousedown=\"return rwt(this,'','','','8','AOvVaw1lliPZrrbGIrlm0SPUcaF5','','0ahUKEwjHsZ-C3cnmAhWGJLkGHXoVBQ0QvIgBCEIwBw','','',event)\"><img alt='Imagem da história para \"itaú\" infomoney de InfoMoney' class=\"th BbeB2d\" data-atf=\"3\" id=\"news-thumbnail-image-52781167837243\" src=\"data:image/jpeg;base64,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\"/></a>,\n",
       " <a class=\"l lLrAF\" href=\"https://www.infomoney.com.br/onde-investir/itau-e-bradesco-avaliam-abrir-gestora-de-fortunas-em-portugal/\" onmousedown=\"return rwt(this,'','','','8','AOvVaw1lliPZrrbGIrlm0SPUcaF5','','0ahUKEwjHsZ-C3cnmAhWGJLkGHXoVBQ0QqQIIQygAMAc','','',event)\"><em>Itaú</em> e Bradesco avaliam abrir gestora de fortunas em Portugal</a>,\n",
       " <a class=\"top NQHJEb dfhHve\" href=\"https://www.infomoney.com.br/mercados/itau-conclui-compra-de-fatia-da-ticket-apos-aprovacao-do-bc-e-cade-petrobras-e-mais-noticias/\" onmousedown=\"return rwt(this,'','','','9','AOvVaw2ERwa5_DPqw_jcI4-_NUv5','','0ahUKEwjHsZ-C3cnmAhWGJLkGHXoVBQ0QvIgBCEYwCA','','',event)\"><img alt='Imagem da história para \"itaú\" infomoney de InfoMoney' class=\"th BbeB2d\" data-atf=\"3\" id=\"news-thumbnail-image-52781119004460\" src=\"data:image/jpeg;base64,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\"/></a>,\n",
       " <a class=\"l lLrAF\" href=\"https://www.infomoney.com.br/mercados/itau-conclui-compra-de-fatia-da-ticket-apos-aprovacao-do-bc-e-cade-petrobras-e-mais-noticias/\" onmousedown=\"return rwt(this,'','','','9','AOvVaw2ERwa5_DPqw_jcI4-_NUv5','','0ahUKEwjHsZ-C3cnmAhWGJLkGHXoVBQ0QqQIIRygAMAg','','',event)\"><em>Itaú</em> conclui compra de fatia da Ticket após aprovação do BC ...</a>,\n",
       " <a class=\"top NQHJEb dfhHve\" href=\"https://www.infomoney.com.br/minhas-financas/financiamento-imobiliario-as-taxas-de-juros-praticadas-pelos-bancos-no-brasil/\" onmousedown=\"return rwt(this,'','','','10','AOvVaw1_K5_jrdmxaIVIEYjNSes-','','0ahUKEwjHsZ-C3cnmAhWGJLkGHXoVBQ0QvIgBCEowCQ','','',event)\"><img alt='Imagem da história para \"itaú\" infomoney de InfoMoney' class=\"th BbeB2d\" data-atf=\"3\" id=\"news-thumbnail-image-52781152566041\" src=\"data:image/jpeg;base64,/9j/4AAQSkZJRgABAQAAAQABAAD/2wCEAAkGBwgHBgkIBwgKCgkLDRYPDQwMDRsUFRAWIB0iIiAdHx8kKDQsJCYxJx8fLT0tMTU3Ojo6Iys/RD84QzQ5OjcBCgoKDQwNGg8PGjclHyU3Nzc3Nzc3Nzc3Nzc3Nzc3Nzc3Nzc3Nzc3Nzc3Nzc3Nzc3Nzc3Nzc3Nzc3Nzc3Nzc3N//AABEIAGQAZAMBIgACEQEDEQH/xAAcAAABBQEBAQAAAAAAAAAAAAAEAAEDBQYCBwj/xAA5EAACAQMCAwUFBQcFAAAAAAABAgMABBEFIQYSMRMiQVFhMnGBkcEHFDNCoSNSU3KCsfAkYpLR4f/EABoBAAMBAQEBAAAAAAAAAAAAAAABAgMEBQb/xAAmEQACAgEDAwMFAAAAAAAAAAAAAQIRAwQSUTFBkQUTcRQVITJS/9oADAMBAAIRAxEAPwDPxYo6DFV0TUbC3SqKLKJRtRSKKEgbOKMj8KAJkWiESoo6IjoA7WMGma3zU61IACKAAGg9K4MVWDptUDrTABdAK4K7UQ4rggYpABsu9KpyBmlTAxkTUXE1V8bUXEaQFtbPVjEcgVTW7b1aQPsKADozRETUEjUTE21ABoaug9C89P2nrTAM5wRUbb0OZceNMJqAHlWh2qZ5AahYikBEetPTE70qAMIFaNyj7MpwRRUTVp+J+H45A19YYBO7KOjVlIjvvUwkpKzTJjcHTLGFsVYQyYFVUbYopJNqozLRJBmiUlqqikou3RppQoOB1J8hQ3SsqEXOSjHqy1tx2nePsj9an5E/dqNMKoCjArvmrhnkcnZ9Rp9HDFj2tW+4/Yxn8tMYI/L9afmpZqd8uTR6fF/K8EbW8eM7j41nxrMMmoSW0f4a7I5PU0Vr1+QBZW7ftJB3yPyr/wC1SXOlssQkjBDjyrWEp9TnzYdLftySTffguWnGetKqOHUAUHathxsfWlXQskTxZ6HURk1tZouHNWSUGyvXxINuVvGqLiGw+4ak3IMRSd5fSs5ca0JdUW8hLL2ewOOtai91az1rSllMyrcRLnGetZRTi7KySjki13RWxtUyvVPBqUbuPL9flRxmTk5llXPk2x+RrpSbOCyxWdYxzOwUetWvD96NSkmttNUTTQqHkGcHBOBuaxsml6ndGNre5inMxIWEHvD3jwrWfZDY3FrrWqrdQCNuwQEg5yQxqJw3/hnTptS9PPekn8l60GoJ+Jp839GG/tUZmlT27O6X3xGt8kS08gjhTmckD3Vk9MuT1I+tcwXk89N/Cvtll/mUio7vVIYoWaNhI/RUHifCt+8lk/tyx/1D/uqTiPTbdo4HghiJZjgxqMn5VP075NfvGOv0d/JitMs3eVppyWkY5Ynzq4lt1MfLRUNlKDypE2fLFcyAL7RPuAzXRGFKjx8maU5bmZa70KSSbtIm5VbfAX1pVqZEXljH+36mlU+zE6o+q6iKqzA2HCl3cSdpDbJMo9qTtQg+Io48HzKC13Np1uD4ljlfjW7h4Z0iG2WN7dkXA5lS5kC59O9UL8FcLXDZl06OQj96Zj9a22o8u2YOTTuH7Qct/wASWrEfljVSR7tzQ0uq8G26chu7+8AOcDmAz8hW1j4R4Um1hrG30SB0ij555e0buE+yBv18asbfgXhll5joUCggEc2ST+tFMR5ceMeH7Ug2OhOzL7LSv0+ZNbb7KeJX17VNQQ2cNskUKkcnU5bx2q1n+zrhuWdVXRIxGVyXWZlwfLGateGeDdO4cup59KtjEZkCvmVmzg58aVMDSoaH1Q/6aiBHIOqGuLi2a5jZC3IPDbNAIzc0gyc1aXRBgsvLnNQz8PyscrcD4jFR6wVhs4IWc90nvHb40FNnUDA3746YrP3DoWGc7Z6LmjY7m2ScyNOzdMKqHaqea6iViWYAepAoALdgyoQCAQcZ95pqrpNXsVWMG6gzy/xB5mmp0I2scaRIF7ZX5V5EZ3HTzrm5W3SEmDs2kVdlEgGTj1P+YFeK2wj0u2aR23x0rN3V5LczNI7t3j05ulRHLfYucNvc+hOG7d7Gydrt4PvdxIZJuRhgZ6D4CrQzOfw5IhvuDvtn318xByPE/Ou1mYdHb51W8zPp5HkJOJU9NqIgkYKOd1zjevl0XEn8R/8Aka1fAMxfULgOxYdj4nP5hT3WB7zHJKQC8sY88VP2uc94GvNwyjy+VRag4FvtjrTaBHpvaeorP8ZacL3RpZIZGjnh/aBkcjIHUHB8t/eK82nnC5yaNu5kksrXJwpYg42qepVUVv3LnlKTXcjEEZBLMP1NVbxRq3sj5CrqN0N2dgRjbO9Ulwy82+fgcUCJWClI/wCX6mlQzyBQoHQD6mlQBl9Ru5ri4ftXyF6DwoQGlSrKPQJO2dA04NKlVCOga0nBUjJqE3KesX1FKlTXUaNrHcSedSMxlHJIARSpVZQPcWUPLzBSKB1BilnbqvQM396VKgRWfeJI5OZTvQb5kGScdelKlUjIXYkL7vqaelSoIP/Z\"/></a>,\n",
       " <a class=\"l lLrAF\" href=\"https://www.infomoney.com.br/minhas-financas/financiamento-imobiliario-as-taxas-de-juros-praticadas-pelos-bancos-no-brasil/\" onmousedown=\"return rwt(this,'','','','10','AOvVaw1_K5_jrdmxaIVIEYjNSes-','','0ahUKEwjHsZ-C3cnmAhWGJLkGHXoVBQ0QqQIISygAMAk','','',event)\">Financiamento imobiliário: as taxas de juros praticadas pelos ...</a>]"
      ]
     },
     "execution_count": 10,
     "metadata": {},
     "output_type": "execute_result"
    }
   ],
   "source": [
    "a_search = div_search[0].find_all('a')\n",
    "\n",
    "a_search"
   ]
  },
  {
   "cell_type": "markdown",
   "metadata": {},
   "source": [
    "<p>Extraindo os <b>href</b> e eliminado links duplicados:</p>"
   ]
  },
  {
   "cell_type": "code",
   "execution_count": 11,
   "metadata": {},
   "outputs": [
    {
     "data": {
      "text/plain": [
       "['https://www.infomoney.com.br/mercados/itau-conclui-compra-de-fatia-da-ticket-apos-aprovacao-do-bc-e-cade-petrobras-e-mais-noticias/',\n",
       " 'https://www.infomoney.com.br/minhas-financas/financiamento-imobiliario-as-taxas-de-juros-praticadas-pelos-bancos-no-brasil/',\n",
       " 'https://www.infomoney.com.br/consumo/bancos-vao-dar-taxas-reduzidas-no-credito-na-semana-do-brasil/',\n",
       " 'https://www.infomoney.com.br/negocios/cade-investiga-itau-e-rede-por-pratica-anticompetitiva-no-mercado-de-meios-de-pagamento/',\n",
       " 'https://www.infomoney.com.br/onde-investir/itau-e-bradesco-avaliam-abrir-gestora-de-fortunas-em-portugal/',\n",
       " 'https://www.infomoney.com.br/negocios/itau-adesao-ao-pdv-que-tem-7-mil-elegiveis-esta-acima-do-esperado/',\n",
       " 'https://www.infomoney.com.br/minhas-financas/bancos-disputam-credito-imobiliario-com-guerra-de-taxas-de-juros/',\n",
       " 'https://www.infomoney.com.br/mercados/itau-unibanco-e-bank-of-america-fecham-acordo-com-cvm-para-evitar-processo/',\n",
       " 'https://www.infomoney.com.br/mercados/acoes-de-bancos-com-mais-de-us-100-bilhoes-em-ativos-cairam-no-mundo-todo-em-agosto/',\n",
       " 'https://www.infomoney.com.br/minhas-financas/itau-unibanco-anuncia-reducao-nos-juros-do-credito-imobiliario/']"
      ]
     },
     "execution_count": 11,
     "metadata": {},
     "output_type": "execute_result"
    }
   ],
   "source": [
    "links = []\n",
    "\n",
    "for a in a_search:\n",
    "    link = a.get('href')\n",
    "    links.append(link)\n",
    "    \n",
    "links = list(set(links))\n",
    "\n",
    "links"
   ]
  },
  {
   "cell_type": "markdown",
   "metadata": {},
   "source": [
    "<p>Com menos esforço, conseguimos extrair todos os links de uma busca no google, apenas ativando o script que antes não era possível ativar. Se quisermos extrair links de <b>n = 4</b> páginas, podemos usar o código a seguir. No final do processo não podemos esquecer de usar <b>driver.close()</b> para encerrar o processo e fechar o driver.</p>"
   ]
  },
  {
   "cell_type": "code",
   "execution_count": 12,
   "metadata": {
    "scrolled": true
   },
   "outputs": [
    {
     "data": {
      "text/plain": [
       "['https://www.infomoney.com.br/minhas-financas/financiamento-imobiliario-as-taxas-de-juros-praticadas-pelos-bancos-no-brasil/',\n",
       " 'https://www.infomoney.com.br/carreira/itau-e-jpmorgan-buscam-talentos-em-bonds-para-rali-da-america-latina/',\n",
       " 'https://www.infomoney.com.br/mercados/construcao-pode-ser-chave-para-economia-deslanchar-diz-economista-chefe-do-itau/',\n",
       " 'https://www.infomoney.com.br/mercados/e-se-tivermos-mesmo-uma-recessao-global-estas-sao-as-5-acoes-para-comprar-segundo-o-itau-bba/',\n",
       " 'https://www.infomoney.com.br/consumo/bancos-vao-dar-taxas-reduzidas-no-credito-na-semana-do-brasil/',\n",
       " 'https://www.infomoney.com.br/mercados/bancos-brasileiros-nunca-foram-tao-bons-pagadores-de-dividendos-como-agora-destaca-credit-suisse/',\n",
       " 'https://www.infomoney.com.br/mercados/itau-unibanco-e-bank-of-america-fecham-acordo-com-cvm-para-evitar-processo/',\n",
       " 'https://www.infomoney.com.br/mercados/reacao-exagerada-ou-justificada-analistas-se-dividem-sobre-impacto-das-fintechs-para-as-acoes-dos-bancoes/',\n",
       " 'https://www.infomoney.com.br/mercados/acoes-de-bancos-com-mais-de-us-100-bilhoes-em-ativos-cairam-no-mundo-todo-em-agosto/',\n",
       " 'https://www.infomoney.com.br/mercados/credit-ve-jbs-como-campea-e-itau-bba-diz-que-bradesco-pode-pagar-ainda-mais-dividendos-os-destaques-das-recomendacoes/',\n",
       " 'https://www.infomoney.com.br/mercados/os-motivos-para-ficar-otimista-com-as-acoes-brasileiras-segundo-grandes-bancos/',\n",
       " 'https://www.infomoney.com.br/mercados/compra-da-adtalem-faz-sentido-estrategico-e-financeiro-para-a-yduqs-dizem-analistas/',\n",
       " 'https://www.infomoney.com.br/economia/fusao-de-bancos-eleva-custo-de-credito-em-pequenas-cidades/',\n",
       " 'https://www.infomoney.com.br/onde-investir/itau-e-bradesco-avaliam-abrir-gestora-de-fortunas-em-portugal/',\n",
       " 'https://www.infomoney.com.br/negocios/itau-adesao-ao-pdv-que-tem-7-mil-elegiveis-esta-acima-do-esperado/',\n",
       " 'https://www.infomoney.com.br/minhas-financas/bancos-disputam-credito-imobiliario-com-guerra-de-taxas-de-juros/',\n",
       " 'https://www.infomoney.com.br/mercados/petrobras-corta-preco-do-diesel-em-3-e-itau-compra-startup-por-r-575-mi-4-balancos-e-mais-destaques/',\n",
       " 'https://www.infomoney.com.br/minhas-financas/banco-inter-tambem-anuncia-reducao-de-juros-no-credito-imobiliario/',\n",
       " 'https://www.infomoney.com.br/mercados/os-5-assuntos-que-vao-agitar-o-mercado-nesta-terca-feira-011019/',\n",
       " 'https://www.infomoney.com.br/mercados/itau-conclui-compra-de-fatia-da-ticket-apos-aprovacao-do-bc-e-cade-petrobras-e-mais-noticias/',\n",
       " 'https://www.infomoney.com.br/mercados/itau-b3-banco-do-brasil-e-mais-46-empresas-divulgam-resultados-na-proxima-semana-confira/',\n",
       " 'https://www.infomoney.com.br/patrocinados/pr-newswire/convite-teleconferencia-itau-unibanco-holding-s-a-6/',\n",
       " 'https://www.infomoney.com.br/mercados/acao-da-brf-cai-cerca-de-1-apos-nova-fase-da-carne-fraca-petrobras-e-vale-sobem-com-commodities/',\n",
       " 'https://www.infomoney.com.br/mercados/bc-quer-reduzir-os-compulsorios-e-anima-investidores-qual-o-impacto-para-os-bancos-brasileiros/',\n",
       " 'https://www.infomoney.com.br/negocios/cade-investiga-itau-e-rede-por-pratica-anticompetitiva-no-mercado-de-meios-de-pagamento/',\n",
       " 'https://www.infomoney.com.br/mercados/policia-deve-denunciar-funcionarios-da-vale-sobre-caso-brumadinho-cielo-nega-negociacao-com-a-stone-e-mais-destaques/',\n",
       " 'https://www.infomoney.com.br/mercados/fundos-de-apenas-uma-acao-fazem-parte-de-investimentos-de-300-mil-pessoas/',\n",
       " 'https://www.infomoney.com.br/mercados/credit-eleva-preco-alvo-da-acao-da-ambev-e-itau-bba-destaca-utilities-preferidas-os-destaques-das-recomendacoes/',\n",
       " 'https://www.infomoney.com.br/economia/bancos-anunciam-cortes-de-juros-em-linhas-de-credito-apos-queda-da-selic/',\n",
       " 'https://www.infomoney.com.br/onde-investir/aplicacoes-automaticas-por-que-nao-vale-a-pena-aderir-as-opcoes-oferecidas-pelos-bancos/',\n",
       " 'https://www.infomoney.com.br/minhas-financas/itau-unibanco-anuncia-reducao-nos-juros-do-credito-imobiliario/',\n",
       " 'https://www.infomoney.com.br/mercados/santander-preve-crescimento-anual-de-10-da-carteira-de-credito-ate-2022/',\n",
       " 'https://www.infomoney.com.br/mercados/dolar-e-ibovespa-caem-mas-nao-apagam-altas-em-semana-marcada-por-ajuste-de-juros-e-politica/',\n",
       " 'https://www.infomoney.com.br/onde-investir/as-acoes-favoritas-dos-analistas-para-investir-em-setembro/',\n",
       " 'https://www.infomoney.com.br/negocios/lazaro-brandao-o-bancario-que-transformou-o-bradesco/',\n",
       " 'https://www.infomoney.com.br/mercados/acoes-de-petrobras-vale-e-siderurgicas-sobem-com-commodities-magalu-e-b2w-avancam-com-recomendacao/',\n",
       " 'https://www.infomoney.com.br/negocios/odebrecht-avanca-em-reestruturacao-com-outros-bancos-apesar-de-disputa-com-a-caixa/',\n",
       " 'https://www.infomoney.com.br/onde-investir/itau-aumenta-carteira-de-etfs-de-renda-fixa-com-dois-novos-produtos/',\n",
       " 'https://www.infomoney.com.br/mercados/comeca-a-temporada-de-resultados-do-3o-trimestre-confira-as-acoes-e-os-setores-para-ficar-de-olho/',\n",
       " 'https://www.infomoney.com.br/mercados/acoes-de-bancos-sobem-ate-4-seguindo-noticia-sobre-compulsorio-mrv-cai-3-apos-anuncio-de-aquisicao/']"
      ]
     },
     "execution_count": 12,
     "metadata": {},
     "output_type": "execute_result"
    }
   ],
   "source": [
    "# Iniciando o driver\n",
    "options = Options()  \n",
    "options.add_argument(\"--headless\") \n",
    "driver = webdriver.Chrome('./driver/chromedriver.exe', options=options)\n",
    "\n",
    "# Parâmetros da nossa busca\n",
    "pag = [0, 10, 20, 30]\n",
    "busca = '%22ita%C3%BA%22+infomoney'\n",
    "per = 'cd_min:9/1/2019,cd_max:11/1/2019'\n",
    "\n",
    "# Vetor para armazenar os links do InfoMoney\n",
    "links = []\n",
    "\n",
    "# Loop entre as páginas de 1 a 4\n",
    "for n in pag:\n",
    "    # Acessando a página pelo navegador\n",
    "    url = f'https://www.google.com.br/search?q={busca}&tbs=cdr:1,{per}&tbm=nws&ei=aj_YXeiwGcbZ5gLut4noDw&start={n}&sa=N&ved=0ahUKEwjojZbtzv7lAhXGrFkKHe5bAv0Q8tMDCFM&biw=1920&bih=944&dpr=1'\n",
    "    driver.get(url)\n",
    "    \n",
    "    # Extraindo o código fonte da página\n",
    "    html_text = driver.page_source\n",
    "    \n",
    "    # HTML organizado pelo bs4\n",
    "    html = BeautifulSoup(html_text, \"html.parser\")\n",
    "    \n",
    "    # Extração de todos os <a>...</a> no <div>...</div> do resultado da busca\n",
    "    div_search = html.find_all('div', attrs={'class':'bkWMgd'})\n",
    "    a_search = div_search[0].find_all('a')\n",
    "    \n",
    "    # Retirando os 'href'\n",
    "    for a in a_search:\n",
    "        link = a.get('href')\n",
    "        # Verificando se o link é do InfoMoney\n",
    "        if 'www.infomoney.com.br' in link:\n",
    "            links.append(link)\n",
    "\n",
    "# Encerrando o driver\n",
    "driver.close()\n",
    "\n",
    "# Retirando links duplicados\n",
    "links = list(set(links))\n",
    "    \n",
    "links"
   ]
  },
  {
   "cell_type": "markdown",
   "metadata": {},
   "source": [
    "<p>O tempo de processamento obviamente é um pouco mais lento do que fazendo <b>requests</b>, mas o Selenium nos permite acessar partes de uma página que apenas com uma requisição não seria suficiente.</p>"
   ]
  },
  {
   "cell_type": "markdown",
   "metadata": {},
   "source": [
    "<p>_______________________________________________________________________________________________________________________</p>\n",
    "<p>_______________________________________________________________________________________________________________________</p>"
   ]
  },
  {
   "cell_type": "code",
   "execution_count": null,
   "metadata": {},
   "outputs": [],
   "source": []
  }
 ],
 "metadata": {
  "kernelspec": {
   "display_name": "Python 3",
   "language": "python",
   "name": "python3"
  },
  "language_info": {
   "codemirror_mode": {
    "name": "ipython",
    "version": 3
   },
   "file_extension": ".py",
   "mimetype": "text/x-python",
   "name": "python",
   "nbconvert_exporter": "python",
   "pygments_lexer": "ipython3",
   "version": "3.6.10"
  }
 },
 "nbformat": 4,
 "nbformat_minor": 2
}
