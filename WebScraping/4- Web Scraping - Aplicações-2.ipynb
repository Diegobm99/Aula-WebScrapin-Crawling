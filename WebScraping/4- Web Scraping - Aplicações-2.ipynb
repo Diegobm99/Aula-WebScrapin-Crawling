{
 "cells": [
  {
   "cell_type": "markdown",
   "metadata": {},
   "source": [
    "<h1 id='parte-3'>4. Extraíndo as informações de uma página web - parte 2</h1>"
   ]
  },
  {
   "cell_type": "markdown",
   "metadata": {},
   "source": [
    "<h2 id='parte-3a' style=\"color:blue;\">a. Extraindo uma lista de links do google</h2>"
   ]
  },
  {
   "cell_type": "markdown",
   "metadata": {},
   "source": [
    "<p>Vamos tentar extrair uma lista de notícias do <b>InfoMoney</b> através de uma busca do google na área <b>news</b>, usando como filtros o assunto <b>'itaú'</b> e um intervalo de tempo <b>[01/09/2019, 01/11/2019]</b>. Para isso devemos analisar como o link se comporta de acordo com a nossa pesquisa:</p>"
   ]
  },
  {
   "cell_type": "markdown",
   "metadata": {},
   "source": [
    "<ul><li><b>url</b> = <b style=\"color:blue;\">https://www.google.com.br/search?q=<b style=\"color:red;\">%22ita%C3%BA%22+infomoney</b>&tbs=cdr:1,<b style=\"color:red;\">cd_min:9/1/2019,cd_max:11/1/2019</b>&source=lnms&tbm=nws&sa=X&ved=2ahUKEwjin7bEyf7lAhWss1kKHRkwAuw4ChD8BSgBegQICxAD&biw=1920&bih=944</b></li></ul>"
   ]
  },
  {
   "cell_type": "markdown",
   "metadata": {},
   "source": [
    "<p>A primeira parte <b style=\"color:red;\">%22ita%C3%BA%22+infomoney</b> representa nossa pesquisa. Como um link não pode conter <b>aspas(%22)</b> ou letras com acento <b>(ú : %C3%BA)</b>, o link é encodado para um navegador conseguir interpretar o que está sendo passado. A segunda parte <b style=\"color:red;\">cd_min:9/1/2019,cd_max:11/1/2019</b> indica o intervalo de tempo em que estamos fazendo a busca.</p>"
   ]
  },
  {
   "cell_type": "markdown",
   "metadata": {},
   "source": [
    "<p>Ao mudarmos para a segunda página, vemos que um novo parâmetro aparece dentro do link:</p>"
   ]
  },
  {
   "cell_type": "markdown",
   "metadata": {},
   "source": [
    "<ul><li><b>url</b> = <b style=\"color:blue;\">https://www.google.com.br/search?q=<b style=\"color:red;\">%22ita%C3%BA%22+infomoney</b>&tbs=cdr:1,<b style=\"color:red;\">cd_min:9/1/2019,cd_max:11/1/2019</b>&tbm=nws&ei=aj_YXeiwGcbZ5gLut4noDw&<b style=\"color:red;\">start=10</b>&sa=N&ved=0ahUKEwjojZbtzv7lAhXGrFkKHe5bAv0Q8tMDCFM&biw=1920&bih=944&dpr=1</b></li></ul>"
   ]
  },
  {
   "cell_type": "markdown",
   "metadata": {},
   "source": [
    "<p>A parte <b style=\"color:red;\">start=10</b> indica o número da primeira notícia a ser mostrada na página. Cada página apresenta <b>10</b> notícias no total, então a segunda página apresenta as notícias de <b>10 a 19</b>, a terceira <b>20 a 29</b>, etc. Então para facilitar nossa extração de notícias dentro do python, apenas temos que usar links mudando o parâmetro <b style=\"color:red;\">start=0,10,20,30....</b></p>"
   ]
  },
  {
   "cell_type": "markdown",
   "metadata": {},
   "source": [
    "<p>_______________________________________________________________________________________________________________________</p>"
   ]
  },
  {
   "cell_type": "markdown",
   "metadata": {},
   "source": [
    "<h3 id='parte-1a1' style=\"color:green;\">a.1. Fazendo um GET na busca e procurando pelos links</h3>"
   ]
  },
  {
   "cell_type": "code",
   "execution_count": 1,
   "metadata": {},
   "outputs": [],
   "source": [
    "import requests\n",
    "from bs4 import BeautifulSoup"
   ]
  },
  {
   "cell_type": "markdown",
   "metadata": {},
   "source": [
    "<p><b>Request</b> no link com parâmetro <b style=\"color:red;\">start=0</b>(primeira página):</p>"
   ]
  },
  {
   "cell_type": "code",
   "execution_count": 3,
   "metadata": {},
   "outputs": [
    {
     "data": {
      "text/plain": [
       "200"
      ]
     },
     "execution_count": 3,
     "metadata": {},
     "output_type": "execute_result"
    }
   ],
   "source": [
    "url = 'https://www.google.com.br/search?q=%22ita%C3%BA%22+infomoney&tbs=cdr:1,cd_min:9/1/2019,cd_max:11/1/2019&tbm=nws&ei=aj_YXeiwGcbZ5gLut4noDw&start=0&sa=N&ved=0ahUKEwjojZbtzv7lAhXGrFkKHe5bAv0Q8tMDCFM&biw=1920&bih=944&dpr=1'\n",
    "response = requests.get(url)\n",
    "\n",
    "response.status_code"
   ]
  },
  {
   "cell_type": "markdown",
   "metadata": {},
   "source": [
    "<p>Organizando a reposta com <b>bs4</b>:</p>"
   ]
  },
  {
   "cell_type": "code",
   "execution_count": 4,
   "metadata": {},
   "outputs": [],
   "source": [
    "html = BeautifulSoup(response.text, \"html.parser\")"
   ]
  },
  {
   "cell_type": "markdown",
   "metadata": {},
   "source": [
    "<p>Para extrair os links de uma página, devemos procurar pelos atributos <b>'href'</b> no código. Inspecionando a página, vemos que ela está dentro de um <b>&lt;div&gt;...&lt;/div&gt;</b> com <b>'class=bkWMgd'</b>, então precisamos passar isso para o <b>'.find_all()'</b></p>"
   ]
  },
  {
   "cell_type": "code",
   "execution_count": 5,
   "metadata": {},
   "outputs": [
    {
     "data": {
      "text/plain": [
       "[]"
      ]
     },
     "execution_count": 5,
     "metadata": {},
     "output_type": "execute_result"
    }
   ],
   "source": [
    "div_search = html.find_all('div', attrs={'class':'bkWMgd'})\n",
    "\n",
    "div_search"
   ]
  },
  {
   "cell_type": "markdown",
   "metadata": {},
   "source": [
    "<p>Encontramos um problema, nosso código retornou um vetor vazio, não encontramos o que procurávamos, mesmo inspecionando e sabendo que ele está na página. Mas existe um motivo para isso. Acima do <b>&lt;div&gt;...&lt;/div&gt;</b> há um <b>&lt;script&gt;</b> que diz quando algumas partes da página devem ser geradas ou não. No caso o que queriamos procurar só é gerado depois que o script é acionado, porém com <b>requests.get</b> isso não é possível. Nós apenas estamos pegando o código puro da página usando o <b>GET</b>, então o <b>script</b> nunca é acionado no nosso caso, isso mostrando as limitações do <b>Web Scraping</b>. Em capítulos mais a frente iremos aprender sobre <b>Web Crawling</b> e como contornar essa limitação.</p>"
   ]
  },
  {
   "cell_type": "markdown",
   "metadata": {},
   "source": [
    "<img src=\"./imagens/script-google.png\" />"
   ]
  },
  {
   "cell_type": "markdown",
   "metadata": {},
   "source": [
    "<p>Por agora vamos continuar usando as mesmas ferramentas para extrair o que queremos, só teremos um pouco mais de trabalho para isso. Mesmo o <b>&lt;script&gt;</b> não sendo ativado, ainda assim conseguiremos achar os links que queremos(mas não tão organizado como antes).</p>"
   ]
  },
  {
   "cell_type": "markdown",
   "metadata": {},
   "source": [
    "<p>Vamos procurar então diretamente pela tag <b>&lt;a&gt;...&lt;/a&gt;</b> dentro de todo o código e depois limpamos o que não nos importar:</p>"
   ]
  },
  {
   "cell_type": "code",
   "execution_count": 7,
   "metadata": {},
   "outputs": [
    {
     "data": {
      "text/plain": [
       "[<a href=\"/?sa=X&amp;ved=0ahUKEwj_r6Kdx8nmAhWZD7kGHb6mD7sQOwgC\"><span class=\"V6gwVd\">G</span><span class=\"iWkuvd\">o</span><span class=\"cDrQ7\">o</span><span class=\"V6gwVd\">g</span><span class=\"ntlR9\">l</span><span class=\"iWkuvd tJ3Myc\">e</span></a>,\n",
       " <a href=\"/search?q=%22ita%C3%BA%22+infomoney&amp;tbm=nws&amp;tbs=cdr:1,cd_min:9/1/2019,cd_max:11/1/2019&amp;sa=N&amp;biw=1920&amp;bih=944&amp;ie=UTF-8&amp;gbv=1&amp;sei=wIn_Xf_PCpmf5OUPvs2-2As\">aqui</a>,\n",
       " <a class=\"eZt8xd\" href=\"/search?q=%22ita%C3%BA%22+infomoney&amp;biw=1920&amp;bih=944&amp;ie=UTF-8&amp;source=lnms&amp;sa=X&amp;ved=0ahUKEwj_r6Kdx8nmAhWZD7kGHb6mD7sQ_AUIBSgA\">Todas</a>,\n",
       " <a class=\"eZt8xd\" href=\"/search?q=%22ita%C3%BA%22+infomoney&amp;biw=1920&amp;bih=944&amp;ie=UTF-8&amp;tbm=shop&amp;source=lnms&amp;sa=X&amp;ved=0ahUKEwj_r6Kdx8nmAhWZD7kGHb6mD7sQ_AUIBygC\">Shopping</a>,\n",
       " <a class=\"eZt8xd\" href=\"https://maps.google.com.br/maps?q=%22ita%C3%BA%22+infomoney&amp;biw=1920&amp;bih=944&amp;dpr=1&amp;um=1&amp;ie=UTF-8&amp;sa=X&amp;ved=0ahUKEwj_r6Kdx8nmAhWZD7kGHb6mD7sQ_AUICCgD\">Maps</a>,\n",
       " <a href=\"/search?q=%22ita%C3%BA%22+infomoney&amp;biw=1920&amp;bih=944&amp;ie=UTF-8&amp;tbm=isch&amp;source=lnms&amp;sa=X&amp;ved=0ahUKEwj_r6Kdx8nmAhWZD7kGHb6mD7sQ_AUICSgE\">Imagens</a>,\n",
       " <a href=\"/search?q=%22ita%C3%BA%22+infomoney&amp;biw=1920&amp;bih=944&amp;ie=UTF-8&amp;tbm=vid&amp;source=lnms&amp;sa=X&amp;ved=0ahUKEwj_r6Kdx8nmAhWZD7kGHb6mD7sQ_AUICigF\">Vídeos</a>,\n",
       " <a href=\"/search?q=%22ita%C3%BA%22+infomoney&amp;biw=1920&amp;bih=944&amp;ie=UTF-8&amp;tbm=bks&amp;source=lnms&amp;sa=X&amp;ved=0ahUKEwj_r6Kdx8nmAhWZD7kGHb6mD7sQ_AUICygG\">Livros</a>,\n",
       " <a href=\"/advanced_search\" id=\"st-toggle\" role=\"button\" style=\"white-space:nowrap\">Ferramentas de pesquisa</a>,\n",
       " <a href=\"/search?q=%22ita%C3%BA%22+infomoney&amp;biw=1920&amp;bih=944&amp;ie=UTF-8&amp;tbm=nws&amp;source=lnt&amp;tbs=lr:lang_1pt&amp;lr=lang_pt&amp;sa=X&amp;ved=0ahUKEwj_r6Kdx8nmAhWZD7kGHb6mD7sQpwUIDQ\">Páginas em português</a>,\n",
       " <a href=\"/search?q=%22ita%C3%BA%22+infomoney&amp;biw=1920&amp;bih=944&amp;ie=UTF-8&amp;tbm=nws&amp;source=lnt&amp;tbs=ctr:countryBR&amp;cr=countryBR&amp;sa=X&amp;ved=0ahUKEwj_r6Kdx8nmAhWZD7kGHb6mD7sQpwUIDg\">País: Brasil</a>,\n",
       " <a href=\"/search?q=%22ita%C3%BA%22+infomoney&amp;biw=1920&amp;bih=944&amp;ie=UTF-8&amp;tbm=nws&amp;source=lnt&amp;tbs=nrt:b&amp;sa=X&amp;ved=0ahUKEwj_r6Kdx8nmAhWZD7kGHb6mD7sQpwUIEA\">Blogs</a>,\n",
       " <a href=\"/search?q=%22ita%C3%BA%22+infomoney&amp;biw=1920&amp;bih=944&amp;ie=UTF-8&amp;tbm=nws&amp;source=lnt&amp;tbs=qdr:h&amp;sa=X&amp;ved=0ahUKEwj_r6Kdx8nmAhWZD7kGHb6mD7sQpwUIEg\"> Na última hora</a>,\n",
       " <a href=\"/search?q=%22ita%C3%BA%22+infomoney&amp;biw=1920&amp;bih=944&amp;ie=UTF-8&amp;tbm=nws&amp;source=lnt&amp;tbs=qdr:d&amp;sa=X&amp;ved=0ahUKEwj_r6Kdx8nmAhWZD7kGHb6mD7sQpwUIEw\"> Nas últimas 24 horas</a>,\n",
       " <a href=\"/search?q=%22ita%C3%BA%22+infomoney&amp;biw=1920&amp;bih=944&amp;ie=UTF-8&amp;tbm=nws&amp;source=lnt&amp;tbs=qdr:w&amp;sa=X&amp;ved=0ahUKEwj_r6Kdx8nmAhWZD7kGHb6mD7sQpwUIFA\"> Na última semana</a>,\n",
       " <a href=\"/search?q=%22ita%C3%BA%22+infomoney&amp;biw=1920&amp;bih=944&amp;ie=UTF-8&amp;tbm=nws&amp;source=lnt&amp;tbs=qdr:m&amp;sa=X&amp;ved=0ahUKEwj_r6Kdx8nmAhWZD7kGHb6mD7sQpwUIFQ\"> No último mês</a>,\n",
       " <a href=\"/search?q=%22ita%C3%BA%22+infomoney&amp;biw=1920&amp;bih=944&amp;ie=UTF-8&amp;tbm=nws&amp;source=lnt&amp;tbs=qdr:y&amp;sa=X&amp;ved=0ahUKEwj_r6Kdx8nmAhWZD7kGHb6mD7sQpwUIFg\"> No último ano</a>,\n",
       " <a href=\"/search?q=%22ita%C3%BA%22+infomoney&amp;biw=1920&amp;bih=944&amp;ie=UTF-8&amp;tbm=nws&amp;source=lnt&amp;tbs=ar:1&amp;sa=X&amp;ved=0ahUKEwj_r6Kdx8nmAhWZD7kGHb6mD7sQpwUIFw\">Arquivos</a>,\n",
       " <a href=\"/search?q=%22ita%C3%BA%22+infomoney&amp;biw=1920&amp;bih=944&amp;ie=UTF-8&amp;tbm=nws&amp;source=lnt&amp;tbs=sbd:1&amp;sa=X&amp;ved=0ahUKEwj_r6Kdx8nmAhWZD7kGHb6mD7sQpwUIGQ\">Classificados por data</a>,\n",
       " <a href=\"/url?q=https://www.infomoney.com.br/negocios/rede-amplia-pagamento-em-2-dias-sem-taxa-para-clientes-sem-conta-no-itau-cielo-despenca/&amp;sa=U&amp;ved=2ahUKEwj_r6Kdx8nmAhWZD7kGHb6mD7sQxfQBMAB6BAgDEAE&amp;usg=AOvVaw0F975BAuIhckWQKgBiP0U8\"><div class=\"BNeawe vvjwJb AP7Wnd\">Rede amplia pagamento em 2 dias sem taxa para clientes sem conta no Itaú; Cielo despenca</div><div class=\"BNeawe UPmit AP7Wnd\">InfoMoney</div></a>,\n",
       " <a href=\"/url?q=https://www.infomoney.com.br/negocios/rede-amplia-pagamento-em-2-dias-sem-taxa-para-clientes-sem-conta-no-itau-cielo-despenca/&amp;sa=U&amp;ved=2ahUKEwj_r6Kdx8nmAhWZD7kGHb6mD7sQ0Y8FMAB6BAgDEAI&amp;usg=AOvVaw1M_W2ac3uHWtjVhVGkieJX\"><div class=\"lcJF1d SXn0g GXKcHe\"><div style=\"width:120px;height:79px\"><img alt=\"\" class=\"EYOsld\" data-deferred=\"1\" id=\"dimg_3\" src=\"data:image/gif;base64,R0lGODlhAQABAIAAAP///////yH5BAEKAAEALAAAAAABAAEAAAICTAEAOw==\" style=\"width:120px;height:79px\"/></div></div></a>,\n",
       " <a href=\"/url?q=https://www.infomoney.com.br/consumo/leilao-do-itau-oferece-49-imoveis-com-iptu-de-2020-quitado/&amp;sa=U&amp;ved=2ahUKEwj_r6Kdx8nmAhWZD7kGHb6mD7sQxfQBMAF6BAgJEAE&amp;usg=AOvVaw3rs5oUdWJz8IvfvZX5F3aT\"><div class=\"BNeawe vvjwJb AP7Wnd\">Leilão do Itaú oferece 49 imóveis com IPTU de 2020 quitado</div><div class=\"BNeawe UPmit AP7Wnd\">InfoMoney</div></a>,\n",
       " <a href=\"/url?q=https://www.infomoney.com.br/consumo/leilao-do-itau-oferece-49-imoveis-com-iptu-de-2020-quitado/&amp;sa=U&amp;ved=2ahUKEwj_r6Kdx8nmAhWZD7kGHb6mD7sQ0Y8FMAF6BAgJEAI&amp;usg=AOvVaw1oMf6OWOyTH4HrHFUiglNr\"><div class=\"lcJF1d SXn0g GXKcHe\"><div style=\"width:113px;height:90px\"><img alt=\"\" class=\"EYOsld\" data-deferred=\"1\" id=\"dimg_15\" src=\"data:image/gif;base64,R0lGODlhAQABAIAAAP///////yH5BAEKAAEALAAAAAABAAEAAAICTAEAOw==\" style=\"width:113px;height:90px\"/></div></div></a>,\n",
       " <a href=\"/url?q=https://www.infomoney.com.br/minhas-financas/itau-e-bradesco-seguem-copom-e-cortam-juros-de-linhas-de-credito/&amp;sa=U&amp;ved=2ahUKEwj_r6Kdx8nmAhWZD7kGHb6mD7sQxfQBMAJ6BAgHEAE&amp;usg=AOvVaw3Tln_cmirgkFY4ls7e3YjC\"><div class=\"BNeawe vvjwJb AP7Wnd\">Itaú, BB e Bradesco seguem Copom e cortam juros de linhas de crédito</div><div class=\"BNeawe UPmit AP7Wnd\">InfoMoney</div></a>,\n",
       " <a href=\"/url?q=https://www.infomoney.com.br/minhas-financas/itau-e-bradesco-seguem-copom-e-cortam-juros-de-linhas-de-credito/&amp;sa=U&amp;ved=2ahUKEwj_r6Kdx8nmAhWZD7kGHb6mD7sQ0Y8FMAJ6BAgHEAI&amp;usg=AOvVaw2WStNsQz0qe46H-AhjSWbU\"><div class=\"lcJF1d SXn0g GXKcHe\"><div style=\"width:120px;height:80px\"><img alt=\"\" class=\"EYOsld\" data-deferred=\"1\" id=\"dimg_18\" src=\"data:image/gif;base64,R0lGODlhAQABAIAAAP///////yH5BAEKAAEALAAAAAABAAEAAAICTAEAOw==\" style=\"width:120px;height:80px\"/></div></div></a>,\n",
       " <a href=\"/url?q=https://www.infomoney.com.br/mercados/itau-unibanco-soma-mais-de-r-45-bi-em-transacoes-e-bate-recorde-com-black-friday/&amp;sa=U&amp;ved=2ahUKEwj_r6Kdx8nmAhWZD7kGHb6mD7sQxfQBMAN6BAgIEAE&amp;usg=AOvVaw0AqGG_TDNFHcOVowlISU_W\"><div class=\"BNeawe vvjwJb AP7Wnd\">Itaú Unibanco soma mais de R$ 45 bi em transações e bate recorde com Black Friday</div><div class=\"BNeawe UPmit AP7Wnd\">InfoMoney</div></a>,\n",
       " <a href=\"/url?q=https://www.infomoney.com.br/mercados/itau-unibanco-soma-mais-de-r-45-bi-em-transacoes-e-bate-recorde-com-black-friday/&amp;sa=U&amp;ved=2ahUKEwj_r6Kdx8nmAhWZD7kGHb6mD7sQ0Y8FMAN6BAgIEAI&amp;usg=AOvVaw1xrhBVBXJEaE2gvBIXeSGA\"><div class=\"lcJF1d SXn0g GXKcHe\"><div style=\"width:120px;height:79px\"><img alt=\"\" class=\"EYOsld\" data-deferred=\"1\" id=\"dimg_17\" src=\"data:image/gif;base64,R0lGODlhAQABAIAAAP///////yH5BAEKAAEALAAAAAABAAEAAAICTAEAOw==\" style=\"width:120px;height:79px\"/></div></div></a>,\n",
       " <a href=\"/url?q=https://www.infomoney.com.br/mercados/banco-do-brasil-e-itau-aprovam-pagamento-de-juros-sobre-capital-proprio-aos-acionistas/&amp;sa=U&amp;ved=2ahUKEwj_r6Kdx8nmAhWZD7kGHb6mD7sQxfQBMAR6BAgEEAE&amp;usg=AOvVaw3rtGQpTWlRDHa2M-CSMmaS\"><div class=\"BNeawe vvjwJb AP7Wnd\">Banco do Brasil e Itaú aprovam pagamento de juros sobre capital próprio aos acionistas</div><div class=\"BNeawe UPmit AP7Wnd\">InfoMoney</div></a>,\n",
       " <a href=\"/url?q=https://www.infomoney.com.br/mercados/banco-do-brasil-e-itau-aprovam-pagamento-de-juros-sobre-capital-proprio-aos-acionistas/&amp;sa=U&amp;ved=2ahUKEwj_r6Kdx8nmAhWZD7kGHb6mD7sQ0Y8FMAR6BAgEEAI&amp;usg=AOvVaw2dRHgU7vqbFWNs3YoEgVSo\"><div class=\"lcJF1d SXn0g GXKcHe\"><div style=\"width:120px;height:79px\"><img alt=\"\" class=\"EYOsld\" data-deferred=\"1\" id=\"dimg_13\" src=\"data:image/gif;base64,R0lGODlhAQABAIAAAP///////yH5BAEKAAEALAAAAAABAAEAAAICTAEAOw==\" style=\"width:120px;height:79px\"/></div></div></a>,\n",
       " <a href=\"/url?q=https://www.infomoney.com.br/negocios/guerra-das-maquininhas-cade-rejeita-recurso-do-itau-e-mantem-suspensao-de-promocao-da-rede/&amp;sa=U&amp;ved=2ahUKEwj_r6Kdx8nmAhWZD7kGHb6mD7sQxfQBMAV6BAgGEAE&amp;usg=AOvVaw3CodUZlQJkOthWU4A88Zkr\"><div class=\"BNeawe vvjwJb AP7Wnd\">Guerra das maquininhas: Cade rejeita recurso do Itaú e mantém suspensão de promoção da Rede</div><div class=\"BNeawe UPmit AP7Wnd\">InfoMoney</div></a>,\n",
       " <a href=\"/url?q=https://www.infomoney.com.br/negocios/guerra-das-maquininhas-cade-rejeita-recurso-do-itau-e-mantem-suspensao-de-promocao-da-rede/&amp;sa=U&amp;ved=2ahUKEwj_r6Kdx8nmAhWZD7kGHb6mD7sQ0Y8FMAV6BAgGEAI&amp;usg=AOvVaw0QhLCs3QrUA9F6MiG03nsz\"><div class=\"lcJF1d SXn0g GXKcHe\"><div style=\"width:120px;height:89px\"><img alt=\"\" class=\"EYOsld\" data-deferred=\"1\" id=\"dimg_2\" src=\"data:image/gif;base64,R0lGODlhAQABAIAAAP///////yH5BAEKAAEALAAAAAABAAEAAAICTAEAOw==\" style=\"width:120px;height:89px\"/></div></div></a>,\n",
       " <a href=\"/url?q=https://www.infomoney.com.br/negocios/com-dinheiro-de-abertura-de-capital-vivara-quer-abrir-50-lojas-em-2020/&amp;sa=U&amp;ved=2ahUKEwj_r6Kdx8nmAhWZD7kGHb6mD7sQxfQBMAZ6BAgCEAE&amp;usg=AOvVaw3xk13VWpD8zRjRS-0x_Ct0\"><div class=\"BNeawe vvjwJb AP7Wnd\">Com dinheiro de abertura de capital, Vivara quer abrir 50 lojas em 2020</div><div class=\"BNeawe UPmit AP7Wnd\">InfoMoney</div></a>,\n",
       " <a href=\"/url?q=https://www.infomoney.com.br/negocios/com-dinheiro-de-abertura-de-capital-vivara-quer-abrir-50-lojas-em-2020/&amp;sa=U&amp;ved=2ahUKEwj_r6Kdx8nmAhWZD7kGHb6mD7sQ0Y8FMAZ6BAgCEAI&amp;usg=AOvVaw05HBH9AVCKRJx4SrHM5ozA\"><div class=\"lcJF1d SXn0g GXKcHe\"><div style=\"width:120px;height:79px\"><img alt=\"\" class=\"EYOsld\" data-deferred=\"1\" id=\"dimg_6\" src=\"data:image/gif;base64,R0lGODlhAQABAIAAAP///////yH5BAEKAAEALAAAAAABAAEAAAICTAEAOw==\" style=\"width:120px;height:79px\"/></div></div></a>,\n",
       " <a href=\"/url?q=https://www.infomoney.com.br/mercados/acao-da-gerdau-avanca-seguindo-recomendacao-eucatex-e-general-shopping-tem-nova-disparada/&amp;sa=U&amp;ved=2ahUKEwj_r6Kdx8nmAhWZD7kGHb6mD7sQxfQBMAd6BAgFEAE&amp;usg=AOvVaw0gsi7rpB1PWS6uv9i9MLY3\"><div class=\"BNeawe vvjwJb AP7Wnd\">Ação da Natura sobe 5%, enquanto Marfrig cai forte pelo 2º dia seguido; Eucatex ON têm novo salto</div><div class=\"BNeawe UPmit AP7Wnd\">InfoMoney</div></a>,\n",
       " <a href=\"/url?q=https://www.infomoney.com.br/mercados/acao-da-gerdau-avanca-seguindo-recomendacao-eucatex-e-general-shopping-tem-nova-disparada/&amp;sa=U&amp;ved=2ahUKEwj_r6Kdx8nmAhWZD7kGHb6mD7sQ0Y8FMAd6BAgFEAI&amp;usg=AOvVaw3ryVWZA6Fvu3BEPragW7DD\"><div class=\"lcJF1d SXn0g GXKcHe\"><div style=\"width:120px;height:81px\"><img alt=\"\" class=\"EYOsld\" data-deferred=\"1\" id=\"dimg_1\" src=\"data:image/gif;base64,R0lGODlhAQABAIAAAP///////yH5BAEKAAEALAAAAAABAAEAAAICTAEAOw==\" style=\"width:120px;height:81px\"/></div></div></a>,\n",
       " <a href=\"/url?q=https://www.infomoney.com.br/mercados/as-acoes-que-mais-pagaram-dividendos-no-ano-e-as-promessas-para-2020/&amp;sa=U&amp;ved=2ahUKEwj_r6Kdx8nmAhWZD7kGHb6mD7sQxfQBMAh6BAgBEAE&amp;usg=AOvVaw0qKwoG3QOTeB5Yy5rgMYLG\"><div class=\"BNeawe vvjwJb AP7Wnd\">As ações que mais pagaram dividendos no ano e as promessas para 2020</div><div class=\"BNeawe UPmit AP7Wnd\">InfoMoney</div></a>,\n",
       " <a href=\"/url?q=https://www.infomoney.com.br/mercados/as-acoes-que-mais-pagaram-dividendos-no-ano-e-as-promessas-para-2020/&amp;sa=U&amp;ved=2ahUKEwj_r6Kdx8nmAhWZD7kGHb6mD7sQ0Y8FMAh6BAgBEAI&amp;usg=AOvVaw3-NWdFCMh5TOOUsiSJqalx\"><div class=\"lcJF1d SXn0g GXKcHe\"><div style=\"width:120px;height:84px\"><img alt=\"\" class=\"EYOsld\" data-deferred=\"1\" id=\"dimg_5\" src=\"data:image/gif;base64,R0lGODlhAQABAIAAAP///////yH5BAEKAAEALAAAAAABAAEAAAICTAEAOw==\" style=\"width:120px;height:84px\"/></div></div></a>,\n",
       " <a href=\"/url?q=https://www.infomoney.com.br/mercados/acao-da-via-varejo-tem-nova-alta-de-5-vale-e-csn-avancam-com-dados-positivos-chineses/&amp;sa=U&amp;ved=2ahUKEwj_r6Kdx8nmAhWZD7kGHb6mD7sQxfQBMAl6BAgAEAE&amp;usg=AOvVaw0LfqC-agZuSwzbmlNUXvlo\"><div class=\"BNeawe vvjwJb AP7Wnd\">Ações de BR Distribuidora, Natura e Via Varejo sobem mais de 3%; bancos têm baixa com CPMF e Cielo cai 5%</div><div class=\"BNeawe UPmit AP7Wnd\">InfoMoney</div></a>,\n",
       " <a href=\"/url?q=https://www.infomoney.com.br/mercados/acao-da-via-varejo-tem-nova-alta-de-5-vale-e-csn-avancam-com-dados-positivos-chineses/&amp;sa=U&amp;ved=2ahUKEwj_r6Kdx8nmAhWZD7kGHb6mD7sQ0Y8FMAl6BAgAEAI&amp;usg=AOvVaw1c543GDHGfmrV1p3nJUBqW\"><div class=\"lcJF1d SXn0g GXKcHe\"><div style=\"width:120px;height:79px\"><img alt=\"\" class=\"EYOsld\" data-deferred=\"1\" id=\"dimg_4\" src=\"data:image/gif;base64,R0lGODlhAQABAIAAAP///////yH5BAEKAAEALAAAAAABAAEAAAICTAEAOw==\" style=\"width:120px;height:79px\"/></div></div></a>,\n",
       " <a aria-label=\"Próxima página\" class=\"nBDE1b G5eFlf\" href=\"/search?q=%22ita%C3%BA%22+infomoney&amp;biw=1920&amp;bih=944&amp;ie=UTF-8&amp;tbm=nws&amp;ei=wIn_Xf_PCpmf5OUPvs2-2As&amp;start=10&amp;sa=N\">Mais &gt;</a>,\n",
       " <a href=\"/url?q=https://accounts.google.com/ServiceLogin%3Fcontinue%3Dhttps://www.google.com.br/search%253Fq%253D%252522ita%2525C3%2525BA%252522%252Binfomoney%2526tbs%253Dcdr:1,cd_min:9/1/2019,cd_max:11/1/2019%2526tbm%253Dnws%2526ei%253Daj_YXeiwGcbZ5gLut4noDw%2526start%253D0%2526sa%253DN%2526ved%253D0ahUKEwjojZbtzv7lAhXGrFkKHe5bAv0Q8tMDCFM%2526biw%253D1920%2526bih%253D944%2526dpr%253D1%26hl%3Dpt-BR&amp;sa=U&amp;ved=0ahUKEwj_r6Kdx8nmAhWZD7kGHb6mD7sQxs8CCFg&amp;usg=AOvVaw20Q0iJP5rPd9CzzgG0HqQd\">Fazer login</a>,\n",
       " <a class=\"ksTU4c\" href=\"https://www.google.com.br/preferences?hl=pt-BR&amp;fg=1&amp;sa=X&amp;ved=0ahUKEwj_r6Kdx8nmAhWZD7kGHb6mD7sQ5fUCCFk\">Configurações</a>,\n",
       " <a class=\"ksTU4c\" href=\"//policies.google.com/privacy?fg=1\">Privacidade</a>,\n",
       " <a class=\"ksTU4c\" href=\"//policies.google.com/terms?fg=1\">Termos</a>]"
      ]
     },
     "execution_count": 7,
     "metadata": {},
     "output_type": "execute_result"
    }
   ],
   "source": [
    "a_search = html.find_all('a')\n",
    "\n",
    "a_search"
   ]
  },
  {
   "cell_type": "markdown",
   "metadata": {},
   "source": [
    "<p>Agora para cada <b>&lt;a&gt;...&lt;/a&gt;</b> vamos extrair os <b>'href'</b>:"
   ]
  },
  {
   "cell_type": "code",
   "execution_count": 8,
   "metadata": {
    "scrolled": true
   },
   "outputs": [
    {
     "data": {
      "text/plain": [
       "['/?sa=X&ved=0ahUKEwj_r6Kdx8nmAhWZD7kGHb6mD7sQOwgC',\n",
       " '/search?q=%22ita%C3%BA%22+infomoney&tbm=nws&tbs=cdr:1,cd_min:9/1/2019,cd_max:11/1/2019&sa=N&biw=1920&bih=944&ie=UTF-8&gbv=1&sei=wIn_Xf_PCpmf5OUPvs2-2As',\n",
       " '/search?q=%22ita%C3%BA%22+infomoney&biw=1920&bih=944&ie=UTF-8&source=lnms&sa=X&ved=0ahUKEwj_r6Kdx8nmAhWZD7kGHb6mD7sQ_AUIBSgA',\n",
       " '/search?q=%22ita%C3%BA%22+infomoney&biw=1920&bih=944&ie=UTF-8&tbm=shop&source=lnms&sa=X&ved=0ahUKEwj_r6Kdx8nmAhWZD7kGHb6mD7sQ_AUIBygC',\n",
       " 'https://maps.google.com.br/maps?q=%22ita%C3%BA%22+infomoney&biw=1920&bih=944&dpr=1&um=1&ie=UTF-8&sa=X&ved=0ahUKEwj_r6Kdx8nmAhWZD7kGHb6mD7sQ_AUICCgD',\n",
       " '/search?q=%22ita%C3%BA%22+infomoney&biw=1920&bih=944&ie=UTF-8&tbm=isch&source=lnms&sa=X&ved=0ahUKEwj_r6Kdx8nmAhWZD7kGHb6mD7sQ_AUICSgE',\n",
       " '/search?q=%22ita%C3%BA%22+infomoney&biw=1920&bih=944&ie=UTF-8&tbm=vid&source=lnms&sa=X&ved=0ahUKEwj_r6Kdx8nmAhWZD7kGHb6mD7sQ_AUICigF',\n",
       " '/search?q=%22ita%C3%BA%22+infomoney&biw=1920&bih=944&ie=UTF-8&tbm=bks&source=lnms&sa=X&ved=0ahUKEwj_r6Kdx8nmAhWZD7kGHb6mD7sQ_AUICygG',\n",
       " '/advanced_search',\n",
       " '/search?q=%22ita%C3%BA%22+infomoney&biw=1920&bih=944&ie=UTF-8&tbm=nws&source=lnt&tbs=lr:lang_1pt&lr=lang_pt&sa=X&ved=0ahUKEwj_r6Kdx8nmAhWZD7kGHb6mD7sQpwUIDQ',\n",
       " '/search?q=%22ita%C3%BA%22+infomoney&biw=1920&bih=944&ie=UTF-8&tbm=nws&source=lnt&tbs=ctr:countryBR&cr=countryBR&sa=X&ved=0ahUKEwj_r6Kdx8nmAhWZD7kGHb6mD7sQpwUIDg',\n",
       " '/search?q=%22ita%C3%BA%22+infomoney&biw=1920&bih=944&ie=UTF-8&tbm=nws&source=lnt&tbs=nrt:b&sa=X&ved=0ahUKEwj_r6Kdx8nmAhWZD7kGHb6mD7sQpwUIEA',\n",
       " '/search?q=%22ita%C3%BA%22+infomoney&biw=1920&bih=944&ie=UTF-8&tbm=nws&source=lnt&tbs=qdr:h&sa=X&ved=0ahUKEwj_r6Kdx8nmAhWZD7kGHb6mD7sQpwUIEg',\n",
       " '/search?q=%22ita%C3%BA%22+infomoney&biw=1920&bih=944&ie=UTF-8&tbm=nws&source=lnt&tbs=qdr:d&sa=X&ved=0ahUKEwj_r6Kdx8nmAhWZD7kGHb6mD7sQpwUIEw',\n",
       " '/search?q=%22ita%C3%BA%22+infomoney&biw=1920&bih=944&ie=UTF-8&tbm=nws&source=lnt&tbs=qdr:w&sa=X&ved=0ahUKEwj_r6Kdx8nmAhWZD7kGHb6mD7sQpwUIFA',\n",
       " '/search?q=%22ita%C3%BA%22+infomoney&biw=1920&bih=944&ie=UTF-8&tbm=nws&source=lnt&tbs=qdr:m&sa=X&ved=0ahUKEwj_r6Kdx8nmAhWZD7kGHb6mD7sQpwUIFQ',\n",
       " '/search?q=%22ita%C3%BA%22+infomoney&biw=1920&bih=944&ie=UTF-8&tbm=nws&source=lnt&tbs=qdr:y&sa=X&ved=0ahUKEwj_r6Kdx8nmAhWZD7kGHb6mD7sQpwUIFg',\n",
       " '/search?q=%22ita%C3%BA%22+infomoney&biw=1920&bih=944&ie=UTF-8&tbm=nws&source=lnt&tbs=ar:1&sa=X&ved=0ahUKEwj_r6Kdx8nmAhWZD7kGHb6mD7sQpwUIFw',\n",
       " '/search?q=%22ita%C3%BA%22+infomoney&biw=1920&bih=944&ie=UTF-8&tbm=nws&source=lnt&tbs=sbd:1&sa=X&ved=0ahUKEwj_r6Kdx8nmAhWZD7kGHb6mD7sQpwUIGQ',\n",
       " '/url?q=https://www.infomoney.com.br/negocios/rede-amplia-pagamento-em-2-dias-sem-taxa-para-clientes-sem-conta-no-itau-cielo-despenca/&sa=U&ved=2ahUKEwj_r6Kdx8nmAhWZD7kGHb6mD7sQxfQBMAB6BAgDEAE&usg=AOvVaw0F975BAuIhckWQKgBiP0U8',\n",
       " '/url?q=https://www.infomoney.com.br/negocios/rede-amplia-pagamento-em-2-dias-sem-taxa-para-clientes-sem-conta-no-itau-cielo-despenca/&sa=U&ved=2ahUKEwj_r6Kdx8nmAhWZD7kGHb6mD7sQ0Y8FMAB6BAgDEAI&usg=AOvVaw1M_W2ac3uHWtjVhVGkieJX',\n",
       " '/url?q=https://www.infomoney.com.br/consumo/leilao-do-itau-oferece-49-imoveis-com-iptu-de-2020-quitado/&sa=U&ved=2ahUKEwj_r6Kdx8nmAhWZD7kGHb6mD7sQxfQBMAF6BAgJEAE&usg=AOvVaw3rs5oUdWJz8IvfvZX5F3aT',\n",
       " '/url?q=https://www.infomoney.com.br/consumo/leilao-do-itau-oferece-49-imoveis-com-iptu-de-2020-quitado/&sa=U&ved=2ahUKEwj_r6Kdx8nmAhWZD7kGHb6mD7sQ0Y8FMAF6BAgJEAI&usg=AOvVaw1oMf6OWOyTH4HrHFUiglNr',\n",
       " '/url?q=https://www.infomoney.com.br/minhas-financas/itau-e-bradesco-seguem-copom-e-cortam-juros-de-linhas-de-credito/&sa=U&ved=2ahUKEwj_r6Kdx8nmAhWZD7kGHb6mD7sQxfQBMAJ6BAgHEAE&usg=AOvVaw3Tln_cmirgkFY4ls7e3YjC',\n",
       " '/url?q=https://www.infomoney.com.br/minhas-financas/itau-e-bradesco-seguem-copom-e-cortam-juros-de-linhas-de-credito/&sa=U&ved=2ahUKEwj_r6Kdx8nmAhWZD7kGHb6mD7sQ0Y8FMAJ6BAgHEAI&usg=AOvVaw2WStNsQz0qe46H-AhjSWbU',\n",
       " '/url?q=https://www.infomoney.com.br/mercados/itau-unibanco-soma-mais-de-r-45-bi-em-transacoes-e-bate-recorde-com-black-friday/&sa=U&ved=2ahUKEwj_r6Kdx8nmAhWZD7kGHb6mD7sQxfQBMAN6BAgIEAE&usg=AOvVaw0AqGG_TDNFHcOVowlISU_W',\n",
       " '/url?q=https://www.infomoney.com.br/mercados/itau-unibanco-soma-mais-de-r-45-bi-em-transacoes-e-bate-recorde-com-black-friday/&sa=U&ved=2ahUKEwj_r6Kdx8nmAhWZD7kGHb6mD7sQ0Y8FMAN6BAgIEAI&usg=AOvVaw1xrhBVBXJEaE2gvBIXeSGA',\n",
       " '/url?q=https://www.infomoney.com.br/mercados/banco-do-brasil-e-itau-aprovam-pagamento-de-juros-sobre-capital-proprio-aos-acionistas/&sa=U&ved=2ahUKEwj_r6Kdx8nmAhWZD7kGHb6mD7sQxfQBMAR6BAgEEAE&usg=AOvVaw3rtGQpTWlRDHa2M-CSMmaS',\n",
       " '/url?q=https://www.infomoney.com.br/mercados/banco-do-brasil-e-itau-aprovam-pagamento-de-juros-sobre-capital-proprio-aos-acionistas/&sa=U&ved=2ahUKEwj_r6Kdx8nmAhWZD7kGHb6mD7sQ0Y8FMAR6BAgEEAI&usg=AOvVaw2dRHgU7vqbFWNs3YoEgVSo',\n",
       " '/url?q=https://www.infomoney.com.br/negocios/guerra-das-maquininhas-cade-rejeita-recurso-do-itau-e-mantem-suspensao-de-promocao-da-rede/&sa=U&ved=2ahUKEwj_r6Kdx8nmAhWZD7kGHb6mD7sQxfQBMAV6BAgGEAE&usg=AOvVaw3CodUZlQJkOthWU4A88Zkr',\n",
       " '/url?q=https://www.infomoney.com.br/negocios/guerra-das-maquininhas-cade-rejeita-recurso-do-itau-e-mantem-suspensao-de-promocao-da-rede/&sa=U&ved=2ahUKEwj_r6Kdx8nmAhWZD7kGHb6mD7sQ0Y8FMAV6BAgGEAI&usg=AOvVaw0QhLCs3QrUA9F6MiG03nsz',\n",
       " '/url?q=https://www.infomoney.com.br/negocios/com-dinheiro-de-abertura-de-capital-vivara-quer-abrir-50-lojas-em-2020/&sa=U&ved=2ahUKEwj_r6Kdx8nmAhWZD7kGHb6mD7sQxfQBMAZ6BAgCEAE&usg=AOvVaw3xk13VWpD8zRjRS-0x_Ct0',\n",
       " '/url?q=https://www.infomoney.com.br/negocios/com-dinheiro-de-abertura-de-capital-vivara-quer-abrir-50-lojas-em-2020/&sa=U&ved=2ahUKEwj_r6Kdx8nmAhWZD7kGHb6mD7sQ0Y8FMAZ6BAgCEAI&usg=AOvVaw05HBH9AVCKRJx4SrHM5ozA',\n",
       " '/url?q=https://www.infomoney.com.br/mercados/acao-da-gerdau-avanca-seguindo-recomendacao-eucatex-e-general-shopping-tem-nova-disparada/&sa=U&ved=2ahUKEwj_r6Kdx8nmAhWZD7kGHb6mD7sQxfQBMAd6BAgFEAE&usg=AOvVaw0gsi7rpB1PWS6uv9i9MLY3',\n",
       " '/url?q=https://www.infomoney.com.br/mercados/acao-da-gerdau-avanca-seguindo-recomendacao-eucatex-e-general-shopping-tem-nova-disparada/&sa=U&ved=2ahUKEwj_r6Kdx8nmAhWZD7kGHb6mD7sQ0Y8FMAd6BAgFEAI&usg=AOvVaw3ryVWZA6Fvu3BEPragW7DD',\n",
       " '/url?q=https://www.infomoney.com.br/mercados/as-acoes-que-mais-pagaram-dividendos-no-ano-e-as-promessas-para-2020/&sa=U&ved=2ahUKEwj_r6Kdx8nmAhWZD7kGHb6mD7sQxfQBMAh6BAgBEAE&usg=AOvVaw0qKwoG3QOTeB5Yy5rgMYLG',\n",
       " '/url?q=https://www.infomoney.com.br/mercados/as-acoes-que-mais-pagaram-dividendos-no-ano-e-as-promessas-para-2020/&sa=U&ved=2ahUKEwj_r6Kdx8nmAhWZD7kGHb6mD7sQ0Y8FMAh6BAgBEAI&usg=AOvVaw3-NWdFCMh5TOOUsiSJqalx',\n",
       " '/url?q=https://www.infomoney.com.br/mercados/acao-da-via-varejo-tem-nova-alta-de-5-vale-e-csn-avancam-com-dados-positivos-chineses/&sa=U&ved=2ahUKEwj_r6Kdx8nmAhWZD7kGHb6mD7sQxfQBMAl6BAgAEAE&usg=AOvVaw0LfqC-agZuSwzbmlNUXvlo',\n",
       " '/url?q=https://www.infomoney.com.br/mercados/acao-da-via-varejo-tem-nova-alta-de-5-vale-e-csn-avancam-com-dados-positivos-chineses/&sa=U&ved=2ahUKEwj_r6Kdx8nmAhWZD7kGHb6mD7sQ0Y8FMAl6BAgAEAI&usg=AOvVaw1c543GDHGfmrV1p3nJUBqW',\n",
       " '/search?q=%22ita%C3%BA%22+infomoney&biw=1920&bih=944&ie=UTF-8&tbm=nws&ei=wIn_Xf_PCpmf5OUPvs2-2As&start=10&sa=N',\n",
       " '/url?q=https://accounts.google.com/ServiceLogin%3Fcontinue%3Dhttps://www.google.com.br/search%253Fq%253D%252522ita%2525C3%2525BA%252522%252Binfomoney%2526tbs%253Dcdr:1,cd_min:9/1/2019,cd_max:11/1/2019%2526tbm%253Dnws%2526ei%253Daj_YXeiwGcbZ5gLut4noDw%2526start%253D0%2526sa%253DN%2526ved%253D0ahUKEwjojZbtzv7lAhXGrFkKHe5bAv0Q8tMDCFM%2526biw%253D1920%2526bih%253D944%2526dpr%253D1%26hl%3Dpt-BR&sa=U&ved=0ahUKEwj_r6Kdx8nmAhWZD7kGHb6mD7sQxs8CCFg&usg=AOvVaw20Q0iJP5rPd9CzzgG0HqQd',\n",
       " 'https://www.google.com.br/preferences?hl=pt-BR&fg=1&sa=X&ved=0ahUKEwj_r6Kdx8nmAhWZD7kGHb6mD7sQ5fUCCFk',\n",
       " '//policies.google.com/privacy?fg=1',\n",
       " '//policies.google.com/terms?fg=1']"
      ]
     },
     "execution_count": 8,
     "metadata": {},
     "output_type": "execute_result"
    }
   ],
   "source": [
    "links = []\n",
    "for a in a_search:\n",
    "    link = a.get('href')\n",
    "    links.append(link)\n",
    "\n",
    "links"
   ]
  },
  {
   "cell_type": "markdown",
   "metadata": {},
   "source": [
    "<p>_______________________________________________________________________________________________________________________</p>"
   ]
  },
  {
   "cell_type": "markdown",
   "metadata": {},
   "source": [
    "<h3 id='parte-1a1' style=\"color:green;\">a.2. Limpando o vetor de links encontrado</h3>"
   ]
  },
  {
   "cell_type": "markdown",
   "metadata": {},
   "source": [
    "<p>Conseguimos extrair os links, mas coletamos mais do que queremos. Devemos então analisar as strings e buscar por padrões dentro do que estão nos links de notícia do <b>InfoMoney</b>. Faremos uma seleção e limpeza no vetor de links procurando por strings com <b>'infomoney'</b> e <b>'/url?q'</b> e que não contenham <b>'accounts.google'</b>. Logo em seguida utilizaremos <b>'.replace()'</b> e <b>'.split()'</b> para limpar o que não faz parte do link das notícias e <b>'set()'</b> para remover qualquer link duplicado.</p>"
   ]
  },
  {
   "cell_type": "markdown",
   "metadata": {},
   "source": [
    "<p>Exemplo da <b>string</b> que queremos selecionar, em vermelho o que nos interessa nela. Devemos retirar <b style=\"color:blue;\">'/url?q'</b> e tudo o que estiver depois de <b style=\"color:blue;\">'&sa='</b> da string, para assim formar o link:</p>\n",
    "<p><b style=\"color:blue;\">'/url?q=<b style=\"color:red;\">https://www.infomoney.com.br/mercados/petrobras-corta-preco-do-diesel-em-3-e-itau-compra-startup-por-r-575-mi-4-balancos-e-mais-destaques/</b>&sa=U&ved=2ahUKEwiZjZ-y0_7lAhVu7HMBHTUsCzQQxfQBMAV6BAgGEAE&usg=AOvVaw2LQIjB7DGKFpTp4u0FMw8j'</b></p>"
   ]
  },
  {
   "cell_type": "code",
   "execution_count": 9,
   "metadata": {
    "scrolled": true
   },
   "outputs": [
    {
     "data": {
      "text/plain": [
       "['https://www.infomoney.com.br/negocios/rede-amplia-pagamento-em-2-dias-sem-taxa-para-clientes-sem-conta-no-itau-cielo-despenca/',\n",
       " 'https://www.infomoney.com.br/mercados/itau-unibanco-soma-mais-de-r-45-bi-em-transacoes-e-bate-recorde-com-black-friday/',\n",
       " 'https://www.infomoney.com.br/negocios/com-dinheiro-de-abertura-de-capital-vivara-quer-abrir-50-lojas-em-2020/',\n",
       " 'https://www.infomoney.com.br/mercados/as-acoes-que-mais-pagaram-dividendos-no-ano-e-as-promessas-para-2020/',\n",
       " 'https://www.infomoney.com.br/mercados/banco-do-brasil-e-itau-aprovam-pagamento-de-juros-sobre-capital-proprio-aos-acionistas/',\n",
       " 'https://www.infomoney.com.br/mercados/acao-da-via-varejo-tem-nova-alta-de-5-vale-e-csn-avancam-com-dados-positivos-chineses/',\n",
       " 'https://www.infomoney.com.br/minhas-financas/itau-e-bradesco-seguem-copom-e-cortam-juros-de-linhas-de-credito/',\n",
       " 'https://www.infomoney.com.br/negocios/guerra-das-maquininhas-cade-rejeita-recurso-do-itau-e-mantem-suspensao-de-promocao-da-rede/',\n",
       " 'https://www.infomoney.com.br/mercados/acao-da-gerdau-avanca-seguindo-recomendacao-eucatex-e-general-shopping-tem-nova-disparada/',\n",
       " 'https://www.infomoney.com.br/consumo/leilao-do-itau-oferece-49-imoveis-com-iptu-de-2020-quitado/']"
      ]
     },
     "execution_count": 9,
     "metadata": {},
     "output_type": "execute_result"
    }
   ],
   "source": [
    "links_im = []\n",
    "for i in range(len(links)):\n",
    "    if ('infomoney' in links[i]) and ('/url?q' in links[i]) and ('accounts.google' not in links[i]):\n",
    "        links_im.append(links[i].replace('/url?q=', '').split('&sa=')[0])\n",
    "        \n",
    "links_im = list(set(links_im))\n",
    "\n",
    "links_im"
   ]
  },
  {
   "cell_type": "markdown",
   "metadata": {},
   "source": [
    "<p>_______________________________________________________________________________________________________________________</p>"
   ]
  },
  {
   "cell_type": "markdown",
   "metadata": {},
   "source": [
    "<h3 id='parte-1a1' style=\"color:green;\">a.3. Extraindo links de várias páginas</h3>"
   ]
  },
  {
   "cell_type": "markdown",
   "metadata": {},
   "source": [
    "<p>Em <b style=\"color:green\";>a.2.</b> conseguimos extrair todos os links da primeira página da nossa busca do google. Podemos estender nosso código para pegar <b>n</b> páginas. Faremos como exemplo <b>n = 4</b>, ou seja, iremos até a página 4 usando como parâmetro <b>[0, 10, 20, 30]</b> no link, com apenas um detalhe a mais: Iremos retirar links <b>/patrocinados/</b> da nossa busca."
   ]
  },
  {
   "cell_type": "code",
   "execution_count": 10,
   "metadata": {
    "scrolled": true
   },
   "outputs": [
    {
     "data": {
      "text/plain": [
       "['https://www.infomoney.com.br/mercados/acao-da-hypera-sobe-forte-apos-compra-da-marca-buscopan-marfrig-cai-5-com-oferta-de-acoes/',\n",
       " 'https://www.infomoney.com.br/negocios/com-dinheiro-de-abertura-de-capital-vivara-quer-abrir-50-lojas-em-2020/',\n",
       " 'https://www.infomoney.com.br/mercados/as-acoes-que-mais-pagaram-dividendos-no-ano-e-as-promessas-para-2020/',\n",
       " 'https://www.infomoney.com.br/mercados/acao-da-via-varejo-sobe-na-expectativa-pela-black-friday-bancos-caem-apos-decisao-do-cmn/',\n",
       " 'https://www.infomoney.com.br/minhas-financas/fintechs-ajudam-a-reduzir-custo-para-envio-de-dinheiro-ao-exterior-conheca/',\n",
       " 'https://www.infomoney.com.br/mercados/tres-noticias-sobre-petrobras-black-rock-eleva-fatia-na-vale-e-mais-destaques/',\n",
       " 'https://www.infomoney.com.br/negocios/mesmo-apos-subir-156-via-varejo-convence-analistas-com-discurso-de-reestruturacao/',\n",
       " 'https://www.infomoney.com.br/mercados/tst-autoriza-petrobras-a-suspender-repasse-a-sindicato-em-meio-a-greve-marisa-anuncia-oferta-de-acoes-e-mais-noticias/',\n",
       " 'https://www.infomoney.com.br/negocios/magazine-luiza-continua-em-ciclo-virtuoso-apos-3-anos-invejaveis-apostam-analistas/',\n",
       " 'https://www.infomoney.com.br/mercados/acao-da-smiles-dispara-20-com-proposta-de-incorporacao-da-gol-vale-e-csn-sobem-com-minerio/',\n",
       " 'https://www.infomoney.com.br/mercados/itau-unibanco-soma-mais-de-r-45-bi-em-transacoes-e-bate-recorde-com-black-friday/',\n",
       " 'https://www.infomoney.com.br/mercados/acoes-de-bancos-se-recuperam-apos-susto-com-fala-de-bolsonaro-sobre-cpmf-confira-mais-destaques/',\n",
       " 'https://www.infomoney.com.br/colunistas/stock-pickers/luis-stuhlberger-a-trajetoria-do-gestor-de-17-550/',\n",
       " 'https://www.infomoney.com.br/mercados/acao-da-via-varejo-tem-nova-alta-de-5-vale-e-csn-avancam-com-dados-positivos-chineses/',\n",
       " 'https://www.infomoney.com.br/mercados/cheque-especial-bancos-nao-serao-tao-impactados-com-limite-de-juros-mas-intervencao-preocupa/',\n",
       " 'https://www.infomoney.com.br/colunistas/stock-pickers/eles-nao-sao-todos-iguais-conheca-os-tres-tipos-de-value-investors/',\n",
       " 'https://www.infomoney.com.br/minhas-financas/feirao-limpa-nome-do-serasa-e-prorrogado-ate-22-de-dezembro/',\n",
       " 'https://www.infomoney.com.br/minhas-financas/itau-e-bradesco-seguem-copom-e-cortam-juros-de-linhas-de-credito/',\n",
       " 'https://www.infomoney.com.br/onde-investir/b3-deve-levar-a-melhor-sobre-empresas-de-seguros-e-de-pagamentos-diz-ubs/',\n",
       " 'https://www.infomoney.com.br/mercados/equipe-economica-discute-privatizar-banco-do-brasil-diz-jornal-petrobras-coloca-dois-campos-a-venda-e-mais-destaques/',\n",
       " 'https://www.infomoney.com.br/mercados/log-in-desaba-ate-15-e-cvc-e-uma-das-maiores-altas-do-ibovespa-confira-mais-destaques/',\n",
       " 'https://www.infomoney.com.br/onde-investir/com-alta-do-dolar-e-de-acoes-estrangeiras-fundos-de-bdr-ja-sobem-30-no-ano/',\n",
       " 'https://www.infomoney.com.br/mercados/acao-da-via-varejo-tem-nova-alta-eletrobras-avanca-com-bndes-priorizando-privatizacao-e-azul-sobe-apos-dados-operacionais/',\n",
       " 'https://www.infomoney.com.br/negocios/rede-amplia-pagamento-em-2-dias-sem-taxa-para-clientes-sem-conta-no-itau-cielo-despenca/',\n",
       " 'https://www.infomoney.com.br/mercados/acao-da-via-varejo-tem-nova-alta-petrorio-dispara-6-apos-comprar-fatia-de-campo-da-petrobras/',\n",
       " 'https://www.infomoney.com.br/mercados/aliansce-sonae-capta-r-119-bi-com-oferta-de-acoes-petrobras-fecha-acordo-com-pernambuco-e-mais-destaques/',\n",
       " 'https://www.infomoney.com.br/mercados/acao-da-braskem-sobe-3-bb-avanca-com-noticia-de-estudo-para-privatizacao-e-smiles-desaba-apos-guidance-decepcionante/',\n",
       " 'https://www.infomoney.com.br/minhas-financas/cliente-pagara-tarifa-sem-usar-cheque-especial-limite-aumenta-automaticamente/',\n",
       " 'https://www.infomoney.com.br/mercados/dolar-bate-r-421-com-frustracao-do-investimento-estrangeiro-ibovespa-cai-puxado-por-bancos/',\n",
       " 'https://www.infomoney.com.br/mercados/jbs-quer-investir-r-8-bi-no-brasil-em-5-anos-marisa-levanta-r-5156-mi-em-oferta-de-acoes-e-mais-destaques/',\n",
       " 'https://www.infomoney.com.br/negocios/guerra-das-maquininhas-cade-rejeita-recurso-do-itau-e-mantem-suspensao-de-promocao-da-rede/',\n",
       " 'https://www.infomoney.com.br/mercados/carteira-grafica-da-xp-sobe-46-na-semana-e-troca-duas-acoes-confira/',\n",
       " 'https://www.infomoney.com.br/consumo/leilao-do-itau-oferece-49-imoveis-com-iptu-de-2020-quitado/',\n",
       " 'https://www.infomoney.com.br/onde-investir/os-melhores-fundos-de-acoes-e-multimercados-ate-novembro/',\n",
       " 'https://www.infomoney.com.br/mercados/banco-do-brasil-e-itau-aprovam-pagamento-de-juros-sobre-capital-proprio-aos-acionistas/',\n",
       " 'https://www.infomoney.com.br/mercados/por-que-as-acoes-da-oi-zeraram-a-queda-de-11-apesar-do-prejuizo-de-r-57-bilhoes/',\n",
       " 'https://www.infomoney.com.br/mercados/acao-da-gerdau-avanca-seguindo-recomendacao-eucatex-e-general-shopping-tem-nova-disparada/',\n",
       " 'https://www.infomoney.com.br/onde-investir/os-fundos-imobiliarios-mais-recomendados-para-investir-em-dezembro/',\n",
       " 'https://www.infomoney.com.br/mercados/hypera-compra-ativos-da-boehringer-por-r-13-bilhao-renova-protocola-plano-de-recuperacao-e-mais-destaques/',\n",
       " 'https://www.infomoney.com.br/mercados/xp-define-faixa-de-preco-de-acoes-em-ipo-na-nasdaq-entre-us-22-e-us-25/']"
      ]
     },
     "execution_count": 10,
     "metadata": {},
     "output_type": "execute_result"
    }
   ],
   "source": [
    "# Parâmetros da nossa busca\n",
    "pag = [0, 10, 20, 30]\n",
    "busca = '%22ita%C3%BA%22+infomoney'\n",
    "per = 'cd_min:9/1/2019,cd_max:11/1/2019'\n",
    "\n",
    "# Vetor para armazenar os links do InfoMoney\n",
    "links_im = []\n",
    "\n",
    "# Loop entre as páginas de 1 a 4\n",
    "for n in pag:\n",
    "    # Request da página\n",
    "    url = f'https://www.google.com.br/search?q={busca}&tbs=cdr:1,{per}&tbm=nws&ei=aj_YXeiwGcbZ5gLut4noDw&start={n}&sa=N&ved=0ahUKEwjojZbtzv7lAhXGrFkKHe5bAv0Q8tMDCFM&biw=1920&bih=944&dpr=1'\n",
    "    response = requests.get(url)\n",
    "    \n",
    "    # HTML organizado pelo bs4\n",
    "    html = BeautifulSoup(response.text, \"html.parser\")\n",
    "    \n",
    "    # Extração de todos os <a>...</a>\n",
    "    a_search = html.find_all('a')\n",
    "    \n",
    "    # Retirando os 'href'\n",
    "    links = []\n",
    "    for a in a_search:\n",
    "        link = a.get('href')\n",
    "        links.append(link)\n",
    "    \n",
    "    # Selecionando os links de notícias do InfoMoney\n",
    "    for i in range(len(links)):\n",
    "        if ('infomoney' in links[i]) and ('/url?q' in links[i]) and ('accounts.google' not in links[i]) and ('patrocinados' not in links[i]):\n",
    "            links_im.append(links[i].replace('/url?q=', '').split('&sa=')[0])\n",
    "\n",
    "# Retirando links duplicados\n",
    "links_im = list(set(links_im))\n",
    "\n",
    "links_im"
   ]
  },
  {
   "cell_type": "code",
   "execution_count": null,
   "metadata": {},
   "outputs": [],
   "source": []
  },
  {
   "cell_type": "code",
   "execution_count": null,
   "metadata": {},
   "outputs": [],
   "source": []
  }
 ],
 "metadata": {
  "kernelspec": {
   "display_name": "Python 3",
   "language": "python",
   "name": "python3"
  },
  "language_info": {
   "codemirror_mode": {
    "name": "ipython",
    "version": 3
   },
   "file_extension": ".py",
   "mimetype": "text/x-python",
   "name": "python",
   "nbconvert_exporter": "python",
   "pygments_lexer": "ipython3",
   "version": "3.6.6"
  }
 },
 "nbformat": 4,
 "nbformat_minor": 2
}
