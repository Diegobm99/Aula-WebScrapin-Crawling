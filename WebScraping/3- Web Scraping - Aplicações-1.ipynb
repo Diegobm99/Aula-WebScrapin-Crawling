{
 "cells": [
  {
   "cell_type": "markdown",
   "metadata": {},
   "source": [
    "<h1 id='parte-3'>3. Extraíndo as informações de uma página web</h1>"
   ]
  },
  {
   "cell_type": "markdown",
   "metadata": {},
   "source": [
    "<h2 id='parte-3a' style=\"color:blue;\">a. Lendo a página web com 'requests'</h2>"
   ]
  },
  {
   "cell_type": "markdown",
   "metadata": {},
   "source": [
    "<p>Como primeiro exemplo real, extrairemos a notícia de uma página do <b>InfoMoney</b> fazendo inicialmente uma requisição na url com o <b>'requests'</b>:</p>"
   ]
  },
  {
   "cell_type": "code",
   "execution_count": 12,
   "metadata": {},
   "outputs": [],
   "source": [
    "url = 'https://www.infomoney.com.br/politica/10-pontos-para-entender-a-mp-905-e-por-que-ela-pode-ser-contestada-judicialmente/'\n",
    "response = requests.get(url)"
   ]
  },
  {
   "cell_type": "markdown",
   "metadata": {},
   "source": [
    "<p>Em <b>'response'</b> pegamos todas as informações possíveis da nossa requisição. Por agora interessa apenas o caso em que conseguimos ler o código html de forma direta e sem erro</p>"
   ]
  },
  {
   "cell_type": "markdown",
   "metadata": {},
   "source": [
    "<p>O método <b>'.status_code'</b> nos indica o status da nossa requisição. 200 indica que o request foi bem sucedido</p>"
   ]
  },
  {
   "cell_type": "code",
   "execution_count": 13,
   "metadata": {},
   "outputs": [
    {
     "data": {
      "text/plain": [
       "200"
      ]
     },
     "execution_count": 13,
     "metadata": {},
     "output_type": "execute_result"
    }
   ],
   "source": [
    "response.status_code"
   ]
  },
  {
   "cell_type": "markdown",
   "metadata": {},
   "source": [
    "<p>Usando o método <b>'.text'</b> podemos ver todo nosso código HTML em uma única string. Como comentado anteriormente, a string é confusa e de difícil compreensão, sendo muito conveniente o uso do <b>BeautifulSoup</b>.</p>"
   ]
  },
  {
   "cell_type": "code",
   "execution_count": 14,
   "metadata": {},
   "outputs": [
    {
     "data": {
      "text/plain": [
       "'<!doctype html>\\n<html lang=\"pt-BR\">\\n<head>\\n    <meta charset=\"UTF-8\">\\n    <meta name=\"viewport\" content=\"width=device-width, initial-scale=1, shrink-to-fit=no\">\\n\\n\\n    <title>Reforma Trabalhista de Bolsonaro: entenda a MP 905 - e por que ela pode ser contestada judicialmente</title>\\n\\n<!-- This site is optimized with the Yoast SEO Premium plugin v11.5 - https://yoast.com/wordpress/plugins/seo/ -->\\n<meta name=\"description\" content=\"Governo anuncia pacote que altera leis trabalhistas, mas princípio da isonomia pode ser ferido pela MP\"/>\\n<link rel=\"canonical\" href=\"https://www.infomoney.com.br/politica/10-pontos-para-entender-a-mp-905-e-por-que-ela-pode-ser-contestada-judicialmente/\" />\\n<meta property=\"og:locale\" content=\"pt_BR\" />\\n<meta property=\"og:type\" content=\"article\" />\\n<meta property=\"og:title\" content=\"Reforma Trabalhista de Bolsonaro: entenda a MP 905 - e por que ela pode ser contestada judicialmente\" />\\n<meta property=\"og:description\" content=\"Governo anuncia pacote que altera leis trabalhistas, mas princípio da isonomia pode ser ferido pela MP\" />\\n<meta property=\"og:url\" content=\"https://www.infomoney.com.br/politica/10-pontos-para-entender-a-mp-905-e-por-que-ela-pode-ser-contestada-judicialmente/\" />\\n<meta property=\"og:site_name\" content=\"InfoMoney\" />\\n<meta property=\"article:publisher\" content=\"https://www.facebook.com/InfoMoney/\" />\\n<meta property=\"article:tag\" content=\"CLT\" />\\n<meta property=\"article:tag\" content=\"Governo\" />\\n<meta property=\"article:tag\" content=\"Medida Provisória\" />\\n<meta property=\"article:section\" content=\"Política\" />\\n<meta property=\"article:published_time\" content=\"2019-11-14T18:26:14+00:00\" />\\n<meta property=\"article:modified_time\" content=\"2019-11-15T15:29:14+00:00\" />\\n<meta property=\"og:updated_time\" content=\"2019-11-15T15:29:14+00:00\" />\\n<meta property=\"og:image\" content=\"https://www.infomoney.com.br/wp-content/uploads/2019/11/shutterstock_1300372189.jpg?fit=1000%2C716&#038;quality=75&#038;strip=all\" />\\n<meta property=\"og:image:secure_url\" content=\"https://www.infomoney.com.br/wp-content/uploads/2019/11/shutterstock_1300372189.jpg?fit=1000%2C716&#038;quality=75&#038;strip=all\" />\\n<meta property=\"og:image:width\" content=\"1000\" />\\n<meta property=\"og:image:height\" content=\"716\" />\\n<meta name=\"twitter:card\" content=\"summary_large_image\" />\\n<meta name=\"twitter:description\" content=\"Governo anuncia pacote que altera leis trabalhistas, mas princípio da isonomia pode ser ferido pela MP\" />\\n<meta name=\"twitter:title\" content=\"Reforma Trabalhista de Bolsonaro: entenda a MP 905 - e por que ela pode ser contestada judicialmente\" />\\n<meta name=\"twitter:site\" content=\"@infomoney\" />\\n<meta name=\"twitter:image\" content=\"https://www.infomoney.com.br/wp-content/uploads/2019/11/shutterstock_1300372189.jpg?fit=1000%2C716&#038;quality=75&#038;strip=all\" />\\n<meta name=\"twitter:creator\" content=\"@infomoney\" />\\n<script type=\\'application/ld+json\\' class=\\'yoast-schema-graph yoast-schema-graph--main\\'>{\"@context\":\"https://schema.org\",\"@graph\":[{\"@type\":\"Organization\",\"@id\":\"https://www.infomoney.com.br/#organization\",\"name\":\"InfoMoney\",\"url\":\"https://www.infomoney.com.br/\",\"sameAs\":[\"https://www.facebook.com/InfoMoney/\",\"https://www.instagram.com/infomoney/\",\"https://www.linkedin.com/company/infomoney/\",\"https://www.youtube.com/channel/UCxm0tptjIc76-i26EKQ9NpA\",\"https://br.pinterest.com/infomoney/\",\"https://twitter.com/infomoney\"],\"logo\":{\"@type\":\"ImageObject\",\"@id\":\"https://www.infomoney.com.br/#logo\",\"url\":\"https://www.infomoney.com.br/wp-content/uploads/2019/11/IM-Favicon.png?fit=128%2C128&quality=75&strip=all\",\"width\":128,\"height\":128,\"caption\":\"InfoMoney\"},\"image\":{\"@id\":\"https://www.infomoney.com.br/#logo\"}},{\"@type\":\"WebSite\",\"@id\":\"https://www.infomoney.com.br/#website\",\"url\":\"https://www.infomoney.com.br/\",\"name\":\"InfoMoney\",\"publisher\":{\"@id\":\"https://www.infomoney.com.br/#organization\"},\"potentialAction\":{\"@type\":\"SearchAction\",\"target\":\"https://www.infomoney.com.br/?s={search_term_string}\",\"query-input\":\"required name=search_term_string\"}},{\"@type\":\"ImageObject\",\"@id\":\"https://www.infomoney.com.br/politica/10-pontos-para-entender-a-mp-905-e-por-que-ela-pode-ser-contestada-judicialmente/#primaryimage\",\"url\":\"https://www.infomoney.com.br/wp-content/uploads/2019/11/shutterstock_1300372189.jpg?fit=1000%2C716&quality=75&strip=all\",\"width\":1000,\"height\":716,\"caption\":\"carteira de trabalho\"},{\"@type\":\"WebPage\",\"@id\":\"https://www.infomoney.com.br/politica/10-pontos-para-entender-a-mp-905-e-por-que-ela-pode-ser-contestada-judicialmente/#webpage\",\"url\":\"https://www.infomoney.com.br/politica/10-pontos-para-entender-a-mp-905-e-por-que-ela-pode-ser-contestada-judicialmente/\",\"inLanguage\":\"pt-BR\",\"name\":\"Reforma Trabalhista de Bolsonaro: entenda a MP 905 - e por que ela pode ser contestada judicialmente\",\"isPartOf\":{\"@id\":\"https://www.infomoney.com.br/#website\"},\"primaryImageOfPage\":{\"@id\":\"https://www.infomoney.com.br/politica/10-pontos-para-entender-a-mp-905-e-por-que-ela-pode-ser-contestada-judicialmente/#primaryimage\"},\"datePublished\":\"2019-11-14T18:26:14+00:00\",\"dateModified\":\"2019-11-15T15:29:14+00:00\",\"description\":\"Governo anuncia pacote que altera leis trabalhistas, mas princ\\\\u00edpio da isonomia pode ser ferido pela MP\"},{\"@type\":\"Article\",\"@id\":\"https://www.infomoney.com.br/politica/10-pontos-para-entender-a-mp-905-e-por-que-ela-pode-ser-contestada-judicialmente/#article\",\"isPartOf\":{\"@id\":\"https://www.infomoney.com.br/politica/10-pontos-para-entender-a-mp-905-e-por-que-ela-pode-ser-contestada-judicialmente/#webpage\"},\"author\":{\"@id\":\"https://www.infomoney.com.br/autor/pablosantana/#author\"},\"headline\":\"Reforma Trabalhista de Bolsonaro: entenda a MP 905 &#8211; e por que ela pode ser contestada judicialmente\",\"datePublished\":\"2019-11-14T18:26:14+00:00\",\"dateModified\":\"2019-11-15T15:29:14+00:00\",\"commentCount\":0,\"mainEntityOfPage\":{\"@id\":\"https://www.infomoney.com.br/politica/10-pontos-para-entender-a-mp-905-e-por-que-ela-pode-ser-contestada-judicialmente/#webpage\"},\"publisher\":{\"@id\":\"https://www.infomoney.com.br/#organization\"},\"image\":{\"@id\":\"https://www.infomoney.com.br/politica/10-pontos-para-entender-a-mp-905-e-por-que-ela-pode-ser-contestada-judicialmente/#primaryimage\"},\"keywords\":\"CLT,Governo,Medida Provis\\\\u00f3ria\",\"articleSection\":\"Economia,Pol\\\\u00edtica\"},{\"@type\":[\"Person\"],\"@id\":\"https://www.infomoney.com.br/autor/pablosantana/#author\",\"name\":\"pablosantana\",\"image\":{\"@type\":\"ImageObject\",\"@id\":\"https://www.infomoney.com.br/#authorlogo\",\"url\":\"https://secure.gravatar.com/avatar/63503c80da43357581d3b54eec206f26?s=96&d=mm&r=g\",\"caption\":\"pablosantana\"},\"sameAs\":[]}]}</script>\\n<!-- / Yoast SEO Premium plugin. -->\\n\\n<link rel=\\'dns-prefetch\\' href=\\'//s0.wp.com\\' />\\n<link rel=\\'dns-prefetch\\' href=\\'//www.googletagservices.com\\' />\\n<link rel=\\'dns-prefetch\\' href=\\'//connect.facebook.net\\' />\\n<link rel=\\'dns-prefetch\\' href=\\'//widgets.outbrain.com\\' />\\n<link rel=\\'dns-prefetch\\' href=\\'//s.w.org\\' />\\n<link rel=\"alternate\" type=\"application/rss+xml\" title=\"Feed para InfoMoney &raquo;\" href=\"https://www.infomoney.com.br/feed/\" />\\n<link rel=\"alternate\" type=\"application/rss+xml\" title=\"Feed de comentários para InfoMoney &raquo;\" href=\"https://www.infomoney.com.br/comments/feed/\" />\\n<link rel=\"alternate\" type=\"application/rss+xml\" title=\"Feed de comentários para InfoMoney &raquo; Reforma Trabalhista de Bolsonaro: entenda a MP 905 &#8211; e por que ela pode ser contestada judicialmente\" href=\"https://www.infomoney.com.br/politica/10-pontos-para-entender-a-mp-905-e-por-que-ela-pode-ser-contestada-judicialmente/feed/\" />\\n\\t\\t<script type=\"text/javascript\">\\n\\t\\t\\twindow._wpemojiSettings = {\"baseUrl\":\"https:\\\\/\\\\/s.w.org\\\\/images\\\\/core\\\\/emoji\\\\/12.0.0-1\\\\/72x72\\\\/\",\"ext\":\".png\",\"svgUrl\":\"https:\\\\/\\\\/s.w.org\\\\/images\\\\/core\\\\/emoji\\\\/12.0.0-1\\\\/svg\\\\/\",\"svgExt\":\".svg\",\"source\":{\"concatemoji\":\"https:\\\\/\\\\/www.infomoney.com.br\\\\/wp-includes\\\\/js\\\\/wp-emoji-release.min.js?ver=5.2.4\"}};\\n\\t\\t\\t!function(a,b,c){function d(a,b){var c=String.fromCharCode;l.clearRect(0,0,k.width,k.height),l.fillText(c.apply(this,a),0,0);var d=k.toDataURL();l.clearRect(0,0,k.width,k.height),l.fillText(c.apply(this,b),0,0);var e=k.toDataURL();return d===e}function e(a){var b;if(!l||!l.fillText)return!1;switch(l.textBaseline=\"top\",l.font=\"600 32px Arial\",a){case\"flag\":return!(b=d([55356,56826,55356,56819],[55356,56826,8203,55356,56819]))&&(b=d([55356,57332,56128,56423,56128,56418,56128,56421,56128,56430,56128,56423,56128,56447],[55356,57332,8203,56128,56423,8203,56128,56418,8203,56128,56421,8203,56128,56430,8203,56128,56423,8203,56128,56447]),!b);case\"emoji\":return b=d([55357,56424,55356,57342,8205,55358,56605,8205,55357,56424,55356,57340],[55357,56424,55356,57342,8203,55358,56605,8203,55357,56424,55356,57340]),!b}return!1}function f(a){var c=b.createElement(\"script\");c.src=a,c.defer=c.type=\"text/javascript\",b.getElementsByTagName(\"head\")[0].appendChild(c)}var g,h,i,j,k=b.createElement(\"canvas\"),l=k.getContext&&k.getContext(\"2d\");for(j=Array(\"flag\",\"emoji\"),c.supports={everything:!0,everythingExceptFlag:!0},i=0;i<j.length;i++)c.supports[j[i]]=e(j[i]),c.supports.everything=c.supports.everything&&c.supports[j[i]],\"flag\"!==j[i]&&(c.supports.everythingExceptFlag=c.supports.everythingExceptFlag&&c.supports[j[i]]);c.supports.everythingExceptFlag=c.supports.everythingExceptFlag&&!c.supports.flag,c.DOMReady=!1,c.readyCallback=function(){c.DOMReady=!0},c.supports.everything||(h=function(){c.readyCallback()},b.addEventListener?(b.addEventListener(\"DOMContentLoaded\",h,!1),a.addEventListener(\"load\",h,!1)):(a.attachEvent(\"onload\",h),b.attachEvent(\"onreadystatechange\",function(){\"complete\"===b.readyState&&c.readyCallback()})),g=c.source||{},g.concatemoji?f(g.concatemoji):g.wpemoji&&g.twemoji&&(f(g.twemoji),f(g.wpemoji)))}(window,document,window._wpemojiSettings);\\n\\t\\t</script>\\n\\t\\t<style type=\"text/css\">\\nimg.wp-smiley,\\nimg.emoji {\\n\\tdisplay: inline !important;\\n\\tborder: none !important;\\n\\tbox-shadow: none !important;\\n\\theight: 1em !important;\\n\\twidth: 1em !important;\\n\\tmargin: 0 .07em !important;\\n\\tvertical-align: -0.1em !important;\\n\\tbackground: none !important;\\n\\tpadding: 0 !important;\\n}\\n</style>\\n\\t<link rel=\\'stylesheet\\' id=\\'all-css-0\\' href=\\'https://www.infomoney.com.br/_static/??-eJx9jUsOgzAMBS8EGCQiuqk4SwhumxbbUeyAuH0/YofU3Uhvnga2VAdhQzawBxIqRL4JCeMOQRVW5FkyTCKmln1qKHLzGSr491TbFzxpVOq0lHtkhSda8uH1Sxz81Ue6dm7ou6Ft3eUNULY5xQ==\\' type=\\'text/css\\' media=\\'all\\' />\\n<script type=\\'text/javascript\\'>\\n/* <![CDATA[ */\\nvar config = {\"home_url\":\"https:\\\\/\\\\/www.infomoney.com.br\",\"ajax_url\":\"https:\\\\/\\\\/www.infomoney.com.br\\\\/wp-admin\\\\/admin-ajax.php\",\"custom_ajax_login\":\"https:\\\\/\\\\/www.infomoney.com.br\\\\/ajax\\\\/login\\\\/\",\"custom_ajax_check_login\":\"https:\\\\/\\\\/www.infomoney.com.br\\\\/ajax\\\\/check_login\\\\/\",\"login_nonce\":\"3a84adcbd8\",\"login_url\":\"https:\\\\/\\\\/auth.infomoney.com.br\\\\/authentication\\\\/signin?response_type=code&client_id=aaeb000318befb9a2fe0f400&redirect_uri=http:\\\\/\\\\/www.infomoney.com.br\\\\/pages\\\\/authentication\\\\/callback&origin=portal-header&redirect_to=https:\\\\/\\\\/www.infomoney.com.br\\\\/\",\"logoff_url\":\"https:\\\\/\\\\/auth.infomoney.com.br\\\\/api\\\\/auth\\\\/signout?redirect_to=https:\\\\/\\\\/www.infomoney.com.br\\\\/\",\"api_infomoney\":\"https:\\\\/\\\\/api.infomoney.com.br\",\"last_date\":\"2019-11-20 14:26:57\",\"refresh_time_adversiting\":\"18\"};\\n/* ]]> */\\n</script>\\n<script type=\\'text/javascript\\' src=\\'https://www.infomoney.com.br/_static/??-eJzTLy/QzcxLzilNSS3WzwKiwtLUokoopZdVrKOPT4FubmZ6UWJJql5uZh5McXJ+XklqXol+SUZqLlBLZl5afm5+XmolSHNuYmaeLkStfa6toam5iaGBqZmRZRYAhm8xLA==\\'></script>\\n<script type=\\'text/javascript\\' src=\\'https://www.googletagservices.com/tag/js/gpt.js?ver=1.3\\'></script>\\n<script type=\\'text/javascript\\'>\\n/* <![CDATA[ */\\nvar adsConfigData = {\"ads_formats\":[{\"advertising\":\"SUPER\",\"is_sticky\":\"N\",\"conditions\":{\"action\":\"hide\",\"match_all\":\"0\",\"rules\":[{\"major\":\"page\",\"minor\":\"front\",\"has_children\":false},{\"major\":\"taxonomy\",\"minor\":\"marca_tax_10201\",\"has_children\":false},{\"major\":\"taxonomy\",\"minor\":\"marca_tax_10200\",\"has_children\":false},{\"major\":\"tag\",\"minor\":\"2726\",\"has_children\":false}]}},{\"advertising\":\"RETANGULO_AF\",\"is_sticky\":null,\"conditions\":{\"action\":\"hide\",\"match_all\":\"0\",\"rules\":[{\"major\":\"taxonomy\",\"minor\":\"marca_tax_10201\",\"has_children\":false}]}},{\"advertising\":\"RETANGULO_BF\",\"is_sticky\":null,\"conditions\":{\"action\":\"hide\",\"match_all\":\"0\",\"rules\":[{\"major\":\"taxonomy\",\"minor\":\"marca_tax_10201\",\"has_children\":false}]}}],\"key_value_page\":\"post\",\"key_value_category\":\"economia,politica\",\"key_value_tags\":\"clt,governo,medida-provisoria\"};\\n/* ]]> */\\n</script>\\n<script type=\\'text/javascript\\' src=\\'https://www.infomoney.com.br/_static/??/wp-content/themes/infomoney/js/libs/prebid2.21.0.js,/wp-content/themes/infomoney/js/ads-config-min.js?m=1574105629j\\'></script>\\n<link rel=\\'https://api.w.org/\\' href=\\'https://www.infomoney.com.br/wp-json/\\' />\\n<link rel=\"EditURI\" type=\"application/rsd+xml\" title=\"RSD\" href=\"https://www.infomoney.com.br/xmlrpc.php?rsd\" />\\n<link rel=\"wlwmanifest\" type=\"application/wlwmanifest+xml\" href=\"https://www.infomoney.com.br/wp-includes/wlwmanifest.xml\" /> \\n<meta name=\"generator\" content=\"WordPress 5.2.4\" />\\n<link rel=\\'shortlink\\' href=\\'https://wp.me/paXGMB-5I0i\\' />\\n<link rel=\"alternate\" type=\"application/json+oembed\" href=\"https://www.infomoney.com.br/wp-json/oembed/1.0/embed?url=https%3A%2F%2Fwww.infomoney.com.br%2Fpolitica%2F10-pontos-para-entender-a-mp-905-e-por-que-ela-pode-ser-contestada-judicialmente%2F\" />\\n<link rel=\"alternate\" type=\"text/xml+oembed\" href=\"https://www.infomoney.com.br/wp-json/oembed/1.0/embed?url=https%3A%2F%2Fwww.infomoney.com.br%2Fpolitica%2F10-pontos-para-entender-a-mp-905-e-por-que-ela-pode-ser-contestada-judicialmente%2F&#038;format=xml\" />\\n\\t\\t\\t<meta property=\"fb:pages\" content=\"204590739576667\" />\\n\\t\\t\\t\\t\\t\\t\\t<meta property=\"ia:markup_url\" content=\"https://www.infomoney.com.br/politica/10-pontos-para-entender-a-mp-905-e-por-que-ela-pode-ser-contestada-judicialmente/?ia_markup=1\" />\\n\\t\\t\\t\\t\\r\\n<link rel=\\'dns-prefetch\\' href=\\'//v0.wordpress.com\\'/>\\r\\n<style type=\\'text/css\\'>img#wpstats{display:none}</style><link rel=\"pingback\" href=\"https://www.infomoney.com.br/xmlrpc.php\">        <link rel=\"preconnect\" href=\"https://fonts.googleapis.com\">\\n        <link rel=\"preconnect\" href=\"https://fonts.gstatic.com\">\\n        <link rel=\"preconnect\" href=\"https://www.googletagmanager.com/\">\\n        <link rel=\"preconnect\" href=\"https://www.google-analytics.com/\">\\n        <link rel=\"preconnect\" href=\"https://www.facebook.com\">\\n        <link rel=\"preconnect\" href=\"https://connect.facebook.net/\">\\n        <link rel=\"preconnect\" href=\"https://www.googletagservices.com\">\\n        <link rel=\"preconnect\" href=\"https://s0.wp.com\">\\n        <link rel=\"preconnect\" href=\"https://widgets.outbrain.com\">\\n    \\t\\t\\t<style type=\"text/css\">\\n\\t\\t\\t\\t/* If html does not have either class, do not show lazy loaded images. */\\n\\t\\t\\t\\thtml:not( .jetpack-lazy-images-js-enabled ):not( .js ) .jetpack-lazy-image {\\n\\t\\t\\t\\t\\tdisplay: none;\\n\\t\\t\\t\\t}\\n\\t\\t\\t</style>\\n\\t\\t\\t<script>\\n\\t\\t\\t\\tdocument.documentElement.classList.add(\\n\\t\\t\\t\\t\\t\\'jetpack-lazy-images-js-enabled\\'\\n\\t\\t\\t\\t);\\n\\t\\t\\t</script>\\n\\t\\t<link rel=\"amphtml\" href=\"https://www.infomoney.com.br/politica/10-pontos-para-entender-a-mp-905-e-por-que-ela-pode-ser-contestada-judicialmente/amp/\"><link rel=\"icon\" href=\"https://www.infomoney.com.br/wp-content/uploads/2019/10/IM-Favicon.png?fit=32%2C32&#038;quality=75&#038;strip=all\" sizes=\"32x32\" />\\n<link rel=\"icon\" href=\"https://www.infomoney.com.br/wp-content/uploads/2019/10/IM-Favicon.png?fit=128%2C128&#038;quality=75&#038;strip=all\" sizes=\"192x192\" />\\n<link rel=\"apple-touch-icon-precomposed\" href=\"https://www.infomoney.com.br/wp-content/uploads/2019/10/IM-Favicon.png?fit=128%2C128&#038;quality=75&#038;strip=all\" />\\n<meta name=\"msapplication-TileImage\" content=\"https://www.infomoney.com.br/wp-content/uploads/2019/10/IM-Favicon.png?fit=128%2C128&#038;quality=75&#038;strip=all\" />\\n    <meta property=\"fb:admins\" content=\"100001564845270,23205028,100001866890569,100001892083647,678214931\" />\\n    <meta property=\"fb:app_id\" content=\"126135914251280\" />\\n    \\n            <!-- Analytics Tag -->\\n        <script>window.dataLayer = window.dataLayer || [];</script>\\n        <!-- Analytics Tag - Optimize Anti-Flicker-->\\n        <style>.async-hide { opacity: 0 !important} </style>\\n        <script>(function(a,s,y,n,c,h,i,d,e){s.className+=\\' \\'+y;h.start=1*new Date;\\n        h.end=i=function(){s.className=s.className.replace(RegExp(\\' ?\\'+y),\\'\\')};\\n        (a[n]=a[n]||[]).hide=h;setTimeout(function(){i();h.end=null},c);h.timeout=c;\\n        })(window,document.documentElement,\\'async-hide\\',\\'dataLayer\\',4000,\\n        {\\'GTM-T8M3XX2\\':true});\\n        // Analytics Tag - SalesForce Interaction Studio\\n        (function(o,n,e){var l=\\'link\\',s=\\'script\\',c=\\'createElement\\',i=\\'insertBefore\\',f=o.getElementsByTagName(s)[0],p=f.parentNode,x=o[c](l),y=o[c](l),z=o[c](s);x.rel=\\'preconnect\\';x.href=n;y.rel=\\'preload\\';y.href=e;y.as=s;z.id=\\'thxTag\\';z.src=e;p[i](x,f);p[i](y,f);p[i](z,f);})(document,\\'https://na5.thunderhead.com\\',\\'https://na5.cdn.thunderhead.com/one/rt/js/one-tag.js?siteKey=ONE-4YRKC0KWPA-1291\\');\\n        // Analytics Tag - Google Tag Manager\\n        (function(w,d,s,l,i){w[l]=w[l]||[];w[l].push({\\'gtm.start\\':\\n        new Date().getTime(),event:\\'gtm.js\\'});var f=d.getElementsByTagName(s)[0],\\n        j=d.createElement(s),dl=l!=\\'dataLayer\\'?\\'&l=\\'+l:\\'\\';j.async=true;j.src=\\n        \\'https://www.googletagmanager.com/gtm.js?id=\\'+i+dl;f.parentNode.insertBefore(j,f);\\n        })(window,document,\\'script\\',\\'dataLayer\\',\\'GTM-T8M3XX2\\');</script>\\n        <!-- End Analytics Tag -->\\n     \\n    \\n    <div id=\"fb-root\"></div>\\n</head>\\n\\n<body class=\"post-template-default single single-post postid-1360794 single-format-standard\">\\n\\n        <noscript><iframe src=\"https://www.googletagmanager.com/ns.html?id=GTM-T8M3XX2\" height=\"0\" width=\"0\" style=\"display:none;visibility:hidden\"></iframe></noscript>\\n    \\n    <header class=\"container-header-small\">\\n        <header class=\"site-header\">\\n\\t<script type=\"text/javascript\">\\n        function getCookie(cname){\\n            var name = cname + \"=\";\\n            var decodedCookie = decodeURIComponent(document.cookie);\\n            var ca = decodedCookie.split(\\';\\');\\n            for(var i = 0; i <ca.length; i++) {\\n                var c = ca[i];\\n                while (c.charAt(0) == \\' \\') {\\n                    c = c.substring(1);\\n                }\\n                if (c.indexOf(name) == 0) {\\n                    return c.substring(name.length, c.length);\\n                }\\n            }\\n            return \"\";\\n        }\\n\\n        if ((document.referrer.indexOf(\".ig.com.br\") > 0 || getCookie(\\'_ref\\') == \\'ig\\')) {\\n            document.write(\\'<scr\\' + \\'ipt type=\\\\\"text/javascript\\\\\" src=\\\\\"//js.statig.com.br/barraiG/parceiros/barra_parceiros.js\\\\\">\\');\\n            document.write(\\'<\\\\/script>\\');\\n            document.cookie = \\'_ref\\' + \"=\" + \\'ig\\' + \"; path=/\";\\n        }\\n    </script>\\n\\n    <div class=\"header-full\">\\n        <div class=\"container-fluid\">\\n            <div class=\"row\">\\n                <div class=\"col d-flex align-items-center justify-content-between\">\\n                    <div class=\"d-flex align-items-center\">\\n                        <div class=\"header-action menu-open\">\\n                            <i class=\"material-icons\">menu</i>\\n                        </div>\\n                    </div>\\n                    <a href=\"https://www.infomoney.com.br\" class=\"logo-link\">\\n                        <img src=\"https://www.infomoney.com.br/wp-content/themes/infomoney/assets/img/logo.png\" class=\"logo\">\\n                    </a>\\n                    <div class=\"userPanel\">\\n                            <div class=\\'login-header not-logged\\'>\\n        <a href=\\'https://auth.infomoney.com.br/authentication/signin?response_type=code&client_id=aaeb000318befb9a2fe0f400&redirect_uri=http://ww3.infomoney.com.br/pages/authentication/callback&origin=portal-header&redirect_to=https://www.infomoney.com.br\\'>\\n            <i class=\\'material-icons\\'>account_circle</i>\\n            <p>Entrar</p>\\n        </a>\\n    </div>\\n    <div class=\\'login-header logged\\'>\\n        <i class=\\'material-icons\\'>account_circle</i>\\n        <p></p>\\n    </div>\\n    <ul class=\\'login-options\\'>\\n        <li><a href=\\'https://minhaconta.infomoney.com.br/\\'>Minha conta</a></li>\\n        <li><a href=\\'https://www.infomoney.com.br/ferramentas/carteira-de-acompanhamento\\'>Minhas carteiras</a></li>\\n        <li><a href=\\'https://auth.infomoney.com.br/api/auth/signout?redirect_to=https://www.infomoney.com.br\\'>Sair</a></li>\\n    </ul>\\n                        </div>\\n                    <div class=\"d-flex align-items-center\">\\n                        <div class=\"header-action open-search\">\\n                            <i class=\"material-icons\">search</i>\\n                        </div>\\n                    </div>\\n                </div>\\n            </div>\\n            <div class=\"row container-nav-topics\">\\n                <div class=\"col\">\\n                    <div class=\"nav-topics d-flex align-items-center justify-content-center\">\\n                        <i class=\"material-icons ml-n4 mr-2\">trending_up</i>\\n                        <a href=\"https://lp.infomoney.com.br/lista-vip-black-friday?utm_source=infomoney&#038;utm_medium=hot-topics&#038;utm_campaign=vip-black-friday-2019&#038;utm_term=op&#038;utm_content=hyperlink\" class=\" \" title=\"Black Friday para investidores\">\\n                                Black Friday para investidores                                </a><span>&#8226;</span><a href=\"https://conteudos.xpi.com.br/renda-fixa/relatorios/como-surfar-o-crescimento-economico-com-a-renda-fixa/?utm_source=infomoney&#038;utm_medium=hot%20topics\" class=\" \" title=\"Análises XP: Fundos de Investimento\">\\n                                Análises XP: Fundos de Investimento                                </a> \\n                    </div>\\n                </div>\\n            </div>\\n        </div>\\n    </div>\\n\\n    <div class=\"header\">\\n        <div class=\"container-fluid\">\\n            <div class=\"row\">\\n                <div class=\"col d-flex align-items-center justify-content-between\">\\n                    <div class=\"d-flex align-items-center\">\\n                        <div class=\"header-action menu-open\">\\n                            <i class=\"material-icons\">menu</i>\\n                        </div>\\n                        <a href=\"https://www.infomoney.com.br/\" class=\"d-none d-lg-block logo-link\">\\n                            <img src=\"https://www.infomoney.com.br/wp-content/themes/infomoney/assets/img/logo.svg\" class=\"logo\">\\n                        </a>\\n                        <div class=\"nav-topics d-none d-lg-flex align-items-center\">\\n                            <i class=\"material-icons ml-3 mr-2\">trending_up</i>\\n                            <a href=\"https://lp.infomoney.com.br/lista-vip-black-friday?utm_source=infomoney&#038;utm_medium=hot-topics&#038;utm_campaign=vip-black-friday-2019&#038;utm_term=op&#038;utm_content=hyperlink\" class=\" \" title=\"Black Friday para investidores\">\\n                                    Black Friday para investidores                                    </a><span>&#8226;</span><a href=\"https://conteudos.xpi.com.br/renda-fixa/relatorios/como-surfar-o-crescimento-economico-com-a-renda-fixa/?utm_source=infomoney&#038;utm_medium=hot%20topics\" class=\" \" title=\"Análises XP: Fundos de Investimento\">\\n                                    Análises XP: Fundos de Investimento                                    </a>                        </div>\\n                    </div>\\n                    <a href=\"https://www.infomoney.com.br\" class=\"d-lg-none ml-3 logo-link\"><img src=\"https://www.infomoney.com.br/wp-content/themes/infomoney/assets/img/logo.svg\" class=\"logo\"></a>\\n                    <div class=\"d-flex align-items-center\">\\n                        <div class=\"userPanel\">\\n                                <div class=\\'login-header not-logged\\'>\\n        <a href=\\'https://auth.infomoney.com.br/authentication/signin?response_type=code&client_id=aaeb000318befb9a2fe0f400&redirect_uri=http://ww3.infomoney.com.br/pages/authentication/callback&origin=portal-header&redirect_to=https://www.infomoney.com.br\\'>\\n            <i class=\\'material-icons\\'>account_circle</i>\\n            <p>Entrar</p>\\n        </a>\\n    </div>\\n    <div class=\\'login-header logged\\'>\\n        <i class=\\'material-icons\\'>account_circle</i>\\n        <p></p>\\n    </div>\\n    <ul class=\\'login-options\\'>\\n        <li><a href=\\'https://minhaconta.infomoney.com.br/\\'>Minha conta</a></li>\\n        <li><a href=\\'https://www.infomoney.com.br/ferramentas/carteira-de-acompanhamento\\'>Minhas carteiras</a></li>\\n        <li><a href=\\'https://auth.infomoney.com.br/api/auth/signout?redirect_to=https://www.infomoney.com.br\\'>Sair</a></li>\\n    </ul>\\n                            </div>\\n                        <div class=\"header-action open-search\">\\n                            <i class=\"material-icons\">search</i>\\n                        </div>\\n                    </div>\\n                </div>\\n            </div>\\n        </div>\\n    </div>\\n\\n    <div class=\"container-search-header\">\\n        <div class=\"header-search\">\\n            <img src=\"https://www.infomoney.com.br/wp-content/themes/infomoney/assets/img/logo.png\"/>\\n            <button>\\n                <i class=\"material-icons\">close</i>\\n            </button>\\n        </div>\\n        <div class=\"container\">\\n            <div class=\"row\">\\n                <div class=\"col-12 col-lg-8 m-auto\">\\n                    <form id=\"header-search\" action=\"https://www.infomoney.com.br/busca\" method=\"GET\">\\n                        <input type=\"text\" name=\"q\" placeholder=\"Busque no InfoMoney\" />\\n                        <button type=\"submit\">\\n                            <i class=\"material-icons\">search</i>\\n                        </button>\\n                    </form>\\n                </div>\\n                <div class=\"col-12 col-lg-8 m-auto topics-search\">\\n                                                <div>\\n                                <i class=\"material-icons\">trending_up</i>\\n                                <a href=\"https://lp.infomoney.com.br/lista-vip-black-friday?utm_source=infomoney&#038;utm_medium=hot-topics&#038;utm_campaign=vip-black-friday-2019&#038;utm_term=op&#038;utm_content=hyperlink\" title=\"Black Friday para investidores\">Black Friday para investidores</a>\\n                            </div>\\n                                                        <div>\\n                                <i class=\"material-icons\">trending_up</i>\\n                                <a href=\"https://conteudos.xpi.com.br/renda-fixa/relatorios/como-surfar-o-crescimento-economico-com-a-renda-fixa/?utm_source=infomoney&#038;utm_medium=hot%20topics\" title=\"Análises XP: Fundos de Investimento\">Análises XP: Fundos de Investimento</a>\\n                            </div>\\n                                            </div>\\n            </div>\\n        </div>\\n    </div>\\n\\n</header>    </header>\\n\\n    <div id=\"menu-side\">\\n    <div class=\"menu-header\">\\n        <div id=\"menu-close\">\\n            <i class=\"material-icons\">close</i>\\n        </div>\\n    </div>\\n    <div class=\"userPanel\">\\n            <div class=\\'login-header not-logged\\'>\\n        <a href=\\'https://auth.infomoney.com.br/authentication/signin?response_type=code&client_id=aaeb000318befb9a2fe0f400&redirect_uri=http://ww3.infomoney.com.br/pages/authentication/callback&origin=portal-header&redirect_to=https://www.infomoney.com.br\\'>\\n            <i class=\\'material-icons\\'>account_circle</i>\\n            <p>Entrar</p>\\n        </a>\\n    </div>\\n    <div class=\\'login-header logged\\'>\\n        <i class=\\'material-icons\\'>account_circle</i>\\n        <p></p>\\n    </div>\\n    <ul class=\\'login-options\\'>\\n        <li><a href=\\'https://minhaconta.infomoney.com.br/\\'>Minha conta</a></li>\\n        <li><a href=\\'https://www.infomoney.com.br/ferramentas/carteira-de-acompanhamento\\'>Minhas carteiras</a></li>\\n        <li><a href=\\'https://auth.infomoney.com.br/api/auth/signout?redirect_to=https://www.infomoney.com.br\\'>Sair</a></li>\\n    </ul>\\n        </div>\\n    <div class=\"topics-menu\">\\n                        <a href=\"https://lp.infomoney.com.br/lista-vip-black-friday?utm_source=infomoney&#038;utm_medium=hot-topics&#038;utm_campaign=vip-black-friday-2019&#038;utm_term=op&#038;utm_content=hyperlink\" title=\"Black Friday para investidores\">\\n                    <i class=\"material-icons\">trending_up</i>\\n                    <p>Black Friday para investidores</p>\\n                </a>\\n                                <a href=\"https://conteudos.xpi.com.br/renda-fixa/relatorios/como-surfar-o-crescimento-economico-com-a-renda-fixa/?utm_source=infomoney&#038;utm_medium=hot%20topics\" title=\"Análises XP: Fundos de Investimento\">\\n                    <i class=\"material-icons\">trending_up</i>\\n                    <p>Análises XP: Fundos de Investimento</p>\\n                </a>\\n                    </div>\\n    <ul id=\"menu-menu-principal\" class=\"list-unstyled\"><li id=\"menu-item-104\" class=\"menu-item menu-item-type-custom menu-item-object-custom menu-item-has-children menu-item-104\"><a href=\"https://www.infomoney.com.br/ultimas-noticias\">Notícias</a>\\n<ul class=\"list-unstyled\">\\n\\t<li id=\"menu-item-1318874\" class=\"menu-item menu-item-type-custom menu-item-object-custom menu-item-1318874\"><a href=\"https://www.infomoney.com.br/ultimas-noticias/\">Últimas</a></li>\\n\\t<li id=\"menu-item-1309053\" class=\"menu-item menu-item-type-taxonomy menu-item-object-category menu-item-1309053\"><a href=\"https://www.infomoney.com.br/mercados/\">Mercados</a></li>\\n\\t<li id=\"menu-item-1309056\" class=\"menu-item menu-item-type-taxonomy menu-item-object-category menu-item-1309056\"><a href=\"https://www.infomoney.com.br/onde-investir/\">Onde Investir</a></li>\\n\\t<li id=\"menu-item-1309057\" class=\"menu-item menu-item-type-taxonomy menu-item-object-category menu-item-1309057\"><a href=\"https://www.infomoney.com.br/minhas-financas/\">Minhas Finanças</a></li>\\n\\t<li id=\"menu-item-1309058\" class=\"menu-item menu-item-type-taxonomy menu-item-object-category current-post-ancestor current-menu-parent current-post-parent menu-item-1309058\"><a href=\"https://www.infomoney.com.br/politica/\">Política</a></li>\\n\\t<li id=\"menu-item-1309054\" class=\"menu-item menu-item-type-taxonomy menu-item-object-category menu-item-1309054\"><a href=\"https://www.infomoney.com.br/negocios/\">Negócios</a></li>\\n\\t<li id=\"menu-item-1309055\" class=\"menu-item menu-item-type-taxonomy menu-item-object-category menu-item-1309055\"><a href=\"https://www.infomoney.com.br/consumo/\">Consumo</a></li>\\n\\t<li id=\"menu-item-1309059\" class=\"menu-item menu-item-type-taxonomy menu-item-object-category menu-item-1309059\"><a href=\"https://www.infomoney.com.br/carreira/\">Carreira</a></li>\\n\\t<li id=\"menu-item-1321806\" class=\"menu-item menu-item-type-taxonomy menu-item-object-category current-post-ancestor current-menu-parent current-post-parent menu-item-1321806\"><a href=\"https://www.infomoney.com.br/economia/\">Economia</a></li>\\n</ul>\\n</li>\\n<li id=\"menu-item-118\" class=\"menu-item menu-item-type-custom menu-item-object-custom menu-item-home menu-item-has-children menu-item-118\"><a href=\"https://www.infomoney.com.br\">Cotações</a>\\n<ul class=\"list-unstyled\">\\n\\t<li id=\"menu-item-119\" class=\"menu-item menu-item-type-custom menu-item-object-custom menu-item-119\"><a href=\"https://www.infomoney.com.br/cotacoes/ibovespa/\">Ibovespa</a></li>\\n\\t<li id=\"menu-item-130\" class=\"menu-item menu-item-type-custom menu-item-object-custom menu-item-130\"><a href=\"/ferramentas/altas-e-baixas\">Altas e Baixas</a></li>\\n\\t<li id=\"menu-item-121\" class=\"menu-item menu-item-type-custom menu-item-object-custom menu-item-121\"><a href=\"/ferramentas/cambio\">Dólar e Moedas</a></li>\\n\\t<li id=\"menu-item-120\" class=\"menu-item menu-item-type-custom menu-item-object-custom menu-item-120\"><a href=\"/ferramentas/criptomoedas\">Criptomoedas</a></li>\\n\\t<li id=\"menu-item-123\" class=\"menu-item menu-item-type-custom menu-item-object-custom menu-item-123\"><a href=\"/ferramentas/cotacoes-opcoes-de-acoes/\">Opções de Ações</a></li>\\n\\t<li id=\"menu-item-127\" class=\"menu-item menu-item-type-custom menu-item-object-custom menu-item-127\"><a href=\"/ferramentas/juros-futuros-di\">Juros Futuros</a></li>\\n\\t<li id=\"menu-item-128\" class=\"menu-item menu-item-type-custom menu-item-object-custom menu-item-128\"><a href=\"/ferramentas/mini-contratos/\">Mini Contratos</a></li>\\n</ul>\\n</li>\\n<li id=\"menu-item-129\" class=\"menu-item menu-item-type-custom menu-item-object-custom menu-item-home menu-item-has-children menu-item-129\"><a href=\"https://www.infomoney.com.br\">Ferramentas</a>\\n<ul class=\"list-unstyled\">\\n\\t<li id=\"menu-item-1306407\" class=\"menu-item menu-item-type-custom menu-item-object-custom menu-item-1306407\"><a href=\"/ferramentas/carteira-de-acompanhamento\">Carteira de Acompanhamento</a></li>\\n\\t<li id=\"menu-item-4175\" class=\"menu-item menu-item-type-custom menu-item-object-custom menu-item-4175\"><a href=\"https://www.infomoney.com.br/ferramentas/comparador-renda-fixa/\">Comparador de Renda Fixa</a></li>\\n\\t<li id=\"menu-item-132\" class=\"menu-item menu-item-type-custom menu-item-object-custom menu-item-132\"><a href=\"/cotacoes/empresas-b3\">Empresas B3</a></li>\\n\\t<li id=\"menu-item-133\" class=\"menu-item menu-item-type-custom menu-item-object-custom menu-item-133\"><a href=\"/ferramentas/agendas\">Agendas</a></li>\\n</ul>\\n</li>\\n<li id=\"menu-item-1331944\" class=\"menu-item menu-item-type-custom menu-item-object-custom menu-item-has-children menu-item-1331944\"><a href=\"https://www.infomoney.com.br/onde-investir/\">Guias de Investimentos</a>\\n<ul class=\"list-unstyled\">\\n\\t<li id=\"menu-item-1331945\" class=\"menu-item menu-item-type-custom menu-item-object-custom menu-item-1331945\"><a href=\"https://www.infomoney.com.br/educacao/guias/guias-de-acoes/\">Ações</a></li>\\n\\t<li id=\"menu-item-1331946\" class=\"menu-item menu-item-type-custom menu-item-object-custom menu-item-1331946\"><a href=\"https://www.infomoney.com.br/guias/tesouro-direto/\">Tesouro Direto</a></li>\\n\\t<li id=\"menu-item-1348970\" class=\"menu-item menu-item-type-custom menu-item-object-custom menu-item-1348970\"><a href=\"https://www.infomoney.com.br/guias/planos-de-previdencia/\">Planos de Previdência</a></li>\\n\\t<li id=\"menu-item-1346183\" class=\"menu-item menu-item-type-custom menu-item-object-custom menu-item-1346183\"><a href=\"https://www.infomoney.com.br/vamosinvestir/aplicacoes/investir-em-renda-fixa/\">Renda Fixa</a></li>\\n\\t<li id=\"menu-item-1331948\" class=\"menu-item menu-item-type-custom menu-item-object-custom menu-item-1331948\"><a href=\"https://www.infomoney.com.br/guias/fundos-de-investimento/\">Fundos de Investimento</a></li>\\n\\t<li id=\"menu-item-1331952\" class=\"menu-item menu-item-type-custom menu-item-object-custom menu-item-1331952\"><a href=\"https://www.infomoney.com.br/guias/fundos-de-acoes/\">Fundos de Ações</a></li>\\n\\t<li id=\"menu-item-1359919\" class=\"menu-item menu-item-type-custom menu-item-object-custom menu-item-1359919\"><a href=\"https://www.infomoney.com.br/guias/fundos-multimercados/\">Fundos Multimercados</a></li>\\n\\t<li id=\"menu-item-1331949\" class=\"menu-item menu-item-type-custom menu-item-object-custom menu-item-1331949\"><a href=\"https://www.infomoney.com.br/guias/fundos-renda-fixa/\">Fundos de Renda Fixa</a></li>\\n\\t<li id=\"menu-item-1331950\" class=\"menu-item menu-item-type-custom menu-item-object-custom menu-item-1331950\"><a href=\"https://www.infomoney.com.br/guias/fundos-cambiais/\">Fundos Cambiais</a></li>\\n\\t<li id=\"menu-item-1331954\" class=\"menu-item menu-item-type-custom menu-item-object-custom menu-item-1331954\"><a href=\"https://www.infomoney.com.br/mercados/proventos-conheca-os-tipos-e-os-mecanismos-de-pagamento/\">Proventos e Dividendos</a></li>\\n\\t<li id=\"menu-item-1331957\" class=\"menu-item menu-item-type-custom menu-item-object-custom menu-item-1331957\"><a href=\"https://www.infomoney.com.br/guias/fundos-imobiliarios/\">Fundos Imobiliários</a></li>\\n\\t<li id=\"menu-item-1331956\" class=\"menu-item menu-item-type-custom menu-item-object-custom menu-item-1331956\"><a href=\"https://www.infomoney.com.br/onde-investir/como-participar-de-um-ipo/\">IPOs</a></li>\\n\\t<li id=\"menu-item-1331947\" class=\"menu-item menu-item-type-custom menu-item-object-custom menu-item-1331947\"><a href=\"https://www.infomoney.com.br/guias/cdb/\">CDBs</a></li>\\n\\t<li id=\"menu-item-1331955\" class=\"menu-item menu-item-type-custom menu-item-object-custom menu-item-1331955\"><a href=\"https://www.infomoney.com.br/mercados/o-que-sao-etfs/\">ETFs</a></li>\\n</ul>\\n</li>\\n<li id=\"menu-item-1321907\" class=\"menu-item menu-item-type-custom menu-item-object-custom menu-item-has-children menu-item-1321907\"><a href=\"https://www.infomoney.com.br/colunistas/\">Colunistas</a>\\n<ul class=\"list-unstyled\">\\n\\t<li id=\"menu-item-1323113\" class=\"menu-item menu-item-type-custom menu-item-object-custom menu-item-1323113\"><a href=\"https://www.infomoney.com.br/blog/alexandre-schwartsman/\">Alexandre Schwartsman</a></li>\\n\\t<li id=\"menu-item-1323227\" class=\"menu-item menu-item-type-custom menu-item-object-custom menu-item-1323227\"><a href=\"https://www.infomoney.com.br/blog/paulo-tafner/\">Paulo Tafner</a></li>\\n\\t<li id=\"menu-item-1323230\" class=\"menu-item menu-item-type-custom menu-item-object-custom menu-item-1323230\"><a href=\"https://www.infomoney.com.br/blog/pedro-menezes/\">Pedro Menezes</a></li>\\n\\t<li id=\"menu-item-1359514\" class=\"menu-item menu-item-type-custom menu-item-object-custom menu-item-1359514\"><a href=\"https://www.infomoney.com.br/colunistas/carol-sandler/\">Carol Sandler</a></li>\\n\\t<li id=\"menu-item-1323236\" class=\"menu-item menu-item-type-custom menu-item-object-custom menu-item-1323236\"><a href=\"https://www.infomoney.com.br/blog/investimentos-internacionais/\">Marcelo López</a></li>\\n\\t<li id=\"menu-item-1323231\" class=\"menu-item menu-item-type-custom menu-item-object-custom menu-item-1323231\"><a href=\"https://www.infomoney.com.br/blog/o-mundo-sobre-muitas-rodas/\">Raphael Galante</a></li>\\n\\t<li id=\"menu-item-1323234\" class=\"menu-item menu-item-type-custom menu-item-object-custom menu-item-1323234\"><a href=\"https://www.infomoney.com.br/blog/ivo-chermont/\">Ivo Chermont</a></li>\\n\\t<li id=\"menu-item-1323232\" class=\"menu-item menu-item-type-custom menu-item-object-custom menu-item-1323232\"><a href=\"https://www.infomoney.com.br/blog/cesar-grafietti/\">Cesar Grafietti</a></li>\\n\\t<li id=\"menu-item-1323240\" class=\"menu-item menu-item-type-custom menu-item-object-custom menu-item-1323240\"><a href=\"https://www.infomoney.com.br/blog/bruno-meyerhof-salama/\">Bruno Meyerhof Salama</a></li>\\n\\t<li id=\"menu-item-1323239\" class=\"menu-item menu-item-type-custom menu-item-object-custom menu-item-1323239\"><a href=\"https://www.infomoney.com.br/blog/economia-e-politica-direto-ao-ponto/\">Alan Ghani</a></li>\\n\\t<li id=\"menu-item-1323241\" class=\"menu-item menu-item-type-custom menu-item-object-custom menu-item-1323241\"><a href=\"https://www.infomoney.com.br/blog/jogo-das-regras/\">Alexandre Pacheco</a></li>\\n\\t<li id=\"menu-item-1326953\" class=\"menu-item menu-item-type-custom menu-item-object-custom menu-item-1326953\"><a href=\"https://www.infomoney.com.br/colunistas/eua-morar-e-investir/\">EUA: Morar e Investir</a></li>\\n</ul>\\n</li>\\n<li id=\"menu-item-1334706\" class=\"menu-item menu-item-type-custom menu-item-object-custom menu-item-home menu-item-has-children menu-item-1334706\"><a href=\"https://www.infomoney.com.br/\">Redes Sociais</a>\\n<ul class=\"list-unstyled\">\\n\\t<li id=\"menu-item-1324161\" class=\"menu-item menu-item-type-custom menu-item-object-custom menu-item-1324161\"><a href=\"https://www.instagram.com/infomoney/\">Instagram</a></li>\\n\\t<li id=\"menu-item-14579\" class=\"menu-item menu-item-type-custom menu-item-object-custom menu-item-14579\"><a href=\"https://www.youtube.com/channel/UCxm0tptjIc76-i26EKQ9NpA/\">Youtube</a></li>\\n\\t<li id=\"menu-item-1324162\" class=\"menu-item menu-item-type-custom menu-item-object-custom menu-item-1324162\"><a href=\"https://www.linkedin.com/company/infomoney/\">Linkedin</a></li>\\n</ul>\\n</li>\\n<li id=\"menu-item-1334711\" class=\"menu-item menu-item-type-custom menu-item-object-custom menu-item-has-children menu-item-1334711\"><a href=\"https://www.infomoney.com.br/patrocinados/\">Especiais</a>\\n<ul class=\"list-unstyled\">\\n\\t<li id=\"menu-item-1334712\" class=\"menu-item menu-item-type-custom menu-item-object-custom menu-item-1334712\"><a href=\"https://www.infomoney.com.br/patrocinados/getnet/\">GetNet</a></li>\\n\\t<li id=\"menu-item-1334713\" class=\"menu-item menu-item-type-custom menu-item-object-custom menu-item-1334713\"><a href=\"https://www.infomoney.com.br/patrocinados/maxmilhas/\">Max Milhas</a></li>\\n\\t<li id=\"menu-item-1334714\" class=\"menu-item menu-item-type-custom menu-item-object-custom menu-item-1334714\"><a href=\"https://www.infomoney.com.br/patrocinados/etf/\">ETFs</a></li>\\n\\t<li id=\"menu-item-1334715\" class=\"menu-item menu-item-type-custom menu-item-object-custom menu-item-1334715\"><a href=\"https://www.infomoney.com.br/patrocinados/longevidade-financeira/\">Longevidade</a></li>\\n\\t<li id=\"menu-item-1334716\" class=\"menu-item menu-item-type-custom menu-item-object-custom menu-item-1334716\"><a href=\"https://www.infomoney.com.br/patrocinados/seguro-de-vida/\">Seguro de Vida</a></li>\\n\\t<li id=\"menu-item-1334717\" class=\"menu-item menu-item-type-custom menu-item-object-custom menu-item-1334717\"><a href=\"https://lp.infomoney.com.br/panorama-novo-mercado-imobiliario\">Imóveis</a></li>\\n</ul>\\n</li>\\n<li id=\"menu-item-1306404\" class=\"menu-item menu-item-type-custom menu-item-object-custom menu-item-1306404\"><a href=\"https://www.xpi.com.br/assessoria-virtual/?utm_source=infomoney&#038;utm_campaign=assessoria-virtual&#038;utm_medium=menu-infomoney\">Assessoria de Investimentos</a></li>\\n<li id=\"menu-item-14619\" class=\"menu-item menu-item-type-custom menu-item-object-custom menu-item-14619\"><a href=\"https://lp.infomoney.com.br/ebooks-gratuitos-investimentos\">Ebooks Gratuitos</a></li>\\n<li id=\"menu-item-14609\" class=\"menu-item menu-item-type-custom menu-item-object-custom menu-item-14609\"><a href=\"https://lp.infomoney.com.br/planilhas-financeiras-gratuitas/\">Planilhas Financeiras Gratuitas</a></li>\\n<li id=\"menu-item-103\" class=\"menu-item menu-item-type-custom menu-item-object-custom menu-item-103\"><a href=\"https://cursos.infomoney.com.br/research-relatorios\">Relatórios</a></li>\\n<li id=\"menu-item-102\" class=\"menu-item menu-item-type-custom menu-item-object-custom menu-item-102\"><a href=\"https://cursos.infomoney.com.br/vitrine\">Cursos</a></li>\\n<li id=\"menu-item-1347315\" class=\"menu-item menu-item-type-custom menu-item-object-custom menu-item-1347315\"><a href=\"https://conteudos.xpi.com.br/?utm_source=infomoney&#038;utm_medium=menu&#038;utm_campaign=xp%20conteudos\">Análises XP</a></li>\\n</ul></div>\\n        <div class=\"after-header\">\\n            <section class=\"ticker-container\">\\n            <div class=\"ticker-carroussel\">\\n                <div id=\"ticker-content\">\\n                </div>\\n            </div>\\n            <div class=\"ticker-open-account\">\\n                <a href=\"https://cadastro.xpi.com.br/passo/iframe/step1?utm_source=infomoney&utm_campaign=abra-sua-conta&utm_medium=ticker140x40-formulario&utm_content=ros&utm_term=variacao2&rh=0#\" target=\"_blank\"><img src=\"https://www.infomoney.com.br/wp-content/themes/infomoney/assets/img/selo-xp.gif\" /></a>\\n            </div>\\n        </section>\\n                <div class=\"row mt-5 advertising_super_home fill-lightgray\">\\n            <div class=\"container p-0\">\\n                <div class=\"col-12 col-lg-12 SUPER container-ads\" id=\"sticky-on-scroll\" >\\n                    <div id=\"SUPER\" class=\"SUPER\">\\n                        <script>\\n                            googletag.cmd.push(function() { googletag.display(decodeURIComponent( \\'SUPER\\' ) )  });                                showAdvertising(decodeURIComponent( \\'SUPER\\' ) );                        </script>\\n                    </div>\\n                </div>\\n            </div>\\n        </div>    </div>\\n    <div class=\"container\">\\n    <article id=\"post-1360794\" class=\"post-1360794 post type-post status-publish format-standard has-post-thumbnail hentry category-economia category-politica tag-clt tag-governo tag-medida-provisoria\">\\n\\n    <div class=\"col post-header border-b my-5 px-0 pb-5\">\\n        <div class=\"row\">\\n            <div class=\"col-md-10 col-xl-8 m-auto\">\\n\\n                <div class=\"hat-and-brand\">\\n                    <span class=\"post-hat\">\\n                        Mudanças na lei                    </span>\\n                                    </div>\\n\\n                <h1 class=\"page-title-1\">Reforma Trabalhista de Bolsonaro: entenda a MP 905 &#8211; e por que ela pode ser contestada judicialmente</h1>\\n                <p class=\"article-lead\">Governo anuncia pacote que altera leis trabalhistas, mas princípio da isonomia pode ser ferido pela MP</p>\\n                <div class=\"d-lg-flex m-0 justify-content-between\">\\n                    <div class=\"article-author d-flex\">\\n                                                    <div class=\"author-image-container\">\\n                                <div class=\"author-thumbnail\">\\n                                    <div class=\"blue-border\"></div>\\n                                    <div class=\"white-border\"></div>\\n                                    <div class=\"img-author\">\\n                                        <img alt src=\"https://www.infomoney.com.br/wp-content/uploads/2019/11/Pablo-Santana-U003013-3-1-e1574187869230.jpg\" class=\"avatar avatar-96 photo avatar-default jetpack-lazy-image\" height=\"96\" width=\"96\" data-lazy-srcset=\"https://www.infomoney.com.br/wp-content/uploads/2019/11/Pablo-Santana-U003013-3-1-e1574187869230.jpg 2x\" data-lazy-src=\"https://www.infomoney.com.br/wp-content/uploads/2019/11/Pablo-Santana-U003013-3-1-e1574187869230.jpg?is-pending-load=1\" srcset=\"data:image/gif;base64,R0lGODlhAQABAIAAAAAAAP///yH5BAEAAAAALAAAAAABAAEAAAIBRAA7\"><noscript><img alt=\\'\\' src=\\'https://www.infomoney.com.br/wp-content/uploads/2019/11/Pablo-Santana-U003013-3-1-e1574187869230.jpg\\' srcset=\\'https://www.infomoney.com.br/wp-content/uploads/2019/11/Pablo-Santana-U003013-3-1-e1574187869230.jpg 2x\\' class=\\'avatar avatar-96 photo avatar-default\\' height=\\'96\\' width=\\'96\\' /></noscript>                                    </div>\\n                                </div>\\n                            </div>\\n                                                    <div class=\"author-info-container\">\\n                                                            <span class=\"author-name\">Por \\t\\t\\t\\t<a href=\"https://www.infomoney.com.br/autor/pablo-santana/\">\\n\\t\\t\\t\\t\\tPablo Santana\\t\\t\\t\\t</a>\\n\\t\\t\\t\\t</span>\\n                                                            <span class=\"article-date\"><span class=\"posted-on\"><time class=\"entry-date published\" datetime=\"2019-11-14T15:26:14-03:00\">14 nov 2019 15h26</time> - <time class=\"updated\" datetime=\"2019-11-15T12:29:14-03:00\"> Atualizado 5 dias atrás</time></span></span>\\n                            \\n                        </div>\\n                    </div>\\n                    <div class=\"post-share d-flex d-lg-initial align-items-center justify-content-end mt-3 mt-lg-0\">\\n                        \\t\\t<i class=\"material-icons share-icon\">reply</i>\\n\\t\\t<a class=\"post-share-facebook\" href=\"https://facebook.com/sharer/sharer.php?u=https%3A%2F%2Fwww.infomoney.com.br%2Fpolitica%2F10-pontos-para-entender-a-mp-905-e-por-que-ela-pode-ser-contestada-judicialmente%2F\" target=\"_blank\"><i class=\"fab fa-facebook\"></i></a>\\n\\t\\t<a class=\"post-share-twitter\" href=\"https://twitter.com/intent/tweet?url=https%3A%2F%2Fwww.infomoney.com.br%2Fpolitica%2F10-pontos-para-entender-a-mp-905-e-por-que-ela-pode-ser-contestada-judicialmente%2F&amp;text=Reforma%20Trabalhista%20de%20Bolsonaro%3A%20entenda%20a%20MP%20905%20%26%238211%3B%20e%20por%20que%20ela%20pode%20ser%20contestada%20judicialmente&amp;via=InfoMoney\" target=\"_blank\"><i class=\"fab fa-twitter\"></i></a>\\n\\t\\t                    </div>\\n                </div>\\n            </div>\\n        </div>\\n    </div>\\n\\n    \\n    <div class=\"row\">\\n        <div class=\"col-12 col-lg-3 order-1 order-lg-0\">\\n            <div class=\"pt-4 mb-5 pt-lg-0 mb-lg-0 border-t-mobile sticky-tags\">\\n                                    <span><i class=\"material-icons\">arrow_forward</i>Mais sobre</span>\\n                    <ul class=\"list-unstyled small article-terms\"><li><a class=\"link-category\" href=\"https://www.infomoney.com.br/economia/\" rel=\"tag\">Economia</a></li><li><a class=\"link-category\" href=\"https://www.infomoney.com.br/politica/\" rel=\"tag\">Política</a></li><li><a href=\"https://www.infomoney.com.br/tudo-sobre/clt/\" rel=\"tag\">CLT</a></li><li><a href=\"https://www.infomoney.com.br/tudo-sobre/governo/\" rel=\"tag\">Governo</a></li><li><a href=\"https://www.infomoney.com.br/tudo-sobre/medida-provisoria/\" rel=\"tag\">Medida Provisória</a></li></ul>            </div>\\n        </div>\\n        <div class=\"col-md-9 col-lg-8 col-xl-6 m-sm-auto m-lg-0 article-content\">\\n            \\n\\t\\t\\t\\t\\t<figure class=\"mb-5\">\\n\\t\\t\\t\\t\\t\\t<img width=\"1000\" height=\"716\" src=\"https://www.infomoney.com.br/wp-content/uploads/2019/11/shutterstock_1300372189.jpg?fit=1000%2C716&amp;quality=75&amp;strip=all\" class=\"attachment-large size-large wp-post-image jetpack-lazy-image\" alt=\"carteira de trabalho\" data-lazy-srcset=\"https://www.infomoney.com.br/wp-content/uploads/2019/11/shutterstock_1300372189.jpg?w=1000&amp;quality=75&amp;strip=all 1000w, https://www.infomoney.com.br/wp-content/uploads/2019/11/shutterstock_1300372189.jpg?w=300&amp;quality=75&amp;strip=all 300w, https://www.infomoney.com.br/wp-content/uploads/2019/11/shutterstock_1300372189.jpg?w=768&amp;quality=75&amp;strip=all 768w\" data-lazy-sizes=\"(max-width:320px) 145px, (max-width:425px) 220px, 500px\" data-lazy-src=\"https://www.infomoney.com.br/wp-content/uploads/2019/11/shutterstock_1300372189.jpg?fit=1000%2C716&amp;quality=75&amp;strip=all&amp;is-pending-load=1\" srcset=\"data:image/gif;base64,R0lGODlhAQABAIAAAAAAAP///yH5BAEAAAAALAAAAAABAAEAAAIBRAA7\" />\\t\\t                <figcaption class=\"small text-muted\">\\n\\t\\t                (Shutterstock)\\t\\t                </figcaption>\\n\\t\\t            </figure>\\n\\n\\t\\t\\t\\t\\t            <p>SÃO PAULO – Instituída pelo presidente Jair Bolsonaro na última segunda-feira (11), a Medida Provisória 905/2019 altera pontos da legislação trabalhista e cria o Contrato de Trabalho <strong>Verde Amarelo</strong>, dando incentivos a empresas para contratar jovens entre 18 e 29 anos, sem experiência na carteira, pelo prazo determinado de dois anos.</p><p>Para bancar a iniciativa, o governo anunciou que irá <a href=\"https://www.infomoney.com.br/politica/governo-vai-taxar-seguro-desemprego-para-bancar-empregos-de-mais-jovens/\">taxar o seguro-desemprego. </a>A estimativa oficial é de 1,8 milhão de vagas de emprego em um prazo de três anos.</p><p>Entre as principais condições criadas para incentivar as contratações na modalidade estão: isenção das alíquotas do Sistema S, do salário-educação e da contribuição patronal de 20%\\xa0 para o FGTS. As mudanças geram um corte de até 34% dos impostos pagos sobre a folha.</p><div class=\\'row justify-content-center\\'><div class=\\'container-ads-content RETANGULO_AF\\'><div class=\\'ads-label\\'>PUBLICIDADE</div><div id=\\'RETANGULO_AF\\' class=\\'RETANGULO_AF\\'><script>googletag.cmd.push(function() { googletag.display( decodeURIComponent( \\'RETANGULO_AF\\' ) ); });showAdvertising( decodeURIComponent( \\'RETANGULO_AF\\' ) );</script></div></div></div><p>A MP também prevê para o Contrato Verde Amarelo a redução de 8% para 2% do valor do salário na contribuição do empregado para o Fundo do Tempo de Serviço (FGTS) e da multa de 40% para 20% &#8211; podendo ser resgatado também em casos de demissão por justa causa.<br />Outra iniciativa é a antecipação de pagamentos, como férias, 13º salário e saldo do FGTS, podendo ser mensalmente resgatados, caso acordado entre empregado e empregador.</p><p><strong>Leia também:<br /></strong><strong><a href=\"https://www.infomoney.com.br/politica/camara-conclui-votacao-da-mp-do-fgts-com-saque-de-ate-r-998-texto-segue-para-o-senado/\">• Câmara conclui votação da MP do FGTS com saque de até R$ 998; texto segue para o Senado</a></strong></p><p>Segundo o advogado Nelson Guimarães, sócio do escritório Bosisio Advogados, a MP mexe com pontos importantes que podem estimular ajuizamento de Ações Diretas de Inconstitucionalidade contra o pacote.</p><p>Um dos pontos sensíveis é a alteração da CLT para a inserção dos mecanismos do Contrato Verde Amarelo, que, segundo Guimarães, comprometem o princípio da isonomia. “Como o contrato cria uma categoria diferente de empregados, com alíquotas e regras diferenciadas, pode haver algum questionamento a respeito da constitucionalidade desses dispositivos”, explica o advogado.</p><p>Outro tópico frágil apontado pelo jurista é o Art. 15. da MP, que versa sobre seguro por exposição a acidentes.</p><p>O texto regulamenta que o empregador, mediante acordo com o trabalhador, pode contratar um seguro privado de acidentes pessoais e pagar 5% do adicional de periculosidade sobre o salário base do empregado, diferente dos 30% estabelecido pela lei para os trabalhadores do regime CLT.</p><div class=\\'row justify-content-center\\'><div class=\\'container-ads-content RETANGULO_BF\\'><div class=\\'ads-label\\'>PUBLICIDADE</div><div id=\\'RETANGULO_BF\\' class=\\'RETANGULO_BF\\'><script>googletag.cmd.push(function() { googletag.display( decodeURIComponent( \\'RETANGULO_BF\\' ) ); });showAdvertising( decodeURIComponent( \\'RETANGULO_BF\\' ) );</script></div></div></div><p>A medida ainda estabelece que o adicional só será pago quando houver exposição permanente do trabalhador por, no mínimo, 50% da jornada normal de trabalho. A questão exposta, de acordo com Guimarães, contraria uma jurisprudência consolidada do Tribunal Superior do Trabalho (TST) a respeito do tema e subverte o próprio conceito de periculosidade.</p><p>“Segundo as normas regulamentadoras, o fato do trabalhador estar exposto a risco já lhe dar o direito ao adicional de periculosidade, desde que essa exposição não seja eventual. Esse direito independe da quantidade de tempo, porque o risco não escolhe horário para acontecer. Ao estabelecer um critério de tempo, a MP abre brechas para contestações”, diz Guimarães.</p><p>Para a advogada Maria Lúcia Benhame, sócia-fundadora do escritório Benhame Sociedade de Advogados, o texto não estabelece o que é periculosidade, dificultando a sua interpretação.</p><p>“A MP teria que definir melhor o que é condição perigosa nos seus termos para não gerar insegurança jurídica, porque você tem um ato jurídico que vai se prolongar além de uma possível validade que, eventualmente, possa ser cancelada ou alterada numa lei posterior”, explica a jurista.</p><p>Maria Lúcia observa que a medida pode contribuir com o objetivo do governo de gerar emprego, porque o empresário vai ter menos medo de contratar com os estímulos propostos. Mas pontua que o êxito do projeto parte da melhoria das condições econômicas.</p><p>“Do ponto de vista das empresas, a MP criou um ambiente em que é mais fácil e barato contratar e demitir, porque a multa do fundo está em 20% e o empresário recebeu outras contrapartidas. Então, caso a empresa esteja em um nicho de atividade econômica melhor, ela vai se sentir à vontade para contratar. Porém o que vai gerar emprego mesmo é o aquecimento da economia. Lei nenhuma cria emprego”, opina Benhame.</p><p>O governo também aproveitou a criação do Contrato de Trabalho Verde Amarelo para realizar novas modificações nas regras trabalhistas. Foram incluídas mudanças que reorganiza o sistema de fiscalização do trabalho, altera a legislação sobre a participação nos lucros e prêmios e amplia a jornada de trabalho dos bancários.</p><h2><b>Entenda as principais mudanças da MP na legislação trabalhista\\xa0</b></h2><p>&nbsp;</p><h3><b>Alimentação\\xa0</b></h3><p>O governo retirou do cálculo do salário o fornecimento de alimentação, seja in natura ou por meio de tickets, vales e cupons. Com a retirada da natureza salarial, o fornecimento passa a ser não tributável para efeito da contribuição previdenciária e dos demais tributos incidentes sobre a folha de salários, além de não integrar a base de cálculo do imposto de renda.</p><h3><b>Gorjeta\\xa0</b></h3><p>As gorjetas destinadas aos trabalhadores farão parte da remuneração do empregado, sendo sua distribuição de rateio e custeio definidas em convenção ou acordo coletivo e o seu valor correspondente inseridos em nota fiscal.</p><p>O texto também estabelece que o percentual recebido deve ser anotado na carteira de trabalho dos empregadores e não constitui receita própria dos empregadores.</p><h3><b>Lucros e prêmios\\xa0 \\xa0 \\xa0 \\xa0 \\xa0 \\xa0 \\xa0 \\xa0 </b></h3><p>A MP permite que as partes definam quais políticas devem ser adotadas e determina que o pagamento dos valores devem ser limitadas a quatro vezes por ano e, no máximo, uma por semestre.</p><h3><b>Armazenamento eletrônico</b></h3><p>Fica autorizado o armazenamento em meio eletrônico de documentos relativos a deveres e obrigações trabalhistas.</p><h3><b>FGTS\\xa0</b></h3><p>Acaba com o adicional de 10% da multa rescisória sobre o FGTS pago pelas empresas em caso de demissão sem justa causa.</p><h3><b>Registro profissional</b></h3><p>O texto retira a exigência de registro de trabalho para profissões que não tenham conselhos ou ordens de classe, como jornalistas, arquivistas, publicitários e lavadores de carro. Além de revogar leis que regulamenta o exercício de profissões, entre elas: corretor de seguro e guardador e lavador de carros.</p><h3><b>Acordos</b></h3><p>Em execução desde a reforma trabalhista de Temer, o texto permite a execução de um acordo extrajudicial entre as partes, no encerramento do contrato.</p><h3><b>Bancários</b></h3><p>O governo estende até aos sábados o trabalho dos bancários, além de aumentar a carga horária de 6 para 8 horas diárias da categoria, exceto os trabalhadores que operam exclusivamente nos caixas em atendimento ao público.</p><h3><b>Trabalho aos domingos e feriados</b></h3><p>A MP retorna com a proposta do governo &#8211; retirada pelos senadores na MP da Liberdade Econômica, em agosto -, de autorizar o trabalho aos domingos e feriados para diversas categorias.</p><p>Para a indústria, a folga dominical deve acontecer uma vez no período máximo de sete semanas, enquanto o setor de comércios e serviços está garantido um domingo no período máximo de quatro semanas.</p><h3><b>Fiscalização</b></h3><p>O texto aumenta os valores das multas administrativas, aplicadas por auditores do trabalho, ordenando de acordo com gravidade da infração, porte da empresa e funcionários prejudicados.\\xa0 O governo ainda implanta a dupla visita para situações de gradação leve. “Primeiro, o auditor-fiscal alerta para possíveis problemas, que só será convertida em multa em caso de reincidência”.</p><p><strong>Pense no seu futuro: invista. <em><a href=\"https://cadastro.xpi.com.br/passo/default/step1?utm_source=infomoney&amp;utm_campaign=materia-redacao&amp;utm_medium=link&amp;utm_content=pablo-santana&amp;utm_term=1360794\">Abra uma conta gratuita na XP.</a></em></strong></p>        </div>\\n        <div class=\"col-12 col-lg-8 offset-0 offset-lg-3 offset-xl-2\">\\n\\n                        \\n            <div id=\"comments\" class=\"mt-5 mb-5\">\\n    <div class=\"fb-comments\" data-href=\"https://www.infomoney.com.br/politica/10-pontos-para-entender-a-mp-905-e-por-que-ela-pode-ser-contestada-judicialmente/\" data-numposts=\"5\" data-mobile=\"true\" data-order-by=\"reverse_time\"></div>\\n</div>\\n\\n\\n  \\n\\n\\n        </div>\\n\\n    </div>\\n    <!-- /8003922/AdLink -->\\n    <div id=\"AdLink\" style=\"margin:0 auto\"><script>googletag.cmd.push(function() { googletag.display(\\'AdLink\\'); });</script></div>\\n</article></div>\\n    <section>\\n        <div class=\"container row border-t py-5 mt-5\">\\n                        <div class=\"col-12 col-lg-7 m-auto\">\\n                <div class=\"OUTBRAIN\" data-src=\"https://www.infomoney.com.br/politica/10-pontos-para-entender-a-mp-905-e-por-que-ela-pode-ser-contestada-judicialmente/\" data-widget-id=\"AR_8\" data-ob-template=\"BR_infomoney\">\\n                </div>\\n            </div>\\n            \\n            \\n                        \\n        </div>\\n    </section>\\n    <aside>\\n<div class=\"newsletter-footer\" >\\n    <div class=\"newsletter-form\">\\n        <span class=\"title\">O resumo do mercado no seu email</span>\\n        <!--p>Proin nec massa et urna porta sollicitudin vitae non justo. Mauris dictum tincidunt laoreet. Sed quis libero et lorem feugiat fermentum</p-->\\n            \\n            <form  id=\"ajax_form\" method=\"\" action=\"\" accept-charset=\"utf-8\">\\n                <input type=\"hidden\" id=\"_wpnonce\" name=\"_wpnonce\" value=\"364b61ca1b\" /><input type=\"hidden\" name=\"_wp_http_referer\" value=\"/politica/10-pontos-para-entender-a-mp-905-e-por-que-ela-pode-ser-contestada-judicialmente/\" />                <input type=\"email\" name=\"email\" class=\"form-group\" id=\"email-footer\" placeholder=\"nome@exemplo.com.br\" required />\\n                <input type=\"submit\" class=\"btn btn-dark\" value=\"Cadastrar\" name=\"submit\" id=\"submit-btn\"/>\\n            </form>\\n            <span id=\"status-footer\"></span>\\n                </div>\\n</div>\\n</aside>\\n<footer class=\"footer mt-5\" id=\"footer\">\\n    <div class=\"container\">\\n        <div class=\"row footer-top pb-5\">\\n                        <div class=\"col-md-12 col-lg-8 footer-map\">\\n                <ul id=\"menu-rodape\" class=\"list-unstyled\"><li id=\"menu-item-1331960\" class=\"menu-item menu-item-type-custom menu-item-object-custom menu-item-has-children menu-item-1331960\"><a href=\"https://www.infomoney.com.br/onde-investir/\">Guias de Investimentos</a>\\n<ul class=\"list-unstyled\">\\n\\t<li id=\"menu-item-1331961\" class=\"menu-item menu-item-type-custom menu-item-object-custom menu-item-1331961\"><a href=\"https://www.infomoney.com.br/educacao/guias/guias-de-acoes/\">Ações</a></li>\\n\\t<li id=\"menu-item-1346186\" class=\"menu-item menu-item-type-custom menu-item-object-custom menu-item-1346186\"><a href=\"https://www.infomoney.com.br/vamosinvestir/aplicacoes/investir-em-renda-fixa/\">Renda Fixa</a></li>\\n\\t<li id=\"menu-item-1331964\" class=\"menu-item menu-item-type-custom menu-item-object-custom menu-item-1331964\"><a href=\"https://www.infomoney.com.br/guias/tesouro-direto/\">Tesouro Direto</a></li>\\n\\t<li id=\"menu-item-1331962\" class=\"menu-item menu-item-type-custom menu-item-object-custom menu-item-1331962\"><a href=\"https://www.infomoney.com.br/guias/fundos-de-investimento/\">Fundos de Investimento</a></li>\\n\\t<li id=\"menu-item-1359925\" class=\"menu-item menu-item-type-custom menu-item-object-custom menu-item-1359925\"><a href=\"https://www.infomoney.com.br/guias/fundos-multimercados/\">Fundos Multimercados</a></li>\\n\\t<li id=\"menu-item-1331963\" class=\"menu-item menu-item-type-custom menu-item-object-custom menu-item-1331963\"><a href=\"https://www.infomoney.com.br/guias/fundos-cambiais/\">Fundos Cambiais</a></li>\\n\\t<li id=\"menu-item-1331990\" class=\"menu-item menu-item-type-custom menu-item-object-custom menu-item-1331990\"><a href=\"https://www.infomoney.com.br/guias/fundos-de-acoes/\">Fundos de Ações</a></li>\\n\\t<li id=\"menu-item-1331966\" class=\"menu-item menu-item-type-custom menu-item-object-custom menu-item-1331966\"><a href=\"https://www.infomoney.com.br/guias/fundos-renda-fixa/\">Fundos de Renda Fixa</a></li>\\n\\t<li id=\"menu-item-1331965\" class=\"menu-item menu-item-type-custom menu-item-object-custom menu-item-1331965\"><a href=\"https://www.infomoney.com.br/vamosinvestir/aplicacoes/fundos-imobiliarios/\">Fundos Imobiliários</a></li>\\n\\t<li id=\"menu-item-1331987\" class=\"menu-item menu-item-type-custom menu-item-object-custom menu-item-1331987\"><a href=\"https://www.infomoney.com.br/mercados/proventos-conheca-os-tipos-e-os-mecanismos-de-pagamento/\">Proventos e Dividendos</a></li>\\n\\t<li id=\"menu-item-1348967\" class=\"menu-item menu-item-type-custom menu-item-object-custom menu-item-1348967\"><a href=\"https://www.infomoney.com.br/guias/planos-de-previdencia/\">Planos de Previdência</a></li>\\n\\t<li id=\"menu-item-1345977\" class=\"menu-item menu-item-type-custom menu-item-object-custom menu-item-1345977\"><a href=\"https://www.infomoney.com.br/guias/cdb/\">CDBs</a></li>\\n\\t<li id=\"menu-item-1345826\" class=\"menu-item menu-item-type-custom menu-item-object-custom menu-item-1345826\"><a href=\"https://www.infomoney.com.br/mercados/o-que-sao-etfs/\">ETFs</a></li>\\n\\t<li id=\"menu-item-1331970\" class=\"menu-item menu-item-type-custom menu-item-object-custom menu-item-1331970\"><a href=\"https://www.infomoney.com.br/onde-investir/como-participar-de-um-ipo/\">IPOs</a></li>\\n</ul>\\n</li>\\n<li id=\"menu-item-601655\" class=\"menu-item menu-item-type-custom menu-item-object-custom menu-item-has-children menu-item-601655\"><a href=\"https://www.infomoney.com.br/ultimas-noticias/\">Notícias</a>\\n<ul class=\"list-unstyled\">\\n\\t<li id=\"menu-item-601656\" class=\"menu-item menu-item-type-custom menu-item-object-custom menu-item-601656\"><a href=\"https://www.infomoney.com.br/mercados/\">Mercados</a></li>\\n\\t<li id=\"menu-item-601657\" class=\"menu-item menu-item-type-custom menu-item-object-custom menu-item-601657\"><a href=\"https://www.infomoney.com.br/onde-investir/\">Onde investir</a></li>\\n\\t<li id=\"menu-item-601658\" class=\"menu-item menu-item-type-custom menu-item-object-custom menu-item-601658\"><a href=\"https://www.infomoney.com.br/minhas-financas/\">Minhas Finanças</a></li>\\n\\t<li id=\"menu-item-601659\" class=\"menu-item menu-item-type-custom menu-item-object-custom menu-item-601659\"><a href=\"https://www.infomoney.com.br/politica/\">Política</a></li>\\n\\t<li id=\"menu-item-601660\" class=\"menu-item menu-item-type-custom menu-item-object-custom menu-item-601660\"><a href=\"https://www.infomoney.com.br/carreira/\">Carreira</a></li>\\n\\t<li id=\"menu-item-601661\" class=\"menu-item menu-item-type-custom menu-item-object-custom menu-item-601661\"><a href=\"https://www.infomoney.com.br/consumo/\">Consumo</a></li>\\n\\t<li id=\"menu-item-641973\" class=\"menu-item menu-item-type-custom menu-item-object-custom menu-item-641973\"><a href=\"https://www.infomoney.com.br/negocios/\">Negócios</a></li>\\n\\t<li id=\"menu-item-1325310\" class=\"menu-item menu-item-type-custom menu-item-object-custom menu-item-1325310\"><a href=\"https://www.infomoney.com.br/economia/\">Economia</a></li>\\n</ul>\\n</li>\\n<li id=\"menu-item-1318881\" class=\"menu-item menu-item-type-custom menu-item-object-custom menu-item-has-children menu-item-1318881\"><a href=\"https://www.infomoney.com.br/cotacoes/\">Cotações</a>\\n<ul class=\"list-unstyled\">\\n\\t<li id=\"menu-item-1318882\" class=\"menu-item menu-item-type-custom menu-item-object-custom menu-item-1318882\"><a href=\"https://www.infomoney.com.br/cotacoes/ibovespa/\">Ibovespa</a></li>\\n\\t<li id=\"menu-item-641809\" class=\"menu-item menu-item-type-custom menu-item-object-custom menu-item-641809\"><a href=\"https://www.infomoney.com.br/mercados/ferramentas/altas-e-baixas\">Altas e Baixas</a></li>\\n\\t<li id=\"menu-item-1318883\" class=\"menu-item menu-item-type-custom menu-item-object-custom menu-item-1318883\"><a href=\"https://www.infomoney.com.br/ferramentas/cambio/\">Dólar e câmbio</a></li>\\n\\t<li id=\"menu-item-1318885\" class=\"menu-item menu-item-type-custom menu-item-object-custom menu-item-1318885\"><a href=\"https://www.infomoney.com.br/ferramentas/criptomoedas/\">Criptomoedas</a></li>\\n\\t<li id=\"menu-item-1318888\" class=\"menu-item menu-item-type-custom menu-item-object-custom menu-item-1318888\"><a href=\"https://www.infomoney.com.br/ferramentas/juros-futuros-di/\">Juros Futuros</a></li>\\n\\t<li id=\"menu-item-1318889\" class=\"menu-item menu-item-type-custom menu-item-object-custom menu-item-1318889\"><a href=\"https://www.infomoney.com.br/ferramentas/mini-contratos/\">Minicontratos</a></li>\\n\\t<li id=\"menu-item-1318887\" class=\"menu-item menu-item-type-custom menu-item-object-custom menu-item-1318887\"><a href=\"https://www.infomoney.com.br/ferramentas/cotacoes-opcoes-de-acoes/\">Opções de Ações</a></li>\\n</ul>\\n</li>\\n<li id=\"menu-item-641805\" class=\"menu-item menu-item-type-custom menu-item-object-custom menu-item-home menu-item-has-children menu-item-641805\"><a href=\"https://www.infomoney.com.br\">Ferramentas</a>\\n<ul class=\"list-unstyled\">\\n\\t<li id=\"menu-item-1318892\" class=\"menu-item menu-item-type-custom menu-item-object-custom menu-item-1318892\"><a href=\"https://www.infomoney.com.br/ferramentas/carteira-de-acompanhamento/\">Carteira de Acompanhamento</a></li>\\n\\t<li id=\"menu-item-641880\" class=\"menu-item menu-item-type-custom menu-item-object-custom menu-item-641880\"><a href=\"https://www.infomoney.com.br/ferramentas/comparador-renda-fixa/\">Comparador de Renda Fixa</a></li>\\n\\t<li id=\"menu-item-641818\" class=\"menu-item menu-item-type-custom menu-item-object-custom menu-item-641818\"><a href=\"https://www.infomoney.com.br/mercados/empresas-bovespa\">Empresas B3</a></li>\\n\\t<li id=\"menu-item-641868\" class=\"menu-item menu-item-type-custom menu-item-object-custom menu-item-641868\"><a href=\"https://www.infomoney.com.br/mercados/agendas\">Agendas</a></li>\\n</ul>\\n</li>\\n<li id=\"menu-item-1318891\" class=\"menu-item menu-item-type-custom menu-item-object-custom menu-item-has-children menu-item-1318891\"><a href=\"https://cursos.infomoney.com.br/vitrine\">Educação</a>\\n<ul class=\"list-unstyled\">\\n\\t<li id=\"menu-item-601647\" class=\"menu-item menu-item-type-custom menu-item-object-custom menu-item-601647\"><a href=\"https://cursos.infomoney.com.br/vitrine\">Cursos</a></li>\\n\\t<li id=\"menu-item-601650\" class=\"menu-item menu-item-type-custom menu-item-object-custom menu-item-601650\"><a href=\"https://lp.infomoney.com.br/ebooks-gratuitos-investimentos\">Ebooks gratuitos</a></li>\\n\\t<li id=\"menu-item-601654\" class=\"menu-item menu-item-type-custom menu-item-object-custom menu-item-601654\"><a href=\"https://www.infomoney.com.br/planilhas-financeiras-gratuitas/\">Planilhas gratuitas</a></li>\\n\\t<li id=\"menu-item-601648\" class=\"menu-item menu-item-type-custom menu-item-object-custom menu-item-601648\"><a href=\"https://www.infomoney.com.br/research-relatorios\">Relatórios</a></li>\\n</ul>\\n</li>\\n</ul>            </div>\\n            <div class=\"col-md-12 col-lg-3 offset-lg-1\">\\n                <!-- SOCIAL -->\\n                <h6 class=\"mb-2 title-call\">Siga</h6>\\n                <div class=\"footer-social mb-5\"> \\n                    \\n    <a href=\"https://www.facebook.com/InfoMoney\" target=\"_new\"><i class=\"fab fa-facebook\"></i></a>\\n    <a href=\"https://twitter.com/infomoney\" target=\"_new\"><i class=\"fab fa-twitter\"></i></a>\\n    <a href=\"https://www.youtube.com/user/tvinfomoney\" target=\"_new\"><i class=\"fab fa-youtube\"></i></a>\\n      \\n    <a href=\"https://www.linkedin.com/company/infomoney/\" target=\"_new\"><i class=\"fab fa-linkedin\"></i></a>\\n    <a href=\"https://www.instagram.com/infomoney/\" target=\"_new\"><i class=\"fab fa-instagram\"></i></a>\\n    <a href=\"https://www.infomoney.com.br/podcasts/\" target=\"_new\"><i class=\"fab fa-soundcloud\"></i></a>\\n                </div>\\n\\n                <!-- APP -->\\n                <div class=\"down-app\">\\n                    <h6 class=\"mb-2 title-call\">Baixe nosso app</h6>\\n                    <a href=\"https://play.google.com/store/apps/details?id=com.cedrotech.infomoney\"><img src=\"https://www.infomoney.com.br/wp-content/themes/infomoney/assets/img/google-play-badge.png\" width=\"150\"></a>\\n                    <a href=\"https://itunes.apple.com/br/app/infomoney/id1026842272?mt=8\"><img src=\"https://www.infomoney.com.br/wp-content/themes/infomoney/assets/img/app-store-badge.png\" width=\"140\"></a>\\n                </div>\\n\\n            </div>\\n        </div>\\n        \\n        <div class=\"row footer-menu-extra\">\\n            <div class=\"col\">\\n                <a href=\"https://www.infomoney.com.br/\" class=\"logo-footer\"><img src=\"https://www.infomoney.com.br/wp-content/themes/infomoney/assets/img/logo.svg\"></a>\\n                <div class=\"menu-institucional-container\"><ul id=\"menu-institucional\" class=\"menu\"><li id=\"menu-item-138\" class=\"menu-item menu-item-type-custom menu-item-object-custom menu-item-138\"><a href=\"https://auth.infomoney.com.br/authentication/signin\">Cadastre-se</a></li>\\n<li id=\"menu-item-139\" class=\"menu-item menu-item-type-custom menu-item-object-custom menu-item-139\"><a href=\"https://ww3.infomoney.com.br/mediakit\">Anuncie / Licencie</a></li>\\n<li id=\"menu-item-150\" class=\"menu-item menu-item-type-post_type menu-item-object-page menu-item-150\"><a href=\"https://www.infomoney.com.br/termos-de-uso/\">Termos de uso</a></li>\\n<li id=\"menu-item-157\" class=\"menu-item menu-item-type-post_type menu-item-object-page menu-item-157\"><a href=\"https://www.infomoney.com.br/fale-conosco/\">Fale conosco</a></li>\\n</ul></div>            </div>\\n        </div>\\n        <div class=\"footer-disclaimer\">\\n            <div class=\"text-justify col-lg-8\">\\n                <p>&copy; 2000-2019 InfoMoney. Todos os direitos reservados.</p>\\n\\n                <p>O InfoMoney preza a qualidade da informação e atesta a apuração de todo o conteúdo produzido por sua equipe, ressaltando, no entanto, que não faz qualquer tipo de recomendação de investimento, não se responsabilizando por perdas, danos (diretos, indiretos e incidentais), custos e lucros cessantes.</p>\\n\\n                <p><b>IMPORTANTE:</b> O portal www.infomoney.com.br (o \"Portal\") é de propriedade da Infostocks Informações e Sistemas Ltda. (CNPJ/MF nº 03.082.929/0001-03) (\"Infostocks\"), sociedade controlada, indiretamente, pela XP Controle Participações S/A (CNPJ/MF nº 09.163.677/0001-15), sociedade holding que controla as empresas do XP Inc. O XP Inc tem em sua composição empresas que exercem atividades de: corretoras de valoresmobiliários, banco, seguradora, corretora de seguros, análise de investimentos de valores mobiliários, gestoras de recursos de terceiros. Apesar de as Sociedades XP estarem sob controle comum, os executivos responsáveis pela Infostocks são totalmente independentes e as notícias, matérias e opiniões veiculadas no Portal não são, sob qualquer aspecto, direcionadas e/ou influenciadas por relatórios de análise produzidos por áreas técnicas das empresas do XP Inc, nem por decisões comerciais e de negócio de tais sociedades, sendo produzidos de acordo com o juízo de valor e as convicções próprias da equipe interna da Infostocks.\\n                \\n                </p>\\n\\n            </div>\\n        </div>\\n    </div>\\n</footer>\\n</div><!-- #page -->\\n\\n\\n\\t<div style=\"display:none\">\\n\\t</div>\\n<script type=\\'text/javascript\\' src=\\'https://www.infomoney.com.br/wp-content/mu-plugins/jetpack/_inc/build/photon/photon.min.js?m=1573161244g\\'></script>\\n<script type=\\'text/javascript\\' src=\\'https://s0.wp.com/wp-content/js/devicepx-jetpack.js?ver=201947\\'></script>\\n<script type=\\'text/javascript\\' src=\\'https://www.infomoney.com.br/wp-content/mu-plugins/jetpack/_inc/build/lazy-images/js/lazy-images.min.js?m=1563814167g\\'></script>\\n<script async type=\\'text/javascript\\' src=\\'https://connect.facebook.net/pt_BR/sdk.js?ver=1.3#xfbml=1&#038;version=v3.3\\'></script>\\n<script async type=\\'text/javascript\\' src=\\'https://widgets.outbrain.com/outbrain.js?ver=1.3\\'></script>\\n<script type=\\'text/javascript\\' src=\\'https://www.infomoney.com.br/wp-includes/js/wp-embed.min.js?m=1571091596g\\'></script>\\n<script type=\\'text/javascript\\' src=\\'https://stats.wp.com/e-201947.js\\' async=\\'async\\' defer=\\'defer\\'></script>\\n<script type=\\'text/javascript\\'>\\n\\t_stq = window._stq || [];\\n\\t_stq.push([ \\'view\\', {v:\\'ext\\',j:\\'1:7.9.1\\',blog:\\'161989173\\',post:\\'1360794\\',tz:\\'-3\\',srv:\\'www.infomoney.com.br\\'} ]);\\n\\t_stq.push([ \\'clickTrackerInit\\', \\'161989173\\', \\'1360794\\' ]);\\n</script>\\n\\n<!-- /8003922/OutOfPage -->\\n<div id=\"OutOfPage\" style=\"margin:0 auto\"><script>googletag.cmd.push(function() { googletag.display(\\'OutOfPage\\'); });</script></div>\\n\\n</body>\\n\\n</html>'"
      ]
     },
     "execution_count": 14,
     "metadata": {},
     "output_type": "execute_result"
    }
   ],
   "source": [
    "response.text"
   ]
  },
  {
   "cell_type": "code",
   "execution_count": null,
   "metadata": {},
   "outputs": [],
   "source": []
  },
  {
   "cell_type": "markdown",
   "metadata": {},
   "source": [
    "<h2 id='parte-3b' style=\"color:blue;\">b. Organizado a resposta do request por meio do 'bs4'</h2>"
   ]
  },
  {
   "cell_type": "markdown",
   "metadata": {},
   "source": [
    "<p>Por meio da função <b>BeautifulSoup</b> e usando como parâmetro <b>'response.text'</b>(nossa resposta do request) e <b>'html.parser'</b>(o tipo de dado que estamos passando) podemos organizar nosso código HTML:</p>"
   ]
  },
  {
   "cell_type": "code",
   "execution_count": 15,
   "metadata": {},
   "outputs": [],
   "source": [
    "html = BeautifulSoup(response.text, \"html.parser\")"
   ]
  },
  {
   "cell_type": "markdown",
   "metadata": {},
   "source": [
    "<p>Printando <b>'html'</b>, podemos ver que agora existe uma organização e não somente uma string gigantesca contendo todo o código HTML</p>"
   ]
  },
  {
   "cell_type": "code",
   "execution_count": 16,
   "metadata": {},
   "outputs": [
    {
     "data": {
      "text/plain": [
       "<!DOCTYPE doctype html>\n",
       "\n",
       "<html lang=\"pt-BR\">\n",
       "<head>\n",
       "<meta charset=\"utf-8\"/>\n",
       "<meta content=\"width=device-width, initial-scale=1, shrink-to-fit=no\" name=\"viewport\"/>\n",
       "<title>Reforma Trabalhista de Bolsonaro: entenda a MP 905 - e por que ela pode ser contestada judicialmente</title>\n",
       "<!-- This site is optimized with the Yoast SEO Premium plugin v11.5 - https://yoast.com/wordpress/plugins/seo/ -->\n",
       "<meta content=\"Governo anuncia pacote que altera leis trabalhistas, mas princípio da isonomia pode ser ferido pela MP\" name=\"description\">\n",
       "<link href=\"https://www.infomoney.com.br/politica/10-pontos-para-entender-a-mp-905-e-por-que-ela-pode-ser-contestada-judicialmente/\" rel=\"canonical\"/>\n",
       "<meta content=\"pt_BR\" property=\"og:locale\">\n",
       "<meta content=\"article\" property=\"og:type\"/>\n",
       "<meta content=\"Reforma Trabalhista de Bolsonaro: entenda a MP 905 - e por que ela pode ser contestada judicialmente\" property=\"og:title\"/>\n",
       "<meta content=\"Governo anuncia pacote que altera leis trabalhistas, mas princípio da isonomia pode ser ferido pela MP\" property=\"og:description\"/>\n",
       "<meta content=\"https://www.infomoney.com.br/politica/10-pontos-para-entender-a-mp-905-e-por-que-ela-pode-ser-contestada-judicialmente/\" property=\"og:url\"/>\n",
       "<meta content=\"InfoMoney\" property=\"og:site_name\"/>\n",
       "<meta content=\"https://www.facebook.com/InfoMoney/\" property=\"article:publisher\"/>\n",
       "<meta content=\"CLT\" property=\"article:tag\"/>\n",
       "<meta content=\"Governo\" property=\"article:tag\"/>\n",
       "<meta content=\"Medida Provisória\" property=\"article:tag\"/>\n",
       "<meta content=\"Política\" property=\"article:section\"/>\n",
       "<meta content=\"2019-11-14T18:26:14+00:00\" property=\"article:published_time\"/>\n",
       "<meta content=\"2019-11-15T15:29:14+00:00\" property=\"article:modified_time\"/>\n",
       "<meta content=\"2019-11-15T15:29:14+00:00\" property=\"og:updated_time\"/>\n",
       "<meta content=\"https://www.infomoney.com.br/wp-content/uploads/2019/11/shutterstock_1300372189.jpg?fit=1000%2C716&amp;quality=75&amp;strip=all\" property=\"og:image\"/>\n",
       "<meta content=\"https://www.infomoney.com.br/wp-content/uploads/2019/11/shutterstock_1300372189.jpg?fit=1000%2C716&amp;quality=75&amp;strip=all\" property=\"og:image:secure_url\"/>\n",
       "<meta content=\"1000\" property=\"og:image:width\"/>\n",
       "<meta content=\"716\" property=\"og:image:height\"/>\n",
       "<meta content=\"summary_large_image\" name=\"twitter:card\"/>\n",
       "<meta content=\"Governo anuncia pacote que altera leis trabalhistas, mas princípio da isonomia pode ser ferido pela MP\" name=\"twitter:description\"/>\n",
       "<meta content=\"Reforma Trabalhista de Bolsonaro: entenda a MP 905 - e por que ela pode ser contestada judicialmente\" name=\"twitter:title\"/>\n",
       "<meta content=\"@infomoney\" name=\"twitter:site\"/>\n",
       "<meta content=\"https://www.infomoney.com.br/wp-content/uploads/2019/11/shutterstock_1300372189.jpg?fit=1000%2C716&amp;quality=75&amp;strip=all\" name=\"twitter:image\"/>\n",
       "<meta content=\"@infomoney\" name=\"twitter:creator\"/>\n",
       "<script class=\"yoast-schema-graph yoast-schema-graph--main\" type=\"application/ld+json\">{\"@context\":\"https://schema.org\",\"@graph\":[{\"@type\":\"Organization\",\"@id\":\"https://www.infomoney.com.br/#organization\",\"name\":\"InfoMoney\",\"url\":\"https://www.infomoney.com.br/\",\"sameAs\":[\"https://www.facebook.com/InfoMoney/\",\"https://www.instagram.com/infomoney/\",\"https://www.linkedin.com/company/infomoney/\",\"https://www.youtube.com/channel/UCxm0tptjIc76-i26EKQ9NpA\",\"https://br.pinterest.com/infomoney/\",\"https://twitter.com/infomoney\"],\"logo\":{\"@type\":\"ImageObject\",\"@id\":\"https://www.infomoney.com.br/#logo\",\"url\":\"https://www.infomoney.com.br/wp-content/uploads/2019/11/IM-Favicon.png?fit=128%2C128&quality=75&strip=all\",\"width\":128,\"height\":128,\"caption\":\"InfoMoney\"},\"image\":{\"@id\":\"https://www.infomoney.com.br/#logo\"}},{\"@type\":\"WebSite\",\"@id\":\"https://www.infomoney.com.br/#website\",\"url\":\"https://www.infomoney.com.br/\",\"name\":\"InfoMoney\",\"publisher\":{\"@id\":\"https://www.infomoney.com.br/#organization\"},\"potentialAction\":{\"@type\":\"SearchAction\",\"target\":\"https://www.infomoney.com.br/?s={search_term_string}\",\"query-input\":\"required name=search_term_string\"}},{\"@type\":\"ImageObject\",\"@id\":\"https://www.infomoney.com.br/politica/10-pontos-para-entender-a-mp-905-e-por-que-ela-pode-ser-contestada-judicialmente/#primaryimage\",\"url\":\"https://www.infomoney.com.br/wp-content/uploads/2019/11/shutterstock_1300372189.jpg?fit=1000%2C716&quality=75&strip=all\",\"width\":1000,\"height\":716,\"caption\":\"carteira de trabalho\"},{\"@type\":\"WebPage\",\"@id\":\"https://www.infomoney.com.br/politica/10-pontos-para-entender-a-mp-905-e-por-que-ela-pode-ser-contestada-judicialmente/#webpage\",\"url\":\"https://www.infomoney.com.br/politica/10-pontos-para-entender-a-mp-905-e-por-que-ela-pode-ser-contestada-judicialmente/\",\"inLanguage\":\"pt-BR\",\"name\":\"Reforma Trabalhista de Bolsonaro: entenda a MP 905 - e por que ela pode ser contestada judicialmente\",\"isPartOf\":{\"@id\":\"https://www.infomoney.com.br/#website\"},\"primaryImageOfPage\":{\"@id\":\"https://www.infomoney.com.br/politica/10-pontos-para-entender-a-mp-905-e-por-que-ela-pode-ser-contestada-judicialmente/#primaryimage\"},\"datePublished\":\"2019-11-14T18:26:14+00:00\",\"dateModified\":\"2019-11-15T15:29:14+00:00\",\"description\":\"Governo anuncia pacote que altera leis trabalhistas, mas princ\\u00edpio da isonomia pode ser ferido pela MP\"},{\"@type\":\"Article\",\"@id\":\"https://www.infomoney.com.br/politica/10-pontos-para-entender-a-mp-905-e-por-que-ela-pode-ser-contestada-judicialmente/#article\",\"isPartOf\":{\"@id\":\"https://www.infomoney.com.br/politica/10-pontos-para-entender-a-mp-905-e-por-que-ela-pode-ser-contestada-judicialmente/#webpage\"},\"author\":{\"@id\":\"https://www.infomoney.com.br/autor/pablosantana/#author\"},\"headline\":\"Reforma Trabalhista de Bolsonaro: entenda a MP 905 &#8211; e por que ela pode ser contestada judicialmente\",\"datePublished\":\"2019-11-14T18:26:14+00:00\",\"dateModified\":\"2019-11-15T15:29:14+00:00\",\"commentCount\":0,\"mainEntityOfPage\":{\"@id\":\"https://www.infomoney.com.br/politica/10-pontos-para-entender-a-mp-905-e-por-que-ela-pode-ser-contestada-judicialmente/#webpage\"},\"publisher\":{\"@id\":\"https://www.infomoney.com.br/#organization\"},\"image\":{\"@id\":\"https://www.infomoney.com.br/politica/10-pontos-para-entender-a-mp-905-e-por-que-ela-pode-ser-contestada-judicialmente/#primaryimage\"},\"keywords\":\"CLT,Governo,Medida Provis\\u00f3ria\",\"articleSection\":\"Economia,Pol\\u00edtica\"},{\"@type\":[\"Person\"],\"@id\":\"https://www.infomoney.com.br/autor/pablosantana/#author\",\"name\":\"pablosantana\",\"image\":{\"@type\":\"ImageObject\",\"@id\":\"https://www.infomoney.com.br/#authorlogo\",\"url\":\"https://secure.gravatar.com/avatar/63503c80da43357581d3b54eec206f26?s=96&d=mm&r=g\",\"caption\":\"pablosantana\"},\"sameAs\":[]}]}</script>\n",
       "<!-- / Yoast SEO Premium plugin. -->\n",
       "<link href=\"//s0.wp.com\" rel=\"dns-prefetch\"/>\n",
       "<link href=\"//www.googletagservices.com\" rel=\"dns-prefetch\"/>\n",
       "<link href=\"//connect.facebook.net\" rel=\"dns-prefetch\"/>\n",
       "<link href=\"//widgets.outbrain.com\" rel=\"dns-prefetch\"/>\n",
       "<link href=\"//s.w.org\" rel=\"dns-prefetch\"/>\n",
       "<link href=\"https://www.infomoney.com.br/feed/\" rel=\"alternate\" title=\"Feed para InfoMoney »\" type=\"application/rss+xml\"/>\n",
       "<link href=\"https://www.infomoney.com.br/comments/feed/\" rel=\"alternate\" title=\"Feed de comentários para InfoMoney »\" type=\"application/rss+xml\"/>\n",
       "<link href=\"https://www.infomoney.com.br/politica/10-pontos-para-entender-a-mp-905-e-por-que-ela-pode-ser-contestada-judicialmente/feed/\" rel=\"alternate\" title=\"Feed de comentários para InfoMoney » Reforma Trabalhista de Bolsonaro: entenda a MP 905 – e por que ela pode ser contestada judicialmente\" type=\"application/rss+xml\"/>\n",
       "<script type=\"text/javascript\">\n",
       "\t\t\twindow._wpemojiSettings = {\"baseUrl\":\"https:\\/\\/s.w.org\\/images\\/core\\/emoji\\/12.0.0-1\\/72x72\\/\",\"ext\":\".png\",\"svgUrl\":\"https:\\/\\/s.w.org\\/images\\/core\\/emoji\\/12.0.0-1\\/svg\\/\",\"svgExt\":\".svg\",\"source\":{\"concatemoji\":\"https:\\/\\/www.infomoney.com.br\\/wp-includes\\/js\\/wp-emoji-release.min.js?ver=5.2.4\"}};\n",
       "\t\t\t!function(a,b,c){function d(a,b){var c=String.fromCharCode;l.clearRect(0,0,k.width,k.height),l.fillText(c.apply(this,a),0,0);var d=k.toDataURL();l.clearRect(0,0,k.width,k.height),l.fillText(c.apply(this,b),0,0);var e=k.toDataURL();return d===e}function e(a){var b;if(!l||!l.fillText)return!1;switch(l.textBaseline=\"top\",l.font=\"600 32px Arial\",a){case\"flag\":return!(b=d([55356,56826,55356,56819],[55356,56826,8203,55356,56819]))&&(b=d([55356,57332,56128,56423,56128,56418,56128,56421,56128,56430,56128,56423,56128,56447],[55356,57332,8203,56128,56423,8203,56128,56418,8203,56128,56421,8203,56128,56430,8203,56128,56423,8203,56128,56447]),!b);case\"emoji\":return b=d([55357,56424,55356,57342,8205,55358,56605,8205,55357,56424,55356,57340],[55357,56424,55356,57342,8203,55358,56605,8203,55357,56424,55356,57340]),!b}return!1}function f(a){var c=b.createElement(\"script\");c.src=a,c.defer=c.type=\"text/javascript\",b.getElementsByTagName(\"head\")[0].appendChild(c)}var g,h,i,j,k=b.createElement(\"canvas\"),l=k.getContext&&k.getContext(\"2d\");for(j=Array(\"flag\",\"emoji\"),c.supports={everything:!0,everythingExceptFlag:!0},i=0;i<j.length;i++)c.supports[j[i]]=e(j[i]),c.supports.everything=c.supports.everything&&c.supports[j[i]],\"flag\"!==j[i]&&(c.supports.everythingExceptFlag=c.supports.everythingExceptFlag&&c.supports[j[i]]);c.supports.everythingExceptFlag=c.supports.everythingExceptFlag&&!c.supports.flag,c.DOMReady=!1,c.readyCallback=function(){c.DOMReady=!0},c.supports.everything||(h=function(){c.readyCallback()},b.addEventListener?(b.addEventListener(\"DOMContentLoaded\",h,!1),a.addEventListener(\"load\",h,!1)):(a.attachEvent(\"onload\",h),b.attachEvent(\"onreadystatechange\",function(){\"complete\"===b.readyState&&c.readyCallback()})),g=c.source||{},g.concatemoji?f(g.concatemoji):g.wpemoji&&g.twemoji&&(f(g.twemoji),f(g.wpemoji)))}(window,document,window._wpemojiSettings);\n",
       "\t\t</script>\n",
       "<style type=\"text/css\">\n",
       "img.wp-smiley,\n",
       "img.emoji {\n",
       "\tdisplay: inline !important;\n",
       "\tborder: none !important;\n",
       "\tbox-shadow: none !important;\n",
       "\theight: 1em !important;\n",
       "\twidth: 1em !important;\n",
       "\tmargin: 0 .07em !important;\n",
       "\tvertical-align: -0.1em !important;\n",
       "\tbackground: none !important;\n",
       "\tpadding: 0 !important;\n",
       "}\n",
       "</style>\n",
       "<link href=\"https://www.infomoney.com.br/_static/??-eJx9jUsOgzAMBS8EGCQiuqk4SwhumxbbUeyAuH0/YofU3Uhvnga2VAdhQzawBxIqRL4JCeMOQRVW5FkyTCKmln1qKHLzGSr491TbFzxpVOq0lHtkhSda8uH1Sxz81Ue6dm7ou6Ft3eUNULY5xQ==\" id=\"all-css-0\" media=\"all\" rel=\"stylesheet\" type=\"text/css\"/>\n",
       "<script type=\"text/javascript\">\n",
       "/* <![CDATA[ */\n",
       "var config = {\"home_url\":\"https:\\/\\/www.infomoney.com.br\",\"ajax_url\":\"https:\\/\\/www.infomoney.com.br\\/wp-admin\\/admin-ajax.php\",\"custom_ajax_login\":\"https:\\/\\/www.infomoney.com.br\\/ajax\\/login\\/\",\"custom_ajax_check_login\":\"https:\\/\\/www.infomoney.com.br\\/ajax\\/check_login\\/\",\"login_nonce\":\"3a84adcbd8\",\"login_url\":\"https:\\/\\/auth.infomoney.com.br\\/authentication\\/signin?response_type=code&client_id=aaeb000318befb9a2fe0f400&redirect_uri=http:\\/\\/www.infomoney.com.br\\/pages\\/authentication\\/callback&origin=portal-header&redirect_to=https:\\/\\/www.infomoney.com.br\\/\",\"logoff_url\":\"https:\\/\\/auth.infomoney.com.br\\/api\\/auth\\/signout?redirect_to=https:\\/\\/www.infomoney.com.br\\/\",\"api_infomoney\":\"https:\\/\\/api.infomoney.com.br\",\"last_date\":\"2019-11-20 14:26:57\",\"refresh_time_adversiting\":\"18\"};\n",
       "/* ]]> */\n",
       "</script>\n",
       "<script src=\"https://www.infomoney.com.br/_static/??-eJzTLy/QzcxLzilNSS3WzwKiwtLUokoopZdVrKOPT4FubmZ6UWJJql5uZh5McXJ+XklqXol+SUZqLlBLZl5afm5+XmolSHNuYmaeLkStfa6toam5iaGBqZmRZRYAhm8xLA==\" type=\"text/javascript\"></script>\n",
       "<script src=\"https://www.googletagservices.com/tag/js/gpt.js?ver=1.3\" type=\"text/javascript\"></script>\n",
       "<script type=\"text/javascript\">\n",
       "/* <![CDATA[ */\n",
       "var adsConfigData = {\"ads_formats\":[{\"advertising\":\"SUPER\",\"is_sticky\":\"N\",\"conditions\":{\"action\":\"hide\",\"match_all\":\"0\",\"rules\":[{\"major\":\"page\",\"minor\":\"front\",\"has_children\":false},{\"major\":\"taxonomy\",\"minor\":\"marca_tax_10201\",\"has_children\":false},{\"major\":\"taxonomy\",\"minor\":\"marca_tax_10200\",\"has_children\":false},{\"major\":\"tag\",\"minor\":\"2726\",\"has_children\":false}]}},{\"advertising\":\"RETANGULO_AF\",\"is_sticky\":null,\"conditions\":{\"action\":\"hide\",\"match_all\":\"0\",\"rules\":[{\"major\":\"taxonomy\",\"minor\":\"marca_tax_10201\",\"has_children\":false}]}},{\"advertising\":\"RETANGULO_BF\",\"is_sticky\":null,\"conditions\":{\"action\":\"hide\",\"match_all\":\"0\",\"rules\":[{\"major\":\"taxonomy\",\"minor\":\"marca_tax_10201\",\"has_children\":false}]}}],\"key_value_page\":\"post\",\"key_value_category\":\"economia,politica\",\"key_value_tags\":\"clt,governo,medida-provisoria\"};\n",
       "/* ]]> */\n",
       "</script>\n",
       "<script src=\"https://www.infomoney.com.br/_static/??/wp-content/themes/infomoney/js/libs/prebid2.21.0.js,/wp-content/themes/infomoney/js/ads-config-min.js?m=1574105629j\" type=\"text/javascript\"></script>\n",
       "<link href=\"https://www.infomoney.com.br/wp-json/\" rel=\"https://api.w.org/\"/>\n",
       "<link href=\"https://www.infomoney.com.br/xmlrpc.php?rsd\" rel=\"EditURI\" title=\"RSD\" type=\"application/rsd+xml\"/>\n",
       "<link href=\"https://www.infomoney.com.br/wp-includes/wlwmanifest.xml\" rel=\"wlwmanifest\" type=\"application/wlwmanifest+xml\"/>\n",
       "<meta content=\"WordPress 5.2.4\" name=\"generator\"/>\n",
       "<link href=\"https://wp.me/paXGMB-5I0i\" rel=\"shortlink\"/>\n",
       "<link href=\"https://www.infomoney.com.br/wp-json/oembed/1.0/embed?url=https%3A%2F%2Fwww.infomoney.com.br%2Fpolitica%2F10-pontos-para-entender-a-mp-905-e-por-que-ela-pode-ser-contestada-judicialmente%2F\" rel=\"alternate\" type=\"application/json+oembed\"/>\n",
       "<link href=\"https://www.infomoney.com.br/wp-json/oembed/1.0/embed?url=https%3A%2F%2Fwww.infomoney.com.br%2Fpolitica%2F10-pontos-para-entender-a-mp-905-e-por-que-ela-pode-ser-contestada-judicialmente%2F&amp;format=xml\" rel=\"alternate\" type=\"text/xml+oembed\"/>\n",
       "<meta content=\"204590739576667\" property=\"fb:pages\"/>\n",
       "<meta content=\"https://www.infomoney.com.br/politica/10-pontos-para-entender-a-mp-905-e-por-que-ela-pode-ser-contestada-judicialmente/?ia_markup=1\" property=\"ia:markup_url\"/>\n",
       "<link href=\"//v0.wordpress.com\" rel=\"dns-prefetch\"/>\n",
       "<style type=\"text/css\">img#wpstats{display:none}</style><link href=\"https://www.infomoney.com.br/xmlrpc.php\" rel=\"pingback\"/> <link href=\"https://fonts.googleapis.com\" rel=\"preconnect\"/>\n",
       "<link href=\"https://fonts.gstatic.com\" rel=\"preconnect\"/>\n",
       "<link href=\"https://www.googletagmanager.com/\" rel=\"preconnect\"/>\n",
       "<link href=\"https://www.google-analytics.com/\" rel=\"preconnect\"/>\n",
       "<link href=\"https://www.facebook.com\" rel=\"preconnect\"/>\n",
       "<link href=\"https://connect.facebook.net/\" rel=\"preconnect\"/>\n",
       "<link href=\"https://www.googletagservices.com\" rel=\"preconnect\"/>\n",
       "<link href=\"https://s0.wp.com\" rel=\"preconnect\"/>\n",
       "<link href=\"https://widgets.outbrain.com\" rel=\"preconnect\"/>\n",
       "<style type=\"text/css\">\n",
       "\t\t\t\t/* If html does not have either class, do not show lazy loaded images. */\n",
       "\t\t\t\thtml:not( .jetpack-lazy-images-js-enabled ):not( .js ) .jetpack-lazy-image {\n",
       "\t\t\t\t\tdisplay: none;\n",
       "\t\t\t\t}\n",
       "\t\t\t</style>\n",
       "<script>\n",
       "\t\t\t\tdocument.documentElement.classList.add(\n",
       "\t\t\t\t\t'jetpack-lazy-images-js-enabled'\n",
       "\t\t\t\t);\n",
       "\t\t\t</script>\n",
       "<link href=\"https://www.infomoney.com.br/politica/10-pontos-para-entender-a-mp-905-e-por-que-ela-pode-ser-contestada-judicialmente/amp/\" rel=\"amphtml\"/><link href=\"https://www.infomoney.com.br/wp-content/uploads/2019/10/IM-Favicon.png?fit=32%2C32&amp;quality=75&amp;strip=all\" rel=\"icon\" sizes=\"32x32\">\n",
       "<link href=\"https://www.infomoney.com.br/wp-content/uploads/2019/10/IM-Favicon.png?fit=128%2C128&amp;quality=75&amp;strip=all\" rel=\"icon\" sizes=\"192x192\">\n",
       "<link href=\"https://www.infomoney.com.br/wp-content/uploads/2019/10/IM-Favicon.png?fit=128%2C128&amp;quality=75&amp;strip=all\" rel=\"apple-touch-icon-precomposed\">\n",
       "<meta content=\"https://www.infomoney.com.br/wp-content/uploads/2019/10/IM-Favicon.png?fit=128%2C128&amp;quality=75&amp;strip=all\" name=\"msapplication-TileImage\"/>\n",
       "<meta content=\"100001564845270,23205028,100001866890569,100001892083647,678214931\" property=\"fb:admins\"/>\n",
       "<meta content=\"126135914251280\" property=\"fb:app_id\"/>\n",
       "<!-- Analytics Tag -->\n",
       "<script>window.dataLayer = window.dataLayer || [];</script>\n",
       "<!-- Analytics Tag - Optimize Anti-Flicker-->\n",
       "<style>.async-hide { opacity: 0 !important} </style>\n",
       "<script>(function(a,s,y,n,c,h,i,d,e){s.className+=' '+y;h.start=1*new Date;\n",
       "        h.end=i=function(){s.className=s.className.replace(RegExp(' ?'+y),'')};\n",
       "        (a[n]=a[n]||[]).hide=h;setTimeout(function(){i();h.end=null},c);h.timeout=c;\n",
       "        })(window,document.documentElement,'async-hide','dataLayer',4000,\n",
       "        {'GTM-T8M3XX2':true});\n",
       "        // Analytics Tag - SalesForce Interaction Studio\n",
       "        (function(o,n,e){var l='link',s='script',c='createElement',i='insertBefore',f=o.getElementsByTagName(s)[0],p=f.parentNode,x=o[c](l),y=o[c](l),z=o[c](s);x.rel='preconnect';x.href=n;y.rel='preload';y.href=e;y.as=s;z.id='thxTag';z.src=e;p[i](x,f);p[i](y,f);p[i](z,f);})(document,'https://na5.thunderhead.com','https://na5.cdn.thunderhead.com/one/rt/js/one-tag.js?siteKey=ONE-4YRKC0KWPA-1291');\n",
       "        // Analytics Tag - Google Tag Manager\n",
       "        (function(w,d,s,l,i){w[l]=w[l]||[];w[l].push({'gtm.start':\n",
       "        new Date().getTime(),event:'gtm.js'});var f=d.getElementsByTagName(s)[0],\n",
       "        j=d.createElement(s),dl=l!='dataLayer'?'&l='+l:'';j.async=true;j.src=\n",
       "        'https://www.googletagmanager.com/gtm.js?id='+i+dl;f.parentNode.insertBefore(j,f);\n",
       "        })(window,document,'script','dataLayer','GTM-T8M3XX2');</script>\n",
       "<!-- End Analytics Tag -->\n",
       "<div id=\"fb-root\"></div>\n",
       "</link></link></link></meta></meta></head>\n",
       "<body class=\"post-template-default single single-post postid-1360794 single-format-standard\">\n",
       "<noscript><iframe height=\"0\" src=\"https://www.googletagmanager.com/ns.html?id=GTM-T8M3XX2\" style=\"display:none;visibility:hidden\" width=\"0\"></iframe></noscript>\n",
       "<header class=\"container-header-small\">\n",
       "<header class=\"site-header\">\n",
       "<script type=\"text/javascript\">\n",
       "        function getCookie(cname){\n",
       "            var name = cname + \"=\";\n",
       "            var decodedCookie = decodeURIComponent(document.cookie);\n",
       "            var ca = decodedCookie.split(';');\n",
       "            for(var i = 0; i <ca.length; i++) {\n",
       "                var c = ca[i];\n",
       "                while (c.charAt(0) == ' ') {\n",
       "                    c = c.substring(1);\n",
       "                }\n",
       "                if (c.indexOf(name) == 0) {\n",
       "                    return c.substring(name.length, c.length);\n",
       "                }\n",
       "            }\n",
       "            return \"\";\n",
       "        }\n",
       "\n",
       "        if ((document.referrer.indexOf(\".ig.com.br\") > 0 || getCookie('_ref') == 'ig')) {\n",
       "            document.write('<scr' + 'ipt type=\\\"text/javascript\\\" src=\\\"//js.statig.com.br/barraiG/parceiros/barra_parceiros.js\\\">');\n",
       "            document.write('<\\/script>');\n",
       "            document.cookie = '_ref' + \"=\" + 'ig' + \"; path=/\";\n",
       "        }\n",
       "    </script>\n",
       "<div class=\"header-full\">\n",
       "<div class=\"container-fluid\">\n",
       "<div class=\"row\">\n",
       "<div class=\"col d-flex align-items-center justify-content-between\">\n",
       "<div class=\"d-flex align-items-center\">\n",
       "<div class=\"header-action menu-open\">\n",
       "<i class=\"material-icons\">menu</i>\n",
       "</div>\n",
       "</div>\n",
       "<a class=\"logo-link\" href=\"https://www.infomoney.com.br\">\n",
       "<img class=\"logo\" src=\"https://www.infomoney.com.br/wp-content/themes/infomoney/assets/img/logo.png\"/>\n",
       "</a>\n",
       "<div class=\"userPanel\">\n",
       "<div class=\"login-header not-logged\">\n",
       "<a href=\"https://auth.infomoney.com.br/authentication/signin?response_type=code&amp;client_id=aaeb000318befb9a2fe0f400&amp;redirect_uri=http://ww3.infomoney.com.br/pages/authentication/callback&amp;origin=portal-header&amp;redirect_to=https://www.infomoney.com.br\">\n",
       "<i class=\"material-icons\">account_circle</i>\n",
       "<p>Entrar</p>\n",
       "</a>\n",
       "</div>\n",
       "<div class=\"login-header logged\">\n",
       "<i class=\"material-icons\">account_circle</i>\n",
       "<p></p>\n",
       "</div>\n",
       "<ul class=\"login-options\">\n",
       "<li><a href=\"https://minhaconta.infomoney.com.br/\">Minha conta</a></li>\n",
       "<li><a href=\"https://www.infomoney.com.br/ferramentas/carteira-de-acompanhamento\">Minhas carteiras</a></li>\n",
       "<li><a href=\"https://auth.infomoney.com.br/api/auth/signout?redirect_to=https://www.infomoney.com.br\">Sair</a></li>\n",
       "</ul>\n",
       "</div>\n",
       "<div class=\"d-flex align-items-center\">\n",
       "<div class=\"header-action open-search\">\n",
       "<i class=\"material-icons\">search</i>\n",
       "</div>\n",
       "</div>\n",
       "</div>\n",
       "</div>\n",
       "<div class=\"row container-nav-topics\">\n",
       "<div class=\"col\">\n",
       "<div class=\"nav-topics d-flex align-items-center justify-content-center\">\n",
       "<i class=\"material-icons ml-n4 mr-2\">trending_up</i>\n",
       "<a class=\"\" href=\"https://lp.infomoney.com.br/lista-vip-black-friday?utm_source=infomoney&amp;utm_medium=hot-topics&amp;utm_campaign=vip-black-friday-2019&amp;utm_term=op&amp;utm_content=hyperlink\" title=\"Black Friday para investidores\">\n",
       "                                Black Friday para investidores                                </a><span>•</span><a class=\"\" href=\"https://conteudos.xpi.com.br/renda-fixa/relatorios/como-surfar-o-crescimento-economico-com-a-renda-fixa/?utm_source=infomoney&amp;utm_medium=hot%20topics\" title=\"Análises XP: Fundos de Investimento\">\n",
       "                                Análises XP: Fundos de Investimento                                </a>\n",
       "</div>\n",
       "</div>\n",
       "</div>\n",
       "</div>\n",
       "</div>\n",
       "<div class=\"header\">\n",
       "<div class=\"container-fluid\">\n",
       "<div class=\"row\">\n",
       "<div class=\"col d-flex align-items-center justify-content-between\">\n",
       "<div class=\"d-flex align-items-center\">\n",
       "<div class=\"header-action menu-open\">\n",
       "<i class=\"material-icons\">menu</i>\n",
       "</div>\n",
       "<a class=\"d-none d-lg-block logo-link\" href=\"https://www.infomoney.com.br/\">\n",
       "<img class=\"logo\" src=\"https://www.infomoney.com.br/wp-content/themes/infomoney/assets/img/logo.svg\"/>\n",
       "</a>\n",
       "<div class=\"nav-topics d-none d-lg-flex align-items-center\">\n",
       "<i class=\"material-icons ml-3 mr-2\">trending_up</i>\n",
       "<a class=\"\" href=\"https://lp.infomoney.com.br/lista-vip-black-friday?utm_source=infomoney&amp;utm_medium=hot-topics&amp;utm_campaign=vip-black-friday-2019&amp;utm_term=op&amp;utm_content=hyperlink\" title=\"Black Friday para investidores\">\n",
       "                                    Black Friday para investidores                                    </a><span>•</span><a class=\"\" href=\"https://conteudos.xpi.com.br/renda-fixa/relatorios/como-surfar-o-crescimento-economico-com-a-renda-fixa/?utm_source=infomoney&amp;utm_medium=hot%20topics\" title=\"Análises XP: Fundos de Investimento\">\n",
       "                                    Análises XP: Fundos de Investimento                                    </a> </div>\n",
       "</div>\n",
       "<a class=\"d-lg-none ml-3 logo-link\" href=\"https://www.infomoney.com.br\"><img class=\"logo\" src=\"https://www.infomoney.com.br/wp-content/themes/infomoney/assets/img/logo.svg\"/></a>\n",
       "<div class=\"d-flex align-items-center\">\n",
       "<div class=\"userPanel\">\n",
       "<div class=\"login-header not-logged\">\n",
       "<a href=\"https://auth.infomoney.com.br/authentication/signin?response_type=code&amp;client_id=aaeb000318befb9a2fe0f400&amp;redirect_uri=http://ww3.infomoney.com.br/pages/authentication/callback&amp;origin=portal-header&amp;redirect_to=https://www.infomoney.com.br\">\n",
       "<i class=\"material-icons\">account_circle</i>\n",
       "<p>Entrar</p>\n",
       "</a>\n",
       "</div>\n",
       "<div class=\"login-header logged\">\n",
       "<i class=\"material-icons\">account_circle</i>\n",
       "<p></p>\n",
       "</div>\n",
       "<ul class=\"login-options\">\n",
       "<li><a href=\"https://minhaconta.infomoney.com.br/\">Minha conta</a></li>\n",
       "<li><a href=\"https://www.infomoney.com.br/ferramentas/carteira-de-acompanhamento\">Minhas carteiras</a></li>\n",
       "<li><a href=\"https://auth.infomoney.com.br/api/auth/signout?redirect_to=https://www.infomoney.com.br\">Sair</a></li>\n",
       "</ul>\n",
       "</div>\n",
       "<div class=\"header-action open-search\">\n",
       "<i class=\"material-icons\">search</i>\n",
       "</div>\n",
       "</div>\n",
       "</div>\n",
       "</div>\n",
       "</div>\n",
       "</div>\n",
       "<div class=\"container-search-header\">\n",
       "<div class=\"header-search\">\n",
       "<img src=\"https://www.infomoney.com.br/wp-content/themes/infomoney/assets/img/logo.png\">\n",
       "<button>\n",
       "<i class=\"material-icons\">close</i>\n",
       "</button>\n",
       "</img></div>\n",
       "<div class=\"container\">\n",
       "<div class=\"row\">\n",
       "<div class=\"col-12 col-lg-8 m-auto\">\n",
       "<form action=\"https://www.infomoney.com.br/busca\" id=\"header-search\" method=\"GET\">\n",
       "<input name=\"q\" placeholder=\"Busque no InfoMoney\" type=\"text\"/>\n",
       "<button type=\"submit\">\n",
       "<i class=\"material-icons\">search</i>\n",
       "</button>\n",
       "</form>\n",
       "</div>\n",
       "<div class=\"col-12 col-lg-8 m-auto topics-search\">\n",
       "<div>\n",
       "<i class=\"material-icons\">trending_up</i>\n",
       "<a href=\"https://lp.infomoney.com.br/lista-vip-black-friday?utm_source=infomoney&amp;utm_medium=hot-topics&amp;utm_campaign=vip-black-friday-2019&amp;utm_term=op&amp;utm_content=hyperlink\" title=\"Black Friday para investidores\">Black Friday para investidores</a>\n",
       "</div>\n",
       "<div>\n",
       "<i class=\"material-icons\">trending_up</i>\n",
       "<a href=\"https://conteudos.xpi.com.br/renda-fixa/relatorios/como-surfar-o-crescimento-economico-com-a-renda-fixa/?utm_source=infomoney&amp;utm_medium=hot%20topics\" title=\"Análises XP: Fundos de Investimento\">Análises XP: Fundos de Investimento</a>\n",
       "</div>\n",
       "</div>\n",
       "</div>\n",
       "</div>\n",
       "</div>\n",
       "</header> </header>\n",
       "<div id=\"menu-side\">\n",
       "<div class=\"menu-header\">\n",
       "<div id=\"menu-close\">\n",
       "<i class=\"material-icons\">close</i>\n",
       "</div>\n",
       "</div>\n",
       "<div class=\"userPanel\">\n",
       "<div class=\"login-header not-logged\">\n",
       "<a href=\"https://auth.infomoney.com.br/authentication/signin?response_type=code&amp;client_id=aaeb000318befb9a2fe0f400&amp;redirect_uri=http://ww3.infomoney.com.br/pages/authentication/callback&amp;origin=portal-header&amp;redirect_to=https://www.infomoney.com.br\">\n",
       "<i class=\"material-icons\">account_circle</i>\n",
       "<p>Entrar</p>\n",
       "</a>\n",
       "</div>\n",
       "<div class=\"login-header logged\">\n",
       "<i class=\"material-icons\">account_circle</i>\n",
       "<p></p>\n",
       "</div>\n",
       "<ul class=\"login-options\">\n",
       "<li><a href=\"https://minhaconta.infomoney.com.br/\">Minha conta</a></li>\n",
       "<li><a href=\"https://www.infomoney.com.br/ferramentas/carteira-de-acompanhamento\">Minhas carteiras</a></li>\n",
       "<li><a href=\"https://auth.infomoney.com.br/api/auth/signout?redirect_to=https://www.infomoney.com.br\">Sair</a></li>\n",
       "</ul>\n",
       "</div>\n",
       "<div class=\"topics-menu\">\n",
       "<a href=\"https://lp.infomoney.com.br/lista-vip-black-friday?utm_source=infomoney&amp;utm_medium=hot-topics&amp;utm_campaign=vip-black-friday-2019&amp;utm_term=op&amp;utm_content=hyperlink\" title=\"Black Friday para investidores\">\n",
       "<i class=\"material-icons\">trending_up</i>\n",
       "<p>Black Friday para investidores</p>\n",
       "</a>\n",
       "<a href=\"https://conteudos.xpi.com.br/renda-fixa/relatorios/como-surfar-o-crescimento-economico-com-a-renda-fixa/?utm_source=infomoney&amp;utm_medium=hot%20topics\" title=\"Análises XP: Fundos de Investimento\">\n",
       "<i class=\"material-icons\">trending_up</i>\n",
       "<p>Análises XP: Fundos de Investimento</p>\n",
       "</a>\n",
       "</div>\n",
       "<ul class=\"list-unstyled\" id=\"menu-menu-principal\"><li class=\"menu-item menu-item-type-custom menu-item-object-custom menu-item-has-children menu-item-104\" id=\"menu-item-104\"><a href=\"https://www.infomoney.com.br/ultimas-noticias\">Notícias</a>\n",
       "<ul class=\"list-unstyled\">\n",
       "<li class=\"menu-item menu-item-type-custom menu-item-object-custom menu-item-1318874\" id=\"menu-item-1318874\"><a href=\"https://www.infomoney.com.br/ultimas-noticias/\">Últimas</a></li>\n",
       "<li class=\"menu-item menu-item-type-taxonomy menu-item-object-category menu-item-1309053\" id=\"menu-item-1309053\"><a href=\"https://www.infomoney.com.br/mercados/\">Mercados</a></li>\n",
       "<li class=\"menu-item menu-item-type-taxonomy menu-item-object-category menu-item-1309056\" id=\"menu-item-1309056\"><a href=\"https://www.infomoney.com.br/onde-investir/\">Onde Investir</a></li>\n",
       "<li class=\"menu-item menu-item-type-taxonomy menu-item-object-category menu-item-1309057\" id=\"menu-item-1309057\"><a href=\"https://www.infomoney.com.br/minhas-financas/\">Minhas Finanças</a></li>\n",
       "<li class=\"menu-item menu-item-type-taxonomy menu-item-object-category current-post-ancestor current-menu-parent current-post-parent menu-item-1309058\" id=\"menu-item-1309058\"><a href=\"https://www.infomoney.com.br/politica/\">Política</a></li>\n",
       "<li class=\"menu-item menu-item-type-taxonomy menu-item-object-category menu-item-1309054\" id=\"menu-item-1309054\"><a href=\"https://www.infomoney.com.br/negocios/\">Negócios</a></li>\n",
       "<li class=\"menu-item menu-item-type-taxonomy menu-item-object-category menu-item-1309055\" id=\"menu-item-1309055\"><a href=\"https://www.infomoney.com.br/consumo/\">Consumo</a></li>\n",
       "<li class=\"menu-item menu-item-type-taxonomy menu-item-object-category menu-item-1309059\" id=\"menu-item-1309059\"><a href=\"https://www.infomoney.com.br/carreira/\">Carreira</a></li>\n",
       "<li class=\"menu-item menu-item-type-taxonomy menu-item-object-category current-post-ancestor current-menu-parent current-post-parent menu-item-1321806\" id=\"menu-item-1321806\"><a href=\"https://www.infomoney.com.br/economia/\">Economia</a></li>\n",
       "</ul>\n",
       "</li>\n",
       "<li class=\"menu-item menu-item-type-custom menu-item-object-custom menu-item-home menu-item-has-children menu-item-118\" id=\"menu-item-118\"><a href=\"https://www.infomoney.com.br\">Cotações</a>\n",
       "<ul class=\"list-unstyled\">\n",
       "<li class=\"menu-item menu-item-type-custom menu-item-object-custom menu-item-119\" id=\"menu-item-119\"><a href=\"https://www.infomoney.com.br/cotacoes/ibovespa/\">Ibovespa</a></li>\n",
       "<li class=\"menu-item menu-item-type-custom menu-item-object-custom menu-item-130\" id=\"menu-item-130\"><a href=\"/ferramentas/altas-e-baixas\">Altas e Baixas</a></li>\n",
       "<li class=\"menu-item menu-item-type-custom menu-item-object-custom menu-item-121\" id=\"menu-item-121\"><a href=\"/ferramentas/cambio\">Dólar e Moedas</a></li>\n",
       "<li class=\"menu-item menu-item-type-custom menu-item-object-custom menu-item-120\" id=\"menu-item-120\"><a href=\"/ferramentas/criptomoedas\">Criptomoedas</a></li>\n",
       "<li class=\"menu-item menu-item-type-custom menu-item-object-custom menu-item-123\" id=\"menu-item-123\"><a href=\"/ferramentas/cotacoes-opcoes-de-acoes/\">Opções de Ações</a></li>\n",
       "<li class=\"menu-item menu-item-type-custom menu-item-object-custom menu-item-127\" id=\"menu-item-127\"><a href=\"/ferramentas/juros-futuros-di\">Juros Futuros</a></li>\n",
       "<li class=\"menu-item menu-item-type-custom menu-item-object-custom menu-item-128\" id=\"menu-item-128\"><a href=\"/ferramentas/mini-contratos/\">Mini Contratos</a></li>\n",
       "</ul>\n",
       "</li>\n",
       "<li class=\"menu-item menu-item-type-custom menu-item-object-custom menu-item-home menu-item-has-children menu-item-129\" id=\"menu-item-129\"><a href=\"https://www.infomoney.com.br\">Ferramentas</a>\n",
       "<ul class=\"list-unstyled\">\n",
       "<li class=\"menu-item menu-item-type-custom menu-item-object-custom menu-item-1306407\" id=\"menu-item-1306407\"><a href=\"/ferramentas/carteira-de-acompanhamento\">Carteira de Acompanhamento</a></li>\n",
       "<li class=\"menu-item menu-item-type-custom menu-item-object-custom menu-item-4175\" id=\"menu-item-4175\"><a href=\"https://www.infomoney.com.br/ferramentas/comparador-renda-fixa/\">Comparador de Renda Fixa</a></li>\n",
       "<li class=\"menu-item menu-item-type-custom menu-item-object-custom menu-item-132\" id=\"menu-item-132\"><a href=\"/cotacoes/empresas-b3\">Empresas B3</a></li>\n",
       "<li class=\"menu-item menu-item-type-custom menu-item-object-custom menu-item-133\" id=\"menu-item-133\"><a href=\"/ferramentas/agendas\">Agendas</a></li>\n",
       "</ul>\n",
       "</li>\n",
       "<li class=\"menu-item menu-item-type-custom menu-item-object-custom menu-item-has-children menu-item-1331944\" id=\"menu-item-1331944\"><a href=\"https://www.infomoney.com.br/onde-investir/\">Guias de Investimentos</a>\n",
       "<ul class=\"list-unstyled\">\n",
       "<li class=\"menu-item menu-item-type-custom menu-item-object-custom menu-item-1331945\" id=\"menu-item-1331945\"><a href=\"https://www.infomoney.com.br/educacao/guias/guias-de-acoes/\">Ações</a></li>\n",
       "<li class=\"menu-item menu-item-type-custom menu-item-object-custom menu-item-1331946\" id=\"menu-item-1331946\"><a href=\"https://www.infomoney.com.br/guias/tesouro-direto/\">Tesouro Direto</a></li>\n",
       "<li class=\"menu-item menu-item-type-custom menu-item-object-custom menu-item-1348970\" id=\"menu-item-1348970\"><a href=\"https://www.infomoney.com.br/guias/planos-de-previdencia/\">Planos de Previdência</a></li>\n",
       "<li class=\"menu-item menu-item-type-custom menu-item-object-custom menu-item-1346183\" id=\"menu-item-1346183\"><a href=\"https://www.infomoney.com.br/vamosinvestir/aplicacoes/investir-em-renda-fixa/\">Renda Fixa</a></li>\n",
       "<li class=\"menu-item menu-item-type-custom menu-item-object-custom menu-item-1331948\" id=\"menu-item-1331948\"><a href=\"https://www.infomoney.com.br/guias/fundos-de-investimento/\">Fundos de Investimento</a></li>\n",
       "<li class=\"menu-item menu-item-type-custom menu-item-object-custom menu-item-1331952\" id=\"menu-item-1331952\"><a href=\"https://www.infomoney.com.br/guias/fundos-de-acoes/\">Fundos de Ações</a></li>\n",
       "<li class=\"menu-item menu-item-type-custom menu-item-object-custom menu-item-1359919\" id=\"menu-item-1359919\"><a href=\"https://www.infomoney.com.br/guias/fundos-multimercados/\">Fundos Multimercados</a></li>\n",
       "<li class=\"menu-item menu-item-type-custom menu-item-object-custom menu-item-1331949\" id=\"menu-item-1331949\"><a href=\"https://www.infomoney.com.br/guias/fundos-renda-fixa/\">Fundos de Renda Fixa</a></li>\n",
       "<li class=\"menu-item menu-item-type-custom menu-item-object-custom menu-item-1331950\" id=\"menu-item-1331950\"><a href=\"https://www.infomoney.com.br/guias/fundos-cambiais/\">Fundos Cambiais</a></li>\n",
       "<li class=\"menu-item menu-item-type-custom menu-item-object-custom menu-item-1331954\" id=\"menu-item-1331954\"><a href=\"https://www.infomoney.com.br/mercados/proventos-conheca-os-tipos-e-os-mecanismos-de-pagamento/\">Proventos e Dividendos</a></li>\n",
       "<li class=\"menu-item menu-item-type-custom menu-item-object-custom menu-item-1331957\" id=\"menu-item-1331957\"><a href=\"https://www.infomoney.com.br/guias/fundos-imobiliarios/\">Fundos Imobiliários</a></li>\n",
       "<li class=\"menu-item menu-item-type-custom menu-item-object-custom menu-item-1331956\" id=\"menu-item-1331956\"><a href=\"https://www.infomoney.com.br/onde-investir/como-participar-de-um-ipo/\">IPOs</a></li>\n",
       "<li class=\"menu-item menu-item-type-custom menu-item-object-custom menu-item-1331947\" id=\"menu-item-1331947\"><a href=\"https://www.infomoney.com.br/guias/cdb/\">CDBs</a></li>\n",
       "<li class=\"menu-item menu-item-type-custom menu-item-object-custom menu-item-1331955\" id=\"menu-item-1331955\"><a href=\"https://www.infomoney.com.br/mercados/o-que-sao-etfs/\">ETFs</a></li>\n",
       "</ul>\n",
       "</li>\n",
       "<li class=\"menu-item menu-item-type-custom menu-item-object-custom menu-item-has-children menu-item-1321907\" id=\"menu-item-1321907\"><a href=\"https://www.infomoney.com.br/colunistas/\">Colunistas</a>\n",
       "<ul class=\"list-unstyled\">\n",
       "<li class=\"menu-item menu-item-type-custom menu-item-object-custom menu-item-1323113\" id=\"menu-item-1323113\"><a href=\"https://www.infomoney.com.br/blog/alexandre-schwartsman/\">Alexandre Schwartsman</a></li>\n",
       "<li class=\"menu-item menu-item-type-custom menu-item-object-custom menu-item-1323227\" id=\"menu-item-1323227\"><a href=\"https://www.infomoney.com.br/blog/paulo-tafner/\">Paulo Tafner</a></li>\n",
       "<li class=\"menu-item menu-item-type-custom menu-item-object-custom menu-item-1323230\" id=\"menu-item-1323230\"><a href=\"https://www.infomoney.com.br/blog/pedro-menezes/\">Pedro Menezes</a></li>\n",
       "<li class=\"menu-item menu-item-type-custom menu-item-object-custom menu-item-1359514\" id=\"menu-item-1359514\"><a href=\"https://www.infomoney.com.br/colunistas/carol-sandler/\">Carol Sandler</a></li>\n",
       "<li class=\"menu-item menu-item-type-custom menu-item-object-custom menu-item-1323236\" id=\"menu-item-1323236\"><a href=\"https://www.infomoney.com.br/blog/investimentos-internacionais/\">Marcelo López</a></li>\n",
       "<li class=\"menu-item menu-item-type-custom menu-item-object-custom menu-item-1323231\" id=\"menu-item-1323231\"><a href=\"https://www.infomoney.com.br/blog/o-mundo-sobre-muitas-rodas/\">Raphael Galante</a></li>\n",
       "<li class=\"menu-item menu-item-type-custom menu-item-object-custom menu-item-1323234\" id=\"menu-item-1323234\"><a href=\"https://www.infomoney.com.br/blog/ivo-chermont/\">Ivo Chermont</a></li>\n",
       "<li class=\"menu-item menu-item-type-custom menu-item-object-custom menu-item-1323232\" id=\"menu-item-1323232\"><a href=\"https://www.infomoney.com.br/blog/cesar-grafietti/\">Cesar Grafietti</a></li>\n",
       "<li class=\"menu-item menu-item-type-custom menu-item-object-custom menu-item-1323240\" id=\"menu-item-1323240\"><a href=\"https://www.infomoney.com.br/blog/bruno-meyerhof-salama/\">Bruno Meyerhof Salama</a></li>\n",
       "<li class=\"menu-item menu-item-type-custom menu-item-object-custom menu-item-1323239\" id=\"menu-item-1323239\"><a href=\"https://www.infomoney.com.br/blog/economia-e-politica-direto-ao-ponto/\">Alan Ghani</a></li>\n",
       "<li class=\"menu-item menu-item-type-custom menu-item-object-custom menu-item-1323241\" id=\"menu-item-1323241\"><a href=\"https://www.infomoney.com.br/blog/jogo-das-regras/\">Alexandre Pacheco</a></li>\n",
       "<li class=\"menu-item menu-item-type-custom menu-item-object-custom menu-item-1326953\" id=\"menu-item-1326953\"><a href=\"https://www.infomoney.com.br/colunistas/eua-morar-e-investir/\">EUA: Morar e Investir</a></li>\n",
       "</ul>\n",
       "</li>\n",
       "<li class=\"menu-item menu-item-type-custom menu-item-object-custom menu-item-home menu-item-has-children menu-item-1334706\" id=\"menu-item-1334706\"><a href=\"https://www.infomoney.com.br/\">Redes Sociais</a>\n",
       "<ul class=\"list-unstyled\">\n",
       "<li class=\"menu-item menu-item-type-custom menu-item-object-custom menu-item-1324161\" id=\"menu-item-1324161\"><a href=\"https://www.instagram.com/infomoney/\">Instagram</a></li>\n",
       "<li class=\"menu-item menu-item-type-custom menu-item-object-custom menu-item-14579\" id=\"menu-item-14579\"><a href=\"https://www.youtube.com/channel/UCxm0tptjIc76-i26EKQ9NpA/\">Youtube</a></li>\n",
       "<li class=\"menu-item menu-item-type-custom menu-item-object-custom menu-item-1324162\" id=\"menu-item-1324162\"><a href=\"https://www.linkedin.com/company/infomoney/\">Linkedin</a></li>\n",
       "</ul>\n",
       "</li>\n",
       "<li class=\"menu-item menu-item-type-custom menu-item-object-custom menu-item-has-children menu-item-1334711\" id=\"menu-item-1334711\"><a href=\"https://www.infomoney.com.br/patrocinados/\">Especiais</a>\n",
       "<ul class=\"list-unstyled\">\n",
       "<li class=\"menu-item menu-item-type-custom menu-item-object-custom menu-item-1334712\" id=\"menu-item-1334712\"><a href=\"https://www.infomoney.com.br/patrocinados/getnet/\">GetNet</a></li>\n",
       "<li class=\"menu-item menu-item-type-custom menu-item-object-custom menu-item-1334713\" id=\"menu-item-1334713\"><a href=\"https://www.infomoney.com.br/patrocinados/maxmilhas/\">Max Milhas</a></li>\n",
       "<li class=\"menu-item menu-item-type-custom menu-item-object-custom menu-item-1334714\" id=\"menu-item-1334714\"><a href=\"https://www.infomoney.com.br/patrocinados/etf/\">ETFs</a></li>\n",
       "<li class=\"menu-item menu-item-type-custom menu-item-object-custom menu-item-1334715\" id=\"menu-item-1334715\"><a href=\"https://www.infomoney.com.br/patrocinados/longevidade-financeira/\">Longevidade</a></li>\n",
       "<li class=\"menu-item menu-item-type-custom menu-item-object-custom menu-item-1334716\" id=\"menu-item-1334716\"><a href=\"https://www.infomoney.com.br/patrocinados/seguro-de-vida/\">Seguro de Vida</a></li>\n",
       "<li class=\"menu-item menu-item-type-custom menu-item-object-custom menu-item-1334717\" id=\"menu-item-1334717\"><a href=\"https://lp.infomoney.com.br/panorama-novo-mercado-imobiliario\">Imóveis</a></li>\n",
       "</ul>\n",
       "</li>\n",
       "<li class=\"menu-item menu-item-type-custom menu-item-object-custom menu-item-1306404\" id=\"menu-item-1306404\"><a href=\"https://www.xpi.com.br/assessoria-virtual/?utm_source=infomoney&amp;utm_campaign=assessoria-virtual&amp;utm_medium=menu-infomoney\">Assessoria de Investimentos</a></li>\n",
       "<li class=\"menu-item menu-item-type-custom menu-item-object-custom menu-item-14619\" id=\"menu-item-14619\"><a href=\"https://lp.infomoney.com.br/ebooks-gratuitos-investimentos\">Ebooks Gratuitos</a></li>\n",
       "<li class=\"menu-item menu-item-type-custom menu-item-object-custom menu-item-14609\" id=\"menu-item-14609\"><a href=\"https://lp.infomoney.com.br/planilhas-financeiras-gratuitas/\">Planilhas Financeiras Gratuitas</a></li>\n",
       "<li class=\"menu-item menu-item-type-custom menu-item-object-custom menu-item-103\" id=\"menu-item-103\"><a href=\"https://cursos.infomoney.com.br/research-relatorios\">Relatórios</a></li>\n",
       "<li class=\"menu-item menu-item-type-custom menu-item-object-custom menu-item-102\" id=\"menu-item-102\"><a href=\"https://cursos.infomoney.com.br/vitrine\">Cursos</a></li>\n",
       "<li class=\"menu-item menu-item-type-custom menu-item-object-custom menu-item-1347315\" id=\"menu-item-1347315\"><a href=\"https://conteudos.xpi.com.br/?utm_source=infomoney&amp;utm_medium=menu&amp;utm_campaign=xp%20conteudos\">Análises XP</a></li>\n",
       "</ul></div>\n",
       "<div class=\"after-header\">\n",
       "<section class=\"ticker-container\">\n",
       "<div class=\"ticker-carroussel\">\n",
       "<div id=\"ticker-content\">\n",
       "</div>\n",
       "</div>\n",
       "<div class=\"ticker-open-account\">\n",
       "<a href=\"https://cadastro.xpi.com.br/passo/iframe/step1?utm_source=infomoney&amp;utm_campaign=abra-sua-conta&amp;utm_medium=ticker140x40-formulario&amp;utm_content=ros&amp;utm_term=variacao2&amp;rh=0#\" target=\"_blank\"><img src=\"https://www.infomoney.com.br/wp-content/themes/infomoney/assets/img/selo-xp.gif\"/></a>\n",
       "</div>\n",
       "</section>\n",
       "<div class=\"row mt-5 advertising_super_home fill-lightgray\">\n",
       "<div class=\"container p-0\">\n",
       "<div class=\"col-12 col-lg-12 SUPER container-ads\" id=\"sticky-on-scroll\">\n",
       "<div class=\"SUPER\" id=\"SUPER\">\n",
       "<script>\n",
       "                            googletag.cmd.push(function() { googletag.display(decodeURIComponent( 'SUPER' ) )  });                                showAdvertising(decodeURIComponent( 'SUPER' ) );                        </script>\n",
       "</div>\n",
       "</div>\n",
       "</div>\n",
       "</div> </div>\n",
       "<div class=\"container\">\n",
       "<article class=\"post-1360794 post type-post status-publish format-standard has-post-thumbnail hentry category-economia category-politica tag-clt tag-governo tag-medida-provisoria\" id=\"post-1360794\">\n",
       "<div class=\"col post-header border-b my-5 px-0 pb-5\">\n",
       "<div class=\"row\">\n",
       "<div class=\"col-md-10 col-xl-8 m-auto\">\n",
       "<div class=\"hat-and-brand\">\n",
       "<span class=\"post-hat\">\n",
       "                        Mudanças na lei                    </span>\n",
       "</div>\n",
       "<h1 class=\"page-title-1\">Reforma Trabalhista de Bolsonaro: entenda a MP 905 – e por que ela pode ser contestada judicialmente</h1>\n",
       "<p class=\"article-lead\">Governo anuncia pacote que altera leis trabalhistas, mas princípio da isonomia pode ser ferido pela MP</p>\n",
       "<div class=\"d-lg-flex m-0 justify-content-between\">\n",
       "<div class=\"article-author d-flex\">\n",
       "<div class=\"author-image-container\">\n",
       "<div class=\"author-thumbnail\">\n",
       "<div class=\"blue-border\"></div>\n",
       "<div class=\"white-border\"></div>\n",
       "<div class=\"img-author\">\n",
       "<img alt=\"\" class=\"avatar avatar-96 photo avatar-default jetpack-lazy-image\" data-lazy-src=\"https://www.infomoney.com.br/wp-content/uploads/2019/11/Pablo-Santana-U003013-3-1-e1574187869230.jpg?is-pending-load=1\" data-lazy-srcset=\"https://www.infomoney.com.br/wp-content/uploads/2019/11/Pablo-Santana-U003013-3-1-e1574187869230.jpg 2x\" height=\"96\" src=\"https://www.infomoney.com.br/wp-content/uploads/2019/11/Pablo-Santana-U003013-3-1-e1574187869230.jpg\" srcset=\"data:image/gif;base64,R0lGODlhAQABAIAAAAAAAP///yH5BAEAAAAALAAAAAABAAEAAAIBRAA7\" width=\"96\"/><noscript><img alt=\"\" class=\"avatar avatar-96 photo avatar-default\" height=\"96\" src=\"https://www.infomoney.com.br/wp-content/uploads/2019/11/Pablo-Santana-U003013-3-1-e1574187869230.jpg\" srcset=\"https://www.infomoney.com.br/wp-content/uploads/2019/11/Pablo-Santana-U003013-3-1-e1574187869230.jpg 2x\" width=\"96\"/></noscript> </div>\n",
       "</div>\n",
       "</div>\n",
       "<div class=\"author-info-container\">\n",
       "<span class=\"author-name\">Por \t\t\t\t<a href=\"https://www.infomoney.com.br/autor/pablo-santana/\">\n",
       "\t\t\t\t\tPablo Santana\t\t\t\t</a>\n",
       "</span>\n",
       "<span class=\"article-date\"><span class=\"posted-on\"><time class=\"entry-date published\" datetime=\"2019-11-14T15:26:14-03:00\">14 nov 2019 15h26</time> - <time class=\"updated\" datetime=\"2019-11-15T12:29:14-03:00\"> Atualizado 5 dias atrás</time></span></span>\n",
       "</div>\n",
       "</div>\n",
       "<div class=\"post-share d-flex d-lg-initial align-items-center justify-content-end mt-3 mt-lg-0\">\n",
       "<i class=\"material-icons share-icon\">reply</i>\n",
       "<a class=\"post-share-facebook\" href=\"https://facebook.com/sharer/sharer.php?u=https%3A%2F%2Fwww.infomoney.com.br%2Fpolitica%2F10-pontos-para-entender-a-mp-905-e-por-que-ela-pode-ser-contestada-judicialmente%2F\" target=\"_blank\"><i class=\"fab fa-facebook\"></i></a>\n",
       "<a class=\"post-share-twitter\" href=\"https://twitter.com/intent/tweet?url=https%3A%2F%2Fwww.infomoney.com.br%2Fpolitica%2F10-pontos-para-entender-a-mp-905-e-por-que-ela-pode-ser-contestada-judicialmente%2F&amp;text=Reforma%20Trabalhista%20de%20Bolsonaro%3A%20entenda%20a%20MP%20905%20%26%238211%3B%20e%20por%20que%20ela%20pode%20ser%20contestada%20judicialmente&amp;via=InfoMoney\" target=\"_blank\"><i class=\"fab fa-twitter\"></i></a>\n",
       "</div>\n",
       "</div>\n",
       "</div>\n",
       "</div>\n",
       "</div>\n",
       "<div class=\"row\">\n",
       "<div class=\"col-12 col-lg-3 order-1 order-lg-0\">\n",
       "<div class=\"pt-4 mb-5 pt-lg-0 mb-lg-0 border-t-mobile sticky-tags\">\n",
       "<span><i class=\"material-icons\">arrow_forward</i>Mais sobre</span>\n",
       "<ul class=\"list-unstyled small article-terms\"><li><a class=\"link-category\" href=\"https://www.infomoney.com.br/economia/\" rel=\"tag\">Economia</a></li><li><a class=\"link-category\" href=\"https://www.infomoney.com.br/politica/\" rel=\"tag\">Política</a></li><li><a href=\"https://www.infomoney.com.br/tudo-sobre/clt/\" rel=\"tag\">CLT</a></li><li><a href=\"https://www.infomoney.com.br/tudo-sobre/governo/\" rel=\"tag\">Governo</a></li><li><a href=\"https://www.infomoney.com.br/tudo-sobre/medida-provisoria/\" rel=\"tag\">Medida Provisória</a></li></ul> </div>\n",
       "</div>\n",
       "<div class=\"col-md-9 col-lg-8 col-xl-6 m-sm-auto m-lg-0 article-content\">\n",
       "<figure class=\"mb-5\">\n",
       "<img alt=\"carteira de trabalho\" class=\"attachment-large size-large wp-post-image jetpack-lazy-image\" data-lazy-sizes=\"(max-width:320px) 145px, (max-width:425px) 220px, 500px\" data-lazy-src=\"https://www.infomoney.com.br/wp-content/uploads/2019/11/shutterstock_1300372189.jpg?fit=1000%2C716&amp;quality=75&amp;strip=all&amp;is-pending-load=1\" data-lazy-srcset=\"https://www.infomoney.com.br/wp-content/uploads/2019/11/shutterstock_1300372189.jpg?w=1000&amp;quality=75&amp;strip=all 1000w, https://www.infomoney.com.br/wp-content/uploads/2019/11/shutterstock_1300372189.jpg?w=300&amp;quality=75&amp;strip=all 300w, https://www.infomoney.com.br/wp-content/uploads/2019/11/shutterstock_1300372189.jpg?w=768&amp;quality=75&amp;strip=all 768w\" height=\"716\" src=\"https://www.infomoney.com.br/wp-content/uploads/2019/11/shutterstock_1300372189.jpg?fit=1000%2C716&amp;quality=75&amp;strip=all\" srcset=\"data:image/gif;base64,R0lGODlhAQABAIAAAAAAAP///yH5BAEAAAAALAAAAAABAAEAAAIBRAA7\" width=\"1000\"> <figcaption class=\"small text-muted\">\n",
       "\t\t                (Shutterstock)\t\t                </figcaption>\n",
       "</img></figure>\n",
       "<p>SÃO PAULO – Instituída pelo presidente Jair Bolsonaro na última segunda-feira (11), a Medida Provisória 905/2019 altera pontos da legislação trabalhista e cria o Contrato de Trabalho <strong>Verde Amarelo</strong>, dando incentivos a empresas para contratar jovens entre 18 e 29 anos, sem experiência na carteira, pelo prazo determinado de dois anos.</p><p>Para bancar a iniciativa, o governo anunciou que irá <a href=\"https://www.infomoney.com.br/politica/governo-vai-taxar-seguro-desemprego-para-bancar-empregos-de-mais-jovens/\">taxar o seguro-desemprego. </a>A estimativa oficial é de 1,8 milhão de vagas de emprego em um prazo de três anos.</p><p>Entre as principais condições criadas para incentivar as contratações na modalidade estão: isenção das alíquotas do Sistema S, do salário-educação e da contribuição patronal de 20%  para o FGTS. As mudanças geram um corte de até 34% dos impostos pagos sobre a folha.</p><div class=\"row justify-content-center\"><div class=\"container-ads-content RETANGULO_AF\"><div class=\"ads-label\">PUBLICIDADE</div><div class=\"RETANGULO_AF\" id=\"RETANGULO_AF\"><script>googletag.cmd.push(function() { googletag.display( decodeURIComponent( 'RETANGULO_AF' ) ); });showAdvertising( decodeURIComponent( 'RETANGULO_AF' ) );</script></div></div></div><p>A MP também prevê para o Contrato Verde Amarelo a redução de 8% para 2% do valor do salário na contribuição do empregado para o Fundo do Tempo de Serviço (FGTS) e da multa de 40% para 20% – podendo ser resgatado também em casos de demissão por justa causa.<br/>Outra iniciativa é a antecipação de pagamentos, como férias, 13º salário e saldo do FGTS, podendo ser mensalmente resgatados, caso acordado entre empregado e empregador.</p><p><strong>Leia também:<br/></strong><strong><a href=\"https://www.infomoney.com.br/politica/camara-conclui-votacao-da-mp-do-fgts-com-saque-de-ate-r-998-texto-segue-para-o-senado/\">• Câmara conclui votação da MP do FGTS com saque de até R$ 998; texto segue para o Senado</a></strong></p><p>Segundo o advogado Nelson Guimarães, sócio do escritório Bosisio Advogados, a MP mexe com pontos importantes que podem estimular ajuizamento de Ações Diretas de Inconstitucionalidade contra o pacote.</p><p>Um dos pontos sensíveis é a alteração da CLT para a inserção dos mecanismos do Contrato Verde Amarelo, que, segundo Guimarães, comprometem o princípio da isonomia. “Como o contrato cria uma categoria diferente de empregados, com alíquotas e regras diferenciadas, pode haver algum questionamento a respeito da constitucionalidade desses dispositivos”, explica o advogado.</p><p>Outro tópico frágil apontado pelo jurista é o Art. 15. da MP, que versa sobre seguro por exposição a acidentes.</p><p>O texto regulamenta que o empregador, mediante acordo com o trabalhador, pode contratar um seguro privado de acidentes pessoais e pagar 5% do adicional de periculosidade sobre o salário base do empregado, diferente dos 30% estabelecido pela lei para os trabalhadores do regime CLT.</p><div class=\"row justify-content-center\"><div class=\"container-ads-content RETANGULO_BF\"><div class=\"ads-label\">PUBLICIDADE</div><div class=\"RETANGULO_BF\" id=\"RETANGULO_BF\"><script>googletag.cmd.push(function() { googletag.display( decodeURIComponent( 'RETANGULO_BF' ) ); });showAdvertising( decodeURIComponent( 'RETANGULO_BF' ) );</script></div></div></div><p>A medida ainda estabelece que o adicional só será pago quando houver exposição permanente do trabalhador por, no mínimo, 50% da jornada normal de trabalho. A questão exposta, de acordo com Guimarães, contraria uma jurisprudência consolidada do Tribunal Superior do Trabalho (TST) a respeito do tema e subverte o próprio conceito de periculosidade.</p><p>“Segundo as normas regulamentadoras, o fato do trabalhador estar exposto a risco já lhe dar o direito ao adicional de periculosidade, desde que essa exposição não seja eventual. Esse direito independe da quantidade de tempo, porque o risco não escolhe horário para acontecer. Ao estabelecer um critério de tempo, a MP abre brechas para contestações”, diz Guimarães.</p><p>Para a advogada Maria Lúcia Benhame, sócia-fundadora do escritório Benhame Sociedade de Advogados, o texto não estabelece o que é periculosidade, dificultando a sua interpretação.</p><p>“A MP teria que definir melhor o que é condição perigosa nos seus termos para não gerar insegurança jurídica, porque você tem um ato jurídico que vai se prolongar além de uma possível validade que, eventualmente, possa ser cancelada ou alterada numa lei posterior”, explica a jurista.</p><p>Maria Lúcia observa que a medida pode contribuir com o objetivo do governo de gerar emprego, porque o empresário vai ter menos medo de contratar com os estímulos propostos. Mas pontua que o êxito do projeto parte da melhoria das condições econômicas.</p><p>“Do ponto de vista das empresas, a MP criou um ambiente em que é mais fácil e barato contratar e demitir, porque a multa do fundo está em 20% e o empresário recebeu outras contrapartidas. Então, caso a empresa esteja em um nicho de atividade econômica melhor, ela vai se sentir à vontade para contratar. Porém o que vai gerar emprego mesmo é o aquecimento da economia. Lei nenhuma cria emprego”, opina Benhame.</p><p>O governo também aproveitou a criação do Contrato de Trabalho Verde Amarelo para realizar novas modificações nas regras trabalhistas. Foram incluídas mudanças que reorganiza o sistema de fiscalização do trabalho, altera a legislação sobre a participação nos lucros e prêmios e amplia a jornada de trabalho dos bancários.</p><h2><b>Entenda as principais mudanças da MP na legislação trabalhista </b></h2><p> </p><h3><b>Alimentação </b></h3><p>O governo retirou do cálculo do salário o fornecimento de alimentação, seja in natura ou por meio de tickets, vales e cupons. Com a retirada da natureza salarial, o fornecimento passa a ser não tributável para efeito da contribuição previdenciária e dos demais tributos incidentes sobre a folha de salários, além de não integrar a base de cálculo do imposto de renda.</p><h3><b>Gorjeta </b></h3><p>As gorjetas destinadas aos trabalhadores farão parte da remuneração do empregado, sendo sua distribuição de rateio e custeio definidas em convenção ou acordo coletivo e o seu valor correspondente inseridos em nota fiscal.</p><p>O texto também estabelece que o percentual recebido deve ser anotado na carteira de trabalho dos empregadores e não constitui receita própria dos empregadores.</p><h3><b>Lucros e prêmios                </b></h3><p>A MP permite que as partes definam quais políticas devem ser adotadas e determina que o pagamento dos valores devem ser limitadas a quatro vezes por ano e, no máximo, uma por semestre.</p><h3><b>Armazenamento eletrônico</b></h3><p>Fica autorizado o armazenamento em meio eletrônico de documentos relativos a deveres e obrigações trabalhistas.</p><h3><b>FGTS </b></h3><p>Acaba com o adicional de 10% da multa rescisória sobre o FGTS pago pelas empresas em caso de demissão sem justa causa.</p><h3><b>Registro profissional</b></h3><p>O texto retira a exigência de registro de trabalho para profissões que não tenham conselhos ou ordens de classe, como jornalistas, arquivistas, publicitários e lavadores de carro. Além de revogar leis que regulamenta o exercício de profissões, entre elas: corretor de seguro e guardador e lavador de carros.</p><h3><b>Acordos</b></h3><p>Em execução desde a reforma trabalhista de Temer, o texto permite a execução de um acordo extrajudicial entre as partes, no encerramento do contrato.</p><h3><b>Bancários</b></h3><p>O governo estende até aos sábados o trabalho dos bancários, além de aumentar a carga horária de 6 para 8 horas diárias da categoria, exceto os trabalhadores que operam exclusivamente nos caixas em atendimento ao público.</p><h3><b>Trabalho aos domingos e feriados</b></h3><p>A MP retorna com a proposta do governo – retirada pelos senadores na MP da Liberdade Econômica, em agosto -, de autorizar o trabalho aos domingos e feriados para diversas categorias.</p><p>Para a indústria, a folga dominical deve acontecer uma vez no período máximo de sete semanas, enquanto o setor de comércios e serviços está garantido um domingo no período máximo de quatro semanas.</p><h3><b>Fiscalização</b></h3><p>O texto aumenta os valores das multas administrativas, aplicadas por auditores do trabalho, ordenando de acordo com gravidade da infração, porte da empresa e funcionários prejudicados.  O governo ainda implanta a dupla visita para situações de gradação leve. “Primeiro, o auditor-fiscal alerta para possíveis problemas, que só será convertida em multa em caso de reincidência”.</p><p><strong>Pense no seu futuro: invista. <em><a href=\"https://cadastro.xpi.com.br/passo/default/step1?utm_source=infomoney&amp;utm_campaign=materia-redacao&amp;utm_medium=link&amp;utm_content=pablo-santana&amp;utm_term=1360794\">Abra uma conta gratuita na XP.</a></em></strong></p> </div>\n",
       "<div class=\"col-12 col-lg-8 offset-0 offset-lg-3 offset-xl-2\">\n",
       "<div class=\"mt-5 mb-5\" id=\"comments\">\n",
       "<div class=\"fb-comments\" data-href=\"https://www.infomoney.com.br/politica/10-pontos-para-entender-a-mp-905-e-por-que-ela-pode-ser-contestada-judicialmente/\" data-mobile=\"true\" data-numposts=\"5\" data-order-by=\"reverse_time\"></div>\n",
       "</div>\n",
       "</div>\n",
       "</div>\n",
       "<!-- /8003922/AdLink -->\n",
       "<div id=\"AdLink\" style=\"margin:0 auto\"><script>googletag.cmd.push(function() { googletag.display('AdLink'); });</script></div>\n",
       "</article></div>\n",
       "<section>\n",
       "<div class=\"container row border-t py-5 mt-5\">\n",
       "<div class=\"col-12 col-lg-7 m-auto\">\n",
       "<div class=\"OUTBRAIN\" data-ob-template=\"BR_infomoney\" data-src=\"https://www.infomoney.com.br/politica/10-pontos-para-entender-a-mp-905-e-por-que-ela-pode-ser-contestada-judicialmente/\" data-widget-id=\"AR_8\">\n",
       "</div>\n",
       "</div>\n",
       "</div>\n",
       "</section>\n",
       "<aside>\n",
       "<div class=\"newsletter-footer\">\n",
       "<div class=\"newsletter-form\">\n",
       "<span class=\"title\">O resumo do mercado no seu email</span>\n",
       "<!--p>Proin nec massa et urna porta sollicitudin vitae non justo. Mauris dictum tincidunt laoreet. Sed quis libero et lorem feugiat fermentum</p-->\n",
       "<form accept-charset=\"utf-8\" action=\"\" id=\"ajax_form\" method=\"\">\n",
       "<input id=\"_wpnonce\" name=\"_wpnonce\" type=\"hidden\" value=\"364b61ca1b\"/><input name=\"_wp_http_referer\" type=\"hidden\" value=\"/politica/10-pontos-para-entender-a-mp-905-e-por-que-ela-pode-ser-contestada-judicialmente/\"/> <input class=\"form-group\" id=\"email-footer\" name=\"email\" placeholder=\"nome@exemplo.com.br\" required=\"\" type=\"email\"/>\n",
       "<input class=\"btn btn-dark\" id=\"submit-btn\" name=\"submit\" type=\"submit\" value=\"Cadastrar\"/>\n",
       "</form>\n",
       "<span id=\"status-footer\"></span>\n",
       "</div>\n",
       "</div>\n",
       "</aside>\n",
       "<footer class=\"footer mt-5\" id=\"footer\">\n",
       "<div class=\"container\">\n",
       "<div class=\"row footer-top pb-5\">\n",
       "<div class=\"col-md-12 col-lg-8 footer-map\">\n",
       "<ul class=\"list-unstyled\" id=\"menu-rodape\"><li class=\"menu-item menu-item-type-custom menu-item-object-custom menu-item-has-children menu-item-1331960\" id=\"menu-item-1331960\"><a href=\"https://www.infomoney.com.br/onde-investir/\">Guias de Investimentos</a>\n",
       "<ul class=\"list-unstyled\">\n",
       "<li class=\"menu-item menu-item-type-custom menu-item-object-custom menu-item-1331961\" id=\"menu-item-1331961\"><a href=\"https://www.infomoney.com.br/educacao/guias/guias-de-acoes/\">Ações</a></li>\n",
       "<li class=\"menu-item menu-item-type-custom menu-item-object-custom menu-item-1346186\" id=\"menu-item-1346186\"><a href=\"https://www.infomoney.com.br/vamosinvestir/aplicacoes/investir-em-renda-fixa/\">Renda Fixa</a></li>\n",
       "<li class=\"menu-item menu-item-type-custom menu-item-object-custom menu-item-1331964\" id=\"menu-item-1331964\"><a href=\"https://www.infomoney.com.br/guias/tesouro-direto/\">Tesouro Direto</a></li>\n",
       "<li class=\"menu-item menu-item-type-custom menu-item-object-custom menu-item-1331962\" id=\"menu-item-1331962\"><a href=\"https://www.infomoney.com.br/guias/fundos-de-investimento/\">Fundos de Investimento</a></li>\n",
       "<li class=\"menu-item menu-item-type-custom menu-item-object-custom menu-item-1359925\" id=\"menu-item-1359925\"><a href=\"https://www.infomoney.com.br/guias/fundos-multimercados/\">Fundos Multimercados</a></li>\n",
       "<li class=\"menu-item menu-item-type-custom menu-item-object-custom menu-item-1331963\" id=\"menu-item-1331963\"><a href=\"https://www.infomoney.com.br/guias/fundos-cambiais/\">Fundos Cambiais</a></li>\n",
       "<li class=\"menu-item menu-item-type-custom menu-item-object-custom menu-item-1331990\" id=\"menu-item-1331990\"><a href=\"https://www.infomoney.com.br/guias/fundos-de-acoes/\">Fundos de Ações</a></li>\n",
       "<li class=\"menu-item menu-item-type-custom menu-item-object-custom menu-item-1331966\" id=\"menu-item-1331966\"><a href=\"https://www.infomoney.com.br/guias/fundos-renda-fixa/\">Fundos de Renda Fixa</a></li>\n",
       "<li class=\"menu-item menu-item-type-custom menu-item-object-custom menu-item-1331965\" id=\"menu-item-1331965\"><a href=\"https://www.infomoney.com.br/vamosinvestir/aplicacoes/fundos-imobiliarios/\">Fundos Imobiliários</a></li>\n",
       "<li class=\"menu-item menu-item-type-custom menu-item-object-custom menu-item-1331987\" id=\"menu-item-1331987\"><a href=\"https://www.infomoney.com.br/mercados/proventos-conheca-os-tipos-e-os-mecanismos-de-pagamento/\">Proventos e Dividendos</a></li>\n",
       "<li class=\"menu-item menu-item-type-custom menu-item-object-custom menu-item-1348967\" id=\"menu-item-1348967\"><a href=\"https://www.infomoney.com.br/guias/planos-de-previdencia/\">Planos de Previdência</a></li>\n",
       "<li class=\"menu-item menu-item-type-custom menu-item-object-custom menu-item-1345977\" id=\"menu-item-1345977\"><a href=\"https://www.infomoney.com.br/guias/cdb/\">CDBs</a></li>\n",
       "<li class=\"menu-item menu-item-type-custom menu-item-object-custom menu-item-1345826\" id=\"menu-item-1345826\"><a href=\"https://www.infomoney.com.br/mercados/o-que-sao-etfs/\">ETFs</a></li>\n",
       "<li class=\"menu-item menu-item-type-custom menu-item-object-custom menu-item-1331970\" id=\"menu-item-1331970\"><a href=\"https://www.infomoney.com.br/onde-investir/como-participar-de-um-ipo/\">IPOs</a></li>\n",
       "</ul>\n",
       "</li>\n",
       "<li class=\"menu-item menu-item-type-custom menu-item-object-custom menu-item-has-children menu-item-601655\" id=\"menu-item-601655\"><a href=\"https://www.infomoney.com.br/ultimas-noticias/\">Notícias</a>\n",
       "<ul class=\"list-unstyled\">\n",
       "<li class=\"menu-item menu-item-type-custom menu-item-object-custom menu-item-601656\" id=\"menu-item-601656\"><a href=\"https://www.infomoney.com.br/mercados/\">Mercados</a></li>\n",
       "<li class=\"menu-item menu-item-type-custom menu-item-object-custom menu-item-601657\" id=\"menu-item-601657\"><a href=\"https://www.infomoney.com.br/onde-investir/\">Onde investir</a></li>\n",
       "<li class=\"menu-item menu-item-type-custom menu-item-object-custom menu-item-601658\" id=\"menu-item-601658\"><a href=\"https://www.infomoney.com.br/minhas-financas/\">Minhas Finanças</a></li>\n",
       "<li class=\"menu-item menu-item-type-custom menu-item-object-custom menu-item-601659\" id=\"menu-item-601659\"><a href=\"https://www.infomoney.com.br/politica/\">Política</a></li>\n",
       "<li class=\"menu-item menu-item-type-custom menu-item-object-custom menu-item-601660\" id=\"menu-item-601660\"><a href=\"https://www.infomoney.com.br/carreira/\">Carreira</a></li>\n",
       "<li class=\"menu-item menu-item-type-custom menu-item-object-custom menu-item-601661\" id=\"menu-item-601661\"><a href=\"https://www.infomoney.com.br/consumo/\">Consumo</a></li>\n",
       "<li class=\"menu-item menu-item-type-custom menu-item-object-custom menu-item-641973\" id=\"menu-item-641973\"><a href=\"https://www.infomoney.com.br/negocios/\">Negócios</a></li>\n",
       "<li class=\"menu-item menu-item-type-custom menu-item-object-custom menu-item-1325310\" id=\"menu-item-1325310\"><a href=\"https://www.infomoney.com.br/economia/\">Economia</a></li>\n",
       "</ul>\n",
       "</li>\n",
       "<li class=\"menu-item menu-item-type-custom menu-item-object-custom menu-item-has-children menu-item-1318881\" id=\"menu-item-1318881\"><a href=\"https://www.infomoney.com.br/cotacoes/\">Cotações</a>\n",
       "<ul class=\"list-unstyled\">\n",
       "<li class=\"menu-item menu-item-type-custom menu-item-object-custom menu-item-1318882\" id=\"menu-item-1318882\"><a href=\"https://www.infomoney.com.br/cotacoes/ibovespa/\">Ibovespa</a></li>\n",
       "<li class=\"menu-item menu-item-type-custom menu-item-object-custom menu-item-641809\" id=\"menu-item-641809\"><a href=\"https://www.infomoney.com.br/mercados/ferramentas/altas-e-baixas\">Altas e Baixas</a></li>\n",
       "<li class=\"menu-item menu-item-type-custom menu-item-object-custom menu-item-1318883\" id=\"menu-item-1318883\"><a href=\"https://www.infomoney.com.br/ferramentas/cambio/\">Dólar e câmbio</a></li>\n",
       "<li class=\"menu-item menu-item-type-custom menu-item-object-custom menu-item-1318885\" id=\"menu-item-1318885\"><a href=\"https://www.infomoney.com.br/ferramentas/criptomoedas/\">Criptomoedas</a></li>\n",
       "<li class=\"menu-item menu-item-type-custom menu-item-object-custom menu-item-1318888\" id=\"menu-item-1318888\"><a href=\"https://www.infomoney.com.br/ferramentas/juros-futuros-di/\">Juros Futuros</a></li>\n",
       "<li class=\"menu-item menu-item-type-custom menu-item-object-custom menu-item-1318889\" id=\"menu-item-1318889\"><a href=\"https://www.infomoney.com.br/ferramentas/mini-contratos/\">Minicontratos</a></li>\n",
       "<li class=\"menu-item menu-item-type-custom menu-item-object-custom menu-item-1318887\" id=\"menu-item-1318887\"><a href=\"https://www.infomoney.com.br/ferramentas/cotacoes-opcoes-de-acoes/\">Opções de Ações</a></li>\n",
       "</ul>\n",
       "</li>\n",
       "<li class=\"menu-item menu-item-type-custom menu-item-object-custom menu-item-home menu-item-has-children menu-item-641805\" id=\"menu-item-641805\"><a href=\"https://www.infomoney.com.br\">Ferramentas</a>\n",
       "<ul class=\"list-unstyled\">\n",
       "<li class=\"menu-item menu-item-type-custom menu-item-object-custom menu-item-1318892\" id=\"menu-item-1318892\"><a href=\"https://www.infomoney.com.br/ferramentas/carteira-de-acompanhamento/\">Carteira de Acompanhamento</a></li>\n",
       "<li class=\"menu-item menu-item-type-custom menu-item-object-custom menu-item-641880\" id=\"menu-item-641880\"><a href=\"https://www.infomoney.com.br/ferramentas/comparador-renda-fixa/\">Comparador de Renda Fixa</a></li>\n",
       "<li class=\"menu-item menu-item-type-custom menu-item-object-custom menu-item-641818\" id=\"menu-item-641818\"><a href=\"https://www.infomoney.com.br/mercados/empresas-bovespa\">Empresas B3</a></li>\n",
       "<li class=\"menu-item menu-item-type-custom menu-item-object-custom menu-item-641868\" id=\"menu-item-641868\"><a href=\"https://www.infomoney.com.br/mercados/agendas\">Agendas</a></li>\n",
       "</ul>\n",
       "</li>\n",
       "<li class=\"menu-item menu-item-type-custom menu-item-object-custom menu-item-has-children menu-item-1318891\" id=\"menu-item-1318891\"><a href=\"https://cursos.infomoney.com.br/vitrine\">Educação</a>\n",
       "<ul class=\"list-unstyled\">\n",
       "<li class=\"menu-item menu-item-type-custom menu-item-object-custom menu-item-601647\" id=\"menu-item-601647\"><a href=\"https://cursos.infomoney.com.br/vitrine\">Cursos</a></li>\n",
       "<li class=\"menu-item menu-item-type-custom menu-item-object-custom menu-item-601650\" id=\"menu-item-601650\"><a href=\"https://lp.infomoney.com.br/ebooks-gratuitos-investimentos\">Ebooks gratuitos</a></li>\n",
       "<li class=\"menu-item menu-item-type-custom menu-item-object-custom menu-item-601654\" id=\"menu-item-601654\"><a href=\"https://www.infomoney.com.br/planilhas-financeiras-gratuitas/\">Planilhas gratuitas</a></li>\n",
       "<li class=\"menu-item menu-item-type-custom menu-item-object-custom menu-item-601648\" id=\"menu-item-601648\"><a href=\"https://www.infomoney.com.br/research-relatorios\">Relatórios</a></li>\n",
       "</ul>\n",
       "</li>\n",
       "</ul> </div>\n",
       "<div class=\"col-md-12 col-lg-3 offset-lg-1\">\n",
       "<!-- SOCIAL -->\n",
       "<h6 class=\"mb-2 title-call\">Siga</h6>\n",
       "<div class=\"footer-social mb-5\">\n",
       "<a href=\"https://www.facebook.com/InfoMoney\" target=\"_new\"><i class=\"fab fa-facebook\"></i></a>\n",
       "<a href=\"https://twitter.com/infomoney\" target=\"_new\"><i class=\"fab fa-twitter\"></i></a>\n",
       "<a href=\"https://www.youtube.com/user/tvinfomoney\" target=\"_new\"><i class=\"fab fa-youtube\"></i></a>\n",
       "<a href=\"https://www.linkedin.com/company/infomoney/\" target=\"_new\"><i class=\"fab fa-linkedin\"></i></a>\n",
       "<a href=\"https://www.instagram.com/infomoney/\" target=\"_new\"><i class=\"fab fa-instagram\"></i></a>\n",
       "<a href=\"https://www.infomoney.com.br/podcasts/\" target=\"_new\"><i class=\"fab fa-soundcloud\"></i></a>\n",
       "</div>\n",
       "<!-- APP -->\n",
       "<div class=\"down-app\">\n",
       "<h6 class=\"mb-2 title-call\">Baixe nosso app</h6>\n",
       "<a href=\"https://play.google.com/store/apps/details?id=com.cedrotech.infomoney\"><img src=\"https://www.infomoney.com.br/wp-content/themes/infomoney/assets/img/google-play-badge.png\" width=\"150\"/></a>\n",
       "<a href=\"https://itunes.apple.com/br/app/infomoney/id1026842272?mt=8\"><img src=\"https://www.infomoney.com.br/wp-content/themes/infomoney/assets/img/app-store-badge.png\" width=\"140\"/></a>\n",
       "</div>\n",
       "</div>\n",
       "</div>\n",
       "<div class=\"row footer-menu-extra\">\n",
       "<div class=\"col\">\n",
       "<a class=\"logo-footer\" href=\"https://www.infomoney.com.br/\"><img src=\"https://www.infomoney.com.br/wp-content/themes/infomoney/assets/img/logo.svg\"/></a>\n",
       "<div class=\"menu-institucional-container\"><ul class=\"menu\" id=\"menu-institucional\"><li class=\"menu-item menu-item-type-custom menu-item-object-custom menu-item-138\" id=\"menu-item-138\"><a href=\"https://auth.infomoney.com.br/authentication/signin\">Cadastre-se</a></li>\n",
       "<li class=\"menu-item menu-item-type-custom menu-item-object-custom menu-item-139\" id=\"menu-item-139\"><a href=\"https://ww3.infomoney.com.br/mediakit\">Anuncie / Licencie</a></li>\n",
       "<li class=\"menu-item menu-item-type-post_type menu-item-object-page menu-item-150\" id=\"menu-item-150\"><a href=\"https://www.infomoney.com.br/termos-de-uso/\">Termos de uso</a></li>\n",
       "<li class=\"menu-item menu-item-type-post_type menu-item-object-page menu-item-157\" id=\"menu-item-157\"><a href=\"https://www.infomoney.com.br/fale-conosco/\">Fale conosco</a></li>\n",
       "</ul></div> </div>\n",
       "</div>\n",
       "<div class=\"footer-disclaimer\">\n",
       "<div class=\"text-justify col-lg-8\">\n",
       "<p>© 2000-2019 InfoMoney. Todos os direitos reservados.</p>\n",
       "<p>O InfoMoney preza a qualidade da informação e atesta a apuração de todo o conteúdo produzido por sua equipe, ressaltando, no entanto, que não faz qualquer tipo de recomendação de investimento, não se responsabilizando por perdas, danos (diretos, indiretos e incidentais), custos e lucros cessantes.</p>\n",
       "<p><b>IMPORTANTE:</b> O portal www.infomoney.com.br (o \"Portal\") é de propriedade da Infostocks Informações e Sistemas Ltda. (CNPJ/MF nº 03.082.929/0001-03) (\"Infostocks\"), sociedade controlada, indiretamente, pela XP Controle Participações S/A (CNPJ/MF nº 09.163.677/0001-15), sociedade holding que controla as empresas do XP Inc. O XP Inc tem em sua composição empresas que exercem atividades de: corretoras de valoresmobiliários, banco, seguradora, corretora de seguros, análise de investimentos de valores mobiliários, gestoras de recursos de terceiros. Apesar de as Sociedades XP estarem sob controle comum, os executivos responsáveis pela Infostocks são totalmente independentes e as notícias, matérias e opiniões veiculadas no Portal não são, sob qualquer aspecto, direcionadas e/ou influenciadas por relatórios de análise produzidos por áreas técnicas das empresas do XP Inc, nem por decisões comerciais e de negócio de tais sociedades, sendo produzidos de acordo com o juízo de valor e as convicções próprias da equipe interna da Infostocks.\n",
       "                \n",
       "                </p>\n",
       "</div>\n",
       "</div>\n",
       "</div>\n",
       "</footer>\n",
       "</body></html><!-- #page -->\n",
       "<div style=\"display:none\">\n",
       "</div>\n",
       "<script src=\"https://www.infomoney.com.br/wp-content/mu-plugins/jetpack/_inc/build/photon/photon.min.js?m=1573161244g\" type=\"text/javascript\"></script>\n",
       "<script src=\"https://s0.wp.com/wp-content/js/devicepx-jetpack.js?ver=201947\" type=\"text/javascript\"></script>\n",
       "<script src=\"https://www.infomoney.com.br/wp-content/mu-plugins/jetpack/_inc/build/lazy-images/js/lazy-images.min.js?m=1563814167g\" type=\"text/javascript\"></script>\n",
       "<script async=\"\" src=\"https://connect.facebook.net/pt_BR/sdk.js?ver=1.3#xfbml=1&amp;version=v3.3\" type=\"text/javascript\"></script>\n",
       "<script async=\"\" src=\"https://widgets.outbrain.com/outbrain.js?ver=1.3\" type=\"text/javascript\"></script>\n",
       "<script src=\"https://www.infomoney.com.br/wp-includes/js/wp-embed.min.js?m=1571091596g\" type=\"text/javascript\"></script>\n",
       "<script async=\"async\" defer=\"defer\" src=\"https://stats.wp.com/e-201947.js\" type=\"text/javascript\"></script>\n",
       "<script type=\"text/javascript\">\n",
       "\t_stq = window._stq || [];\n",
       "\t_stq.push([ 'view', {v:'ext',j:'1:7.9.1',blog:'161989173',post:'1360794',tz:'-3',srv:'www.infomoney.com.br'} ]);\n",
       "\t_stq.push([ 'clickTrackerInit', '161989173', '1360794' ]);\n",
       "</script>\n",
       "<!-- /8003922/OutOfPage -->\n",
       "<div id=\"OutOfPage\" style=\"margin:0 auto\"><script>googletag.cmd.push(function() { googletag.display('OutOfPage'); });</script></div>\n"
      ]
     },
     "execution_count": 16,
     "metadata": {},
     "output_type": "execute_result"
    }
   ],
   "source": [
    "html"
   ]
  },
  {
   "cell_type": "code",
   "execution_count": null,
   "metadata": {},
   "outputs": [],
   "source": []
  },
  {
   "cell_type": "markdown",
   "metadata": {},
   "source": [
    "<h2 id='parte-3c' style=\"color:blue;\">c. Extraindo o necessário do HTML</h2>"
   ]
  },
  {
   "cell_type": "markdown",
   "metadata": {},
   "source": [
    "<h3 id='parte-3c1' style=\"color:green;\">c.1 Extraindo texto puro de uma Notícia</h3>"
   ]
  },
  {
   "cell_type": "markdown",
   "metadata": {},
   "source": [
    "<p><b>url</b> = <b style=\"color:blue;\">https://www.infomoney.com.br/politica/10-pontos-para-entender-a-mp-905-e-por-que-ela-pode-ser-contestada-judicialmente/</b></p>"
   ]
  },
  {
   "cell_type": "markdown",
   "metadata": {},
   "source": [
    "<p>Nessa etapa é importante entender de que página estamos extraindo a informação. É bem provável que as páginas de notícias do <b>InfoMoney</b> apresentem um padrão que pode ser diferente de outros portais de notícias. Por isso, como primeiro passo, devemos inspecionar a página e saber como está estruturado cada parte do HTML. Continuaremos com o mesmo link usado em <b style=\"color:blue;\">a.</b> e com <b>'html'</b> gerado em <b style=\"color:blue;\">b.</b></p>"
   ]
  },
  {
   "cell_type": "markdown",
   "metadata": {},
   "source": [
    "<img src=\"./imagens/infomoney-titulo.png\" />"
   ]
  },
  {
   "cell_type": "markdown",
   "metadata": {},
   "source": [
    "<p>Existem várias formas de chegar no resultado que queremos, uma delas seria:</p>"
   ]
  },
  {
   "cell_type": "markdown",
   "metadata": {},
   "source": [
    "<ul>\n",
    "    <li>O título, de tag <b>&lt;h1&gt;...&lt;/h1&gt;</b>, contém <b>class='page-title-1'</b>, ao que tudo indica ela é única, então não teremos informações a mais ao usarmos essa classe para extrair o título(Muitas vezes o próprio <b>&lt;h1&gt;...&lt;/h1&gt;</b> é utilizado apenas uma vez no código, mas vamos supor que este não é o caso aqui).</li>\n",
    "    <li>O subtítulo, de tag <b>&lt;p&gt;...&lt;/p&gt;</b>, contém <b>class='article-lead'</b>, que também parece ser única no código</li>\n",
    "    <li>O texto da notícia está contido dentro do <b>&lt;div&gt;...&lt;/div&gt;</b> com <b>class='col-md-9 col-lg-8 col-xl-6 m-sm-auto m-lg-0 article-content'</b>, contendo <b>['p', 'h2', 'h3']</b> dentro dele</li>\n",
    "</ul>"
   ]
  },
  {
   "cell_type": "markdown",
   "metadata": {},
   "source": [
    "<p>Com essas três informações é possível extrair o Título, Subtítulo e texto da notícia."
   ]
  },
  {
   "cell_type": "markdown",
   "metadata": {},
   "source": [
    "### Título:"
   ]
  },
  {
   "cell_type": "code",
   "execution_count": 17,
   "metadata": {},
   "outputs": [
    {
     "data": {
      "text/plain": [
       "[<h1 class=\"page-title-1\">Reforma Trabalhista de Bolsonaro: entenda a MP 905 – e por que ela pode ser contestada judicialmente</h1>]"
      ]
     },
     "execution_count": 17,
     "metadata": {},
     "output_type": "execute_result"
    }
   ],
   "source": [
    "# Buscando parte do código que contenha class='page-title-1'\n",
    "titulo = html.find_all(attrs={'class': 'page-title-1'})\n",
    "\n",
    "titulo"
   ]
  },
  {
   "cell_type": "code",
   "execution_count": 18,
   "metadata": {},
   "outputs": [
    {
     "name": "stdout",
     "output_type": "stream",
     "text": [
      "Reforma Trabalhista de Bolsonaro: entenda a MP 905 – e por que ela pode ser contestada judicialmente\n"
     ]
    }
   ],
   "source": [
    "# Transformando o que achamos em string\n",
    "titulo = titulo[0].text\n",
    "\n",
    "print(titulo)"
   ]
  },
  {
   "cell_type": "markdown",
   "metadata": {},
   "source": [
    "### Subtítulo:"
   ]
  },
  {
   "cell_type": "code",
   "execution_count": 19,
   "metadata": {
    "scrolled": true
   },
   "outputs": [
    {
     "data": {
      "text/plain": [
       "[<p class=\"article-lead\">Governo anuncia pacote que altera leis trabalhistas, mas princípio da isonomia pode ser ferido pela MP</p>]"
      ]
     },
     "execution_count": 19,
     "metadata": {},
     "output_type": "execute_result"
    }
   ],
   "source": [
    "# Buscando parte do código que contenha class='article-lead'\n",
    "subtitulo = html.find_all(attrs={'class': 'article-lead'})\n",
    "\n",
    "subtitulo"
   ]
  },
  {
   "cell_type": "code",
   "execution_count": 20,
   "metadata": {
    "scrolled": true
   },
   "outputs": [
    {
     "name": "stdout",
     "output_type": "stream",
     "text": [
      "Governo anuncia pacote que altera leis trabalhistas, mas princípio da isonomia pode ser ferido pela MP\n"
     ]
    }
   ],
   "source": [
    "# Transformando o que achamos em string\n",
    "subtitulo = subtitulo[0].text\n",
    "\n",
    "print(subtitulo)"
   ]
  },
  {
   "cell_type": "markdown",
   "metadata": {},
   "source": [
    "### Texto:"
   ]
  },
  {
   "cell_type": "markdown",
   "metadata": {},
   "source": [
    "<p>Nessa etapa devemos tomar cuidado com informações que não são importantes e que estão no meio do texto, como imagens e anúncios</p>"
   ]
  },
  {
   "cell_type": "code",
   "execution_count": 21,
   "metadata": {},
   "outputs": [],
   "source": [
    "# Buscando um 'div' que contenha class='col-md-9 col-lg-8 col-xl-6 m-sm-auto m-lg-0 article-content'\n",
    "text_div = html.findAll('div', attrs = {'class': 'col-md-9 col-lg-8 col-xl-6 m-sm-auto m-lg-0 article-content'})"
   ]
  },
  {
   "cell_type": "code",
   "execution_count": 22,
   "metadata": {
    "scrolled": true
   },
   "outputs": [
    {
     "data": {
      "text/plain": [
       "[<div class=\"col-md-9 col-lg-8 col-xl-6 m-sm-auto m-lg-0 article-content\">\n",
       " <figure class=\"mb-5\">\n",
       " <img alt=\"carteira de trabalho\" class=\"attachment-large size-large wp-post-image jetpack-lazy-image\" data-lazy-sizes=\"(max-width:320px) 145px, (max-width:425px) 220px, 500px\" data-lazy-src=\"https://www.infomoney.com.br/wp-content/uploads/2019/11/shutterstock_1300372189.jpg?fit=1000%2C716&amp;quality=75&amp;strip=all&amp;is-pending-load=1\" data-lazy-srcset=\"https://www.infomoney.com.br/wp-content/uploads/2019/11/shutterstock_1300372189.jpg?w=1000&amp;quality=75&amp;strip=all 1000w, https://www.infomoney.com.br/wp-content/uploads/2019/11/shutterstock_1300372189.jpg?w=300&amp;quality=75&amp;strip=all 300w, https://www.infomoney.com.br/wp-content/uploads/2019/11/shutterstock_1300372189.jpg?w=768&amp;quality=75&amp;strip=all 768w\" height=\"716\" src=\"https://www.infomoney.com.br/wp-content/uploads/2019/11/shutterstock_1300372189.jpg?fit=1000%2C716&amp;quality=75&amp;strip=all\" srcset=\"data:image/gif;base64,R0lGODlhAQABAIAAAAAAAP///yH5BAEAAAAALAAAAAABAAEAAAIBRAA7\" width=\"1000\"> <figcaption class=\"small text-muted\">\n",
       " \t\t                (Shutterstock)\t\t                </figcaption>\n",
       " </img></figure>\n",
       " <p>SÃO PAULO – Instituída pelo presidente Jair Bolsonaro na última segunda-feira (11), a Medida Provisória 905/2019 altera pontos da legislação trabalhista e cria o Contrato de Trabalho <strong>Verde Amarelo</strong>, dando incentivos a empresas para contratar jovens entre 18 e 29 anos, sem experiência na carteira, pelo prazo determinado de dois anos.</p><p>Para bancar a iniciativa, o governo anunciou que irá <a href=\"https://www.infomoney.com.br/politica/governo-vai-taxar-seguro-desemprego-para-bancar-empregos-de-mais-jovens/\">taxar o seguro-desemprego. </a>A estimativa oficial é de 1,8 milhão de vagas de emprego em um prazo de três anos.</p><p>Entre as principais condições criadas para incentivar as contratações na modalidade estão: isenção das alíquotas do Sistema S, do salário-educação e da contribuição patronal de 20%  para o FGTS. As mudanças geram um corte de até 34% dos impostos pagos sobre a folha.</p><div class=\"row justify-content-center\"><div class=\"container-ads-content RETANGULO_AF\"><div class=\"ads-label\">PUBLICIDADE</div><div class=\"RETANGULO_AF\" id=\"RETANGULO_AF\"><script>googletag.cmd.push(function() { googletag.display( decodeURIComponent( 'RETANGULO_AF' ) ); });showAdvertising( decodeURIComponent( 'RETANGULO_AF' ) );</script></div></div></div><p>A MP também prevê para o Contrato Verde Amarelo a redução de 8% para 2% do valor do salário na contribuição do empregado para o Fundo do Tempo de Serviço (FGTS) e da multa de 40% para 20% – podendo ser resgatado também em casos de demissão por justa causa.<br/>Outra iniciativa é a antecipação de pagamentos, como férias, 13º salário e saldo do FGTS, podendo ser mensalmente resgatados, caso acordado entre empregado e empregador.</p><p><strong>Leia também:<br/></strong><strong><a href=\"https://www.infomoney.com.br/politica/camara-conclui-votacao-da-mp-do-fgts-com-saque-de-ate-r-998-texto-segue-para-o-senado/\">• Câmara conclui votação da MP do FGTS com saque de até R$ 998; texto segue para o Senado</a></strong></p><p>Segundo o advogado Nelson Guimarães, sócio do escritório Bosisio Advogados, a MP mexe com pontos importantes que podem estimular ajuizamento de Ações Diretas de Inconstitucionalidade contra o pacote.</p><p>Um dos pontos sensíveis é a alteração da CLT para a inserção dos mecanismos do Contrato Verde Amarelo, que, segundo Guimarães, comprometem o princípio da isonomia. “Como o contrato cria uma categoria diferente de empregados, com alíquotas e regras diferenciadas, pode haver algum questionamento a respeito da constitucionalidade desses dispositivos”, explica o advogado.</p><p>Outro tópico frágil apontado pelo jurista é o Art. 15. da MP, que versa sobre seguro por exposição a acidentes.</p><p>O texto regulamenta que o empregador, mediante acordo com o trabalhador, pode contratar um seguro privado de acidentes pessoais e pagar 5% do adicional de periculosidade sobre o salário base do empregado, diferente dos 30% estabelecido pela lei para os trabalhadores do regime CLT.</p><div class=\"row justify-content-center\"><div class=\"container-ads-content RETANGULO_BF\"><div class=\"ads-label\">PUBLICIDADE</div><div class=\"RETANGULO_BF\" id=\"RETANGULO_BF\"><script>googletag.cmd.push(function() { googletag.display( decodeURIComponent( 'RETANGULO_BF' ) ); });showAdvertising( decodeURIComponent( 'RETANGULO_BF' ) );</script></div></div></div><p>A medida ainda estabelece que o adicional só será pago quando houver exposição permanente do trabalhador por, no mínimo, 50% da jornada normal de trabalho. A questão exposta, de acordo com Guimarães, contraria uma jurisprudência consolidada do Tribunal Superior do Trabalho (TST) a respeito do tema e subverte o próprio conceito de periculosidade.</p><p>“Segundo as normas regulamentadoras, o fato do trabalhador estar exposto a risco já lhe dar o direito ao adicional de periculosidade, desde que essa exposição não seja eventual. Esse direito independe da quantidade de tempo, porque o risco não escolhe horário para acontecer. Ao estabelecer um critério de tempo, a MP abre brechas para contestações”, diz Guimarães.</p><p>Para a advogada Maria Lúcia Benhame, sócia-fundadora do escritório Benhame Sociedade de Advogados, o texto não estabelece o que é periculosidade, dificultando a sua interpretação.</p><p>“A MP teria que definir melhor o que é condição perigosa nos seus termos para não gerar insegurança jurídica, porque você tem um ato jurídico que vai se prolongar além de uma possível validade que, eventualmente, possa ser cancelada ou alterada numa lei posterior”, explica a jurista.</p><p>Maria Lúcia observa que a medida pode contribuir com o objetivo do governo de gerar emprego, porque o empresário vai ter menos medo de contratar com os estímulos propostos. Mas pontua que o êxito do projeto parte da melhoria das condições econômicas.</p><p>“Do ponto de vista das empresas, a MP criou um ambiente em que é mais fácil e barato contratar e demitir, porque a multa do fundo está em 20% e o empresário recebeu outras contrapartidas. Então, caso a empresa esteja em um nicho de atividade econômica melhor, ela vai se sentir à vontade para contratar. Porém o que vai gerar emprego mesmo é o aquecimento da economia. Lei nenhuma cria emprego”, opina Benhame.</p><p>O governo também aproveitou a criação do Contrato de Trabalho Verde Amarelo para realizar novas modificações nas regras trabalhistas. Foram incluídas mudanças que reorganiza o sistema de fiscalização do trabalho, altera a legislação sobre a participação nos lucros e prêmios e amplia a jornada de trabalho dos bancários.</p><h2><b>Entenda as principais mudanças da MP na legislação trabalhista </b></h2><p> </p><h3><b>Alimentação </b></h3><p>O governo retirou do cálculo do salário o fornecimento de alimentação, seja in natura ou por meio de tickets, vales e cupons. Com a retirada da natureza salarial, o fornecimento passa a ser não tributável para efeito da contribuição previdenciária e dos demais tributos incidentes sobre a folha de salários, além de não integrar a base de cálculo do imposto de renda.</p><h3><b>Gorjeta </b></h3><p>As gorjetas destinadas aos trabalhadores farão parte da remuneração do empregado, sendo sua distribuição de rateio e custeio definidas em convenção ou acordo coletivo e o seu valor correspondente inseridos em nota fiscal.</p><p>O texto também estabelece que o percentual recebido deve ser anotado na carteira de trabalho dos empregadores e não constitui receita própria dos empregadores.</p><h3><b>Lucros e prêmios                </b></h3><p>A MP permite que as partes definam quais políticas devem ser adotadas e determina que o pagamento dos valores devem ser limitadas a quatro vezes por ano e, no máximo, uma por semestre.</p><h3><b>Armazenamento eletrônico</b></h3><p>Fica autorizado o armazenamento em meio eletrônico de documentos relativos a deveres e obrigações trabalhistas.</p><h3><b>FGTS </b></h3><p>Acaba com o adicional de 10% da multa rescisória sobre o FGTS pago pelas empresas em caso de demissão sem justa causa.</p><h3><b>Registro profissional</b></h3><p>O texto retira a exigência de registro de trabalho para profissões que não tenham conselhos ou ordens de classe, como jornalistas, arquivistas, publicitários e lavadores de carro. Além de revogar leis que regulamenta o exercício de profissões, entre elas: corretor de seguro e guardador e lavador de carros.</p><h3><b>Acordos</b></h3><p>Em execução desde a reforma trabalhista de Temer, o texto permite a execução de um acordo extrajudicial entre as partes, no encerramento do contrato.</p><h3><b>Bancários</b></h3><p>O governo estende até aos sábados o trabalho dos bancários, além de aumentar a carga horária de 6 para 8 horas diárias da categoria, exceto os trabalhadores que operam exclusivamente nos caixas em atendimento ao público.</p><h3><b>Trabalho aos domingos e feriados</b></h3><p>A MP retorna com a proposta do governo – retirada pelos senadores na MP da Liberdade Econômica, em agosto -, de autorizar o trabalho aos domingos e feriados para diversas categorias.</p><p>Para a indústria, a folga dominical deve acontecer uma vez no período máximo de sete semanas, enquanto o setor de comércios e serviços está garantido um domingo no período máximo de quatro semanas.</p><h3><b>Fiscalização</b></h3><p>O texto aumenta os valores das multas administrativas, aplicadas por auditores do trabalho, ordenando de acordo com gravidade da infração, porte da empresa e funcionários prejudicados.  O governo ainda implanta a dupla visita para situações de gradação leve. “Primeiro, o auditor-fiscal alerta para possíveis problemas, que só será convertida em multa em caso de reincidência”.</p><p><strong>Pense no seu futuro: invista. <em><a href=\"https://cadastro.xpi.com.br/passo/default/step1?utm_source=infomoney&amp;utm_campaign=materia-redacao&amp;utm_medium=link&amp;utm_content=pablo-santana&amp;utm_term=1360794\">Abra uma conta gratuita na XP.</a></em></strong></p> </div>]"
      ]
     },
     "execution_count": 22,
     "metadata": {},
     "output_type": "execute_result"
    }
   ],
   "source": [
    "text_div"
   ]
  },
  {
   "cell_type": "markdown",
   "metadata": {},
   "source": [
    "<p>Conseguimos extrair tudo que está dentro do <b>&lt;div&gt;...&lt;/div&gt;</b> da notícia, agora queremos extrair todo conteúdo importante de dentro dele. Inspecionando a página, vemos que existem parágrafos(<b>p</b>) e títulos menores (<b>h2 e h3</b>), então devemos procurar por eles fazendo uma lista <b>['p', 'h2', 'h3']</b> para buscar dentro de <b>'text_div'</b>:</p>"
   ]
  },
  {
   "cell_type": "code",
   "execution_count": 22,
   "metadata": {},
   "outputs": [],
   "source": [
    "# Extraindo o texto da notícia\n",
    "text = text_div[0].find_all(['p','h2', 'h3'])\n",
    "\n",
    "text"
   ]
  },
  {
   "cell_type": "markdown",
   "metadata": {},
   "source": [
    "<p>Pelo print podemos ver que conseguimos extrair todo o código que contém o texto na notícia, precisamos então retirar as tags e  extrair as strings</p>"
   ]
  },
  {
   "cell_type": "code",
   "execution_count": 24,
   "metadata": {},
   "outputs": [],
   "source": [
    "# Transformando o que achamos em string\n",
    "text_all = []\n",
    "for t in text:\n",
    "    text_all.append(t.text.strip())"
   ]
  },
  {
   "cell_type": "code",
   "execution_count": 25,
   "metadata": {
    "scrolled": true
   },
   "outputs": [
    {
     "data": {
      "text/plain": [
       "['SÃO PAULO – Instituída pelo presidente Jair Bolsonaro na última segunda-feira (11), a Medida Provisória 905/2019 altera pontos da legislação trabalhista e cria o Contrato de Trabalho Verde Amarelo, dando incentivos a empresas para contratar jovens entre 18 e 29 anos, sem experiência na carteira, pelo prazo determinado de dois anos.',\n",
       " 'Para bancar a iniciativa, o governo anunciou que irá taxar o seguro-desemprego. A estimativa oficial é de 1,8 milhão de vagas de emprego em um prazo de três anos.',\n",
       " 'Entre as principais condições criadas para incentivar as contratações na modalidade estão: isenção das alíquotas do Sistema S, do salário-educação e da contribuição patronal de 20%\\xa0 para o FGTS. As mudanças geram um corte de até 34% dos impostos pagos sobre a folha.',\n",
       " 'A MP também prevê para o Contrato Verde Amarelo a redução de 8% para 2% do valor do salário na contribuição do empregado para o Fundo do Tempo de Serviço (FGTS) e da multa de 40% para 20% – podendo ser resgatado também em casos de demissão por justa causa.Outra iniciativa é a antecipação de pagamentos, como férias, 13º salário e saldo do FGTS, podendo ser mensalmente resgatados, caso acordado entre empregado e empregador.',\n",
       " 'Leia também:• Câmara conclui votação da MP do FGTS com saque de até R$ 998; texto segue para o Senado',\n",
       " 'Segundo o advogado Nelson Guimarães, sócio do escritório Bosisio Advogados, a MP mexe com pontos importantes que podem estimular ajuizamento de Ações Diretas de Inconstitucionalidade contra o pacote.',\n",
       " 'Um dos pontos sensíveis é a alteração da CLT para a inserção dos mecanismos do Contrato Verde Amarelo, que, segundo Guimarães, comprometem o princípio da isonomia. “Como o contrato cria uma categoria diferente de empregados, com alíquotas e regras diferenciadas, pode haver algum questionamento a respeito da constitucionalidade desses dispositivos”, explica o advogado.',\n",
       " 'Outro tópico frágil apontado pelo jurista é o Art. 15. da MP, que versa sobre seguro por exposição a acidentes.',\n",
       " 'O texto regulamenta que o empregador, mediante acordo com o trabalhador, pode contratar um seguro privado de acidentes pessoais e pagar 5% do adicional de periculosidade sobre o salário base do empregado, diferente dos 30% estabelecido pela lei para os trabalhadores do regime CLT.',\n",
       " 'A medida ainda estabelece que o adicional só será pago quando houver exposição permanente do trabalhador por, no mínimo, 50% da jornada normal de trabalho. A questão exposta, de acordo com Guimarães, contraria uma jurisprudência consolidada do Tribunal Superior do Trabalho (TST) a respeito do tema e subverte o próprio conceito de periculosidade.',\n",
       " '“Segundo as normas regulamentadoras, o fato do trabalhador estar exposto a risco já lhe dar o direito ao adicional de periculosidade, desde que essa exposição não seja eventual. Esse direito independe da quantidade de tempo, porque o risco não escolhe horário para acontecer. Ao estabelecer um critério de tempo, a MP abre brechas para contestações”, diz Guimarães.',\n",
       " 'Para a advogada Maria Lúcia Benhame, sócia-fundadora do escritório Benhame Sociedade de Advogados, o texto não estabelece o que é periculosidade, dificultando a sua interpretação.',\n",
       " '“A MP teria que definir melhor o que é condição perigosa nos seus termos para não gerar insegurança jurídica, porque você tem um ato jurídico que vai se prolongar além de uma possível validade que, eventualmente, possa ser cancelada ou alterada numa lei posterior”, explica a jurista.',\n",
       " 'Maria Lúcia observa que a medida pode contribuir com o objetivo do governo de gerar emprego, porque o empresário vai ter menos medo de contratar com os estímulos propostos. Mas pontua que o êxito do projeto parte da melhoria das condições econômicas.',\n",
       " '“Do ponto de vista das empresas, a MP criou um ambiente em que é mais fácil e barato contratar e demitir, porque a multa do fundo está em 20% e o empresário recebeu outras contrapartidas. Então, caso a empresa esteja em um nicho de atividade econômica melhor, ela vai se sentir à vontade para contratar. Porém o que vai gerar emprego mesmo é o aquecimento da economia. Lei nenhuma cria emprego”, opina Benhame.',\n",
       " 'O governo também aproveitou a criação do Contrato de Trabalho Verde Amarelo para realizar novas modificações nas regras trabalhistas. Foram incluídas mudanças que reorganiza o sistema de fiscalização do trabalho, altera a legislação sobre a participação nos lucros e prêmios e amplia a jornada de trabalho dos bancários.',\n",
       " 'Entenda as principais mudanças da MP na legislação trabalhista',\n",
       " '',\n",
       " 'Alimentação',\n",
       " 'O governo retirou do cálculo do salário o fornecimento de alimentação, seja in natura ou por meio de tickets, vales e cupons. Com a retirada da natureza salarial, o fornecimento passa a ser não tributável para efeito da contribuição previdenciária e dos demais tributos incidentes sobre a folha de salários, além de não integrar a base de cálculo do imposto de renda.',\n",
       " 'Gorjeta',\n",
       " 'As gorjetas destinadas aos trabalhadores farão parte da remuneração do empregado, sendo sua distribuição de rateio e custeio definidas em convenção ou acordo coletivo e o seu valor correspondente inseridos em nota fiscal.',\n",
       " 'O texto também estabelece que o percentual recebido deve ser anotado na carteira de trabalho dos empregadores e não constitui receita própria dos empregadores.',\n",
       " 'Lucros e prêmios',\n",
       " 'A MP permite que as partes definam quais políticas devem ser adotadas e determina que o pagamento dos valores devem ser limitadas a quatro vezes por ano e, no máximo, uma por semestre.',\n",
       " 'Armazenamento eletrônico',\n",
       " 'Fica autorizado o armazenamento em meio eletrônico de documentos relativos a deveres e obrigações trabalhistas.',\n",
       " 'FGTS',\n",
       " 'Acaba com o adicional de 10% da multa rescisória sobre o FGTS pago pelas empresas em caso de demissão sem justa causa.',\n",
       " 'Registro profissional',\n",
       " 'O texto retira a exigência de registro de trabalho para profissões que não tenham conselhos ou ordens de classe, como jornalistas, arquivistas, publicitários e lavadores de carro. Além de revogar leis que regulamenta o exercício de profissões, entre elas: corretor de seguro e guardador e lavador de carros.',\n",
       " 'Acordos',\n",
       " 'Em execução desde a reforma trabalhista de Temer, o texto permite a execução de um acordo extrajudicial entre as partes, no encerramento do contrato.',\n",
       " 'Bancários',\n",
       " 'O governo estende até aos sábados o trabalho dos bancários, além de aumentar a carga horária de 6 para 8 horas diárias da categoria, exceto os trabalhadores que operam exclusivamente nos caixas em atendimento ao público.',\n",
       " 'Trabalho aos domingos e feriados',\n",
       " 'A MP retorna com a proposta do governo – retirada pelos senadores na MP da Liberdade Econômica, em agosto -, de autorizar o trabalho aos domingos e feriados para diversas categorias.',\n",
       " 'Para a indústria, a folga dominical deve acontecer uma vez no período máximo de sete semanas, enquanto o setor de comércios e serviços está garantido um domingo no período máximo de quatro semanas.',\n",
       " 'Fiscalização',\n",
       " 'O texto aumenta os valores das multas administrativas, aplicadas por auditores do trabalho, ordenando de acordo com gravidade da infração, porte da empresa e funcionários prejudicados.\\xa0 O governo ainda implanta a dupla visita para situações de gradação leve. “Primeiro, o auditor-fiscal alerta para possíveis problemas, que só será convertida em multa em caso de reincidência”.',\n",
       " 'Pense no seu futuro: invista. Abra uma conta gratuita na XP.']"
      ]
     },
     "execution_count": 25,
     "metadata": {},
     "output_type": "execute_result"
    }
   ],
   "source": [
    "text_all"
   ]
  },
  {
   "cell_type": "markdown",
   "metadata": {},
   "source": [
    "<p>Anlisando diversar noticias do <b>InfoMoney</b>, podemos ver que a última linha sempre se refere a algum anúncio do próprio site e que acaba passando no nosso filtro, então podemos retira-lá manualmente</p>"
   ]
  },
  {
   "cell_type": "code",
   "execution_count": 26,
   "metadata": {},
   "outputs": [],
   "source": [
    "text_all = text_all[:len(text_all)-1]"
   ]
  },
  {
   "cell_type": "code",
   "execution_count": null,
   "metadata": {},
   "outputs": [],
   "source": []
  },
  {
   "cell_type": "markdown",
   "metadata": {},
   "source": [
    "<p>Assim, conseguimos extrair o título, subtítulo e texto da página com poucas linhas de código. Podemos usar exatamente o mesmo código para extrair outra notícia do <b>InfoMoney</b>:</p>"
   ]
  },
  {
   "cell_type": "markdown",
   "metadata": {},
   "source": [
    "<p><b>url</b> = <b style=\"color:blue;\">https://www.infomoney.com.br/mercados/com-producao-duplicada-taurus-quer-novos-mercados-para-as-suas-armas/</b></p>"
   ]
  },
  {
   "cell_type": "code",
   "execution_count": 23,
   "metadata": {
    "scrolled": true
   },
   "outputs": [
    {
     "name": "stdout",
     "output_type": "stream",
     "text": [
      "Título:  Com produção duplicada, Taurus quer novos mercados para as suas armas\n",
      "Subtítulo:  De janeiro a setembro deste ano, a receita líquida da companhia alcançou R$ 727,4 milhões\n",
      "Texto: \n",
      " ['(Bloomberg) — A Taurus (TASA3; TASA4) terá sua capacidade produtiva duplicada das atuais 400 mil unidades por ano para 800 mil no início de 2020 com a nova fábrica que inaugura nos Estados Unidos no próximo mês. A planta atenderá o mercado americano — o maior do mundo em consumo de armas — e canadense, mas também permitirá à empresa expandir a presença em novas regiões.', 'A companhia já exporta para mais de 100 países, embora os Estados Unidos respondam por 80% da receita. Essa fatia deve ser reduzida para entre 60% e 70%, mesmo com aumento do market share naquele país, disse Salesio Nuhs, presidente da Taurus, em entrevista por telefone.', '“Qualquer fabricante de armas do mundo terá sempre os EUA como maior mercado”, disse. Mas a Taurus quer ser “mais agressiva” no cenário global. Faz parte dos planos, inclusive, lançar o revólver de menor custo do mundo em 2020.', 'Um dos novos mercados em estudo é a Índia, onde a Taurus negocia uma joint venture dentro de um programa do governo daquele país na área de defesa. O programa prevê que 51% do capital da joint venture seja propriedade de uma empresa indiana ainda não definida, que será responsável por implantar uma fábrica de armas naquele país. Os estudos devem ser concluídos no quarto trimestre, de acordo com Nuhs.', 'No Brasil, onde os decretos para a posse de armas foram regulamentados nesta semana, o crescimento das vendas deve ser paulatino, segundo o executivo, por questões culturais. “O Brasil, pelas suas dimensões, vai ter um crescimento, mas não será uma escalada. Tem de haver um amadurecimento cultural”, disse.', 'A fábrica brasileira da Taurus não tem ociosidade, segundo o Nuhs, e exporta cerca de 85% do volume produzido. Mas a demanda brasileira que surgir com os novos decretos “terá prioridade”, disse o presidente da empresa.', 'De janeiro a setembro deste ano, a receita líquida da companhia alcançou R$ 727,4 milhões, uma alta de 17% em relação ao mesmo período do ano passado. A fabricante reverteu um prejuízo em 9 meses de 2018 para um lucro de R$ 21,3 milhões no acumulado deste ano.']\n"
     ]
    }
   ],
   "source": [
    "# Request da página\n",
    "url = 'https://www.infomoney.com.br/mercados/com-producao-duplicada-taurus-quer-novos-mercados-para-as-suas-armas/'\n",
    "response = requests.get(url)\n",
    "\n",
    "# HTML organizado pelo bs4\n",
    "html = BeautifulSoup(response.text, \"html.parser\")\n",
    "\n",
    "# Extração do título\n",
    "titulo = html.find_all(attrs={'class': 'page-title-1'})\n",
    "titulo = titulo[0].text\n",
    "\n",
    "# Extração do subtítulo\n",
    "subtitulo = html.find_all(attrs={'class': 'article-lead'})\n",
    "subtitulo = subtitulo[0].text\n",
    "\n",
    "# Extração do texto\n",
    "text_div = html.findAll('div', attrs = {'class': 'col-md-9 col-lg-8 col-xl-6 m-sm-auto m-lg-0 article-content'})\n",
    "text = text_div[0].find_all(['p','h2', 'h3'])\n",
    "text_all = []\n",
    "for t in text:\n",
    "    text_all.append(t.text.strip())\n",
    "\n",
    "text_all = text_all[:len(text_all)-1]\n",
    "\n",
    "# Resultado final\n",
    "print('Título: ', titulo)\n",
    "print('Subtítulo: ', subtitulo)\n",
    "print('Texto: \\n', text_all)"
   ]
  },
  {
   "cell_type": "markdown",
   "metadata": {},
   "source": [
    "<p>_______________________________________________________________________________________________________________________</p>"
   ]
  },
  {
   "cell_type": "markdown",
   "metadata": {},
   "source": [
    "<h3 id='parte-3c2' style=\"color:green;\">c.2. Extraindo listas</h3>"
   ]
  },
  {
   "cell_type": "markdown",
   "metadata": {},
   "source": [
    "<p><b>url</b> = <b style=\"color:blue;\">https://www.infomoney.com.br/negocios/expert-estreia-em-sc-com-debate-sobre-investimentos-na-nova-realidade-de-juros-no-brasil/</b></p>"
   ]
  },
  {
   "cell_type": "markdown",
   "metadata": {},
   "source": [
    "<p>Assim como texto, não é difícil extrair listas, apenas é preciso saber onde ela se encontra na página. Como exemplo usaremos outra notícia do <b>InfoMoney</b>, mas iremos extrair apenas a lista contida nela</p>"
   ]
  },
  {
   "cell_type": "markdown",
   "metadata": {},
   "source": [
    "<img src=\"./imagens/infomoney-lista.png\" />"
   ]
  },
  {
   "cell_type": "markdown",
   "metadata": {},
   "source": [
    "<p>Vamos usar as seguintes informações na nossa busca e extração:</p>\n",
    "\n",
    "<ul>\n",
    "    <li>A lista está contida em um <b>&lt;div&gt;...&lt;/div&gt;</b> com <b>class='col-md-9 col-lg-8 col-xl-6 m-sm-auto m-lg-0 article-content';</b></li>\n",
    "    <li>Após extrairmos o <b>&lt;div&gt;...&lt;/div&gt;</b> desejado, queremos apenas o que está dentro de <b>&lt;ul&gt;...&lt;/ul&gt;</b> e, logo em seguida, o que está dentro de cada <b>&lt;li&gt;...&lt;/li&gt;</b>.</li>\n",
    "</ul>"
   ]
  },
  {
   "cell_type": "code",
   "execution_count": 28,
   "metadata": {},
   "outputs": [
    {
     "data": {
      "text/plain": [
       "['Guilherme Benchimol, CEO do XP Inc.',\n",
       " 'Gabriel Leal, sócio e diretor comercial da XP Investimentos',\n",
       " 'Ricardo Amorim, economista',\n",
       " 'Thiago Nigro, fundador do canal Primo Rico',\n",
       " 'Karel Luketic, head de análise da XP Investimentos',\n",
       " 'Zeina Latif, sócia e economista-chefe da XP Investimentos',\n",
       " 'Rogério Carvalho, sócio e responsável pelo B2B do XP Inc.',\n",
       " 'Thiago Salomão, analista de ações da Rico Investimentos',\n",
       " 'João Braga, sócio e gestor da XP Gestão',\n",
       " 'Amyr Klink, navegador brasileiro',\n",
       " 'Luiz Fux, ministro do Supremo Tribunal Federal (STF)',\n",
       " 'José Galló, Presidente do Conselho de Administração das Lojas Renner',\n",
       " 'Demétrio Magnoli, colunista e comentarista político',\n",
       " 'Luciano Hang, empresário e sócio fundador da loja Havan']"
      ]
     },
     "execution_count": 28,
     "metadata": {},
     "output_type": "execute_result"
    }
   ],
   "source": [
    "# Request da página\n",
    "url = 'https://www.infomoney.com.br/negocios/expert-estreia-em-sc-com-debate-sobre-investimentos-na-nova-realidade-de-juros-no-brasil/'\n",
    "response = requests.get(url)\n",
    "\n",
    "# HTML organizado pelo bs4\n",
    "html = BeautifulSoup(response.text, \"html.parser\")\n",
    "\n",
    "# Extração da lista\n",
    "text_div = html.findAll('div', attrs = {'class': 'col-md-9 col-lg-8 col-xl-6 m-sm-auto m-lg-0 article-content'})\n",
    "lista_ul = text_div[0].find_all('ul')\n",
    "lista = lista_ul[0].find_all('li')\n",
    "\n",
    "lista_all = []\n",
    "for l in lista:\n",
    "    lista_all.append(l.text.strip())\n",
    "\n",
    "lista_all"
   ]
  },
  {
   "cell_type": "markdown",
   "metadata": {},
   "source": [
    "<p>_______________________________________________________________________________________________________________________</p>"
   ]
  },
  {
   "cell_type": "markdown",
   "metadata": {},
   "source": [
    "<h4 id='parte-3c33' style=\"color:brown;\">c.3.3. Extraindo tabelas</h4>"
   ]
  },
  {
   "cell_type": "markdown",
   "metadata": {},
   "source": [
    "<p><b>url</b> = <b style=\"color:blue;\">https://www.infomoney.com.br/ferramentas/cambio/</b></p>"
   ]
  },
  {
   "cell_type": "markdown",
   "metadata": {},
   "source": [
    "<p>Usaremos a biblioteca <b>Pandas</b> para criar um DataFrame da tabela extraída</p>"
   ]
  },
  {
   "cell_type": "code",
   "execution_count": 28,
   "metadata": {},
   "outputs": [],
   "source": [
    "import pandas as pd"
   ]
  },
  {
   "cell_type": "markdown",
   "metadata": {},
   "source": [
    "<p>Para esse exemplo vamos usar a página de câmbio que está no <b>InfoMoney</b>:</p>"
   ]
  },
  {
   "cell_type": "code",
   "execution_count": 32,
   "metadata": {},
   "outputs": [],
   "source": [
    "# Request da página\n",
    "url = 'https://www.infomoney.com.br/ferramentas/cambio/'\n",
    "response = requests.get(url)\n",
    "\n",
    "# HTML organizado pelo bs4\n",
    "html = BeautifulSoup(response.text, \"html.parser\")"
   ]
  },
  {
   "cell_type": "markdown",
   "metadata": {},
   "source": [
    "<img src=\"./imagens/infomoney-tabela2.png\" />"
   ]
  },
  {
   "cell_type": "markdown",
   "metadata": {},
   "source": [
    "<p>Vamos usar as seguintes informações na nossa busca e extração:</p>\n",
    "\n",
    "<ul>\n",
    "    <li>A tabela está contida em um <b>&lt;div&gt;...&lt;/div&gt;</b> com <b>id='container_table'</b>. Como <b>id</b>s são únicos, não corremos o risco de pegar informações erradas;</li>\n",
    "    <li>Após extrairmos o <b>&lt;div&gt;...&lt;/div&gt;</b> desejado, queremos apenas o que está dentro de <b>&lt;table&gt;...&lt;/table&gt;</b>.</li>\n",
    "</ul>"
   ]
  },
  {
   "cell_type": "code",
   "execution_count": 33,
   "metadata": {
    "scrolled": true
   },
   "outputs": [
    {
     "data": {
      "text/plain": [
       "[<table class=\"default-table\">\n",
       " <thead>\n",
       " <tr>\n",
       " <th>Moeda</th>\n",
       " <th></th>\n",
       " <th>Compra</th>\n",
       " <th>Venda</th>\n",
       " <th>Var(%)</th>\n",
       " </tr>\n",
       " </thead>\n",
       " <tbody>\n",
       " <tr>\n",
       " <td>Peso Argentino</td>\n",
       " <td><img alt=\"Peso Argentino\" src=\"https://www.infomoney.com.br/wp-content/themes/infomoney/assets/img/ar.png\"/></td>\n",
       " <td>n/d</td>\n",
       " <td>n/d</td>\n",
       " <td class=\"negative\">0,00</td>\n",
       " </tr>\n",
       " <tr>\n",
       " <td>Dólar Australiano</td>\n",
       " <td><img alt=\"Dólar Australiano\" src=\"https://www.infomoney.com.br/wp-content/themes/infomoney/assets/img/au.png\"/></td>\n",
       " <td>2,866</td>\n",
       " <td>2,867</td>\n",
       " <td class=\"positive\">0,05</td>\n",
       " </tr>\n",
       " <tr>\n",
       " <td>Dólar Canadense</td>\n",
       " <td><img alt=\"Dólar Canadense\" src=\"https://www.infomoney.com.br/wp-content/themes/infomoney/assets/img/ca.png\"/></td>\n",
       " <td>3,181</td>\n",
       " <td>3,182</td>\n",
       " <td class=\"positive\">0,51</td>\n",
       " </tr>\n",
       " <tr>\n",
       " <td>Franco Suíço</td>\n",
       " <td><img alt=\"Franco Suíço\" src=\"https://www.infomoney.com.br/wp-content/themes/infomoney/assets/img/su.png\"/></td>\n",
       " <td>4,251</td>\n",
       " <td>4,253</td>\n",
       " <td class=\"positive\">0,39</td>\n",
       " </tr>\n",
       " <tr>\n",
       " <td>Dólar Comercial</td>\n",
       " <td><img alt=\"Dólar Comercial\" src=\"https://www.infomoney.com.br/wp-content/themes/infomoney/assets/img/us.png\"/></td>\n",
       " <td>4,197</td>\n",
       " <td>4,198</td>\n",
       " <td class=\"negative\">-0,19</td>\n",
       " </tr>\n",
       " <tr>\n",
       " <td>Dólar Turismo</td>\n",
       " <td><img alt=\"Dólar Turismo\" src=\"https://www.infomoney.com.br/wp-content/themes/infomoney/assets/img/us.png\"/></td>\n",
       " <td>4,030</td>\n",
       " <td>4,370</td>\n",
       " <td class=\"negative\">0,00</td>\n",
       " </tr>\n",
       " <tr>\n",
       " <td>Euro</td>\n",
       " <td><img alt=\"Euro\" src=\"https://www.infomoney.com.br/wp-content/themes/infomoney/assets/img/eu.png\"/></td>\n",
       " <td>n/d</td>\n",
       " <td>n/d</td>\n",
       " <td class=\"negative\">0,00</td>\n",
       " </tr>\n",
       " <tr>\n",
       " <td>Libra Esterlina</td>\n",
       " <td><img alt=\"Libra Esterlina\" src=\"https://www.infomoney.com.br/wp-content/themes/infomoney/assets/img/gb.png\"/></td>\n",
       " <td>5,441</td>\n",
       " <td>5,444</td>\n",
       " <td class=\"positive\">0,37</td>\n",
       " </tr>\n",
       " <tr>\n",
       " <td>Iene</td>\n",
       " <td><img alt=\"Iene\" src=\"https://www.infomoney.com.br/wp-content/themes/infomoney/assets/img/jp.png\"/></td>\n",
       " <td>n/d</td>\n",
       " <td>n/d</td>\n",
       " <td class=\"negative\">0,00</td>\n",
       " </tr>\n",
       " </tbody>\n",
       " </table>]"
      ]
     },
     "execution_count": 33,
     "metadata": {},
     "output_type": "execute_result"
    }
   ],
   "source": [
    "# Extração da tabela\n",
    "table_div = html.findAll(attrs = {'id': 'container_table'})\n",
    "table = table_div[0].findAll('table')\n",
    "\n",
    "table"
   ]
  },
  {
   "cell_type": "markdown",
   "metadata": {},
   "source": [
    "<p>Devemos utilizar o método <b>'.read_html()'</b> do Pandas para organizar a tabela em um DataFrame. Como a tabela está com <b>'vírgula'</b> devemos substituir por <b>'ponto'</b> usando o método <b>'.replace()'</b>. Por fim, podemos retirar a segunda coluna da base pelo próprio pandas, já que ela representa imagem de bandeiras no código HTML e não nos interessa no final.</p>"
   ]
  },
  {
   "cell_type": "code",
   "execution_count": 34,
   "metadata": {},
   "outputs": [
    {
     "data": {
      "text/html": [
       "<div>\n",
       "<style scoped>\n",
       "    .dataframe tbody tr th:only-of-type {\n",
       "        vertical-align: middle;\n",
       "    }\n",
       "\n",
       "    .dataframe tbody tr th {\n",
       "        vertical-align: top;\n",
       "    }\n",
       "\n",
       "    .dataframe thead th {\n",
       "        text-align: right;\n",
       "    }\n",
       "</style>\n",
       "<table border=\"1\" class=\"dataframe\">\n",
       "  <thead>\n",
       "    <tr style=\"text-align: right;\">\n",
       "      <th></th>\n",
       "      <th>Moeda</th>\n",
       "      <th>Compra</th>\n",
       "      <th>Venda</th>\n",
       "      <th>Var(%)</th>\n",
       "    </tr>\n",
       "  </thead>\n",
       "  <tbody>\n",
       "    <tr>\n",
       "      <th>0</th>\n",
       "      <td>Peso Argentino</td>\n",
       "      <td>n/d</td>\n",
       "      <td>n/d</td>\n",
       "      <td>0.00</td>\n",
       "    </tr>\n",
       "    <tr>\n",
       "      <th>1</th>\n",
       "      <td>Dólar Australiano</td>\n",
       "      <td>2.866</td>\n",
       "      <td>2.867</td>\n",
       "      <td>0.05</td>\n",
       "    </tr>\n",
       "    <tr>\n",
       "      <th>2</th>\n",
       "      <td>Dólar Canadense</td>\n",
       "      <td>3.181</td>\n",
       "      <td>3.182</td>\n",
       "      <td>0.51</td>\n",
       "    </tr>\n",
       "    <tr>\n",
       "      <th>3</th>\n",
       "      <td>Franco Suíço</td>\n",
       "      <td>4.251</td>\n",
       "      <td>4.253</td>\n",
       "      <td>0.39</td>\n",
       "    </tr>\n",
       "    <tr>\n",
       "      <th>4</th>\n",
       "      <td>Dólar Comercial</td>\n",
       "      <td>4.197</td>\n",
       "      <td>4.198</td>\n",
       "      <td>-0.19</td>\n",
       "    </tr>\n",
       "    <tr>\n",
       "      <th>5</th>\n",
       "      <td>Dólar Turismo</td>\n",
       "      <td>4.030</td>\n",
       "      <td>4.370</td>\n",
       "      <td>0.00</td>\n",
       "    </tr>\n",
       "    <tr>\n",
       "      <th>6</th>\n",
       "      <td>Euro</td>\n",
       "      <td>n/d</td>\n",
       "      <td>n/d</td>\n",
       "      <td>0.00</td>\n",
       "    </tr>\n",
       "    <tr>\n",
       "      <th>7</th>\n",
       "      <td>Libra Esterlina</td>\n",
       "      <td>5.441</td>\n",
       "      <td>5.444</td>\n",
       "      <td>0.37</td>\n",
       "    </tr>\n",
       "    <tr>\n",
       "      <th>8</th>\n",
       "      <td>Iene</td>\n",
       "      <td>n/d</td>\n",
       "      <td>n/d</td>\n",
       "      <td>0.00</td>\n",
       "    </tr>\n",
       "  </tbody>\n",
       "</table>\n",
       "</div>"
      ],
      "text/plain": [
       "               Moeda Compra  Venda  Var(%)\n",
       "0  Peso Argentino     n/d    n/d    0.00  \n",
       "1  Dólar Australiano  2.866  2.867  0.05  \n",
       "2  Dólar Canadense    3.181  3.182  0.51  \n",
       "3  Franco Suíço       4.251  4.253  0.39  \n",
       "4  Dólar Comercial    4.197  4.198 -0.19  \n",
       "5  Dólar Turismo      4.030  4.370  0.00  \n",
       "6  Euro               n/d    n/d    0.00  \n",
       "7  Libra Esterlina    5.441  5.444  0.37  \n",
       "8  Iene               n/d    n/d    0.00  "
      ]
     },
     "execution_count": 34,
     "metadata": {},
     "output_type": "execute_result"
    }
   ],
   "source": [
    "# Transformando <table>...</table> em um DataFrame\n",
    "df = pd.read_html(str(table[0]).replace(',', '.'))[0]\n",
    "\n",
    "# Retirando a segunda coluna\n",
    "df = df.drop(df.columns[1], axis=1)\n",
    "\n",
    "# Resultado final\n",
    "df"
   ]
  },
  {
   "cell_type": "markdown",
   "metadata": {},
   "source": [
    "<p>_______________________________________________________________________________________________________________________</p>"
   ]
  },
  {
   "cell_type": "markdown",
   "metadata": {},
   "source": [
    "<h4 id='parte-3c34' style=\"color:brown;\">c.4.4 Extraindo lista de links</h4>"
   ]
  },
  {
   "cell_type": "markdown",
   "metadata": {},
   "source": [
    "<p><b>url</b> = <b style=\"color:blue;\">https://www.infomoney.com.br/</b></p>"
   ]
  },
  {
   "cell_type": "markdown",
   "metadata": {},
   "source": [
    "<p>Muitas vezes precisamos extrair uma lista de links, tanto para automatizar o processo de extrair texto de diversas notícias, como para baixar documentos que estejam contidos na web(pdf, csv, etc...)</p>"
   ]
  },
  {
   "cell_type": "markdown",
   "metadata": {},
   "source": [
    "<p> Como explicado anteriormente, esses links são armazenados em tags usando o atributo <b>'href'</b>, então o que precisamos fazer é apenas encontrar o atributo dentro do nosso código HTML para poder extrair a lista de links desejada</p>"
   ]
  },
  {
   "cell_type": "markdown",
   "metadata": {},
   "source": [
    "<p>Como exemplo, pegaremos a página inicial do <b>InfoMoney</b> e iremos extrair o link e o título de todas as notícias da página principal:</p>"
   ]
  },
  {
   "cell_type": "code",
   "execution_count": 72,
   "metadata": {},
   "outputs": [],
   "source": [
    "# Request da página\n",
    "url = 'https://www.infomoney.com.br/'\n",
    "response = requests.get(url)\n",
    "\n",
    "# HTML organizado pelo bs4\n",
    "html = BeautifulSoup(response.text, \"html.parser\")"
   ]
  },
  {
   "cell_type": "markdown",
   "metadata": {},
   "source": [
    "<p>Inspecionando o código fonte, podemos ver que todas as notícias possuem <b>class='hl-title hl-title-x'</b> na tag <b>&lt;span&gt;...&lt;/span&gt;</b>, onde x varia de 3 a 7. Então é só buscarmos por classes que contenham pelo menos <b>'hl-title'</b>. Essa é outra característica da busca, não precisamos colocar o nome inteiro da classe:<p>"
   ]
  },
  {
   "cell_type": "code",
   "execution_count": 73,
   "metadata": {},
   "outputs": [
    {
     "data": {
      "text/plain": [
       "<span class=\"hl-title hl-title-2\">\n",
       "<a href=\"https://www.infomoney.com.br/mercados/com-a-b3-fechada-indice-de-adrs-brasileiros-sobe-na-bolsa-de-nova-york/\" title=\"Com a B3 fechada, índice de ADRs brasileiros sobe na Bolsa de Nova York\">Com a B3 fechada, índice de ADRs brasileiros sobe na Bolsa de Nova York</a>\n",
       "</span>"
      ]
     },
     "execution_count": 73,
     "metadata": {},
     "output_type": "execute_result"
    }
   ],
   "source": [
    "# Extraindo o span de todas as notícias\n",
    "span = html.find_all(attrs={'class': ['hl-title']})\n",
    "\n",
    "# Exemplo de notícia\n",
    "span[0]"
   ]
  },
  {
   "cell_type": "markdown",
   "metadata": {},
   "source": [
    "<p>Veja que no exemplo do <b>'span[0]'</b>, há a tag <b>&lt;a...&gt;</b> com os atributos <b>href</b> e <b>title</b>, exatamente o que queremos extrair</p>"
   ]
  },
  {
   "cell_type": "markdown",
   "metadata": {},
   "source": [
    "<p>Em seguida, rodamos um loop por cada <b>&lt;span&gt;...&lt;/span&gt;</b> encontrado, extraímos a tag <b>&lt;a&gt;...&lt;/a&gt;</b> usando o método <b>'.find()'</b> e, por fim, extraímos o <b>href</b>(link) e o título da notícia usando o método <b>'.get()'</b>:</p>"
   ]
  },
  {
   "cell_type": "code",
   "execution_count": 74,
   "metadata": {},
   "outputs": [],
   "source": [
    "titulos = []\n",
    "links = []\n",
    "for s in span:\n",
    "    # Em cada span, extraimos a tag 'a'\n",
    "    a_tag = s.find('a')\n",
    "    # Com o método '.get()', conseguimos extrair o link e o titulo em a_tag\n",
    "    links.append(a_tag.get('href').strip())\n",
    "    titulos.append(a_tag.get('title').strip())"
   ]
  },
  {
   "cell_type": "markdown",
   "metadata": {},
   "source": [
    "<p>Organizando num DataFrame, teremos:</p>"
   ]
  },
  {
   "cell_type": "code",
   "execution_count": 47,
   "metadata": {},
   "outputs": [],
   "source": [
    "df = pd.DataFrame({'Titulo': titulos, 'Link': links})"
   ]
  },
  {
   "cell_type": "code",
   "execution_count": 48,
   "metadata": {},
   "outputs": [
    {
     "data": {
      "text/html": [
       "<div>\n",
       "<style scoped>\n",
       "    .dataframe tbody tr th:only-of-type {\n",
       "        vertical-align: middle;\n",
       "    }\n",
       "\n",
       "    .dataframe tbody tr th {\n",
       "        vertical-align: top;\n",
       "    }\n",
       "\n",
       "    .dataframe thead th {\n",
       "        text-align: right;\n",
       "    }\n",
       "</style>\n",
       "<table border=\"1\" class=\"dataframe\">\n",
       "  <thead>\n",
       "    <tr style=\"text-align: right;\">\n",
       "      <th></th>\n",
       "      <th>Titulo</th>\n",
       "      <th>Link</th>\n",
       "    </tr>\n",
       "  </thead>\n",
       "  <tbody>\n",
       "    <tr>\n",
       "      <th>0</th>\n",
       "      <td>Com a B3 fechada, índice de ADRs brasileiros sobe na Bolsa de Nova York</td>\n",
       "      <td>https://www.infomoney.com.br/mercados/com-a-b3-fechada-indice-de-adrs-brasileiros-sobe-na-bolsa-de-nova-york/</td>\n",
       "    </tr>\n",
       "    <tr>\n",
       "      <th>1</th>\n",
       "      <td>Por que a CVC perdeu R$ 1,89 bilhão em valor em uma semana?</td>\n",
       "      <td>https://www.infomoney.com.br/mercados/por-que-a-cvc-perdeu-r-189-bilhao-em-valor-de-mercado-em-uma-semana/</td>\n",
       "    </tr>\n",
       "    <tr>\n",
       "      <th>2</th>\n",
       "      <td>Ambev: os grandes desafios que o novo CEO terá no comando</td>\n",
       "      <td>https://www.infomoney.com.br/mercados/ambev-os-grandes-desafios-que-o-novo-presidente-tera-no-comando-da-gigante-de-bebidas/</td>\n",
       "    </tr>\n",
       "    <tr>\n",
       "      <th>3</th>\n",
       "      <td>Petrobras pode virar maior produtora de petróleo do mundo até 2030</td>\n",
       "      <td>https://www.infomoney.com.br/mercados/petrobras-pode-se-tornar-maior-produtora-de-petroleo-do-mundo-ate-2030/</td>\n",
       "    </tr>\n",
       "    <tr>\n",
       "      <th>4</th>\n",
       "      <td>STF analisa uso de dados em definição que impacta caso Queiroz</td>\n",
       "      <td>https://www.infomoney.com.br/politica/decisao-do-stf-sobre-coaf-impacta-caso-queiroz-e-outras-934-investigacoes/</td>\n",
       "    </tr>\n",
       "    <tr>\n",
       "      <th>5</th>\n",
       "      <td>Com menos recursos do FGTS, médio padrão entra na mira de construtoras</td>\n",
       "      <td>https://www.infomoney.com.br/negocios/com-menos-recursos-do-fgts-medio-padrao-entra-na-mira-de-construtoras/</td>\n",
       "    </tr>\n",
       "    <tr>\n",
       "      <th>6</th>\n",
       "      <td>Reforma focará em tributação do IR, inclusive lucros e dividendos, diz secretário da Receita</td>\n",
       "      <td>https://www.infomoney.com.br/minhas-financas/reforma-focara-em-tributacao-do-ir-inclusive-lucros-e-dividendos-diz-tostes/</td>\n",
       "    </tr>\n",
       "    <tr>\n",
       "      <th>7</th>\n",
       "      <td>2 oportunidades para aproveitar e 5 ciladas para escapar</td>\n",
       "      <td>https://www.infomoney.com.br/consumo/black-friday-2-oportunidades-para-aproveitar-e-5-ciladas-para-escapar/</td>\n",
       "    </tr>\n",
       "    <tr>\n",
       "      <th>8</th>\n",
       "      <td>Dona do Frango Assado, Pizza Hut e KFC vai abrir 415 lojas no Brasil</td>\n",
       "      <td>https://www.infomoney.com.br/negocios/dona-do-frango-assado-pizza-hut-e-kfc-vai-abrir-415-lojas-no-brasil/</td>\n",
       "    </tr>\n",
       "    <tr>\n",
       "      <th>9</th>\n",
       "      <td>Como a Vale enfrenta Brumadinho e por que analistas estão otimistas</td>\n",
       "      <td>https://www.infomoney.com.br/mercados/como-a-vale-esta-enfrentando-os-efeitos-de-brumadinho-e-por-que-os-analistas-estao-otimistas/</td>\n",
       "    </tr>\n",
       "    <tr>\n",
       "      <th>10</th>\n",
       "      <td>Dafiti lança débito apostando em crescimento, mas especialistas veem potencial limitado</td>\n",
       "      <td>https://www.infomoney.com.br/negocios/dafiti-lanca-debito-apostando-em-crescimento-especialistas-veem-potencial-limitado/</td>\n",
       "    </tr>\n",
       "    <tr>\n",
       "      <th>11</th>\n",
       "      <td>Decisão da Nike de deixar Amazon pode ser prenúncio do futuro</td>\n",
       "      <td>https://www.infomoney.com.br/negocios/decisao-da-nike-de-deixar-amazon-pode-ser-prenuncio-do-futuro-do-varejo/</td>\n",
       "    </tr>\n",
       "    <tr>\n",
       "      <th>12</th>\n",
       "      <td>Magazine Luiza anuncia novo modelo de loja para cliente “analógico”</td>\n",
       "      <td>https://www.infomoney.com.br/negocios/magazine-luiza-anuncia-novo-modelo-de-loja-para-o-cliente-que-e-seu-maior-diferencial/</td>\n",
       "    </tr>\n",
       "    <tr>\n",
       "      <th>13</th>\n",
       "      <td>XP recomenda compra de ação da Vivara com preço-alvo de R$ 30, de olho em expansão das lojas</td>\n",
       "      <td>https://www.infomoney.com.br/mercados/xp-recomenda-compra-de-vivara-com-preco-alvo-de-r-30-de-olho-em-expansao-das-lojas/</td>\n",
       "    </tr>\n",
       "    <tr>\n",
       "      <th>14</th>\n",
       "      <td>Para Legacy, consumo das famílias indica recuperação econômica</td>\n",
       "      <td>https://www.infomoney.com.br/onde-investir/para-legacy-capital-consumo-das-familias-e-o-que-indica-recuperacao-economica-em-2020/</td>\n",
       "    </tr>\n",
       "    <tr>\n",
       "      <th>15</th>\n",
       "      <td>Afinal, preço importa ou não na hora de comprar ações?</td>\n",
       "      <td>https://www.infomoney.com.br/colunistas/stock-pickers/a-pergunta-nao-e-se-preco-importa-mas-para-quem-importa/</td>\n",
       "    </tr>\n",
       "    <tr>\n",
       "      <th>16</th>\n",
       "      <td>BC atuará de forma diferente se alta do dólar impactar inflação, afirma Campos Neto</td>\n",
       "      <td>https://www.infomoney.com.br/mercados/bc-atuara-de-forma-diferente-se-alta-do-dolar-impactar-inflacao-afirma-campos-neto/</td>\n",
       "    </tr>\n",
       "    <tr>\n",
       "      <th>17</th>\n",
       "      <td>Cemig: gráficos apontam para correção das altas recentes e queda pode chegar a 15%</td>\n",
       "      <td>https://www.infomoney.com.br/mercados/cemig-graficos-apontam-para-correcao-das-altas-recentes-e-queda-pode-chegar-a-15/</td>\n",
       "    </tr>\n",
       "    <tr>\n",
       "      <th>18</th>\n",
       "      <td>Aramco X Petrobras: Bradesco BBI vê ações das empresas negociadas com múltiplos similares em bolsa</td>\n",
       "      <td>https://www.infomoney.com.br/mercados/aramco-x-petrobras-quais-as-vantagens-e-desvantagens-de-ter-cada-uma-das-acoes-das-gigantes-petroleiras/</td>\n",
       "    </tr>\n",
       "    <tr>\n",
       "      <th>19</th>\n",
       "      <td>Black Friday 2019: 5 coisas que você não deve comprar na data</td>\n",
       "      <td>https://www.infomoney.com.br/consumo/black-friday-2019-5-coisas-que-voce-nao-deve-comprar-na-data/</td>\n",
       "    </tr>\n",
       "    <tr>\n",
       "      <th>20</th>\n",
       "      <td>Amazon Prime e Apple TV+ custam metade da Netflix. O que explica?</td>\n",
       "      <td>https://www.infomoney.com.br/consumo/contra-netflix-amazon-prime-e-apple-tv-custam-metade-do-preco-o-que-explica/</td>\n",
       "    </tr>\n",
       "    <tr>\n",
       "      <th>21</th>\n",
       "      <td>Os destinos internacionais com o melhor custo-benefício</td>\n",
       "      <td>https://www.infomoney.com.br/minhas-financas/os-destinos-internacionais-com-o-melhor-custo-beneficio-para-2020/</td>\n",
       "    </tr>\n",
       "    <tr>\n",
       "      <th>22</th>\n",
       "      <td>Jair Bolsonaro assina desfiliação do PSL para criar novo partido</td>\n",
       "      <td>https://www.infomoney.com.br/politica/jair-bolsonaro-assina-desfiliacao-do-psl-para-criar-novo-partido/</td>\n",
       "    </tr>\n",
       "    <tr>\n",
       "      <th>23</th>\n",
       "      <td>Toffoli revoga decisão que cobrava envio de dados sigilosos da Receita</td>\n",
       "      <td>https://www.infomoney.com.br/politica/toffoli-revoga-decisao-que-cobrava-envio-de-dados-sigilosos-da-receita-federal/</td>\n",
       "    </tr>\n",
       "    <tr>\n",
       "      <th>24</th>\n",
       "      <td>Governo oficializa desbloqueio de quase R$ 14 bi do orçamento de 2019</td>\n",
       "      <td>https://www.infomoney.com.br/politica/governo-oficializa-descontingenciamento-de-quase-r-14-bi-do-orcamento-de-2019/</td>\n",
       "    </tr>\n",
       "    <tr>\n",
       "      <th>25</th>\n",
       "      <td>Governo lança Carteira Digital de Trânsito, evolução da CNH digital</td>\n",
       "      <td>https://www.infomoney.com.br/consumo/governo-lanca-carteira-digital-de-transito-em-sao-paulo/</td>\n",
       "    </tr>\n",
       "    <tr>\n",
       "      <th>26</th>\n",
       "      <td>Apesar de corte no juro, cheque especial ainda é opção mais cara</td>\n",
       "      <td>https://www.infomoney.com.br/minhas-financas/apesar-de-corte-no-juro-cheque-especial-ainda-e-opcao-mais-cara/</td>\n",
       "    </tr>\n",
       "    <tr>\n",
       "      <th>27</th>\n",
       "      <td>Custo de um filho em São Paulo pode variar 104 vezes</td>\n",
       "      <td>https://www.infomoney.com.br/minhas-financas/custo-de-um-filho-em-sao-paulo-pode-variar-104-vezes-dependendo-do-bairro/</td>\n",
       "    </tr>\n",
       "    <tr>\n",
       "      <th>28</th>\n",
       "      <td>Qual o valor mínimo para investir em ações na Bolsa?</td>\n",
       "      <td>https://www.infomoney.com.br/mercados/qual-o-valor-minimo-para-investir-em-acoes/</td>\n",
       "    </tr>\n",
       "    <tr>\n",
       "      <th>29</th>\n",
       "      <td>Quanto custa investir em títulos públicos e fundos de investimento?</td>\n",
       "      <td>https://www.infomoney.com.br/onde-investir/quanto-custa-investir-em-acoes-titulos-publicos-e-fundos-de-investimento/</td>\n",
       "    </tr>\n",
       "    <tr>\n",
       "      <th>30</th>\n",
       "      <td>As 10 melhores corretoras para investir em ações</td>\n",
       "      <td>https://www.infomoney.com.br/onde-investir/as-10-melhores-corretoras-para-investir-em-acoes/</td>\n",
       "    </tr>\n",
       "    <tr>\n",
       "      <th>31</th>\n",
       "      <td>Como investir em Fundos Multimercados: um guia completo para quem quer diversificar</td>\n",
       "      <td>https://www.infomoney.com.br/guias/fundos-multimercados/</td>\n",
       "    </tr>\n",
       "    <tr>\n",
       "      <th>32</th>\n",
       "      <td>Fundos de ações: o guia completo para investir bem</td>\n",
       "      <td>https://www.infomoney.com.br/guias/fundos-de-acoes/</td>\n",
       "    </tr>\n",
       "    <tr>\n",
       "      <th>33</th>\n",
       "      <td>Tesouro Direto: aprenda a investir em títulos públicos</td>\n",
       "      <td>https://www.infomoney.com.br/guias/tesouro-direto/</td>\n",
       "    </tr>\n",
       "    <tr>\n",
       "      <th>34</th>\n",
       "      <td>Como investir da forma certa e ter longevidade financeira</td>\n",
       "      <td>https://www.infomoney.com.br/patrocinados/longevidade-financeira/</td>\n",
       "    </tr>\n",
       "    <tr>\n",
       "      <th>35</th>\n",
       "      <td>Medo de investir em ações? Conheça os ETFs</td>\n",
       "      <td>https://www.infomoney.com.br/patrocinados/etf/</td>\n",
       "    </tr>\n",
       "    <tr>\n",
       "      <th>36</th>\n",
       "      <td>Os benefícios de ter um seguro de vida</td>\n",
       "      <td>https://www.infomoney.com.br/patrocinados/seguro-de-vida/</td>\n",
       "    </tr>\n",
       "    <tr>\n",
       "      <th>37</th>\n",
       "      <td>Mercado imobiliário: perspectivas, tendências e oportunidades</td>\n",
       "      <td>https://lp.infomoney.com.br/panorama-novo-mercado-imobiliario</td>\n",
       "    </tr>\n",
       "  </tbody>\n",
       "</table>\n",
       "</div>"
      ],
      "text/plain": [
       "                                                                                                Titulo  \\\n",
       "0   Com a B3 fechada, índice de ADRs brasileiros sobe na Bolsa de Nova York                              \n",
       "1   Por que a CVC perdeu R$ 1,89 bilhão em valor em uma semana?                                          \n",
       "2   Ambev: os grandes desafios que o novo CEO terá no comando                                            \n",
       "3   Petrobras pode virar maior produtora de petróleo do mundo até 2030                                   \n",
       "4   STF analisa uso de dados em definição que impacta caso Queiroz                                       \n",
       "5   Com menos recursos do FGTS, médio padrão entra na mira de construtoras                               \n",
       "6   Reforma focará em tributação do IR, inclusive lucros e dividendos, diz secretário da Receita         \n",
       "7   2 oportunidades para aproveitar e 5 ciladas para escapar                                             \n",
       "8   Dona do Frango Assado, Pizza Hut e KFC vai abrir 415 lojas no Brasil                                 \n",
       "9   Como a Vale enfrenta Brumadinho e por que analistas estão otimistas                                  \n",
       "10  Dafiti lança débito apostando em crescimento, mas especialistas veem potencial limitado              \n",
       "11  Decisão da Nike de deixar Amazon pode ser prenúncio do futuro                                        \n",
       "12  Magazine Luiza anuncia novo modelo de loja para cliente “analógico”                                  \n",
       "13  XP recomenda compra de ação da Vivara com preço-alvo de R$ 30, de olho em expansão das lojas         \n",
       "14  Para Legacy, consumo das famílias indica recuperação econômica                                       \n",
       "15  Afinal, preço importa ou não na hora de comprar ações?                                               \n",
       "16  BC atuará de forma diferente se alta do dólar impactar inflação, afirma Campos Neto                  \n",
       "17  Cemig: gráficos apontam para correção das altas recentes e queda pode chegar a 15%                   \n",
       "18  Aramco X Petrobras: Bradesco BBI vê ações das empresas negociadas com múltiplos similares em bolsa   \n",
       "19  Black Friday 2019: 5 coisas que você não deve comprar na data                                        \n",
       "20  Amazon Prime e Apple TV+ custam metade da Netflix. O que explica?                                    \n",
       "21  Os destinos internacionais com o melhor custo-benefício                                              \n",
       "22  Jair Bolsonaro assina desfiliação do PSL para criar novo partido                                     \n",
       "23  Toffoli revoga decisão que cobrava envio de dados sigilosos da Receita                               \n",
       "24  Governo oficializa desbloqueio de quase R$ 14 bi do orçamento de 2019                                \n",
       "25  Governo lança Carteira Digital de Trânsito, evolução da CNH digital                                  \n",
       "26  Apesar de corte no juro, cheque especial ainda é opção mais cara                                     \n",
       "27  Custo de um filho em São Paulo pode variar 104 vezes                                                 \n",
       "28  Qual o valor mínimo para investir em ações na Bolsa?                                                 \n",
       "29  Quanto custa investir em títulos públicos e fundos de investimento?                                  \n",
       "30  As 10 melhores corretoras para investir em ações                                                     \n",
       "31  Como investir em Fundos Multimercados: um guia completo para quem quer diversificar                  \n",
       "32  Fundos de ações: o guia completo para investir bem                                                   \n",
       "33  Tesouro Direto: aprenda a investir em títulos públicos                                               \n",
       "34  Como investir da forma certa e ter longevidade financeira                                            \n",
       "35  Medo de investir em ações? Conheça os ETFs                                                           \n",
       "36  Os benefícios de ter um seguro de vida                                                               \n",
       "37  Mercado imobiliário: perspectivas, tendências e oportunidades                                        \n",
       "\n",
       "                                                                                                                                              Link  \n",
       "0   https://www.infomoney.com.br/mercados/com-a-b3-fechada-indice-de-adrs-brasileiros-sobe-na-bolsa-de-nova-york/                                   \n",
       "1   https://www.infomoney.com.br/mercados/por-que-a-cvc-perdeu-r-189-bilhao-em-valor-de-mercado-em-uma-semana/                                      \n",
       "2   https://www.infomoney.com.br/mercados/ambev-os-grandes-desafios-que-o-novo-presidente-tera-no-comando-da-gigante-de-bebidas/                    \n",
       "3   https://www.infomoney.com.br/mercados/petrobras-pode-se-tornar-maior-produtora-de-petroleo-do-mundo-ate-2030/                                   \n",
       "4   https://www.infomoney.com.br/politica/decisao-do-stf-sobre-coaf-impacta-caso-queiroz-e-outras-934-investigacoes/                                \n",
       "5   https://www.infomoney.com.br/negocios/com-menos-recursos-do-fgts-medio-padrao-entra-na-mira-de-construtoras/                                    \n",
       "6   https://www.infomoney.com.br/minhas-financas/reforma-focara-em-tributacao-do-ir-inclusive-lucros-e-dividendos-diz-tostes/                       \n",
       "7   https://www.infomoney.com.br/consumo/black-friday-2-oportunidades-para-aproveitar-e-5-ciladas-para-escapar/                                     \n",
       "8   https://www.infomoney.com.br/negocios/dona-do-frango-assado-pizza-hut-e-kfc-vai-abrir-415-lojas-no-brasil/                                      \n",
       "9   https://www.infomoney.com.br/mercados/como-a-vale-esta-enfrentando-os-efeitos-de-brumadinho-e-por-que-os-analistas-estao-otimistas/             \n",
       "10  https://www.infomoney.com.br/negocios/dafiti-lanca-debito-apostando-em-crescimento-especialistas-veem-potencial-limitado/                       \n",
       "11  https://www.infomoney.com.br/negocios/decisao-da-nike-de-deixar-amazon-pode-ser-prenuncio-do-futuro-do-varejo/                                  \n",
       "12  https://www.infomoney.com.br/negocios/magazine-luiza-anuncia-novo-modelo-de-loja-para-o-cliente-que-e-seu-maior-diferencial/                    \n",
       "13  https://www.infomoney.com.br/mercados/xp-recomenda-compra-de-vivara-com-preco-alvo-de-r-30-de-olho-em-expansao-das-lojas/                       \n",
       "14  https://www.infomoney.com.br/onde-investir/para-legacy-capital-consumo-das-familias-e-o-que-indica-recuperacao-economica-em-2020/               \n",
       "15  https://www.infomoney.com.br/colunistas/stock-pickers/a-pergunta-nao-e-se-preco-importa-mas-para-quem-importa/                                  \n",
       "16  https://www.infomoney.com.br/mercados/bc-atuara-de-forma-diferente-se-alta-do-dolar-impactar-inflacao-afirma-campos-neto/                       \n",
       "17  https://www.infomoney.com.br/mercados/cemig-graficos-apontam-para-correcao-das-altas-recentes-e-queda-pode-chegar-a-15/                         \n",
       "18  https://www.infomoney.com.br/mercados/aramco-x-petrobras-quais-as-vantagens-e-desvantagens-de-ter-cada-uma-das-acoes-das-gigantes-petroleiras/  \n",
       "19  https://www.infomoney.com.br/consumo/black-friday-2019-5-coisas-que-voce-nao-deve-comprar-na-data/                                              \n",
       "20  https://www.infomoney.com.br/consumo/contra-netflix-amazon-prime-e-apple-tv-custam-metade-do-preco-o-que-explica/                               \n",
       "21  https://www.infomoney.com.br/minhas-financas/os-destinos-internacionais-com-o-melhor-custo-beneficio-para-2020/                                 \n",
       "22  https://www.infomoney.com.br/politica/jair-bolsonaro-assina-desfiliacao-do-psl-para-criar-novo-partido/                                         \n",
       "23  https://www.infomoney.com.br/politica/toffoli-revoga-decisao-que-cobrava-envio-de-dados-sigilosos-da-receita-federal/                           \n",
       "24  https://www.infomoney.com.br/politica/governo-oficializa-descontingenciamento-de-quase-r-14-bi-do-orcamento-de-2019/                            \n",
       "25  https://www.infomoney.com.br/consumo/governo-lanca-carteira-digital-de-transito-em-sao-paulo/                                                   \n",
       "26  https://www.infomoney.com.br/minhas-financas/apesar-de-corte-no-juro-cheque-especial-ainda-e-opcao-mais-cara/                                   \n",
       "27  https://www.infomoney.com.br/minhas-financas/custo-de-um-filho-em-sao-paulo-pode-variar-104-vezes-dependendo-do-bairro/                         \n",
       "28  https://www.infomoney.com.br/mercados/qual-o-valor-minimo-para-investir-em-acoes/                                                               \n",
       "29  https://www.infomoney.com.br/onde-investir/quanto-custa-investir-em-acoes-titulos-publicos-e-fundos-de-investimento/                            \n",
       "30  https://www.infomoney.com.br/onde-investir/as-10-melhores-corretoras-para-investir-em-acoes/                                                    \n",
       "31  https://www.infomoney.com.br/guias/fundos-multimercados/                                                                                        \n",
       "32  https://www.infomoney.com.br/guias/fundos-de-acoes/                                                                                             \n",
       "33  https://www.infomoney.com.br/guias/tesouro-direto/                                                                                              \n",
       "34  https://www.infomoney.com.br/patrocinados/longevidade-financeira/                                                                               \n",
       "35  https://www.infomoney.com.br/patrocinados/etf/                                                                                                  \n",
       "36  https://www.infomoney.com.br/patrocinados/seguro-de-vida/                                                                                       \n",
       "37  https://lp.infomoney.com.br/panorama-novo-mercado-imobiliario                                                                                   "
      ]
     },
     "execution_count": 48,
     "metadata": {},
     "output_type": "execute_result"
    }
   ],
   "source": [
    "pd.options.display.max_rows\n",
    "pd.set_option('display.max_colwidth', -1)\n",
    "\n",
    "df"
   ]
  },
  {
   "cell_type": "code",
   "execution_count": null,
   "metadata": {},
   "outputs": [],
   "source": []
  },
  {
   "cell_type": "code",
   "execution_count": null,
   "metadata": {},
   "outputs": [],
   "source": []
  },
  {
   "cell_type": "code",
   "execution_count": null,
   "metadata": {},
   "outputs": [],
   "source": []
  },
  {
   "cell_type": "code",
   "execution_count": null,
   "metadata": {},
   "outputs": [],
   "source": []
  }
 ],
 "metadata": {
  "kernelspec": {
   "display_name": "Python 3",
   "language": "python",
   "name": "python3"
  },
  "language_info": {
   "codemirror_mode": {
    "name": "ipython",
    "version": 3
   },
   "file_extension": ".py",
   "mimetype": "text/x-python",
   "name": "python",
   "nbconvert_exporter": "python",
   "pygments_lexer": "ipython3",
   "version": "3.6.10"
  }
 },
 "nbformat": 4,
 "nbformat_minor": 2
}
