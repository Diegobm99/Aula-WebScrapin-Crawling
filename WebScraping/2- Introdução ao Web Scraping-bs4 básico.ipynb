{
 "cells": [
  {
   "cell_type": "markdown",
   "metadata": {},
   "source": [
    "<h1 id='parte-2'>2- Lendo e extraindo informações de uma página web pelo python (Web Scraping)</h1>"
   ]
  },
  {
   "cell_type": "markdown",
   "metadata": {},
   "source": [
    "<h2 id='parte-2a' style=\"color:blue;\">a. Bibliotecas</h2>"
   ]
  },
  {
   "cell_type": "markdown",
   "metadata": {},
   "source": [
    "<p>Nessa aula usaremos duas bibliotecas básicas, mas importantíssimas para começar o aprendizado em Web Scraping:</p>\n",
    "<ul>\n",
    "    <li><b>requests:</b> biblioteca capaz de fazer requests na página(get, post, etc). Apesar dela ser uma ferramenta muito mais complexa do que nosso uso aqui, para nós por enquanto só nos interessa saber que ela é capaz de pegar o código fonte de uma página por meio de uma requisição(GET).</li>\n",
    "    \n",
    "\n",
    "<li><b>bs4(BeautifulSoup):</b> ferramente que organiza e abstrai o código fonte para uma formatação que o python entenda e que possamos trabalhar.</li>\n",
    "</ul>"
   ]
  },
  {
   "cell_type": "markdown",
   "metadata": {},
   "source": [
    "#### Importando as bibliotecas"
   ]
  },
  {
   "cell_type": "code",
   "execution_count": 1,
   "metadata": {},
   "outputs": [],
   "source": [
    "import requests\n",
    "from bs4 import BeautifulSoup"
   ]
  },
  {
   "cell_type": "code",
   "execution_count": null,
   "metadata": {},
   "outputs": [],
   "source": []
  },
  {
   "cell_type": "markdown",
   "metadata": {},
   "source": [
    "<h2 id='parte-2b' style=\"color:blue;\">b. Lendo nosso exemplo2.html e utilizando 'bs4'</h2>"
   ]
  },
  {
   "cell_type": "markdown",
   "metadata": {},
   "source": [
    "<p>Já aprendemos a inspecionar uma página e descobrir o que está dentro dela, agora vamos utilizar a biblioteca <b>'bs4'</b> para exrair informações e entender a intuição por trás da biblioteca</p>"
   ]
  },
  {
   "cell_type": "markdown",
   "metadata": {},
   "source": [
    "<p>Primeiro abrimos nosso arquivo <b>'exemplo2.html'</b> de forma básica pelo python(por enquanto não precisamos do <b>'requests'</b>, já que nosso arquivo html está local):</p>"
   ]
  },
  {
   "cell_type": "code",
   "execution_count": 3,
   "metadata": {},
   "outputs": [
    {
     "data": {
      "text/plain": [
       "\"<!DOCTYPE html>\\n<html>\\n    <head>\\n        <title>Page Title</title>\\n    </head>\\n\\n    <body>\\n\\n        <div class='parte-1-heading'>\\n            <h1 id='titulo-1'>Isto é um título</h1>\\n            <p>Isto é um parágrafo</p>\\n            <a href='https://www.google.com.br'>Link do google</a>\\n        </div>\\n\\n        <div class='parte-2-lista'>\\n            <h2>Lista não ordenada</h2>\\n\\n            <ul>\\n                <li>Café</li>\\n                <li>Chá</li>\\n                <li>Leite</li>\\n            </ul>\\n\\n            <h2>Lista ordenada</h2>\\n\\n            <ol>\\n                <li>Café</li>\\n                <li>Chá</li>\\n                <li>Leite</li>\\n            </ol>\\n        </div>\\n\\n        <div class='parte-3-tabela'>\\n            <h2>Exemplo de uma tabela</h2>\\n\\n            <table>\\n                <tr>\\n                    <th>Nome</th>\\n                    <th>Sobrenome</th>\\n                    <th>Idade</th>\\n                </tr>\\n                <tr>\\n                    <td>Jill</td>\\n                    <td>Smith</td>\\n                    <td>50</td>\\n                </tr>\\n                <tr>\\n                    <td>Eve</td>\\n                    <td>Jackson</td>\\n                    <td>94</td>\\n                </tr>\\n            </table>\\n        </div>\\n\\n    </body>\\n</html>\\n\""
      ]
     },
     "execution_count": 3,
     "metadata": {},
     "output_type": "execute_result"
    }
   ],
   "source": [
    "html_fonte = open('exemplo2.html', \"r\", encoding='utf8').read()\n",
    "\n",
    "html_fonte"
   ]
  },
  {
   "cell_type": "markdown",
   "metadata": {},
   "source": [
    "<p>Ao imprimir <b>html_fonte</b>, vemos que o código parece muito confuso, totalmente diferente de quando inspecionamos ele no chrome. Na verdade ele é apenas uma string contendo tudo que estava dentro do HTML. Nós poderiamos, com um pouco de trabalho e usando ferramentes simples do próprio python, organizar a string e retirar tudo que precisamos dela. Mas como é fácil notar, esse é um HTML de exemplo, com poucas linhas de código, enquanto páginas de web reais podem ter incontáveis linhas. É aí que entra o trabalho do <b>BeautifulSoup</b>, que organiza e abstrai toda a string que apresenta um código HTML, de forma a facilitar o uso no python</p>"
   ]
  },
  {
   "cell_type": "markdown",
   "metadata": {},
   "source": [
    "<p>Utilizando <b>html_fonte</b> e <b>\"html.parser\"</b> como parâmetros da função <b>BeautifulSoup</b>, conseguimos organizar nosso código HTML:</p>"
   ]
  },
  {
   "cell_type": "code",
   "execution_count": 4,
   "metadata": {
    "scrolled": true
   },
   "outputs": [
    {
     "data": {
      "text/plain": [
       "<!DOCTYPE html>\n",
       "\n",
       "<html>\n",
       "<head>\n",
       "<title>Page Title</title>\n",
       "</head>\n",
       "<body>\n",
       "<div class=\"parte-1-heading\">\n",
       "<h1 id=\"titulo-1\">Isto é um título</h1>\n",
       "<p>Isto é um parágrafo</p>\n",
       "<a href=\"https://www.google.com.br\">Link do google</a>\n",
       "</div>\n",
       "<div class=\"parte-2-lista\">\n",
       "<h2>Lista não ordenada</h2>\n",
       "<ul>\n",
       "<li>Café</li>\n",
       "<li>Chá</li>\n",
       "<li>Leite</li>\n",
       "</ul>\n",
       "<h2>Lista ordenada</h2>\n",
       "<ol>\n",
       "<li>Café</li>\n",
       "<li>Chá</li>\n",
       "<li>Leite</li>\n",
       "</ol>\n",
       "</div>\n",
       "<div class=\"parte-3-tabela\">\n",
       "<h2>Exemplo de uma tabela</h2>\n",
       "<table>\n",
       "<tr>\n",
       "<th>Nome</th>\n",
       "<th>Sobrenome</th>\n",
       "<th>Idade</th>\n",
       "</tr>\n",
       "<tr>\n",
       "<td>Jill</td>\n",
       "<td>Smith</td>\n",
       "<td>50</td>\n",
       "</tr>\n",
       "<tr>\n",
       "<td>Eve</td>\n",
       "<td>Jackson</td>\n",
       "<td>94</td>\n",
       "</tr>\n",
       "</table>\n",
       "</div>\n",
       "</body>\n",
       "</html>"
      ]
     },
     "execution_count": 4,
     "metadata": {},
     "output_type": "execute_result"
    }
   ],
   "source": [
    "html = BeautifulSoup(html_fonte, \"html.parser\")\n",
    "\n",
    "html"
   ]
  },
  {
   "cell_type": "markdown",
   "metadata": {},
   "source": [
    "<p>Percebemos que o output é bem mais amigável dessa vez, mas o mais importante está nos métodos de filtro e busca que podemos fazer com ele. Apesar do <b>'bs4'</b> apresentar muitos métodos úteis, inicialmente podemos começar com apenas 3 deles:</p>"
   ]
  },
  {
   "cell_type": "markdown",
   "metadata": {},
   "source": [
    "<ul>\n",
    "    <li><b>.find_all()</b>: Faz buscas em todo o código a partir de parâmetros como a <b>tag</b> ou <b>class</b> e <b>id</b></li>\n",
    "    <li><b>.text</b>: Extrai o texto de dentro de uma ou várias <b>tags</b>\n",
    "    <li><b>.get()</b>: Consegue extrair os atributos de dentro de uma <b>tag</b>, como <b>href</b>, <b>title</b>, etc...</li>\n",
    "</ul>"
   ]
  },
  {
   "cell_type": "markdown",
   "metadata": {},
   "source": [
    "<p>_____________________________________________________________________________________________________________________</p>"
   ]
  },
  {
   "cell_type": "markdown",
   "metadata": {},
   "source": [
    "<h3 id='parte-2b1' style=\"color:green;\">b.1. Buscando pela tag</h3>"
   ]
  },
  {
   "cell_type": "markdown",
   "metadata": {},
   "source": [
    "<p>Utilizando o <b>'html'</b> gerado pelo <b>BeautifulSoup</b> na etapa anterior, podemos filtrar nosso código:</p>"
   ]
  },
  {
   "cell_type": "code",
   "execution_count": 5,
   "metadata": {
    "scrolled": true
   },
   "outputs": [
    {
     "name": "stdout",
     "output_type": "stream",
     "text": [
      "h1:  [<h1 id=\"titulo-1\">Isto é um título</h1>]\n",
      "\n",
      "table:  [<table>\n",
      "<tr>\n",
      "<th>Nome</th>\n",
      "<th>Sobrenome</th>\n",
      "<th>Idade</th>\n",
      "</tr>\n",
      "<tr>\n",
      "<td>Jill</td>\n",
      "<td>Smith</td>\n",
      "<td>50</td>\n",
      "</tr>\n",
      "<tr>\n",
      "<td>Eve</td>\n",
      "<td>Jackson</td>\n",
      "<td>94</td>\n",
      "</tr>\n",
      "</table>]\n"
     ]
    }
   ],
   "source": [
    "h1 = html.find_all('h1')\n",
    "table = html.find_all('table')\n",
    "\n",
    "print('h1: ', h1)\n",
    "print()\n",
    "print('table: ', table)"
   ]
  },
  {
   "cell_type": "markdown",
   "metadata": {},
   "source": [
    "<p>Veja que conseguimos extrair a parte do código onde contém a tag <b>&lt;h1&gt;...&lt;/h1&gt;</b> e tudo que está dentro da tag <b>&lt;table&gt;...&lt;/table&gt;</b> usando o método <b>'.find_all()'</b></p>"
   ]
  },
  {
   "cell_type": "markdown",
   "metadata": {},
   "source": [
    "<p>No exemplo de <b>'h1'</b>, basta usarmos o método <b>'.text'</b> para extrair o texto de dentro:</p>"
   ]
  },
  {
   "cell_type": "code",
   "execution_count": 6,
   "metadata": {},
   "outputs": [
    {
     "data": {
      "text/plain": [
       "'Isto é um título'"
      ]
     },
     "execution_count": 6,
     "metadata": {},
     "output_type": "execute_result"
    }
   ],
   "source": [
    "h1[0].text"
   ]
  },
  {
   "cell_type": "markdown",
   "metadata": {},
   "source": [
    "<p>_____________________________________________________________________________________________________________________</p>"
   ]
  },
  {
   "cell_type": "markdown",
   "metadata": {},
   "source": [
    "<h3 id='parte-2b2' style=\"color:green;\">b.2. Buscando por 'class' ou 'id'</h3>"
   ]
  },
  {
   "cell_type": "markdown",
   "metadata": {},
   "source": [
    "<p>É fácil entender que, caso buscassemos a tag <b>&lt;div&gt;...&lt;/div&gt;</b> em <b>'.find_all()'</b>, receberiamos como output todos os <b>&lt;div&gt;...&lt;/div&gt;</b>, o que não traria nenhuma informação útil, já que na prática tudo no nosso código de exemplo é composto por <b>&lt;div&gt;...&lt;/div&gt;</b>. Para separarmos cada um, usamos as tags <b>'class'</b> ou <b>'id'</b> na busca, da seguinte forma:"
   ]
  },
  {
   "cell_type": "code",
   "execution_count": 7,
   "metadata": {},
   "outputs": [
    {
     "name": "stdout",
     "output_type": "stream",
     "text": [
      "h1:  [<h1 id=\"titulo-1\">Isto é um título</h1>]\n",
      "\n",
      "div lista:  [<div class=\"parte-2-lista\">\n",
      "<h2>Lista não ordenada</h2>\n",
      "<ul>\n",
      "<li>Café</li>\n",
      "<li>Chá</li>\n",
      "<li>Leite</li>\n",
      "</ul>\n",
      "<h2>Lista ordenada</h2>\n",
      "<ol>\n",
      "<li>Café</li>\n",
      "<li>Chá</li>\n",
      "<li>Leite</li>\n",
      "</ol>\n",
      "</div>]\n"
     ]
    }
   ],
   "source": [
    "div_lista = html.find_all(attrs={'class': 'parte-2-lista'})\n",
    "div_header = html.find_all(attrs={'class': 'parte-1-heading'})\n",
    "h1 = html.find_all(attrs={'id': 'titulo-1'})\n",
    "\n",
    "print('h1: ', h1)\n",
    "print()\n",
    "print('div lista: ', div_lista)"
   ]
  },
  {
   "cell_type": "markdown",
   "metadata": {},
   "source": [
    "<p>Dentro de <b>div_header</b> temos 3 tags diferentes, então ainda podemos fazer uma nova busca dentro dele para extrair mais informações. Como só achamos um elemento, utilizaremos <b>div_header[0]</b> para criar uma nova busca:</p>"
   ]
  },
  {
   "cell_type": "code",
   "execution_count": 8,
   "metadata": {},
   "outputs": [
    {
     "data": {
      "text/plain": [
       "<div class=\"parte-1-heading\">\n",
       "<h1 id=\"titulo-1\">Isto é um título</h1>\n",
       "<p>Isto é um parágrafo</p>\n",
       "<a href=\"https://www.google.com.br\">Link do google</a>\n",
       "</div>"
      ]
     },
     "execution_count": 8,
     "metadata": {},
     "output_type": "execute_result"
    }
   ],
   "source": [
    "div_header[0]"
   ]
  },
  {
   "cell_type": "code",
   "execution_count": 9,
   "metadata": {},
   "outputs": [
    {
     "name": "stdout",
     "output_type": "stream",
     "text": [
      "h1:  [<h1 id=\"titulo-1\">Isto é um título</h1>]\n",
      "\n",
      "p:  [<p>Isto é um parágrafo</p>]\n",
      "\n",
      "a:  [<a href=\"https://www.google.com.br\">Link do google</a>]\n"
     ]
    }
   ],
   "source": [
    "h1 = div_header[0].find_all('h1')\n",
    "p = div_header[0].find_all('p')\n",
    "a = div_header[0].find_all('a')\n",
    "\n",
    "print('h1: ', h1)\n",
    "print()\n",
    "print('p: ', p)\n",
    "print()\n",
    "print('a: ', a)"
   ]
  },
  {
   "cell_type": "markdown",
   "metadata": {},
   "source": [
    "<p>Para extrair os textos, basta apenas aplicar o <b>'.text':</b></p>"
   ]
  },
  {
   "cell_type": "code",
   "execution_count": 10,
   "metadata": {},
   "outputs": [
    {
     "name": "stdout",
     "output_type": "stream",
     "text": [
      "h1:  Isto é um título\n",
      "\n",
      "p:  Isto é um parágrafo\n",
      "\n",
      "a:  Link do google\n"
     ]
    }
   ],
   "source": [
    "print('h1: ', h1[0].text)\n",
    "print()\n",
    "print('p: ', p[0].text)\n",
    "print()\n",
    "print('a: ', a[0].text)"
   ]
  },
  {
   "cell_type": "markdown",
   "metadata": {},
   "source": [
    "<p>_____________________________________________________________________________________________________________________</p>"
   ]
  },
  {
   "cell_type": "markdown",
   "metadata": {},
   "source": [
    "<h3 id='parte-2b3' style=\"color:green;\">b.3. Extraindo atributos de tags</h3>"
   ]
  },
  {
   "cell_type": "markdown",
   "metadata": {},
   "source": [
    "<p>Em <b>&lt;a...&gt;</b> nós temos o atributo <b>'href'</b>, que pode ser facilmente extraido usando o método <b>'.get()'</b>, usando como parâmetro o nome do atributo:<p>"
   ]
  },
  {
   "cell_type": "code",
   "execution_count": 11,
   "metadata": {},
   "outputs": [
    {
     "name": "stdout",
     "output_type": "stream",
     "text": [
      "<a href=\"https://www.google.com.br\">Link do google</a>\n",
      "link:  https://www.google.com.br\n"
     ]
    }
   ],
   "source": [
    "link = a[0].get('href')\n",
    "\n",
    "print(a[0])\n",
    "print('link: ', link)"
   ]
  },
  {
   "cell_type": "code",
   "execution_count": null,
   "metadata": {},
   "outputs": [],
   "source": []
  }
 ],
 "metadata": {
  "kernelspec": {
   "display_name": "Python 3",
   "language": "python",
   "name": "python3"
  },
  "language_info": {
   "codemirror_mode": {
    "name": "ipython",
    "version": 3
   },
   "file_extension": ".py",
   "mimetype": "text/x-python",
   "name": "python",
   "nbconvert_exporter": "python",
   "pygments_lexer": "ipython3",
   "version": "3.6.10"
  }
 },
 "nbformat": 4,
 "nbformat_minor": 2
}
